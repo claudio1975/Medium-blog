{
  "nbformat": 4,
  "nbformat_minor": 0,
  "metadata": {
    "colab": {
      "provenance": [],
      "gpuType": "L4",
      "authorship_tag": "ABX9TyM9TwDF74iEWIC9FBvq8Wqu",
      "include_colab_link": true
    },
    "kernelspec": {
      "name": "python3",
      "display_name": "Python 3"
    },
    "language_info": {
      "name": "python"
    },
    "accelerator": "GPU"
  },
  "cells": [
    {
      "cell_type": "markdown",
      "metadata": {
        "id": "view-in-github",
        "colab_type": "text"
      },
      "source": [
        "<a href=\"https://colab.research.google.com/github/claudio1975/Medium-blog/blob/master/Scikit-LLM/Scikit_LLM_Features_examples_v2.ipynb\" target=\"_parent\"><img src=\"https://colab.research.google.com/assets/colab-badge.svg\" alt=\"Open In Colab\"/></a>"
      ]
    },
    {
      "cell_type": "code",
      "execution_count": null,
      "metadata": {
        "id": "4NoH7-iKIVCm"
      },
      "outputs": [],
      "source": [
        "# install scikit-llm library\n",
        "!pip install scikit-llm &> /dev/null"
      ]
    },
    {
      "cell_type": "code",
      "source": [
        "# Install the dotenv package\n",
        "!pip install python_dotenv &> /dev/null\n"
      ],
      "metadata": {
        "id": "lzDheoozy5T2"
      },
      "execution_count": null,
      "outputs": []
    },
    {
      "cell_type": "code",
      "source": [
        "# API Key Configuration\n",
        "from skllm.config import SKLLMConfig\n",
        "import os\n",
        "from dotenv import load_dotenv, find_dotenv\n",
        "root_folder=\"/content/\"\n",
        "_ = load_dotenv(root_folder + \"pswd.env\") # read local .env file\n",
        "\n",
        "OPENAI_SECRET_KEY  = os.getenv('OPENAI_API_KEY')\n",
        "SKLLMConfig.set_openai_key(OPENAI_SECRET_KEY)"
      ],
      "metadata": {
        "id": "_3gTbIRpy9F9"
      },
      "execution_count": null,
      "outputs": []
    },
    {
      "cell_type": "code",
      "source": [
        "# upload libraries\n",
        "from skllm.models.gpt.classification.zero_shot import ZeroShotGPTClassifier\n",
        "from skllm.models.gpt.classification.zero_shot import CoTGPTClassifier\n",
        "from skllm.models.gpt.classification.tunable import GPTClassifier\n",
        "from skllm.models.gpt.classification.few_shot import (\n",
        "FewShotGPTClassifier,\n",
        "MultiLabelFewShotGPTClassifier,\n",
        "DynamicFewShotGPTClassifier\n",
        ")\n",
        "from skllm.models.gpt.text2text.summarization import GPTSummarizer\n",
        "from skllm.models.gpt.text2text.translation import GPTTranslator\n",
        "from skllm.models.gpt.text2text.tunable import TunableGPTText2Text\n",
        "from skllm.models.gpt.vectorization import GPTVectorizer\n",
        "from skllm.models.gpt.tagging.ner import GPTExplainableNER as NER\n",
        "from skllm.datasets import get_multilabel_classification_dataset\n",
        "from skllm.datasets import get_classification_dataset\n",
        "from skllm.datasets import get_translation_dataset\n",
        "\n",
        "import warnings\n",
        "warnings.simplefilter(action='ignore', category=UserWarning)\n",
        "warnings.simplefilter(action='ignore', category=FutureWarning)\n"
      ],
      "metadata": {
        "id": "rxZ6L8cNyOlg"
      },
      "execution_count": null,
      "outputs": []
    },
    {
      "cell_type": "markdown",
      "source": [
        "### Few-Shot Text Classification"
      ],
      "metadata": {
        "id": "VeEioU1V2wcO"
      }
    },
    {
      "cell_type": "code",
      "source": [
        "# Create an instance of FewShotGPTClassifier with the specified model\n",
        "clf = FewShotGPTClassifier(model=\"gpt-3.5-turbo\")\n",
        "# Prepare the training data (X) and labels (y) for few-shot learning\n",
        "X_train = [\n",
        "    \"I love the new feature of this app!\",\n",
        "    \"I had a terrible experience yesterday.\",\n",
        "    \"The product is okay, not too bad.\",\n",
        "]\n",
        "y_train = [\"positive\", \"negative\", \"neutral\"]\n",
        "# Fit the model using few-shot learning\n",
        "clf.fit(X_train, y_train)\n",
        "# Define the input text to be classified\n",
        "X_test = [\n",
        "    \"The support team was very helpful.\",\n",
        "    \"I'm not satisfied with the product quality.\",\n",
        "    \"It works as expected.\"\n",
        "]\n",
        "# Predict the class labels for the input text\n",
        "labels = clf.predict(X_test)\n",
        "# Print the predicted labels\n",
        "print(labels)"
      ],
      "metadata": {
        "colab": {
          "base_uri": "https://localhost:8080/"
        },
        "id": "nm7WIZsZ1cMz",
        "outputId": "152d81d9-3c01-411c-aeb9-27a09d5c7e24"
      },
      "execution_count": null,
      "outputs": [
        {
          "output_type": "stream",
          "name": "stderr",
          "text": [
            "100%|██████████| 3/3 [00:02<00:00,  1.28it/s]"
          ]
        },
        {
          "output_type": "stream",
          "name": "stdout",
          "text": [
            "['positive' 'negative' 'positive']\n"
          ]
        },
        {
          "output_type": "stream",
          "name": "stderr",
          "text": [
            "\n"
          ]
        }
      ]
    },
    {
      "cell_type": "markdown",
      "source": [
        "### Multi-Label Few-Shot Text Classification"
      ],
      "metadata": {
        "id": "3KGi0iI9Eayt"
      }
    },
    {
      "cell_type": "code",
      "source": [
        "# Create an instance of FewShotGPTClassifier with the specified model\n",
        "clf = MultiLabelFewShotGPTClassifier(max_labels=2, model=\"gpt-3.5-turbo\")\n",
        "\n",
        "# Prepare the training data and corresponding multi-label target\n",
        "X, y = get_multilabel_classification_dataset()\n",
        "X_train=[\n",
        " 'The product was of excellent quality, and the packaging was also very good. Highly recommend!',\n",
        " 'The delivery was super fast, but the product did not match the information provided on the website.',\n",
        " 'Great variety of products, but the customer support was quite unresponsive.',\n",
        " 'Affordable prices and an easy-to-use website. A great shopping experience overall.',\n",
        " 'The delivery was delayed, and the packaging was damaged. Not a good experience.',\n",
        " 'Excellent customer support, but the return policy is quite complicated.',\n",
        " 'The product was not as described. However, the return process was easy and quick.',\n",
        " 'Great service and fast delivery. The product was also of high quality.',\n",
        " 'The prices are a bit high. However, the product quality and user experience are worth it.',\n",
        " 'The website provides detailed information about products. The delivery was also very fast.']\n",
        "\n",
        "y_train=[\n",
        " ['Quality', 'Packaging'],\n",
        " ['Delivery', 'Product Information'],\n",
        " ['Product Variety', 'Customer Support'],\n",
        " ['Price', 'User Experience'],\n",
        " ['Delivery', 'Packaging'],\n",
        " ['Customer Support', 'Return Policy'],\n",
        " ['Product Information', 'Return Policy'],\n",
        " ['Service', 'Delivery', 'Quality'],\n",
        " ['Price', 'Quality', 'User Experience'],\n",
        " ['Product Information', 'Delivery']\n",
        "]\n",
        "# Define the input text to be classified\n",
        "X_test=[X[4]]\n",
        "# Fit the model using few-shot learning\n",
        "clf.fit(X_train,y_train)\n",
        "# Predict the class labels for the input text\n",
        "labels = clf.predict(X_test)\n",
        "# Print the predicted labels\n",
        "print(labels)"
      ],
      "metadata": {
        "colab": {
          "base_uri": "https://localhost:8080/"
        },
        "id": "foSBNGjv3WZP",
        "outputId": "a45b311a-1cec-4d8a-a59a-e2bb368f4ea4"
      },
      "execution_count": null,
      "outputs": [
        {
          "output_type": "stream",
          "name": "stderr",
          "text": [
            "100%|██████████| 1/1 [00:00<00:00,  1.57it/s]"
          ]
        },
        {
          "output_type": "stream",
          "name": "stdout",
          "text": [
            "[['Delivery' 'Packaging']]\n"
          ]
        },
        {
          "output_type": "stream",
          "name": "stderr",
          "text": [
            "\n"
          ]
        }
      ]
    },
    {
      "cell_type": "markdown",
      "source": [
        "### Chain-of-Thought Text Classification"
      ],
      "metadata": {
        "id": "XnMnttC46dup"
      }
    },
    {
      "cell_type": "code",
      "source": [
        "# Define the training data and labels for a sentiment analysis task\n",
        "X_train = [\n",
        "    \"I love this new phone, its performance is outstanding and the battery life is amazing.\",\n",
        "    \"This software update is terrible, it crashes all the time and is very slow.\",\n",
        "    \"The book was okay, some parts were interesting but others were boring.\",\n",
        "]\n",
        "y_train = [\"positive\", \"negative\", \"neutral\"]\n",
        "# Initialize the CoTGPTClassifier with the specified model\n",
        "clf = CoTGPTClassifier(model=\"gpt-3.5-turbo\")\n",
        "# Fit the classifier with the training data\n",
        "clf.fit(X_train, y_train)\n",
        "# Define a new test sentence (not seen during training)\n",
        "X_test = [\"The movie had some good moments.\"]\n",
        "# Predict the class labels for the new test sentence\n",
        "predictions = clf.predict(X_test)\n",
        "# Extract labels and reasoning from predictions\n",
        "labels, reasoning = predictions[:, 0], predictions[:, 1]\n",
        "# Print the predicted label and corresponding reasoning for the new test sentence\n",
        "for i, (label, reason) in enumerate(zip(labels, reasoning)):\n",
        "    print(f\"Sentence: '{X_test[i]}'\")\n",
        "    print(f\"Predicted Label: {label}\")\n",
        "    print(f\"Reasoning: {reason}\")\n",
        "    print(\"-\" * 60)"
      ],
      "metadata": {
        "colab": {
          "base_uri": "https://localhost:8080/"
        },
        "id": "pM5g-qUB4kKp",
        "outputId": "43e044f5-7596-4efb-a03c-d230d3d87452"
      },
      "execution_count": null,
      "outputs": [
        {
          "output_type": "stream",
          "name": "stderr",
          "text": [
            "100%|██████████| 1/1 [00:01<00:00,  1.60s/it]"
          ]
        },
        {
          "output_type": "stream",
          "name": "stdout",
          "text": [
            "Sentence: 'The movie had some good moments.'\n",
            "Predicted Label: positive\n",
            "Reasoning: {'positive': \"The text mentions 'good moments,' indicating a positive aspect within the movie.\", 'negative': 'There are no explicit negative statements in the text.', 'neutral': \"The text does not provide a strong sentiment either way; it merely acknowledges the presence of 'good moments.'\"}\n",
            "------------------------------------------------------------\n"
          ]
        },
        {
          "output_type": "stream",
          "name": "stderr",
          "text": [
            "\n"
          ]
        }
      ]
    },
    {
      "cell_type": "markdown",
      "source": [
        "### Text Translation"
      ],
      "metadata": {
        "id": "l1XDiSY_JNTO"
      }
    },
    {
      "cell_type": "code",
      "source": [
        "# Define the training data\n",
        "X_train=[\"I love dancing salsa and bachata. It's a fun way to express myself.\"]\n",
        "# Initialize the GPTTranslator with the specified model\n",
        "t = GPTTranslator(model=\"gpt-3.5-turbo\", output_language=\"Portoguese\")\n",
        "# Translate the sentence\n",
        "translated_text = t.fit_transform(X_train)\n",
        "translated_text"
      ],
      "metadata": {
        "colab": {
          "base_uri": "https://localhost:8080/"
        },
        "id": "YO_UGSiNJP_1",
        "outputId": "77012c3e-7043-4e19-c08d-5ea91d023027"
      },
      "execution_count": null,
      "outputs": [
        {
          "output_type": "stream",
          "name": "stderr",
          "text": [
            "100%|██████████| 1/1 [00:00<00:00,  1.40it/s]\n"
          ]
        },
        {
          "output_type": "execute_result",
          "data": {
            "text/plain": [
              "array(['Eu amo dançar salsa e bachata. É uma forma divertida de me expressar.'],\n",
              "      dtype=object)"
            ]
          },
          "metadata": {},
          "execution_count": 11
        }
      ]
    }
  ]
}