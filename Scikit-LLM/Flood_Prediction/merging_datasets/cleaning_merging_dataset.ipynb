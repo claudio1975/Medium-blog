{
  "cells": [
    {
      "cell_type": "markdown",
      "metadata": {
        "id": "view-in-github",
        "colab_type": "text"
      },
      "source": [
        "<a href=\"https://colab.research.google.com/github/claudio1975/Medium-blog/blob/master/Scikit-LLM/Flood_Prediction/merging_datasets/cleaning_merging_dataset.ipynb\" target=\"_parent\"><img src=\"https://colab.research.google.com/assets/colab-badge.svg\" alt=\"Open In Colab\"/></a>"
      ]
    },
    {
      "cell_type": "markdown",
      "id": "b7899445",
      "metadata": {
        "id": "b7899445"
      },
      "source": [
        "### Data Source"
      ]
    },
    {
      "cell_type": "markdown",
      "id": "a77da9ab",
      "metadata": {
        "id": "a77da9ab"
      },
      "source": [
        "https://www.ncei.noaa.gov/pub/data/swdi/stormevents/csvfiles/ -- csv files picked up\n",
        "https://www.ncei.noaa.gov/access/metadata/landing-page/bin/iso?id=gov.noaa.ncdc:C00510 -- Storm Event Database\n",
        "https://www.kaggle.com/datasets/landfallmotto/billiondollar-weather-and-climate-disasters/data -- Aggregate Database from Kaggle\n",
        "https://www.ncei.noaa.gov/access/billions/ -- nooa article"
      ]
    },
    {
      "cell_type": "markdown",
      "id": "16c64921",
      "metadata": {
        "id": "16c64921"
      },
      "source": [
        "### Datasets"
      ]
    },
    {
      "cell_type": "code",
      "execution_count": null,
      "id": "7a750e1b",
      "metadata": {
        "id": "7a750e1b"
      },
      "outputs": [],
      "source": [
        "import pandas as pd"
      ]
    },
    {
      "cell_type": "code",
      "execution_count": null,
      "id": "5a4fb86d",
      "metadata": {
        "id": "5a4fb86d"
      },
      "outputs": [],
      "source": [
        "df1=pd.read_csv('StormEvents_details-ftp_v1.0_d1950_c20210803.csv',low_memory=False)"
      ]
    },
    {
      "cell_type": "code",
      "execution_count": null,
      "id": "87642467",
      "metadata": {
        "id": "87642467"
      },
      "outputs": [],
      "source": [
        "df2=pd.read_csv('StormEvents_details-ftp_v1.0_d1951_c20210803.csv',low_memory=False)"
      ]
    },
    {
      "cell_type": "code",
      "execution_count": null,
      "id": "d05f4812",
      "metadata": {
        "id": "d05f4812"
      },
      "outputs": [],
      "source": [
        "df3=pd.read_csv('StormEvents_details-ftp_v1.0_d1952_c20210803.csv',low_memory=False)"
      ]
    },
    {
      "cell_type": "code",
      "execution_count": null,
      "id": "d3b083f1",
      "metadata": {
        "id": "d3b083f1"
      },
      "outputs": [],
      "source": [
        "df4=pd.read_csv('StormEvents_details-ftp_v1.0_d1953_c20210803.csv',low_memory=False)"
      ]
    },
    {
      "cell_type": "code",
      "execution_count": null,
      "id": "ee6a1748",
      "metadata": {
        "id": "ee6a1748"
      },
      "outputs": [],
      "source": [
        "df5=pd.read_csv('StormEvents_details-ftp_v1.0_d1954_c20210803.csv',low_memory=False)"
      ]
    },
    {
      "cell_type": "code",
      "execution_count": null,
      "id": "235c24ce",
      "metadata": {
        "id": "235c24ce"
      },
      "outputs": [],
      "source": [
        "df6=pd.read_csv('StormEvents_details-ftp_v1.0_d1955_c20210803.csv',low_memory=False)"
      ]
    },
    {
      "cell_type": "code",
      "execution_count": null,
      "id": "c1f01112",
      "metadata": {
        "id": "c1f01112"
      },
      "outputs": [],
      "source": [
        "df7=pd.read_csv('StormEvents_details-ftp_v1.0_d1956_c20210803.csv',low_memory=False)"
      ]
    },
    {
      "cell_type": "code",
      "execution_count": null,
      "id": "47ec630a",
      "metadata": {
        "id": "47ec630a"
      },
      "outputs": [],
      "source": [
        "df8=pd.read_csv('StormEvents_details-ftp_v1.0_d1957_c20210803.csv',low_memory=False)"
      ]
    },
    {
      "cell_type": "code",
      "execution_count": null,
      "id": "d85acae6",
      "metadata": {
        "id": "d85acae6"
      },
      "outputs": [],
      "source": [
        "df9=pd.read_csv('StormEvents_details-ftp_v1.0_d1958_c20210803.csv',low_memory=False)"
      ]
    },
    {
      "cell_type": "code",
      "execution_count": null,
      "id": "d548d477",
      "metadata": {
        "id": "d548d477"
      },
      "outputs": [],
      "source": [
        "df10=pd.read_csv('StormEvents_details-ftp_v1.0_d1959_c20210803.csv',low_memory=False)"
      ]
    },
    {
      "cell_type": "code",
      "execution_count": null,
      "id": "d9cdf0fd",
      "metadata": {
        "id": "d9cdf0fd"
      },
      "outputs": [],
      "source": [
        "df11=pd.read_csv('StormEvents_details-ftp_v1.0_d1960_c20210803.csv',low_memory=False)"
      ]
    },
    {
      "cell_type": "code",
      "execution_count": null,
      "id": "b005b26b",
      "metadata": {
        "id": "b005b26b"
      },
      "outputs": [],
      "source": [
        "df12=pd.read_csv('StormEvents_details-ftp_v1.0_d1961_c20210803.csv',low_memory=False)"
      ]
    },
    {
      "cell_type": "code",
      "execution_count": null,
      "id": "b19e2183",
      "metadata": {
        "id": "b19e2183"
      },
      "outputs": [],
      "source": [
        "df13=pd.read_csv('StormEvents_details-ftp_v1.0_d1962_c20210803.csv',low_memory=False)"
      ]
    },
    {
      "cell_type": "code",
      "execution_count": null,
      "id": "b94a665e",
      "metadata": {
        "id": "b94a665e"
      },
      "outputs": [],
      "source": [
        "df14=pd.read_csv('StormEvents_details-ftp_v1.0_d1963_c20210803.csv',low_memory=False)"
      ]
    },
    {
      "cell_type": "code",
      "execution_count": null,
      "id": "a2ed60d1",
      "metadata": {
        "id": "a2ed60d1"
      },
      "outputs": [],
      "source": [
        "df15=pd.read_csv('StormEvents_details-ftp_v1.0_d1964_c20210803.csv',low_memory=False)"
      ]
    },
    {
      "cell_type": "code",
      "execution_count": null,
      "id": "accfbf15",
      "metadata": {
        "id": "accfbf15"
      },
      "outputs": [],
      "source": [
        "df16=pd.read_csv('StormEvents_details-ftp_v1.0_d1965_c20210803.csv',low_memory=False)"
      ]
    },
    {
      "cell_type": "code",
      "execution_count": null,
      "id": "2638a60b",
      "metadata": {
        "id": "2638a60b"
      },
      "outputs": [],
      "source": [
        "df17=pd.read_csv('StormEvents_details-ftp_v1.0_d1966_c20210803.csv',low_memory=False)"
      ]
    },
    {
      "cell_type": "code",
      "execution_count": null,
      "id": "966df620",
      "metadata": {
        "id": "966df620"
      },
      "outputs": [],
      "source": [
        "df18=pd.read_csv('StormEvents_details-ftp_v1.0_d1967_c20210803.csv',low_memory=False)"
      ]
    },
    {
      "cell_type": "code",
      "execution_count": null,
      "id": "52b85dd6",
      "metadata": {
        "id": "52b85dd6"
      },
      "outputs": [],
      "source": [
        "df19=pd.read_csv('StormEvents_details-ftp_v1.0_d1968_c20210803.csv',low_memory=False)"
      ]
    },
    {
      "cell_type": "code",
      "execution_count": null,
      "id": "8d33e744",
      "metadata": {
        "id": "8d33e744"
      },
      "outputs": [],
      "source": [
        "df20=pd.read_csv('StormEvents_details-ftp_v1.0_d1969_c20210803.csv',low_memory=False)"
      ]
    },
    {
      "cell_type": "code",
      "execution_count": null,
      "id": "44ce00f6",
      "metadata": {
        "id": "44ce00f6"
      },
      "outputs": [],
      "source": [
        "df21=pd.read_csv('StormEvents_details-ftp_v1.0_d1970_c20210803.csv',low_memory=False)"
      ]
    },
    {
      "cell_type": "code",
      "execution_count": null,
      "id": "b821f65d",
      "metadata": {
        "id": "b821f65d"
      },
      "outputs": [],
      "source": [
        "df22=pd.read_csv('StormEvents_details-ftp_v1.0_d1971_c20210803.csv',low_memory=False)"
      ]
    },
    {
      "cell_type": "code",
      "execution_count": null,
      "id": "e28bef75",
      "metadata": {
        "id": "e28bef75"
      },
      "outputs": [],
      "source": [
        "df23=pd.read_csv('StormEvents_details-ftp_v1.0_d1972_c20220425.csv',low_memory=False)"
      ]
    },
    {
      "cell_type": "code",
      "execution_count": null,
      "id": "4f9e70c0",
      "metadata": {
        "id": "4f9e70c0"
      },
      "outputs": [],
      "source": [
        "df24=pd.read_csv('StormEvents_details-ftp_v1.0_d1973_c20220425.csv',low_memory=False)"
      ]
    },
    {
      "cell_type": "code",
      "execution_count": null,
      "id": "dbdbc479",
      "metadata": {
        "id": "dbdbc479"
      },
      "outputs": [],
      "source": [
        "df25=pd.read_csv('StormEvents_details-ftp_v1.0_d1974_c20220425.csv',low_memory=False)"
      ]
    },
    {
      "cell_type": "code",
      "execution_count": null,
      "id": "139f81d0",
      "metadata": {
        "id": "139f81d0"
      },
      "outputs": [],
      "source": [
        "df26=pd.read_csv('StormEvents_details-ftp_v1.0_d1975_c20220425.csv',low_memory=False)"
      ]
    },
    {
      "cell_type": "code",
      "execution_count": null,
      "id": "f5a0b715",
      "metadata": {
        "id": "f5a0b715"
      },
      "outputs": [],
      "source": [
        "df27=pd.read_csv('StormEvents_details-ftp_v1.0_d1976_c20220425.csv',low_memory=False)"
      ]
    },
    {
      "cell_type": "code",
      "execution_count": null,
      "id": "284fe7ae",
      "metadata": {
        "id": "284fe7ae"
      },
      "outputs": [],
      "source": [
        "df28=pd.read_csv('StormEvents_details-ftp_v1.0_d1977_c20220425.csv',low_memory=False)"
      ]
    },
    {
      "cell_type": "code",
      "execution_count": null,
      "id": "22183f15",
      "metadata": {
        "id": "22183f15"
      },
      "outputs": [],
      "source": [
        "df29=pd.read_csv('StormEvents_details-ftp_v1.0_d1978_c20220425.csv',low_memory=False)"
      ]
    },
    {
      "cell_type": "code",
      "execution_count": null,
      "id": "df53d80c",
      "metadata": {
        "id": "df53d80c"
      },
      "outputs": [],
      "source": [
        "df30=pd.read_csv('StormEvents_details-ftp_v1.0_d1979_c20220425.csv',low_memory=False)"
      ]
    },
    {
      "cell_type": "code",
      "execution_count": null,
      "id": "f6a41697",
      "metadata": {
        "id": "f6a41697"
      },
      "outputs": [],
      "source": [
        "df31=pd.read_csv('StormEvents_details-ftp_v1.0_d1980_c20220425.csv',low_memory=False)"
      ]
    },
    {
      "cell_type": "code",
      "execution_count": null,
      "id": "bdd418c0",
      "metadata": {
        "id": "bdd418c0"
      },
      "outputs": [],
      "source": [
        "df32=pd.read_csv('StormEvents_details-ftp_v1.0_d1981_c20220425.csv',low_memory=False)"
      ]
    },
    {
      "cell_type": "code",
      "execution_count": null,
      "id": "96ebe725",
      "metadata": {
        "id": "96ebe725"
      },
      "outputs": [],
      "source": [
        "df33=pd.read_csv('StormEvents_details-ftp_v1.0_d1982_c20220425.csv',low_memory=False)"
      ]
    },
    {
      "cell_type": "code",
      "execution_count": null,
      "id": "3a6870cb",
      "metadata": {
        "id": "3a6870cb"
      },
      "outputs": [],
      "source": [
        "df34=pd.read_csv('StormEvents_details-ftp_v1.0_d1983_c20220425.csv',low_memory=False)"
      ]
    },
    {
      "cell_type": "code",
      "execution_count": null,
      "id": "becc81f0",
      "metadata": {
        "id": "becc81f0"
      },
      "outputs": [],
      "source": [
        "df35=pd.read_csv('StormEvents_details-ftp_v1.0_d1984_c20220425.csv',low_memory=False)"
      ]
    },
    {
      "cell_type": "code",
      "execution_count": null,
      "id": "441f9a77",
      "metadata": {
        "id": "441f9a77"
      },
      "outputs": [],
      "source": [
        "df36=pd.read_csv('StormEvents_details-ftp_v1.0_d1985_c20220425.csv',low_memory=False)"
      ]
    },
    {
      "cell_type": "code",
      "execution_count": null,
      "id": "0b7a19ff",
      "metadata": {
        "id": "0b7a19ff"
      },
      "outputs": [],
      "source": [
        "df37=pd.read_csv('StormEvents_details-ftp_v1.0_d1986_c20220425.csv',low_memory=False)"
      ]
    },
    {
      "cell_type": "code",
      "execution_count": null,
      "id": "135d7df0",
      "metadata": {
        "id": "135d7df0"
      },
      "outputs": [],
      "source": [
        "df38=pd.read_csv('StormEvents_details-ftp_v1.0_d1987_c20220425.csv',low_memory=False)"
      ]
    },
    {
      "cell_type": "code",
      "execution_count": null,
      "id": "67c25b36",
      "metadata": {
        "id": "67c25b36"
      },
      "outputs": [],
      "source": [
        "df39=pd.read_csv('StormEvents_details-ftp_v1.0_d1988_c20220425.csv',low_memory=False)"
      ]
    },
    {
      "cell_type": "code",
      "execution_count": null,
      "id": "2e339aa9",
      "metadata": {
        "id": "2e339aa9"
      },
      "outputs": [],
      "source": [
        "df40=pd.read_csv('StormEvents_details-ftp_v1.0_d1989_c20220425.csv',low_memory=False)"
      ]
    },
    {
      "cell_type": "code",
      "execution_count": null,
      "id": "71ae99f8",
      "metadata": {
        "id": "71ae99f8"
      },
      "outputs": [],
      "source": [
        "df41=pd.read_csv('StormEvents_details-ftp_v1.0_d1990_c20220425.csv',low_memory=False)"
      ]
    },
    {
      "cell_type": "code",
      "execution_count": null,
      "id": "e62978c6",
      "metadata": {
        "id": "e62978c6"
      },
      "outputs": [],
      "source": [
        "df42=pd.read_csv('StormEvents_details-ftp_v1.0_d1991_c20220425.csv',low_memory=False)"
      ]
    },
    {
      "cell_type": "code",
      "execution_count": null,
      "id": "c33833d9",
      "metadata": {
        "id": "c33833d9"
      },
      "outputs": [],
      "source": [
        "df43=pd.read_csv('StormEvents_details-ftp_v1.0_d1992_c20220425.csv',low_memory=False)"
      ]
    },
    {
      "cell_type": "code",
      "execution_count": null,
      "id": "a9c22179",
      "metadata": {
        "id": "a9c22179"
      },
      "outputs": [],
      "source": [
        "df44=pd.read_csv('StormEvents_details-ftp_v1.0_d1993_c20220425.csv',low_memory=False)"
      ]
    },
    {
      "cell_type": "code",
      "execution_count": null,
      "id": "7656cf91",
      "metadata": {
        "id": "7656cf91"
      },
      "outputs": [],
      "source": [
        "df45=pd.read_csv('StormEvents_details-ftp_v1.0_d1994_c20220425.csv',low_memory=False)"
      ]
    },
    {
      "cell_type": "code",
      "execution_count": null,
      "id": "12e8ea42",
      "metadata": {
        "id": "12e8ea42"
      },
      "outputs": [],
      "source": [
        "df46=pd.read_csv('StormEvents_details-ftp_v1.0_d1995_c20220425.csv',low_memory=False)"
      ]
    },
    {
      "cell_type": "code",
      "execution_count": null,
      "id": "318bb153",
      "metadata": {
        "id": "318bb153"
      },
      "outputs": [],
      "source": [
        "df47=pd.read_csv('StormEvents_details-ftp_v1.0_d1996_c20220425.csv',low_memory=False)"
      ]
    },
    {
      "cell_type": "code",
      "execution_count": null,
      "id": "d4d76d72",
      "metadata": {
        "id": "d4d76d72"
      },
      "outputs": [],
      "source": [
        "df48=pd.read_csv('StormEvents_details-ftp_v1.0_d1997_c20220425.csv',low_memory=False)"
      ]
    },
    {
      "cell_type": "code",
      "execution_count": null,
      "id": "543b7156",
      "metadata": {
        "id": "543b7156"
      },
      "outputs": [],
      "source": [
        "df49=pd.read_csv('StormEvents_details-ftp_v1.0_d1998_c20220425.csv',low_memory=False)"
      ]
    },
    {
      "cell_type": "code",
      "execution_count": null,
      "id": "b380a431",
      "metadata": {
        "id": "b380a431"
      },
      "outputs": [],
      "source": [
        "df50=pd.read_csv('StormEvents_details-ftp_v1.0_d1999_c20220425.csv',low_memory=False)"
      ]
    },
    {
      "cell_type": "code",
      "execution_count": null,
      "id": "0a5a01ca",
      "metadata": {
        "id": "0a5a01ca"
      },
      "outputs": [],
      "source": [
        "df51=pd.read_csv('StormEvents_details-ftp_v1.0_d2000_c20220425.csv',low_memory=False)"
      ]
    },
    {
      "cell_type": "code",
      "execution_count": null,
      "id": "8862c2d7",
      "metadata": {
        "id": "8862c2d7"
      },
      "outputs": [],
      "source": [
        "df52=pd.read_csv('StormEvents_details-ftp_v1.0_d2001_c20220425.csv',low_memory=False)"
      ]
    },
    {
      "cell_type": "code",
      "execution_count": null,
      "id": "f7f12cc5",
      "metadata": {
        "id": "f7f12cc5"
      },
      "outputs": [],
      "source": [
        "df53=pd.read_csv('StormEvents_details-ftp_v1.0_d2002_c20220425.csv',low_memory=False)"
      ]
    },
    {
      "cell_type": "code",
      "execution_count": null,
      "id": "f6aad716",
      "metadata": {
        "id": "f6aad716"
      },
      "outputs": [],
      "source": [
        "df54=pd.read_csv('StormEvents_details-ftp_v1.0_d2003_c20220425.csv',low_memory=False)"
      ]
    },
    {
      "cell_type": "code",
      "execution_count": null,
      "id": "f3acce45",
      "metadata": {
        "id": "f3acce45"
      },
      "outputs": [],
      "source": [
        "df55=pd.read_csv('StormEvents_details-ftp_v1.0_d2004_c20220425.csv',low_memory=False)"
      ]
    },
    {
      "cell_type": "code",
      "execution_count": null,
      "id": "f5161715",
      "metadata": {
        "id": "f5161715"
      },
      "outputs": [],
      "source": [
        "df56=pd.read_csv('StormEvents_details-ftp_v1.0_d2005_c20220425.csv',low_memory=False)"
      ]
    },
    {
      "cell_type": "code",
      "execution_count": null,
      "id": "0acb21c9",
      "metadata": {
        "id": "0acb21c9"
      },
      "outputs": [],
      "source": [
        "df57=pd.read_csv('StormEvents_details-ftp_v1.0_d2006_c20220425.csv', low_memory=False)"
      ]
    },
    {
      "cell_type": "code",
      "execution_count": null,
      "id": "c657bb83",
      "metadata": {
        "id": "c657bb83"
      },
      "outputs": [],
      "source": [
        "df58=pd.read_csv('StormEvents_details-ftp_v1.0_d2007_c20220425.csv',low_memory=False)"
      ]
    },
    {
      "cell_type": "code",
      "execution_count": null,
      "id": "d894b3bf",
      "metadata": {
        "id": "d894b3bf"
      },
      "outputs": [],
      "source": [
        "df59=pd.read_csv('StormEvents_details-ftp_v1.0_d2008_c20220425.csv',low_memory=False)"
      ]
    },
    {
      "cell_type": "code",
      "execution_count": null,
      "id": "8a64493b",
      "metadata": {
        "id": "8a64493b"
      },
      "outputs": [],
      "source": [
        "df60=pd.read_csv('StormEvents_details-ftp_v1.0_d2009_c20220425.csv',low_memory=False)"
      ]
    },
    {
      "cell_type": "code",
      "execution_count": null,
      "id": "767a1a8e",
      "metadata": {
        "id": "767a1a8e"
      },
      "outputs": [],
      "source": [
        "df61=pd.read_csv('StormEvents_details-ftp_v1.0_d2010_c20220425.csv',low_memory=False)"
      ]
    },
    {
      "cell_type": "code",
      "execution_count": null,
      "id": "a10adb46",
      "metadata": {
        "id": "a10adb46"
      },
      "outputs": [],
      "source": [
        "df62=pd.read_csv('StormEvents_details-ftp_v1.0_d2011_c20230417.csv',low_memory=False)"
      ]
    },
    {
      "cell_type": "code",
      "execution_count": null,
      "id": "1873dc33",
      "metadata": {
        "id": "1873dc33"
      },
      "outputs": [],
      "source": [
        "df63=pd.read_csv('StormEvents_details-ftp_v1.0_d2012_c20221216.csv',low_memory=False)"
      ]
    },
    {
      "cell_type": "code",
      "execution_count": null,
      "id": "1e27c5ef",
      "metadata": {
        "id": "1e27c5ef"
      },
      "outputs": [],
      "source": [
        "df64=pd.read_csv('StormEvents_details-ftp_v1.0_d2013_c20230118.csv',low_memory=False)"
      ]
    },
    {
      "cell_type": "code",
      "execution_count": null,
      "id": "46aa8a15",
      "metadata": {
        "id": "46aa8a15"
      },
      "outputs": [],
      "source": [
        "df65=pd.read_csv('StormEvents_details-ftp_v1.0_d2014_c20230330.csv',low_memory=False)"
      ]
    },
    {
      "cell_type": "code",
      "execution_count": null,
      "id": "913197b7",
      "metadata": {
        "id": "913197b7"
      },
      "outputs": [],
      "source": [
        "df66=pd.read_csv('StormEvents_details-ftp_v1.0_d2015_c20220425.csv',low_memory=False)"
      ]
    },
    {
      "cell_type": "code",
      "execution_count": null,
      "id": "18214b4a",
      "metadata": {
        "id": "18214b4a"
      },
      "outputs": [],
      "source": [
        "df67=pd.read_csv('StormEvents_details-ftp_v1.0_d2016_c20220719.csv',low_memory=False)"
      ]
    },
    {
      "cell_type": "code",
      "execution_count": null,
      "id": "c6d7e00c",
      "metadata": {
        "id": "c6d7e00c"
      },
      "outputs": [],
      "source": [
        "df68=pd.read_csv('StormEvents_details-ftp_v1.0_d2017_c20230317.csv',low_memory=False)"
      ]
    },
    {
      "cell_type": "code",
      "execution_count": null,
      "id": "87bc3d9f",
      "metadata": {
        "id": "87bc3d9f"
      },
      "outputs": [],
      "source": [
        "df69=pd.read_csv('StormEvents_details-ftp_v1.0_d2018_c20230616.csv',low_memory=False)"
      ]
    },
    {
      "cell_type": "code",
      "execution_count": null,
      "id": "0484f914",
      "metadata": {
        "id": "0484f914"
      },
      "outputs": [],
      "source": [
        "df70=pd.read_csv('StormEvents_details-ftp_v1.0_d2019_c20231017.csv',low_memory=False)"
      ]
    },
    {
      "cell_type": "code",
      "execution_count": null,
      "id": "886e8ebc",
      "metadata": {
        "id": "886e8ebc"
      },
      "outputs": [],
      "source": [
        "df71=pd.read_csv('StormEvents_details-ftp_v1.0_d2020_c20230927.csv',low_memory=False)"
      ]
    },
    {
      "cell_type": "code",
      "execution_count": null,
      "id": "6c1b644f",
      "metadata": {
        "id": "6c1b644f"
      },
      "outputs": [],
      "source": [
        "df72=pd.read_csv('StormEvents_details-ftp_v1.0_d2021_c20231017.csv',low_memory=False)"
      ]
    },
    {
      "cell_type": "code",
      "execution_count": null,
      "id": "9dd4e335",
      "metadata": {
        "id": "9dd4e335"
      },
      "outputs": [],
      "source": [
        "df73=pd.read_csv('StormEvents_details-ftp_v1.0_d2022_c20231017.csv',low_memory=False)"
      ]
    },
    {
      "cell_type": "markdown",
      "id": "f7009d7b",
      "metadata": {
        "id": "f7009d7b"
      },
      "source": [
        "### Merging datasets"
      ]
    },
    {
      "cell_type": "code",
      "execution_count": null,
      "id": "68f2d73d",
      "metadata": {
        "id": "68f2d73d"
      },
      "outputs": [],
      "source": [
        "dftot=pd.concat([df1,df2,df3,df4,df5,df6,df7,df8,df9,df10,df11,df12,df13,df14,df15,df16,df17,df18,df19,df20,\n",
        "                 df21,df22,df23,df24,df25,df26,df27,df28,df29,df30,df31,df32,df33,df34,df35,df36,df37,df38,df39,df40,\n",
        "                df41,df42,df43,df44,df45,df46,df47,df48,df49,df50,df51,df52,df53,df54,df55,df56,df57,df58,df59,df60,\n",
        "                df61,df62,df63,df64,df65,df66,df67,df68,df69,df70,df71,df72,df73], axis=0)"
      ]
    },
    {
      "cell_type": "code",
      "execution_count": null,
      "id": "d3a73f43",
      "metadata": {
        "id": "d3a73f43",
        "outputId": "53590c0e-8688-4a19-c137-e6f79159e842"
      },
      "outputs": [
        {
          "data": {
            "text/html": [
              "<div>\n",
              "<style scoped>\n",
              "    .dataframe tbody tr th:only-of-type {\n",
              "        vertical-align: middle;\n",
              "    }\n",
              "\n",
              "    .dataframe tbody tr th {\n",
              "        vertical-align: top;\n",
              "    }\n",
              "\n",
              "    .dataframe thead th {\n",
              "        text-align: right;\n",
              "    }\n",
              "</style>\n",
              "<table border=\"1\" class=\"dataframe\">\n",
              "  <thead>\n",
              "    <tr style=\"text-align: right;\">\n",
              "      <th></th>\n",
              "      <th>BEGIN_YEARMONTH</th>\n",
              "      <th>BEGIN_DAY</th>\n",
              "      <th>BEGIN_TIME</th>\n",
              "      <th>END_YEARMONTH</th>\n",
              "      <th>END_DAY</th>\n",
              "      <th>END_TIME</th>\n",
              "      <th>EPISODE_ID</th>\n",
              "      <th>EVENT_ID</th>\n",
              "      <th>STATE</th>\n",
              "      <th>STATE_FIPS</th>\n",
              "      <th>...</th>\n",
              "      <th>END_RANGE</th>\n",
              "      <th>END_AZIMUTH</th>\n",
              "      <th>END_LOCATION</th>\n",
              "      <th>BEGIN_LAT</th>\n",
              "      <th>BEGIN_LON</th>\n",
              "      <th>END_LAT</th>\n",
              "      <th>END_LON</th>\n",
              "      <th>EPISODE_NARRATIVE</th>\n",
              "      <th>EVENT_NARRATIVE</th>\n",
              "      <th>DATA_SOURCE</th>\n",
              "    </tr>\n",
              "  </thead>\n",
              "  <tbody>\n",
              "    <tr>\n",
              "      <th>0</th>\n",
              "      <td>195004</td>\n",
              "      <td>28</td>\n",
              "      <td>1445</td>\n",
              "      <td>195004</td>\n",
              "      <td>28</td>\n",
              "      <td>1445</td>\n",
              "      <td>NaN</td>\n",
              "      <td>10096222</td>\n",
              "      <td>OKLAHOMA</td>\n",
              "      <td>40.0</td>\n",
              "      <td>...</td>\n",
              "      <td>0.0</td>\n",
              "      <td>NaN</td>\n",
              "      <td>NaN</td>\n",
              "      <td>35.12</td>\n",
              "      <td>-99.20</td>\n",
              "      <td>35.17</td>\n",
              "      <td>-99.20</td>\n",
              "      <td>NaN</td>\n",
              "      <td>NaN</td>\n",
              "      <td>PUB</td>\n",
              "    </tr>\n",
              "    <tr>\n",
              "      <th>1</th>\n",
              "      <td>195004</td>\n",
              "      <td>29</td>\n",
              "      <td>1530</td>\n",
              "      <td>195004</td>\n",
              "      <td>29</td>\n",
              "      <td>1530</td>\n",
              "      <td>NaN</td>\n",
              "      <td>10120412</td>\n",
              "      <td>TEXAS</td>\n",
              "      <td>48.0</td>\n",
              "      <td>...</td>\n",
              "      <td>0.0</td>\n",
              "      <td>NaN</td>\n",
              "      <td>NaN</td>\n",
              "      <td>31.90</td>\n",
              "      <td>-98.60</td>\n",
              "      <td>31.73</td>\n",
              "      <td>-98.60</td>\n",
              "      <td>NaN</td>\n",
              "      <td>NaN</td>\n",
              "      <td>PUB</td>\n",
              "    </tr>\n",
              "    <tr>\n",
              "      <th>2</th>\n",
              "      <td>195007</td>\n",
              "      <td>5</td>\n",
              "      <td>1800</td>\n",
              "      <td>195007</td>\n",
              "      <td>5</td>\n",
              "      <td>1800</td>\n",
              "      <td>NaN</td>\n",
              "      <td>10104927</td>\n",
              "      <td>PENNSYLVANIA</td>\n",
              "      <td>42.0</td>\n",
              "      <td>...</td>\n",
              "      <td>0.0</td>\n",
              "      <td>NaN</td>\n",
              "      <td>NaN</td>\n",
              "      <td>40.58</td>\n",
              "      <td>-75.70</td>\n",
              "      <td>40.65</td>\n",
              "      <td>-75.47</td>\n",
              "      <td>NaN</td>\n",
              "      <td>NaN</td>\n",
              "      <td>PUB</td>\n",
              "    </tr>\n",
              "    <tr>\n",
              "      <th>3</th>\n",
              "      <td>195007</td>\n",
              "      <td>5</td>\n",
              "      <td>1830</td>\n",
              "      <td>195007</td>\n",
              "      <td>5</td>\n",
              "      <td>1830</td>\n",
              "      <td>NaN</td>\n",
              "      <td>10104928</td>\n",
              "      <td>PENNSYLVANIA</td>\n",
              "      <td>42.0</td>\n",
              "      <td>...</td>\n",
              "      <td>0.0</td>\n",
              "      <td>NaN</td>\n",
              "      <td>NaN</td>\n",
              "      <td>40.60</td>\n",
              "      <td>-76.75</td>\n",
              "      <td>NaN</td>\n",
              "      <td>NaN</td>\n",
              "      <td>NaN</td>\n",
              "      <td>NaN</td>\n",
              "      <td>PUB</td>\n",
              "    </tr>\n",
              "    <tr>\n",
              "      <th>4</th>\n",
              "      <td>195007</td>\n",
              "      <td>24</td>\n",
              "      <td>1440</td>\n",
              "      <td>195007</td>\n",
              "      <td>24</td>\n",
              "      <td>1440</td>\n",
              "      <td>NaN</td>\n",
              "      <td>10104929</td>\n",
              "      <td>PENNSYLVANIA</td>\n",
              "      <td>42.0</td>\n",
              "      <td>...</td>\n",
              "      <td>0.0</td>\n",
              "      <td>NaN</td>\n",
              "      <td>NaN</td>\n",
              "      <td>41.63</td>\n",
              "      <td>-79.68</td>\n",
              "      <td>NaN</td>\n",
              "      <td>NaN</td>\n",
              "      <td>NaN</td>\n",
              "      <td>NaN</td>\n",
              "      <td>PUB</td>\n",
              "    </tr>\n",
              "    <tr>\n",
              "      <th>5</th>\n",
              "      <td>195008</td>\n",
              "      <td>29</td>\n",
              "      <td>1600</td>\n",
              "      <td>195008</td>\n",
              "      <td>29</td>\n",
              "      <td>1600</td>\n",
              "      <td>NaN</td>\n",
              "      <td>10104930</td>\n",
              "      <td>PENNSYLVANIA</td>\n",
              "      <td>42.0</td>\n",
              "      <td>...</td>\n",
              "      <td>0.0</td>\n",
              "      <td>NaN</td>\n",
              "      <td>NaN</td>\n",
              "      <td>40.22</td>\n",
              "      <td>-75.00</td>\n",
              "      <td>NaN</td>\n",
              "      <td>NaN</td>\n",
              "      <td>NaN</td>\n",
              "      <td>NaN</td>\n",
              "      <td>PUB</td>\n",
              "    </tr>\n",
              "    <tr>\n",
              "      <th>6</th>\n",
              "      <td>195011</td>\n",
              "      <td>4</td>\n",
              "      <td>1700</td>\n",
              "      <td>195011</td>\n",
              "      <td>4</td>\n",
              "      <td>1700</td>\n",
              "      <td>NaN</td>\n",
              "      <td>10104931</td>\n",
              "      <td>PENNSYLVANIA</td>\n",
              "      <td>42.0</td>\n",
              "      <td>...</td>\n",
              "      <td>0.0</td>\n",
              "      <td>NaN</td>\n",
              "      <td>NaN</td>\n",
              "      <td>40.20</td>\n",
              "      <td>-76.12</td>\n",
              "      <td>40.27</td>\n",
              "      <td>-76.07</td>\n",
              "      <td>NaN</td>\n",
              "      <td>NaN</td>\n",
              "      <td>PUB</td>\n",
              "    </tr>\n",
              "    <tr>\n",
              "      <th>7</th>\n",
              "      <td>195011</td>\n",
              "      <td>4</td>\n",
              "      <td>1730</td>\n",
              "      <td>195011</td>\n",
              "      <td>4</td>\n",
              "      <td>1730</td>\n",
              "      <td>NaN</td>\n",
              "      <td>10104932</td>\n",
              "      <td>PENNSYLVANIA</td>\n",
              "      <td>42.0</td>\n",
              "      <td>...</td>\n",
              "      <td>0.0</td>\n",
              "      <td>NaN</td>\n",
              "      <td>NaN</td>\n",
              "      <td>40.27</td>\n",
              "      <td>-76.07</td>\n",
              "      <td>40.40</td>\n",
              "      <td>-75.93</td>\n",
              "      <td>NaN</td>\n",
              "      <td>NaN</td>\n",
              "      <td>PUB</td>\n",
              "    </tr>\n",
              "    <tr>\n",
              "      <th>8</th>\n",
              "      <td>195009</td>\n",
              "      <td>15</td>\n",
              "      <td>1745</td>\n",
              "      <td>195009</td>\n",
              "      <td>15</td>\n",
              "      <td>1745</td>\n",
              "      <td>NaN</td>\n",
              "      <td>10099490</td>\n",
              "      <td>OKLAHOMA</td>\n",
              "      <td>40.0</td>\n",
              "      <td>...</td>\n",
              "      <td>0.0</td>\n",
              "      <td>NaN</td>\n",
              "      <td>NaN</td>\n",
              "      <td>35.00</td>\n",
              "      <td>-96.25</td>\n",
              "      <td>35.07</td>\n",
              "      <td>-96.17</td>\n",
              "      <td>NaN</td>\n",
              "      <td>NaN</td>\n",
              "      <td>PUB</td>\n",
              "    </tr>\n",
              "    <tr>\n",
              "      <th>9</th>\n",
              "      <td>195009</td>\n",
              "      <td>16</td>\n",
              "      <td>130</td>\n",
              "      <td>195009</td>\n",
              "      <td>16</td>\n",
              "      <td>130</td>\n",
              "      <td>NaN</td>\n",
              "      <td>10099491</td>\n",
              "      <td>OKLAHOMA</td>\n",
              "      <td>40.0</td>\n",
              "      <td>...</td>\n",
              "      <td>0.0</td>\n",
              "      <td>NaN</td>\n",
              "      <td>NaN</td>\n",
              "      <td>34.83</td>\n",
              "      <td>-95.85</td>\n",
              "      <td>NaN</td>\n",
              "      <td>NaN</td>\n",
              "      <td>NaN</td>\n",
              "      <td>NaN</td>\n",
              "      <td>PUB</td>\n",
              "    </tr>\n",
              "  </tbody>\n",
              "</table>\n",
              "<p>10 rows × 51 columns</p>\n",
              "</div>"
            ],
            "text/plain": [
              "   BEGIN_YEARMONTH  BEGIN_DAY  BEGIN_TIME  END_YEARMONTH  END_DAY  END_TIME  \\\n",
              "0           195004         28        1445         195004       28      1445   \n",
              "1           195004         29        1530         195004       29      1530   \n",
              "2           195007          5        1800         195007        5      1800   \n",
              "3           195007          5        1830         195007        5      1830   \n",
              "4           195007         24        1440         195007       24      1440   \n",
              "5           195008         29        1600         195008       29      1600   \n",
              "6           195011          4        1700         195011        4      1700   \n",
              "7           195011          4        1730         195011        4      1730   \n",
              "8           195009         15        1745         195009       15      1745   \n",
              "9           195009         16         130         195009       16       130   \n",
              "\n",
              "   EPISODE_ID  EVENT_ID         STATE  STATE_FIPS  ...  END_RANGE END_AZIMUTH  \\\n",
              "0         NaN  10096222      OKLAHOMA        40.0  ...        0.0         NaN   \n",
              "1         NaN  10120412         TEXAS        48.0  ...        0.0         NaN   \n",
              "2         NaN  10104927  PENNSYLVANIA        42.0  ...        0.0         NaN   \n",
              "3         NaN  10104928  PENNSYLVANIA        42.0  ...        0.0         NaN   \n",
              "4         NaN  10104929  PENNSYLVANIA        42.0  ...        0.0         NaN   \n",
              "5         NaN  10104930  PENNSYLVANIA        42.0  ...        0.0         NaN   \n",
              "6         NaN  10104931  PENNSYLVANIA        42.0  ...        0.0         NaN   \n",
              "7         NaN  10104932  PENNSYLVANIA        42.0  ...        0.0         NaN   \n",
              "8         NaN  10099490      OKLAHOMA        40.0  ...        0.0         NaN   \n",
              "9         NaN  10099491      OKLAHOMA        40.0  ...        0.0         NaN   \n",
              "\n",
              "  END_LOCATION BEGIN_LAT  BEGIN_LON END_LAT END_LON EPISODE_NARRATIVE  \\\n",
              "0          NaN     35.12     -99.20   35.17  -99.20               NaN   \n",
              "1          NaN     31.90     -98.60   31.73  -98.60               NaN   \n",
              "2          NaN     40.58     -75.70   40.65  -75.47               NaN   \n",
              "3          NaN     40.60     -76.75     NaN     NaN               NaN   \n",
              "4          NaN     41.63     -79.68     NaN     NaN               NaN   \n",
              "5          NaN     40.22     -75.00     NaN     NaN               NaN   \n",
              "6          NaN     40.20     -76.12   40.27  -76.07               NaN   \n",
              "7          NaN     40.27     -76.07   40.40  -75.93               NaN   \n",
              "8          NaN     35.00     -96.25   35.07  -96.17               NaN   \n",
              "9          NaN     34.83     -95.85     NaN     NaN               NaN   \n",
              "\n",
              "  EVENT_NARRATIVE DATA_SOURCE  \n",
              "0             NaN         PUB  \n",
              "1             NaN         PUB  \n",
              "2             NaN         PUB  \n",
              "3             NaN         PUB  \n",
              "4             NaN         PUB  \n",
              "5             NaN         PUB  \n",
              "6             NaN         PUB  \n",
              "7             NaN         PUB  \n",
              "8             NaN         PUB  \n",
              "9             NaN         PUB  \n",
              "\n",
              "[10 rows x 51 columns]"
            ]
          },
          "execution_count": 223,
          "metadata": {},
          "output_type": "execute_result"
        }
      ],
      "source": [
        "dftot.head(10)"
      ]
    },
    {
      "cell_type": "code",
      "execution_count": null,
      "id": "0d2aff72",
      "metadata": {
        "id": "0d2aff72",
        "outputId": "aeb2c5eb-19ac-4f28-ee87-18649383bb0c"
      },
      "outputs": [
        {
          "data": {
            "text/plain": [
              "count               1794914\n",
              "unique                   70\n",
              "top       Thunderstorm Wind\n",
              "freq                 501183\n",
              "Name: EVENT_TYPE, dtype: object"
            ]
          },
          "execution_count": 224,
          "metadata": {},
          "output_type": "execute_result"
        }
      ],
      "source": [
        "dftot['EVENT_TYPE'].describe().T"
      ]
    },
    {
      "cell_type": "code",
      "execution_count": null,
      "id": "5d8cebe6",
      "metadata": {
        "id": "5d8cebe6"
      },
      "outputs": [],
      "source": [
        "dftot['EVENT_TYPE'] = dftot['EVENT_TYPE'].str.title()"
      ]
    },
    {
      "cell_type": "code",
      "execution_count": null,
      "id": "1f2756c8",
      "metadata": {
        "id": "1f2756c8"
      },
      "outputs": [],
      "source": [
        "dftot_2=dftot.copy()"
      ]
    },
    {
      "cell_type": "code",
      "execution_count": null,
      "id": "e1506a5e",
      "metadata": {
        "id": "e1506a5e"
      },
      "outputs": [],
      "source": [
        "dftot_2['EVENT_TYPE'] = dftot_2['EVENT_TYPE'].replace('Tornadoes, Tstm Wind, Hail', 'Tornado')"
      ]
    },
    {
      "cell_type": "code",
      "execution_count": null,
      "id": "66eef813",
      "metadata": {
        "id": "66eef813"
      },
      "outputs": [],
      "source": [
        "dftot_2['EVENT_TYPE'] = dftot_2['EVENT_TYPE'].replace('Tornado/Waterspout', 'Tornado')"
      ]
    },
    {
      "cell_type": "code",
      "execution_count": null,
      "id": "27a1be25",
      "metadata": {
        "id": "27a1be25"
      },
      "outputs": [],
      "source": [
        "dftot_2['EVENT_TYPE'] = dftot_2['EVENT_TYPE'].replace('Thunderstorm Winds/Flooding', 'Thunderstorm Wind')"
      ]
    },
    {
      "cell_type": "code",
      "execution_count": null,
      "id": "72246473",
      "metadata": {
        "id": "72246473"
      },
      "outputs": [],
      "source": [
        "dftot_2['EVENT_TYPE'] = dftot_2['EVENT_TYPE'].replace('Thunderstorm Winds/Flash Flood', 'Thunderstorm Wind')"
      ]
    },
    {
      "cell_type": "code",
      "execution_count": null,
      "id": "4fdf4f00",
      "metadata": {
        "id": "4fdf4f00"
      },
      "outputs": [],
      "source": [
        "dftot_2['EVENT_TYPE'] = dftot_2['EVENT_TYPE'].replace('Thunderstorm Winds Lightning', 'Thunderstorm Wind')"
      ]
    },
    {
      "cell_type": "code",
      "execution_count": null,
      "id": "a00c88da",
      "metadata": {
        "id": "a00c88da"
      },
      "outputs": [],
      "source": [
        "dftot_2['EVENT_TYPE'] = dftot_2['EVENT_TYPE'].replace('Thunderstorm Wind/ Trees', 'Thunderstorm Wind')"
      ]
    },
    {
      "cell_type": "code",
      "execution_count": null,
      "id": "3f8bec96",
      "metadata": {
        "id": "3f8bec96"
      },
      "outputs": [],
      "source": [
        "dftot_2['EVENT_TYPE'] = dftot_2['EVENT_TYPE'].replace('Thunderstorm Wind/ Tree', 'Thunderstorm Wind')"
      ]
    },
    {
      "cell_type": "code",
      "execution_count": null,
      "id": "a469d347",
      "metadata": {
        "id": "a469d347"
      },
      "outputs": [],
      "source": [
        "dftot_2['EVENT_TYPE'] = dftot_2['EVENT_TYPE'].replace('Thunderstorm Winds Funnel Clou', 'Thunderstorm Wind')"
      ]
    },
    {
      "cell_type": "code",
      "execution_count": null,
      "id": "18f35502",
      "metadata": {
        "id": "18f35502"
      },
      "outputs": [],
      "source": [
        "dftot_2['EVENT_TYPE'] = dftot_2['EVENT_TYPE'].replace('Thunderstorm Winds/Heavy Rain', 'Thunderstorm Wind')"
      ]
    },
    {
      "cell_type": "code",
      "execution_count": null,
      "id": "74dc9c45",
      "metadata": {
        "id": "74dc9c45"
      },
      "outputs": [],
      "source": [
        "dftot_2['EVENT_TYPE'] = dftot_2['EVENT_TYPE'].replace('Thunderstorm Winds Heavy Rain', 'Thunderstorm Wind')"
      ]
    },
    {
      "cell_type": "code",
      "execution_count": null,
      "id": "8c0af896",
      "metadata": {
        "id": "8c0af896"
      },
      "outputs": [],
      "source": [
        "dftot_2['EVENT_TYPE'] = dftot_2['EVENT_TYPE'].replace('Thunderstorm Winds/ Flood', 'Thunderstorm Wind')"
      ]
    },
    {
      "cell_type": "code",
      "execution_count": null,
      "id": "5bb7377b",
      "metadata": {
        "id": "5bb7377b"
      },
      "outputs": [],
      "source": [
        "dftot_2['EVENT_TYPE'] = dftot_2['EVENT_TYPE'].replace('Thunderstorm Wind', 'Thunderstorm_Wind')"
      ]
    },
    {
      "cell_type": "code",
      "execution_count": null,
      "id": "2bc410fe",
      "metadata": {
        "id": "2bc410fe"
      },
      "outputs": [],
      "source": [
        "dftot_2['EVENT_TYPE'] = dftot_2['EVENT_TYPE'].replace('Hail/Icy Roads', 'Hail')"
      ]
    },
    {
      "cell_type": "code",
      "execution_count": null,
      "id": "4cfc0207",
      "metadata": {
        "id": "4cfc0207"
      },
      "outputs": [],
      "source": [
        "dftot_2['EVENT_TYPE'] = dftot_2['EVENT_TYPE'].replace('Hail Flooding', 'Hail')"
      ]
    },
    {
      "cell_type": "code",
      "execution_count": null,
      "id": "ff67e7c3",
      "metadata": {
        "id": "ff67e7c3"
      },
      "outputs": [],
      "source": [
        "dftot_2['EVENT_TYPE'] = dftot_2['EVENT_TYPE'].replace('High Wind', 'High_Wind')"
      ]
    },
    {
      "cell_type": "code",
      "execution_count": null,
      "id": "416c8be0",
      "metadata": {
        "id": "416c8be0"
      },
      "outputs": [],
      "source": [
        "dftot_2['EVENT_TYPE'] = dftot_2['EVENT_TYPE'].replace('Flash Flood', 'Flash_Flood')"
      ]
    },
    {
      "cell_type": "code",
      "execution_count": null,
      "id": "0af157e8",
      "metadata": {
        "id": "0af157e8"
      },
      "outputs": [],
      "source": [
        "dftot_2['EVENT_TYPE'] = dftot_2['EVENT_TYPE'].replace('Winter Storm', 'Winter_Storm')"
      ]
    },
    {
      "cell_type": "code",
      "execution_count": null,
      "id": "12f01dc8",
      "metadata": {
        "id": "12f01dc8"
      },
      "outputs": [],
      "source": [
        "dftot_2['EVENT_TYPE'] = dftot_2['EVENT_TYPE'].replace('Cold/Wind Chill', 'Cold/Wind_Chill')"
      ]
    },
    {
      "cell_type": "code",
      "execution_count": null,
      "id": "24c26dfc",
      "metadata": {
        "id": "24c26dfc"
      },
      "outputs": [],
      "source": [
        "dftot_2['EVENT_TYPE'] = dftot_2['EVENT_TYPE'].replace('Heavy Snow', 'Heavy_Snow')"
      ]
    },
    {
      "cell_type": "code",
      "execution_count": null,
      "id": "b6e34b50",
      "metadata": {
        "id": "b6e34b50"
      },
      "outputs": [],
      "source": [
        "dftot_2['EVENT_TYPE'] = dftot_2['EVENT_TYPE'].replace('Ice Storm', 'Ice_Storm')"
      ]
    },
    {
      "cell_type": "code",
      "execution_count": null,
      "id": "97cfce96",
      "metadata": {
        "id": "97cfce96"
      },
      "outputs": [],
      "source": [
        "dftot_2['EVENT_TYPE'] = dftot_2['EVENT_TYPE'].replace('Dense Fog', 'Dense_Fog')"
      ]
    },
    {
      "cell_type": "code",
      "execution_count": null,
      "id": "dc6ed173",
      "metadata": {
        "id": "dc6ed173"
      },
      "outputs": [],
      "source": [
        "dftot_2['EVENT_TYPE'] = dftot_2['EVENT_TYPE'].replace('Winter Weather', 'Winter_Weather')"
      ]
    },
    {
      "cell_type": "code",
      "execution_count": null,
      "id": "10d20644",
      "metadata": {
        "id": "10d20644",
        "outputId": "80b9a031-4a77-4e38-d0cb-3355bed4f248"
      },
      "outputs": [
        {
          "data": {
            "text/plain": [
              "array(['Tornado', 'Hail', 'Thunderstorm_Wind', 'High_Wind', 'Flash_Flood',\n",
              "       'Winter_Storm', 'Blizzard', 'Cold/Wind_Chill', 'Heavy_Snow',\n",
              "       'Flood', 'Ice_Storm', 'Dense_Fog', 'Winter_Weather', 'Avalanche',\n",
              "       'Frost/Freeze', 'Lightning', 'Heat', 'Heavy Rain', 'Funnel Cloud',\n",
              "       'Coastal Flood', 'Strong Wind', 'Wildfire', 'Waterspout',\n",
              "       'High Surf', 'Dust Storm', 'Drought', 'Rip Current', 'Dust Devil',\n",
              "       'Tropical Storm', 'Debris Flow', 'Hurricane (Typhoon)',\n",
              "       'Freezing Fog', 'Storm Surge/Tide', 'Marine High Wind', 'Sleet',\n",
              "       'Lake-Effect Snow', 'Astronomical Low Tide', 'Volcanic Ash',\n",
              "       'Seiche', 'Extreme Cold/Wind Chill', 'Excessive Heat',\n",
              "       'Marine Thunderstorm Wind', 'Northern Lights', 'Marine Hail',\n",
              "       'Dense Smoke', 'Tsunami', 'Marine Strong Wind', 'Lakeshore Flood',\n",
              "       'Tropical Depression', 'Volcanic Ashfall', 'Sneakerwave',\n",
              "       'Marine Tropical Storm', 'Marine Dense Fog',\n",
              "       'Marine Hurricane/Typhoon', 'Marine Lightning',\n",
              "       'Marine Tropical Depression', 'Hurricane'], dtype=object)"
            ]
          },
          "execution_count": 249,
          "metadata": {},
          "output_type": "execute_result"
        }
      ],
      "source": [
        "dftot_2['EVENT_TYPE'].unique()\n"
      ]
    },
    {
      "cell_type": "code",
      "execution_count": null,
      "id": "d1757c67",
      "metadata": {
        "id": "d1757c67",
        "outputId": "d8905c12-ce98-4afc-f33c-3d7ad863367b"
      },
      "outputs": [
        {
          "data": {
            "text/plain": [
              "count               1794914\n",
              "unique                   57\n",
              "top       Thunderstorm_Wind\n",
              "freq                 501197\n",
              "Name: EVENT_TYPE, dtype: object"
            ]
          },
          "execution_count": 252,
          "metadata": {},
          "output_type": "execute_result"
        }
      ],
      "source": [
        "dftot_2['EVENT_TYPE'].describe().T"
      ]
    },
    {
      "cell_type": "code",
      "execution_count": null,
      "id": "c36876bb",
      "metadata": {
        "id": "c36876bb",
        "outputId": "6a484f10-a363-4561-ecfe-ff2fd02c5846"
      },
      "outputs": [
        {
          "ename": "NameError",
          "evalue": "name 'stop' is not defined",
          "output_type": "error",
          "traceback": [
            "\u001b[1;31m---------------------------------------------------------------------------\u001b[0m",
            "\u001b[1;31mNameError\u001b[0m                                 Traceback (most recent call last)",
            "\u001b[1;32m~\\AppData\\Local\\Temp\\ipykernel_2764\\3957423419.py\u001b[0m in \u001b[0;36m<module>\u001b[1;34m\u001b[0m\n\u001b[1;32m----> 1\u001b[1;33m \u001b[0mstop\u001b[0m\u001b[1;33m\u001b[0m\u001b[1;33m\u001b[0m\u001b[0m\n\u001b[0m",
            "\u001b[1;31mNameError\u001b[0m: name 'stop' is not defined"
          ]
        }
      ],
      "source": [
        "stop"
      ]
    },
    {
      "cell_type": "markdown",
      "id": "eb5a9f2c",
      "metadata": {
        "id": "eb5a9f2c"
      },
      "source": [
        "#### Flood_Event_Type"
      ]
    },
    {
      "cell_type": "code",
      "execution_count": null,
      "id": "5bf5b23b",
      "metadata": {
        "id": "5bf5b23b"
      },
      "outputs": [],
      "source": [
        "dftot_flood = dftot[dftot['EVENT_TYPE'].isin(['Flood'])]\n"
      ]
    },
    {
      "cell_type": "code",
      "execution_count": null,
      "id": "08fae996",
      "metadata": {
        "id": "08fae996"
      },
      "outputs": [],
      "source": [
        "dftot_flood.shape"
      ]
    },
    {
      "cell_type": "code",
      "execution_count": null,
      "id": "51663715",
      "metadata": {
        "id": "51663715"
      },
      "outputs": [],
      "source": [
        "dftot_flood.head(10)"
      ]
    },
    {
      "cell_type": "markdown",
      "id": "624465a9",
      "metadata": {
        "id": "624465a9"
      },
      "source": [
        "### Missing values"
      ]
    },
    {
      "cell_type": "code",
      "execution_count": null,
      "id": "baae5f31",
      "metadata": {
        "id": "baae5f31"
      },
      "outputs": [],
      "source": [
        "missing = dftot_flood.isnull().sum()/dftot_flood.shape[0]*100\n",
        "missing"
      ]
    },
    {
      "cell_type": "markdown",
      "id": "83d494de",
      "metadata": {
        "id": "83d494de"
      },
      "source": [
        "### Cleaning missing values on variables linked with flood"
      ]
    },
    {
      "cell_type": "code",
      "execution_count": null,
      "id": "f69de8ae",
      "metadata": {
        "id": "f69de8ae"
      },
      "outputs": [],
      "source": [
        "dftot_flood_cleaned=dftot_flood.dropna(subset = ['DAMAGE_PROPERTY','DAMAGE_CROPS','EPISODE_NARRATIVE','FLOOD_CAUSE',\n",
        "                           'EVENT_NARRATIVE','BEGIN_RANGE','BEGIN_LOCATION','BEGIN_LON'])"
      ]
    },
    {
      "cell_type": "code",
      "execution_count": null,
      "id": "31f98425",
      "metadata": {
        "id": "31f98425"
      },
      "outputs": [],
      "source": [
        "dftot_flood_cleaned.shape"
      ]
    },
    {
      "cell_type": "code",
      "execution_count": null,
      "id": "8a9e1012",
      "metadata": {
        "id": "8a9e1012"
      },
      "outputs": [],
      "source": [
        "dftot_flood_cleaned.isnull().sum()/dftot_flood_cleaned.shape[0]*100"
      ]
    },
    {
      "cell_type": "code",
      "execution_count": null,
      "id": "4de6f87b",
      "metadata": {
        "id": "4de6f87b"
      },
      "outputs": [],
      "source": [
        "dftot_flood_cleaned.head(10)"
      ]
    },
    {
      "cell_type": "code",
      "execution_count": null,
      "id": "15257c7c",
      "metadata": {
        "id": "15257c7c"
      },
      "outputs": [],
      "source": [
        "dftot_flood_cleaned = dftot_flood_cleaned.reset_index(drop=True)"
      ]
    },
    {
      "cell_type": "code",
      "execution_count": null,
      "id": "bed1495f",
      "metadata": {
        "id": "bed1495f"
      },
      "outputs": [],
      "source": [
        "dftot_flood_cleaned.info()"
      ]
    },
    {
      "cell_type": "markdown",
      "id": "9b2436e9",
      "metadata": {
        "id": "9b2436e9"
      },
      "source": [
        "### Flood dataset with selected variables"
      ]
    },
    {
      "cell_type": "code",
      "execution_count": null,
      "id": "e9f7df8e",
      "metadata": {
        "id": "e9f7df8e"
      },
      "outputs": [],
      "source": [
        "flood_dataset=dftot_flood_cleaned[['EVENT_ID','BEGIN_DATE_TIME','END_DATE_TIME','STATE','STATE_FIPS','EVENT_TYPE','CZ_TYPE','CZ_FIPS',\n",
        "                                   'CZ_NAME','WFO','CZ_TIMEZONE','INJURIES_DIRECT','INJURIES_INDIRECT','DEATHS_DIRECT',\n",
        "                                   'DEATHS_INDIRECT','DAMAGE_PROPERTY','DAMAGE_CROPS','SOURCE','FLOOD_CAUSE','BEGIN_RANGE',\n",
        "                                   'BEGIN_AZIMUTH','BEGIN_LOCATION','END_RANGE','END_AZIMUTH','END_LOCATION','BEGIN_LAT',\n",
        "                                   'BEGIN_LON','END_LAT','END_LON','EPISODE_NARRATIVE','EVENT_NARRATIVE']]"
      ]
    },
    {
      "cell_type": "markdown",
      "id": "3b5037e3",
      "metadata": {
        "id": "3b5037e3"
      },
      "source": [
        "### Monetary Conversion of Text Amounts"
      ]
    },
    {
      "cell_type": "code",
      "execution_count": null,
      "id": "5878a9ac",
      "metadata": {
        "id": "5878a9ac"
      },
      "outputs": [],
      "source": [
        "# Define a function to convert strings to numbers\n",
        "def convert_to_number(x):\n",
        "    # If x is empty, return 0\n",
        "    if x == \"\":\n",
        "        return 0\n",
        "    # If x ends with K, multiply by 1000\n",
        "    elif x[-1] == \"K\":\n",
        "        return float(x[:-1]) * 1000\n",
        "    # If x ends with M, multiply by 1000000\n",
        "    elif x[-1] == \"M\":\n",
        "        return float(x[:-1]) * 1000000\n",
        "    # If x ends with B, multiply by 1000000000\n",
        "    elif x[-1] == \"B\":\n",
        "        return float(x[:-1]) * 1000000000\n",
        "    # Otherwise, return x as a float\n",
        "    else:\n",
        "        return float(x)\n",
        "\n",
        "flood_df=flood_dataset.copy()\n",
        "# Apply the function to the columns \"DAMAGE_PROPERTY\" and \"DAMAGE_CROPS\"\n",
        "flood_df.loc[:,\"DAMAGE_PROPERTY\"] = flood_df.loc[:,\"DAMAGE_PROPERTY\"].apply(convert_to_number)\n",
        "flood_df.loc[:,\"DAMAGE_CROPS\"] = flood_df.loc[:,\"DAMAGE_CROPS\"].apply(convert_to_number)\n",
        "\n",
        "\n"
      ]
    },
    {
      "cell_type": "code",
      "execution_count": null,
      "id": "acb2d652",
      "metadata": {
        "id": "acb2d652"
      },
      "outputs": [],
      "source": [
        "flood_df.head(10)"
      ]
    },
    {
      "cell_type": "code",
      "execution_count": null,
      "id": "acfcd200",
      "metadata": {
        "id": "acfcd200"
      },
      "outputs": [],
      "source": [
        "flood_df.iloc[:,0:10].head(10)"
      ]
    },
    {
      "cell_type": "code",
      "execution_count": null,
      "id": "ba97f0db",
      "metadata": {
        "id": "ba97f0db"
      },
      "outputs": [],
      "source": [
        "flood_df.iloc[:,10:20].head(10)"
      ]
    },
    {
      "cell_type": "code",
      "execution_count": null,
      "id": "22c72c94",
      "metadata": {
        "id": "22c72c94"
      },
      "outputs": [],
      "source": [
        "flood_df.iloc[:,20:31].head(10)"
      ]
    },
    {
      "cell_type": "code",
      "execution_count": null,
      "id": "32d04a3e",
      "metadata": {
        "id": "32d04a3e"
      },
      "outputs": [],
      "source": [
        "flood_df.describe(include='all').T"
      ]
    },
    {
      "cell_type": "markdown",
      "id": "ebc8afdd",
      "metadata": {
        "id": "ebc8afdd"
      },
      "source": [
        "### Download dataset"
      ]
    },
    {
      "cell_type": "code",
      "execution_count": null,
      "id": "a30e9b97",
      "metadata": {
        "id": "a30e9b97"
      },
      "outputs": [],
      "source": [
        "flood_df.to_csv('flood_dataset.csv', index='False')"
      ]
    }
  ],
  "metadata": {
    "kernelspec": {
      "display_name": "Python 3 (ipykernel)",
      "language": "python",
      "name": "python3"
    },
    "language_info": {
      "codemirror_mode": {
        "name": "ipython",
        "version": 3
      },
      "file_extension": ".py",
      "mimetype": "text/x-python",
      "name": "python",
      "nbconvert_exporter": "python",
      "pygments_lexer": "ipython3",
      "version": "3.7.4"
    },
    "colab": {
      "provenance": [],
      "include_colab_link": true
    }
  },
  "nbformat": 4,
  "nbformat_minor": 5
}