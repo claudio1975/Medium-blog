{
 "cells": [
  {
   "cell_type": "markdown",
   "metadata": {
    "id": "-vO84T2WcYbH"
   },
   "source": [
    "# Health Insurance Cross Selling Prediction"
   ]
  },
  {
   "cell_type": "markdown",
   "metadata": {},
   "source": [
    "The goal is to predict whether health insurance owners' from past year would also be interested in purchasing vehicle insurance coverage provided by the Company.\n",
    "\n",
    "In the first step, the cross-selling prediction activity, have been used calibrated classifiers. Logistic Regression has been employed as a benchmark model and it has been compared with other machine learning models such as Naïve Bayes and Hist Gradient Boosting Machine. The ensemble model shows the best performance.\n",
    "\n",
    "In the second step, has been profiled customers interested in the purchasing coverage using K-means clustering method on numerical features and then applying the split to the all data set. In this way has been possible to understand relationships between numerical features as Annaul Premium and Age with categorical features as Vehicle Age, Gender and Vehicle Damage."
   ]
  },
  {
   "cell_type": "markdown",
   "metadata": {
    "id": "263f8c00",
    "papermill": {
     "duration": 0.018122,
     "end_time": "2022-12-03T18:54:53.307051",
     "exception": false,
     "start_time": "2022-12-03T18:54:53.288929",
     "status": "completed"
    },
    "tags": []
   },
   "source": [
    "# Prepare Workspace"
   ]
  },
  {
   "cell_type": "code",
   "execution_count": 1,
   "metadata": {
    "execution": {
     "iopub.execute_input": "2022-12-03T18:54:53.389458Z",
     "iopub.status.busy": "2022-12-03T18:54:53.388596Z",
     "iopub.status.idle": "2022-12-03T18:55:00.818583Z",
     "shell.execute_reply": "2022-12-03T18:55:00.817626Z"
    },
    "id": "3c4b3892",
    "papermill": {
     "duration": 7.448649,
     "end_time": "2022-12-03T18:55:00.821351",
     "exception": false,
     "start_time": "2022-12-03T18:54:53.372702",
     "status": "completed"
    },
    "tags": []
   },
   "outputs": [],
   "source": [
    "import sys\n",
    "import numpy as np\n",
    "import pandas as pd\n",
    "import matplotlib\n",
    "import matplotlib.pyplot as plt\n",
    "plt.style.use('ggplot')\n",
    "%matplotlib inline\n",
    "import seaborn as sns\n",
    "import scipy\n",
    "import scipy.stats as stats\n",
    "import sklearn\n",
    "from sklearn.model_selection import train_test_split\n",
    "from sklearn.preprocessing import MinMaxScaler\n",
    "from sklearn.preprocessing import StandardScaler\n",
    "from sklearn.metrics import roc_auc_score\n",
    "from sklearn.metrics import roc_curve, auc\n",
    "from sklearn.metrics import precision_score, recall_score, f1_score\n",
    "from sklearn.model_selection import StratifiedKFold\n",
    "from sklearn.model_selection import GridSearchCV\n",
    "from sklearn.model_selection import RandomizedSearchCV\n",
    "from sklearn.linear_model import LogisticRegression\n",
    "from sklearn.naive_bayes import GaussianNB\n",
    "from sklearn.ensemble import HistGradientBoostingClassifier\n",
    "from sklearn.cluster import KMeans\n",
    "from sklearn.metrics import silhouette_score\n",
    "from sklearn.calibration import CalibratedClassifierCV\n",
    "from sklearn.calibration import calibration_curve\n",
    "import pickle\n",
    "import time\n",
    "import shap\n",
    "\n",
    "\n",
    "import warnings\n",
    "warnings.simplefilter(action='ignore', category=UserWarning)\n",
    "warnings.simplefilter(action='ignore', category=FutureWarning)\n"
   ]
  },
  {
   "cell_type": "code",
   "execution_count": 2,
   "metadata": {},
   "outputs": [
    {
     "name": "stdout",
     "output_type": "stream",
     "text": [
      "3.8.5 (default, Sep  3 2020, 21:29:08) [MSC v.1916 64 bit (AMD64)]\n"
     ]
    }
   ],
   "source": [
    "print(sys.version)"
   ]
  },
  {
   "cell_type": "code",
   "execution_count": 3,
   "metadata": {},
   "outputs": [
    {
     "name": "stdout",
     "output_type": "stream",
     "text": [
      "1.23.3\n"
     ]
    }
   ],
   "source": [
    "print(np.__version__)"
   ]
  },
  {
   "cell_type": "code",
   "execution_count": 4,
   "metadata": {},
   "outputs": [
    {
     "name": "stdout",
     "output_type": "stream",
     "text": [
      "1.1.3\n"
     ]
    }
   ],
   "source": [
    "print(pd.__version__)"
   ]
  },
  {
   "cell_type": "code",
   "execution_count": 5,
   "metadata": {},
   "outputs": [
    {
     "name": "stdout",
     "output_type": "stream",
     "text": [
      "3.6.3\n"
     ]
    }
   ],
   "source": [
    "print(matplotlib.__version__)"
   ]
  },
  {
   "cell_type": "code",
   "execution_count": 6,
   "metadata": {},
   "outputs": [
    {
     "name": "stdout",
     "output_type": "stream",
     "text": [
      "0.12.2\n"
     ]
    }
   ],
   "source": [
    "print(sns.__version__)"
   ]
  },
  {
   "cell_type": "code",
   "execution_count": 7,
   "metadata": {},
   "outputs": [
    {
     "name": "stdout",
     "output_type": "stream",
     "text": [
      "1.9.3\n"
     ]
    }
   ],
   "source": [
    "print(scipy.__version__)"
   ]
  },
  {
   "cell_type": "code",
   "execution_count": 8,
   "metadata": {},
   "outputs": [
    {
     "name": "stdout",
     "output_type": "stream",
     "text": [
      "1.0.2\n"
     ]
    }
   ],
   "source": [
    "print(sklearn.__version__)"
   ]
  },
  {
   "cell_type": "code",
   "execution_count": 9,
   "metadata": {},
   "outputs": [
    {
     "name": "stdout",
     "output_type": "stream",
     "text": [
      "0.38.1\n"
     ]
    }
   ],
   "source": [
    "print(shap.__version__)"
   ]
  },
  {
   "cell_type": "code",
   "execution_count": 10,
   "metadata": {
    "execution": {
     "iopub.execute_input": "2022-12-03T18:55:00.854195Z",
     "iopub.status.busy": "2022-12-03T18:55:00.852590Z",
     "iopub.status.idle": "2022-12-03T18:55:01.492248Z",
     "shell.execute_reply": "2022-12-03T18:55:01.491047Z"
    },
    "id": "0b74c421",
    "papermill": {
     "duration": 0.658131,
     "end_time": "2022-12-03T18:55:01.494755",
     "exception": false,
     "start_time": "2022-12-03T18:55:00.836624",
     "status": "completed"
    },
    "tags": []
   },
   "outputs": [],
   "source": [
    "df = pd.read_csv('train.csv')"
   ]
  },
  {
   "cell_type": "markdown",
   "metadata": {
    "id": "7939a08a",
    "papermill": {
     "duration": 0.014946,
     "end_time": "2022-12-03T18:55:01.525002",
     "exception": false,
     "start_time": "2022-12-03T18:55:01.510056",
     "status": "completed"
    },
    "tags": []
   },
   "source": [
    "# Data Set Overview"
   ]
  },
  {
   "cell_type": "markdown",
   "metadata": {},
   "source": [
    "The data set is composed by 12 variables and 381.109 rows"
   ]
  },
  {
   "cell_type": "code",
   "execution_count": 11,
   "metadata": {
    "colab": {
     "base_uri": "https://localhost:8080/"
    },
    "execution": {
     "iopub.execute_input": "2022-12-03T18:55:01.557789Z",
     "iopub.status.busy": "2022-12-03T18:55:01.556996Z",
     "iopub.status.idle": "2022-12-03T18:55:01.563252Z",
     "shell.execute_reply": "2022-12-03T18:55:01.562183Z"
    },
    "id": "0f9537c7",
    "outputId": "205fa946-08f4-479f-fb8c-031a744e61be",
    "papermill": {
     "duration": 0.026403,
     "end_time": "2022-12-03T18:55:01.566355",
     "exception": false,
     "start_time": "2022-12-03T18:55:01.539952",
     "status": "completed"
    },
    "tags": []
   },
   "outputs": [
    {
     "name": "stdout",
     "output_type": "stream",
     "text": [
      "(381109, 12)\n"
     ]
    }
   ],
   "source": [
    "print(df.shape)"
   ]
  },
  {
   "cell_type": "code",
   "execution_count": 12,
   "metadata": {
    "colab": {
     "base_uri": "https://localhost:8080/"
    },
    "execution": {
     "iopub.execute_input": "2022-12-03T18:55:01.601047Z",
     "iopub.status.busy": "2022-12-03T18:55:01.600092Z",
     "iopub.status.idle": "2022-12-03T18:55:01.685300Z",
     "shell.execute_reply": "2022-12-03T18:55:01.683873Z"
    },
    "id": "b6bf9a62",
    "outputId": "adc4fc51-1f71-494c-f1b4-6a483aeac1b8",
    "papermill": {
     "duration": 0.104232,
     "end_time": "2022-12-03T18:55:01.687566",
     "exception": false,
     "start_time": "2022-12-03T18:55:01.583334",
     "status": "completed"
    },
    "tags": []
   },
   "outputs": [
    {
     "name": "stdout",
     "output_type": "stream",
     "text": [
      "<class 'pandas.core.frame.DataFrame'>\n",
      "RangeIndex: 381109 entries, 0 to 381108\n",
      "Data columns (total 12 columns):\n",
      " #   Column                Non-Null Count   Dtype  \n",
      "---  ------                --------------   -----  \n",
      " 0   id                    381109 non-null  int64  \n",
      " 1   Gender                381109 non-null  object \n",
      " 2   Age                   381109 non-null  int64  \n",
      " 3   Driving_License       381109 non-null  int64  \n",
      " 4   Region_Code           381109 non-null  float64\n",
      " 5   Previously_Insured    381109 non-null  int64  \n",
      " 6   Vehicle_Age           381109 non-null  object \n",
      " 7   Vehicle_Damage        381109 non-null  object \n",
      " 8   Annual_Premium        381109 non-null  float64\n",
      " 9   Policy_Sales_Channel  381109 non-null  float64\n",
      " 10  Vintage               381109 non-null  int64  \n",
      " 11  Response              381109 non-null  int64  \n",
      "dtypes: float64(3), int64(6), object(3)\n",
      "memory usage: 34.9+ MB\n",
      "None\n"
     ]
    }
   ],
   "source": [
    "print(df.info())"
   ]
  },
  {
   "cell_type": "code",
   "execution_count": 13,
   "metadata": {
    "colab": {
     "base_uri": "https://localhost:8080/"
    },
    "execution": {
     "iopub.execute_input": "2022-12-03T18:55:01.719768Z",
     "iopub.status.busy": "2022-12-03T18:55:01.719505Z",
     "iopub.status.idle": "2022-12-03T18:55:01.724818Z",
     "shell.execute_reply": "2022-12-03T18:55:01.723518Z"
    },
    "id": "817e2942",
    "outputId": "2a839243-c7a9-4e85-c659-ac9918a91c47",
    "papermill": {
     "duration": 0.023678,
     "end_time": "2022-12-03T18:55:01.727341",
     "exception": false,
     "start_time": "2022-12-03T18:55:01.703663",
     "status": "completed"
    },
    "tags": []
   },
   "outputs": [
    {
     "name": "stdout",
     "output_type": "stream",
     "text": [
      "Index(['id', 'Gender', 'Age', 'Driving_License', 'Region_Code',\n",
      "       'Previously_Insured', 'Vehicle_Age', 'Vehicle_Damage', 'Annual_Premium',\n",
      "       'Policy_Sales_Channel', 'Vintage', 'Response'],\n",
      "      dtype='object')\n"
     ]
    }
   ],
   "source": [
    "print(df.columns)"
   ]
  },
  {
   "cell_type": "code",
   "execution_count": 14,
   "metadata": {
    "colab": {
     "base_uri": "https://localhost:8080/"
    },
    "execution": {
     "iopub.execute_input": "2022-12-03T18:55:01.760795Z",
     "iopub.status.busy": "2022-12-03T18:55:01.760007Z",
     "iopub.status.idle": "2022-12-03T18:55:01.773008Z",
     "shell.execute_reply": "2022-12-03T18:55:01.771080Z"
    },
    "id": "d5ba061d",
    "outputId": "9045da04-b21c-4c55-f072-b51d22458aef",
    "papermill": {
     "duration": 0.031549,
     "end_time": "2022-12-03T18:55:01.775070",
     "exception": false,
     "start_time": "2022-12-03T18:55:01.743521",
     "status": "completed"
    },
    "tags": []
   },
   "outputs": [
    {
     "data": {
      "text/html": [
       "<div>\n",
       "<style scoped>\n",
       "    .dataframe tbody tr th:only-of-type {\n",
       "        vertical-align: middle;\n",
       "    }\n",
       "\n",
       "    .dataframe tbody tr th {\n",
       "        vertical-align: top;\n",
       "    }\n",
       "\n",
       "    .dataframe thead th {\n",
       "        text-align: right;\n",
       "    }\n",
       "</style>\n",
       "<table border=\"1\" class=\"dataframe\">\n",
       "  <thead>\n",
       "    <tr style=\"text-align: right;\">\n",
       "      <th></th>\n",
       "      <th>id</th>\n",
       "      <th>Gender</th>\n",
       "      <th>Age</th>\n",
       "      <th>Driving_License</th>\n",
       "      <th>Region_Code</th>\n",
       "      <th>Previously_Insured</th>\n",
       "      <th>Vehicle_Age</th>\n",
       "      <th>Vehicle_Damage</th>\n",
       "      <th>Annual_Premium</th>\n",
       "      <th>Policy_Sales_Channel</th>\n",
       "      <th>Vintage</th>\n",
       "      <th>Response</th>\n",
       "    </tr>\n",
       "  </thead>\n",
       "  <tbody>\n",
       "    <tr>\n",
       "      <th>0</th>\n",
       "      <td>1</td>\n",
       "      <td>Male</td>\n",
       "      <td>44</td>\n",
       "      <td>1</td>\n",
       "      <td>28.0</td>\n",
       "      <td>0</td>\n",
       "      <td>&gt; 2 Years</td>\n",
       "      <td>Yes</td>\n",
       "      <td>40454.0</td>\n",
       "      <td>26.0</td>\n",
       "      <td>217</td>\n",
       "      <td>1</td>\n",
       "    </tr>\n",
       "    <tr>\n",
       "      <th>1</th>\n",
       "      <td>2</td>\n",
       "      <td>Male</td>\n",
       "      <td>76</td>\n",
       "      <td>1</td>\n",
       "      <td>3.0</td>\n",
       "      <td>0</td>\n",
       "      <td>1-2 Year</td>\n",
       "      <td>No</td>\n",
       "      <td>33536.0</td>\n",
       "      <td>26.0</td>\n",
       "      <td>183</td>\n",
       "      <td>0</td>\n",
       "    </tr>\n",
       "    <tr>\n",
       "      <th>2</th>\n",
       "      <td>3</td>\n",
       "      <td>Male</td>\n",
       "      <td>47</td>\n",
       "      <td>1</td>\n",
       "      <td>28.0</td>\n",
       "      <td>0</td>\n",
       "      <td>&gt; 2 Years</td>\n",
       "      <td>Yes</td>\n",
       "      <td>38294.0</td>\n",
       "      <td>26.0</td>\n",
       "      <td>27</td>\n",
       "      <td>1</td>\n",
       "    </tr>\n",
       "    <tr>\n",
       "      <th>3</th>\n",
       "      <td>4</td>\n",
       "      <td>Male</td>\n",
       "      <td>21</td>\n",
       "      <td>1</td>\n",
       "      <td>11.0</td>\n",
       "      <td>1</td>\n",
       "      <td>&lt; 1 Year</td>\n",
       "      <td>No</td>\n",
       "      <td>28619.0</td>\n",
       "      <td>152.0</td>\n",
       "      <td>203</td>\n",
       "      <td>0</td>\n",
       "    </tr>\n",
       "    <tr>\n",
       "      <th>4</th>\n",
       "      <td>5</td>\n",
       "      <td>Female</td>\n",
       "      <td>29</td>\n",
       "      <td>1</td>\n",
       "      <td>41.0</td>\n",
       "      <td>1</td>\n",
       "      <td>&lt; 1 Year</td>\n",
       "      <td>No</td>\n",
       "      <td>27496.0</td>\n",
       "      <td>152.0</td>\n",
       "      <td>39</td>\n",
       "      <td>0</td>\n",
       "    </tr>\n",
       "  </tbody>\n",
       "</table>\n",
       "</div>"
      ],
      "text/plain": [
       "   id  Gender  Age  Driving_License  Region_Code  Previously_Insured  \\\n",
       "0   1    Male   44                1         28.0                   0   \n",
       "1   2    Male   76                1          3.0                   0   \n",
       "2   3    Male   47                1         28.0                   0   \n",
       "3   4    Male   21                1         11.0                   1   \n",
       "4   5  Female   29                1         41.0                   1   \n",
       "\n",
       "  Vehicle_Age Vehicle_Damage  Annual_Premium  Policy_Sales_Channel  Vintage  \\\n",
       "0   > 2 Years            Yes         40454.0                  26.0      217   \n",
       "1    1-2 Year             No         33536.0                  26.0      183   \n",
       "2   > 2 Years            Yes         38294.0                  26.0       27   \n",
       "3    < 1 Year             No         28619.0                 152.0      203   \n",
       "4    < 1 Year             No         27496.0                 152.0       39   \n",
       "\n",
       "   Response  \n",
       "0         1  \n",
       "1         0  \n",
       "2         1  \n",
       "3         0  \n",
       "4         0  "
      ]
     },
     "execution_count": 14,
     "metadata": {},
     "output_type": "execute_result"
    }
   ],
   "source": [
    "df.head()"
   ]
  },
  {
   "cell_type": "markdown",
   "metadata": {
    "id": "f046e39e",
    "papermill": {
     "duration": 0.015295,
     "end_time": "2022-12-03T18:55:01.805778",
     "exception": false,
     "start_time": "2022-12-03T18:55:01.790483",
     "status": "completed"
    },
    "tags": []
   },
   "source": [
    "# Data Cleaning"
   ]
  },
  {
   "cell_type": "code",
   "execution_count": 15,
   "metadata": {
    "colab": {
     "base_uri": "https://localhost:8080/"
    },
    "execution": {
     "iopub.execute_input": "2022-12-03T18:55:01.837810Z",
     "iopub.status.busy": "2022-12-03T18:55:01.837016Z",
     "iopub.status.idle": "2022-12-03T18:55:01.978205Z",
     "shell.execute_reply": "2022-12-03T18:55:01.976614Z"
    },
    "id": "9b707729",
    "outputId": "6723211b-9bf5-4add-ac4a-21781e37ac1e",
    "papermill": {
     "duration": 0.160615,
     "end_time": "2022-12-03T18:55:01.981326",
     "exception": false,
     "start_time": "2022-12-03T18:55:01.820711",
     "status": "completed"
    },
    "tags": []
   },
   "outputs": [
    {
     "name": "stdout",
     "output_type": "stream",
     "text": [
      "(381109, 12)\n"
     ]
    }
   ],
   "source": [
    "# Delete duplicate columns\n",
    "# get number of unique values for each column\n",
    "counts = df.nunique()\n",
    "# record columns to delete\n",
    "to_del = [i for i,v in enumerate(counts) if v == 1]\n",
    "# drop useless columns\n",
    "df.drop(to_del, axis=1, inplace=True)\n",
    "print(df.shape)"
   ]
  },
  {
   "cell_type": "code",
   "execution_count": 16,
   "metadata": {
    "colab": {
     "base_uri": "https://localhost:8080/"
    },
    "execution": {
     "iopub.execute_input": "2022-12-03T18:55:02.013404Z",
     "iopub.status.busy": "2022-12-03T18:55:02.013060Z",
     "iopub.status.idle": "2022-12-03T18:55:02.249466Z",
     "shell.execute_reply": "2022-12-03T18:55:02.247692Z"
    },
    "id": "10967f32",
    "outputId": "dca6e1dc-19e5-4901-88f6-39278a41cc49",
    "papermill": {
     "duration": 0.255872,
     "end_time": "2022-12-03T18:55:02.252866",
     "exception": false,
     "start_time": "2022-12-03T18:55:01.996994",
     "status": "completed"
    },
    "tags": []
   },
   "outputs": [
    {
     "name": "stdout",
     "output_type": "stream",
     "text": [
      "(381109, 12)\n"
     ]
    }
   ],
   "source": [
    "# Delete duplicate rows\n",
    "df.drop_duplicates(inplace=True)\n",
    "print(df.shape)"
   ]
  },
  {
   "cell_type": "code",
   "execution_count": 17,
   "metadata": {
    "colab": {
     "base_uri": "https://localhost:8080/"
    },
    "execution": {
     "iopub.execute_input": "2022-12-03T18:55:02.285396Z",
     "iopub.status.busy": "2022-12-03T18:55:02.285085Z",
     "iopub.status.idle": "2022-12-03T18:55:02.338058Z",
     "shell.execute_reply": "2022-12-03T18:55:02.336953Z"
    },
    "id": "2ceab40e",
    "outputId": "74799a47-73fe-4cc7-f028-b6908be580b1",
    "papermill": {
     "duration": 0.071932,
     "end_time": "2022-12-03T18:55:02.340691",
     "exception": false,
     "start_time": "2022-12-03T18:55:02.268759",
     "status": "completed"
    },
    "tags": []
   },
   "outputs": [
    {
     "data": {
      "text/plain": [
       "id                      0.0\n",
       "Gender                  0.0\n",
       "Age                     0.0\n",
       "Driving_License         0.0\n",
       "Region_Code             0.0\n",
       "Previously_Insured      0.0\n",
       "Vehicle_Age             0.0\n",
       "Vehicle_Damage          0.0\n",
       "Annual_Premium          0.0\n",
       "Policy_Sales_Channel    0.0\n",
       "Vintage                 0.0\n",
       "Response                0.0\n",
       "dtype: float64"
      ]
     },
     "execution_count": 17,
     "metadata": {},
     "output_type": "execute_result"
    }
   ],
   "source": [
    "# Check missing values both to numeric features and categorical features \n",
    "missing = df.isnull().sum()/df.shape[0]*100\n",
    "missing"
   ]
  },
  {
   "cell_type": "code",
   "execution_count": 18,
   "metadata": {
    "execution": {
     "iopub.execute_input": "2022-12-03T18:55:02.373069Z",
     "iopub.status.busy": "2022-12-03T18:55:02.372780Z",
     "iopub.status.idle": "2022-12-03T18:55:02.435121Z",
     "shell.execute_reply": "2022-12-03T18:55:02.434130Z"
    },
    "id": "e65a0bf0",
    "papermill": {
     "duration": 0.081088,
     "end_time": "2022-12-03T18:55:02.437622",
     "exception": false,
     "start_time": "2022-12-03T18:55:02.356534",
     "status": "completed"
    },
    "tags": []
   },
   "outputs": [],
   "source": [
    "# Formatting features\n",
    "df['Driving_License'] = df['Driving_License'].astype('object')\n",
    "df['Region_Code'] = df['Region_Code'].astype('object')\n",
    "df['Previously_Insured'] = df['Previously_Insured'].astype('object')\n",
    "df['Policy_Sales_Channel'] = df['Policy_Sales_Channel'].astype('object')\n",
    "df['Response'] = df['Response'].astype('object')"
   ]
  },
  {
   "cell_type": "markdown",
   "metadata": {
    "id": "eae134b3",
    "papermill": {
     "duration": 0.015183,
     "end_time": "2022-12-03T18:55:02.468561",
     "exception": false,
     "start_time": "2022-12-03T18:55:02.453378",
     "status": "completed"
    },
    "tags": []
   },
   "source": [
    "# Summary Statistics"
   ]
  },
  {
   "cell_type": "code",
   "execution_count": 19,
   "metadata": {
    "colab": {
     "base_uri": "https://localhost:8080/",
     "height": 300
    },
    "execution": {
     "iopub.execute_input": "2022-12-03T18:55:02.501733Z",
     "iopub.status.busy": "2022-12-03T18:55:02.499944Z",
     "iopub.status.idle": "2022-12-03T18:55:02.845826Z",
     "shell.execute_reply": "2022-12-03T18:55:02.844817Z"
    },
    "id": "36b05a74",
    "outputId": "9ffd6baf-f4b8-458c-9ac8-54d9c72bc60f",
    "papermill": {
     "duration": 0.364084,
     "end_time": "2022-12-03T18:55:02.847971",
     "exception": false,
     "start_time": "2022-12-03T18:55:02.483887",
     "status": "completed"
    },
    "tags": []
   },
   "outputs": [
    {
     "data": {
      "text/html": [
       "<div>\n",
       "<style scoped>\n",
       "    .dataframe tbody tr th:only-of-type {\n",
       "        vertical-align: middle;\n",
       "    }\n",
       "\n",
       "    .dataframe tbody tr th {\n",
       "        vertical-align: top;\n",
       "    }\n",
       "\n",
       "    .dataframe thead th {\n",
       "        text-align: right;\n",
       "    }\n",
       "</style>\n",
       "<table border=\"1\" class=\"dataframe\">\n",
       "  <thead>\n",
       "    <tr style=\"text-align: right;\">\n",
       "      <th></th>\n",
       "      <th>count</th>\n",
       "      <th>unique</th>\n",
       "      <th>top</th>\n",
       "      <th>freq</th>\n",
       "    </tr>\n",
       "  </thead>\n",
       "  <tbody>\n",
       "    <tr>\n",
       "      <th>Gender</th>\n",
       "      <td>381109</td>\n",
       "      <td>2</td>\n",
       "      <td>Male</td>\n",
       "      <td>206089</td>\n",
       "    </tr>\n",
       "    <tr>\n",
       "      <th>Driving_License</th>\n",
       "      <td>381109</td>\n",
       "      <td>2</td>\n",
       "      <td>1</td>\n",
       "      <td>380297</td>\n",
       "    </tr>\n",
       "    <tr>\n",
       "      <th>Region_Code</th>\n",
       "      <td>381109</td>\n",
       "      <td>53</td>\n",
       "      <td>28</td>\n",
       "      <td>106415</td>\n",
       "    </tr>\n",
       "    <tr>\n",
       "      <th>Previously_Insured</th>\n",
       "      <td>381109</td>\n",
       "      <td>2</td>\n",
       "      <td>0</td>\n",
       "      <td>206481</td>\n",
       "    </tr>\n",
       "    <tr>\n",
       "      <th>Vehicle_Age</th>\n",
       "      <td>381109</td>\n",
       "      <td>3</td>\n",
       "      <td>1-2 Year</td>\n",
       "      <td>200316</td>\n",
       "    </tr>\n",
       "    <tr>\n",
       "      <th>Vehicle_Damage</th>\n",
       "      <td>381109</td>\n",
       "      <td>2</td>\n",
       "      <td>Yes</td>\n",
       "      <td>192413</td>\n",
       "    </tr>\n",
       "    <tr>\n",
       "      <th>Policy_Sales_Channel</th>\n",
       "      <td>381109</td>\n",
       "      <td>155</td>\n",
       "      <td>152</td>\n",
       "      <td>134784</td>\n",
       "    </tr>\n",
       "    <tr>\n",
       "      <th>Response</th>\n",
       "      <td>381109</td>\n",
       "      <td>2</td>\n",
       "      <td>0</td>\n",
       "      <td>334399</td>\n",
       "    </tr>\n",
       "  </tbody>\n",
       "</table>\n",
       "</div>"
      ],
      "text/plain": [
       "                       count unique       top    freq\n",
       "Gender                381109      2      Male  206089\n",
       "Driving_License       381109      2         1  380297\n",
       "Region_Code           381109     53        28  106415\n",
       "Previously_Insured    381109      2         0  206481\n",
       "Vehicle_Age           381109      3  1-2 Year  200316\n",
       "Vehicle_Damage        381109      2       Yes  192413\n",
       "Policy_Sales_Channel  381109    155       152  134784\n",
       "Response              381109      2         0  334399"
      ]
     },
     "execution_count": 19,
     "metadata": {},
     "output_type": "execute_result"
    }
   ],
   "source": [
    "# Summarize attribute distributions for data type of variables\n",
    "obj_cols = [var for var in df.columns if df[var].dtype=='object']\n",
    "df[obj_cols].describe().T"
   ]
  },
  {
   "cell_type": "code",
   "execution_count": 20,
   "metadata": {
    "colab": {
     "base_uri": "https://localhost:8080/",
     "height": 175
    },
    "execution": {
     "iopub.execute_input": "2022-12-03T18:55:02.881711Z",
     "iopub.status.busy": "2022-12-03T18:55:02.880807Z",
     "iopub.status.idle": "2022-12-03T18:55:02.950847Z",
     "shell.execute_reply": "2022-12-03T18:55:02.949832Z"
    },
    "id": "6a411a85",
    "outputId": "2ddb95f3-e021-40ab-cbe4-9392c508833c",
    "papermill": {
     "duration": 0.088898,
     "end_time": "2022-12-03T18:55:02.953290",
     "exception": false,
     "start_time": "2022-12-03T18:55:02.864392",
     "status": "completed"
    },
    "tags": []
   },
   "outputs": [
    {
     "data": {
      "text/html": [
       "<div>\n",
       "<style scoped>\n",
       "    .dataframe tbody tr th:only-of-type {\n",
       "        vertical-align: middle;\n",
       "    }\n",
       "\n",
       "    .dataframe tbody tr th {\n",
       "        vertical-align: top;\n",
       "    }\n",
       "\n",
       "    .dataframe thead th {\n",
       "        text-align: right;\n",
       "    }\n",
       "</style>\n",
       "<table border=\"1\" class=\"dataframe\">\n",
       "  <thead>\n",
       "    <tr style=\"text-align: right;\">\n",
       "      <th></th>\n",
       "      <th>count</th>\n",
       "      <th>mean</th>\n",
       "      <th>std</th>\n",
       "      <th>min</th>\n",
       "      <th>25%</th>\n",
       "      <th>50%</th>\n",
       "      <th>75%</th>\n",
       "      <th>max</th>\n",
       "    </tr>\n",
       "  </thead>\n",
       "  <tbody>\n",
       "    <tr>\n",
       "      <th>id</th>\n",
       "      <td>381109.0</td>\n",
       "      <td>190555.000000</td>\n",
       "      <td>110016.836208</td>\n",
       "      <td>1.0</td>\n",
       "      <td>95278.0</td>\n",
       "      <td>190555.0</td>\n",
       "      <td>285832.0</td>\n",
       "      <td>381109.0</td>\n",
       "    </tr>\n",
       "    <tr>\n",
       "      <th>Age</th>\n",
       "      <td>381109.0</td>\n",
       "      <td>38.822584</td>\n",
       "      <td>15.511611</td>\n",
       "      <td>20.0</td>\n",
       "      <td>25.0</td>\n",
       "      <td>36.0</td>\n",
       "      <td>49.0</td>\n",
       "      <td>85.0</td>\n",
       "    </tr>\n",
       "    <tr>\n",
       "      <th>Annual_Premium</th>\n",
       "      <td>381109.0</td>\n",
       "      <td>30564.389581</td>\n",
       "      <td>17213.155057</td>\n",
       "      <td>2630.0</td>\n",
       "      <td>24405.0</td>\n",
       "      <td>31669.0</td>\n",
       "      <td>39400.0</td>\n",
       "      <td>540165.0</td>\n",
       "    </tr>\n",
       "    <tr>\n",
       "      <th>Vintage</th>\n",
       "      <td>381109.0</td>\n",
       "      <td>154.347397</td>\n",
       "      <td>83.671304</td>\n",
       "      <td>10.0</td>\n",
       "      <td>82.0</td>\n",
       "      <td>154.0</td>\n",
       "      <td>227.0</td>\n",
       "      <td>299.0</td>\n",
       "    </tr>\n",
       "  </tbody>\n",
       "</table>\n",
       "</div>"
      ],
      "text/plain": [
       "                   count           mean            std     min      25%  \\\n",
       "id              381109.0  190555.000000  110016.836208     1.0  95278.0   \n",
       "Age             381109.0      38.822584      15.511611    20.0     25.0   \n",
       "Annual_Premium  381109.0   30564.389581   17213.155057  2630.0  24405.0   \n",
       "Vintage         381109.0     154.347397      83.671304    10.0     82.0   \n",
       "\n",
       "                     50%       75%       max  \n",
       "id              190555.0  285832.0  381109.0  \n",
       "Age                 36.0      49.0      85.0  \n",
       "Annual_Premium   31669.0   39400.0  540165.0  \n",
       "Vintage            154.0     227.0     299.0  "
      ]
     },
     "execution_count": 20,
     "metadata": {},
     "output_type": "execute_result"
    }
   ],
   "source": [
    "# Summarize attribute distributions for data type of variables\n",
    "num_cols = [var for var in df.columns if df[var].dtype!='object']\n",
    "df[num_cols].describe().T"
   ]
  },
  {
   "cell_type": "code",
   "execution_count": 21,
   "metadata": {
    "execution": {
     "iopub.execute_input": "2022-12-03T18:55:02.988777Z",
     "iopub.status.busy": "2022-12-03T18:55:02.988482Z",
     "iopub.status.idle": "2022-12-03T18:55:03.038034Z",
     "shell.execute_reply": "2022-12-03T18:55:03.036976Z"
    },
    "id": "95e54eb2",
    "papermill": {
     "duration": 0.070305,
     "end_time": "2022-12-03T18:55:03.040463",
     "exception": false,
     "start_time": "2022-12-03T18:55:02.970158",
     "status": "completed"
    },
    "tags": []
   },
   "outputs": [],
   "source": [
    "# Split data set between target variable and features\n",
    "X_full = df.copy()\n",
    "y = X_full.Response\n",
    "X_full.drop(['Response'], axis=1, inplace=True)"
   ]
  },
  {
   "cell_type": "markdown",
   "metadata": {
    "id": "435dec21",
    "papermill": {
     "duration": 0.01642,
     "end_time": "2022-12-03T18:55:03.073815",
     "exception": false,
     "start_time": "2022-12-03T18:55:03.057395",
     "status": "completed"
    },
    "tags": []
   },
   "source": [
    "# Target Variable Analysis"
   ]
  },
  {
   "cell_type": "markdown",
   "metadata": {},
   "source": [
    "The outcome is a binary variable with 1 value for policyholders interested in purchasing the vehicle insurance, \n",
    "instead with 0 value for policyholders not interested in it.\n",
    "\n",
    "Target variable shows imbalanced classes, where only 12% of policyholders would buy the vehicle coverage."
   ]
  },
  {
   "cell_type": "code",
   "execution_count": 22,
   "metadata": {
    "colab": {
     "base_uri": "https://localhost:8080/",
     "height": 143
    },
    "execution": {
     "iopub.execute_input": "2022-12-03T18:55:03.106862Z",
     "iopub.status.busy": "2022-12-03T18:55:03.106554Z",
     "iopub.status.idle": "2022-12-03T18:55:03.351816Z",
     "shell.execute_reply": "2022-12-03T18:55:03.350627Z"
    },
    "id": "a1ac5b9c",
    "outputId": "c2e4dcd7-f7ce-4fd4-c2d7-58cbdef4e529",
    "papermill": {
     "duration": 0.264451,
     "end_time": "2022-12-03T18:55:03.354191",
     "exception": false,
     "start_time": "2022-12-03T18:55:03.089740",
     "status": "completed"
    },
    "tags": []
   },
   "outputs": [
    {
     "data": {
      "text/html": [
       "<div>\n",
       "<style scoped>\n",
       "    .dataframe tbody tr th:only-of-type {\n",
       "        vertical-align: middle;\n",
       "    }\n",
       "\n",
       "    .dataframe tbody tr th {\n",
       "        vertical-align: top;\n",
       "    }\n",
       "\n",
       "    .dataframe thead th {\n",
       "        text-align: right;\n",
       "    }\n",
       "</style>\n",
       "<table border=\"1\" class=\"dataframe\">\n",
       "  <thead>\n",
       "    <tr style=\"text-align: right;\">\n",
       "      <th>col_0</th>\n",
       "      <th>count</th>\n",
       "      <th>frequency</th>\n",
       "    </tr>\n",
       "    <tr>\n",
       "      <th>Response</th>\n",
       "      <th></th>\n",
       "      <th></th>\n",
       "    </tr>\n",
       "  </thead>\n",
       "  <tbody>\n",
       "    <tr>\n",
       "      <th>0</th>\n",
       "      <td>334399</td>\n",
       "      <td>0.877437</td>\n",
       "    </tr>\n",
       "    <tr>\n",
       "      <th>1</th>\n",
       "      <td>46710</td>\n",
       "      <td>0.122563</td>\n",
       "    </tr>\n",
       "  </tbody>\n",
       "</table>\n",
       "</div>"
      ],
      "text/plain": [
       "col_0      count  frequency\n",
       "Response                   \n",
       "0         334399   0.877437\n",
       "1          46710   0.122563"
      ]
     },
     "execution_count": 22,
     "metadata": {},
     "output_type": "execute_result"
    }
   ],
   "source": [
    "# Summarize the class distribution \n",
    "count = pd.crosstab(index = y, columns=\"count\")\n",
    "percentage = pd.crosstab(index = y, columns=\"frequency\")/pd.crosstab(index = y, columns=\"frequency\").sum()\n",
    "pd.concat([count, percentage], axis=1)"
   ]
  },
  {
   "cell_type": "code",
   "execution_count": 23,
   "metadata": {
    "execution": {
     "iopub.execute_input": "2022-12-03T18:55:03.390563Z",
     "iopub.status.busy": "2022-12-03T18:55:03.389670Z",
     "iopub.status.idle": "2022-12-03T18:55:03.396780Z",
     "shell.execute_reply": "2022-12-03T18:55:03.395885Z"
    },
    "id": "64368460",
    "papermill": {
     "duration": 0.027741,
     "end_time": "2022-12-03T18:55:03.399018",
     "exception": false,
     "start_time": "2022-12-03T18:55:03.371277",
     "status": "completed"
    },
    "tags": []
   },
   "outputs": [],
   "source": [
    "def catcharts(data, col1, col2):\n",
    "    plt.rcParams['figure.figsize']=(15,5)\n",
    "    \n",
    "    plt.subplot(1,2,1)\n",
    "    data.groupby(col1).count()[col2].plot(kind='pie',autopct='%.0f%%').set_title(\"Pie {} Variable Distribution\".format(col1))\n",
    "    \n",
    "    plt.subplot(1,2,2)\n",
    "    sns.countplot(x=data[col1], data=data).set_title(\"Barplot {} Variable Distribution\".format(col1))\n",
    "    \n",
    "    plt.show()"
   ]
  },
  {
   "cell_type": "code",
   "execution_count": 24,
   "metadata": {
    "colab": {
     "base_uri": "https://localhost:8080/",
     "height": 492
    },
    "execution": {
     "iopub.execute_input": "2022-12-03T18:55:03.432389Z",
     "iopub.status.busy": "2022-12-03T18:55:03.431511Z",
     "iopub.status.idle": "2022-12-03T18:55:04.534234Z",
     "shell.execute_reply": "2022-12-03T18:55:04.533347Z"
    },
    "id": "d22673f0",
    "outputId": "b8c95721-3639-4c88-e41d-2cda322469e9",
    "papermill": {
     "duration": 1.121398,
     "end_time": "2022-12-03T18:55:04.536391",
     "exception": false,
     "start_time": "2022-12-03T18:55:03.414993",
     "status": "completed"
    },
    "tags": []
   },
   "outputs": [
    {
     "data": {
      "image/png": "[encoded data removed]",
      "text/plain": [
       "<Figure size 1080x360 with 2 Axes>"
      ]
     },
     "metadata": {
      "needs_background": "light"
     },
     "output_type": "display_data"
    }
   ],
   "source": [
    "col1 = 'Response'\n",
    "col2 = 'id'\n",
    "catcharts(df, col1, col2)"
   ]
  },
  {
   "cell_type": "markdown",
   "metadata": {
    "id": "8e502f8c",
    "papermill": {
     "duration": 0.016075,
     "end_time": "2022-12-03T18:55:04.568901",
     "exception": false,
     "start_time": "2022-12-03T18:55:04.552826",
     "status": "completed"
    },
    "tags": []
   },
   "source": [
    "# Numerical Features Analysis"
   ]
  },
  {
   "cell_type": "markdown",
   "metadata": {},
   "source": [
    "After data cleaning activity, there are three numerical variables in the data set: age, annual premium and vintage aka number of days policyholder is in the Company portfolio.\n",
    "\n",
    "Age doesn't follow a Gaussian distribution and portfolio is representd by young people.\n",
    "\n",
    "Vintage follows a Uniform distribution with a more or less average of 150 days.\n",
    "\n",
    "Annual premium is highly skewed with a more or less average of Rs. 30500 premium paid in the year."
   ]
  },
  {
   "cell_type": "markdown",
   "metadata": {
    "id": "330b7533",
    "papermill": {
     "duration": 0.015639,
     "end_time": "2022-12-03T18:55:04.600787",
     "exception": false,
     "start_time": "2022-12-03T18:55:04.585148",
     "status": "completed"
    },
    "tags": []
   },
   "source": [
    "### Analysis for numerical features (univariate analysis, bivariate analysis)"
   ]
  },
  {
   "cell_type": "code",
   "execution_count": 25,
   "metadata": {
    "execution": {
     "iopub.execute_input": "2022-12-03T18:55:04.635243Z",
     "iopub.status.busy": "2022-12-03T18:55:04.633746Z",
     "iopub.status.idle": "2022-12-03T18:55:04.673305Z",
     "shell.execute_reply": "2022-12-03T18:55:04.672388Z"
    },
    "id": "0b4e1c69",
    "papermill": {
     "duration": 0.058607,
     "end_time": "2022-12-03T18:55:04.675374",
     "exception": false,
     "start_time": "2022-12-03T18:55:04.616767",
     "status": "completed"
    },
    "tags": []
   },
   "outputs": [],
   "source": [
    "# Select numerical columns\n",
    "X_full.drop(['id'], axis=1, inplace=True)\n",
    "numerical_cols = [var for var in X_full.columns if X_full[var].dtype in ['float64','int64']]"
   ]
  },
  {
   "cell_type": "code",
   "execution_count": 26,
   "metadata": {
    "colab": {
     "base_uri": "https://localhost:8080/"
    },
    "execution": {
     "iopub.execute_input": "2022-12-03T18:55:04.709367Z",
     "iopub.status.busy": "2022-12-03T18:55:04.709059Z",
     "iopub.status.idle": "2022-12-03T18:55:04.718279Z",
     "shell.execute_reply": "2022-12-03T18:55:04.717403Z"
    },
    "id": "a2c2a84e",
    "outputId": "1e7b021c-504f-4ae5-8eea-f72553a2e75a",
    "papermill": {
     "duration": 0.028897,
     "end_time": "2022-12-03T18:55:04.720228",
     "exception": false,
     "start_time": "2022-12-03T18:55:04.691331",
     "status": "completed"
    },
    "tags": []
   },
   "outputs": [
    {
     "data": {
      "text/plain": [
       "Index(['Age', 'Annual_Premium', 'Vintage'], dtype='object')"
      ]
     },
     "execution_count": 26,
     "metadata": {},
     "output_type": "execute_result"
    }
   ],
   "source": [
    "# Subset with numerical features\n",
    "num = X_full[numerical_cols]\n",
    "num.columns"
   ]
  },
  {
   "cell_type": "markdown",
   "metadata": {
    "id": "73714bbd",
    "papermill": {
     "duration": 0.016094,
     "end_time": "2022-12-03T18:55:04.752730",
     "exception": false,
     "start_time": "2022-12-03T18:55:04.736636",
     "status": "completed"
    },
    "tags": []
   },
   "source": [
    "### Visualization"
   ]
  },
  {
   "cell_type": "code",
   "execution_count": 27,
   "metadata": {
    "execution": {
     "iopub.execute_input": "2022-12-03T18:55:04.786898Z",
     "iopub.status.busy": "2022-12-03T18:55:04.785977Z",
     "iopub.status.idle": "2022-12-03T18:55:04.793629Z",
     "shell.execute_reply": "2022-12-03T18:55:04.792796Z"
    },
    "id": "4a339466",
    "papermill": {
     "duration": 0.026881,
     "end_time": "2022-12-03T18:55:04.795539",
     "exception": false,
     "start_time": "2022-12-03T18:55:04.768658",
     "status": "completed"
    },
    "tags": []
   },
   "outputs": [],
   "source": [
    "def numcharts(data, var):\n",
    "    plt.rcParams['figure.figsize']=(15,5)\n",
    "    \n",
    "    plt.subplot(1,3,1)\n",
    "    x=data[var]\n",
    "    plt.hist(x,color='green',edgecolor='black')\n",
    "    plt.title('{} histogram'.format(var))\n",
    "    plt.xticks(rotation=45)\n",
    "    \n",
    "    \n",
    "    plt.subplot(1,3,2)\n",
    "    x=data[var]\n",
    "    sns.boxplot(x, color=\"orange\")\n",
    "    plt.title('{} boxplot'.format(var))\n",
    "    plt.xticks(rotation=45)\n",
    "    \n",
    "    \n",
    "    plt.subplot(1,3,3)\n",
    "    res = stats.probplot(data[var], plot=plt)\n",
    "    plt.title('{} Q-Q plot'.format(var))\n",
    "    plt.xticks(rotation=45)\n",
    "    \n",
    "    \n",
    "    plt.show()"
   ]
  },
  {
   "cell_type": "code",
   "execution_count": 28,
   "metadata": {
    "colab": {
     "base_uri": "https://localhost:8080/",
     "height": 502
    },
    "execution": {
     "iopub.execute_input": "2022-12-03T18:55:04.830126Z",
     "iopub.status.busy": "2022-12-03T18:55:04.829374Z",
     "iopub.status.idle": "2022-12-03T18:55:05.914761Z",
     "shell.execute_reply": "2022-12-03T18:55:05.913833Z"
    },
    "id": "06d56f9d",
    "outputId": "f3ca8119-9733-418d-e939-b703a3a1fb49",
    "papermill": {
     "duration": 1.105701,
     "end_time": "2022-12-03T18:55:05.917169",
     "exception": false,
     "start_time": "2022-12-03T18:55:04.811468",
     "status": "completed"
    },
    "tags": []
   },
   "outputs": [
    {
     "data": {
      "image/png": "[encoded data removed]",
      "text/plain": [
       "<Figure size 1080x360 with 3 Axes>"
      ]
     },
     "metadata": {
      "needs_background": "light"
     },
     "output_type": "display_data"
    }
   ],
   "source": [
    "numcharts(num, var='Age')"
   ]
  },
  {
   "cell_type": "code",
   "execution_count": 29,
   "metadata": {
    "colab": {
     "base_uri": "https://localhost:8080/",
     "height": 502
    },
    "execution": {
     "iopub.execute_input": "2022-12-03T18:55:05.955470Z",
     "iopub.status.busy": "2022-12-03T18:55:05.955179Z",
     "iopub.status.idle": "2022-12-03T18:55:07.069219Z",
     "shell.execute_reply": "2022-12-03T18:55:07.068262Z"
    },
    "id": "972ad054",
    "outputId": "46ffcd7c-1e16-4224-997d-1a118b72a835",
    "papermill": {
     "duration": 1.134837,
     "end_time": "2022-12-03T18:55:07.071578",
     "exception": false,
     "start_time": "2022-12-03T18:55:05.936741",
     "status": "completed"
    },
    "tags": []
   },
   "outputs": [
    {
     "data": {
      "image/png": "[encoded data removed]",
      "text/plain": [
       "<Figure size 1080x360 with 3 Axes>"
      ]
     },
     "metadata": {
      "needs_background": "light"
     },
     "output_type": "display_data"
    }
   ],
   "source": [
    "numcharts(num, var='Annual_Premium')"
   ]
  },
  {
   "cell_type": "code",
   "execution_count": 30,
   "metadata": {
    "colab": {
     "base_uri": "https://localhost:8080/",
     "height": 502
    },
    "execution": {
     "iopub.execute_input": "2022-12-03T18:55:07.108479Z",
     "iopub.status.busy": "2022-12-03T18:55:07.107653Z",
     "iopub.status.idle": "2022-12-03T18:55:08.201758Z",
     "shell.execute_reply": "2022-12-03T18:55:08.200815Z"
    },
    "id": "4b828282",
    "outputId": "92f98040-0c46-4ce2-bcf5-25cef6fd4a7d",
    "papermill": {
     "duration": 1.114413,
     "end_time": "2022-12-03T18:55:08.203953",
     "exception": false,
     "start_time": "2022-12-03T18:55:07.089540",
     "status": "completed"
    },
    "tags": []
   },
   "outputs": [
    {
     "data": {
      "image/png": "[encoded data removed]",
      "text/plain": [
       "<Figure size 1080x360 with 3 Axes>"
      ]
     },
     "metadata": {
      "needs_background": "light"
     },
     "output_type": "display_data"
    }
   ],
   "source": [
    "numcharts(num, var='Vintage')"
   ]
  },
  {
   "cell_type": "code",
   "execution_count": 31,
   "metadata": {
    "colab": {
     "base_uri": "https://localhost:8080/",
     "height": 494
    },
    "execution": {
     "iopub.execute_input": "2022-12-03T18:55:08.242249Z",
     "iopub.status.busy": "2022-12-03T18:55:08.241864Z",
     "iopub.status.idle": "2022-12-03T18:55:09.593743Z",
     "shell.execute_reply": "2022-12-03T18:55:09.592854Z"
    },
    "id": "a9495c8e",
    "outputId": "2f63c007-38fc-42f0-9d52-21336aef263e",
    "papermill": {
     "duration": 1.374302,
     "end_time": "2022-12-03T18:55:09.595966",
     "exception": false,
     "start_time": "2022-12-03T18:55:08.221664",
     "status": "completed"
    },
    "tags": []
   },
   "outputs": [
    {
     "data": {
      "image/png": "[encoded data removed]",
      "text/plain": [
       "<Figure size 1080x360 with 3 Axes>"
      ]
     },
     "metadata": {
      "needs_background": "light"
     },
     "output_type": "display_data"
    }
   ],
   "source": [
    "# new subset for a bivariate analysis\n",
    "num2 = pd.concat([y,num], axis=1)\n",
    "plt.rcParams['figure.figsize']=(15,5)\n",
    "plt.subplot(1,3,1)\n",
    "sns.boxplot(y='Age', x=y, data=num2, linewidth=2, palette=\"Set2\")\n",
    "plt.title('{} - Response boxplot'.format('Age'))\n",
    "plt.xticks(rotation=45)\n",
    "        \n",
    "plt.subplot(1,3,2)\n",
    "sns.boxplot(y='Annual_Premium', x=y, data=num2, linewidth=2, palette=\"Set2\")\n",
    "plt.title('{} - Response boxplot'.format('Annual_Premium'))\n",
    "plt.xticks(rotation=45)\n",
    "        \n",
    "plt.subplot(1,3,3)\n",
    "sns.boxplot(y='Vintage', x=y, data=num2, linewidth=2, palette=\"Set2\")\n",
    "plt.title('{} - Response boxplot'.format('Vintage'))\n",
    "plt.xticks(rotation=45)\n",
    "    \n",
    "plt.show()"
   ]
  },
  {
   "cell_type": "markdown",
   "metadata": {
    "id": "0b1702b6",
    "papermill": {
     "duration": 0.017771,
     "end_time": "2022-12-03T18:55:09.632476",
     "exception": false,
     "start_time": "2022-12-03T18:55:09.614705",
     "status": "completed"
    },
    "tags": []
   },
   "source": [
    "### Statistical Analysis"
   ]
  },
  {
   "cell_type": "code",
   "execution_count": 32,
   "metadata": {
    "colab": {
     "base_uri": "https://localhost:8080/"
    },
    "execution": {
     "iopub.execute_input": "2022-12-03T18:55:09.669844Z",
     "iopub.status.busy": "2022-12-03T18:55:09.669283Z",
     "iopub.status.idle": "2022-12-03T18:55:09.725460Z",
     "shell.execute_reply": "2022-12-03T18:55:09.724412Z"
    },
    "id": "9086b8f5",
    "outputId": "ba7f5e76-8458-4902-c886-87e12c81febe",
    "papermill": {
     "duration": 0.077592,
     "end_time": "2022-12-03T18:55:09.728035",
     "exception": false,
     "start_time": "2022-12-03T18:55:09.650443",
     "status": "completed"
    },
    "tags": []
   },
   "outputs": [
    {
     "name": "stdout",
     "output_type": "stream",
     "text": [
      "Age \n",
      "Mean : 38.822583565331705 \n",
      "Variance : 240.609445034806 \n",
      "Standard Deviation : 1.4713433772287088 \n",
      "Skewness : 0.6725363506891485 \n",
      "Kurtosis : -0.5656633888102887\n",
      "Annual_Premium \n",
      "Mean : 30564.389581458323 \n",
      "Variance : 296291929.5669131 \n",
      "Standard Deviation : 3357.409308330456 \n",
      "Skewness : 1.7660802637778974 \n",
      "Kurtosis : 34.00410682771704\n",
      "Vintage \n",
      "Mean : 154.34739667654136 \n",
      "Variance : 7000.86868079634 \n",
      "Standard Deviation : 14.1050642955642 \n",
      "Skewness : 0.003029504966164472 \n",
      "Kurtosis : -1.2006880332858327\n"
     ]
    }
   ],
   "source": [
    "# Univariate analysis looking at Mean, Standard Deviation, Skewness and Kurtosis\n",
    "for col in num:\n",
    "    print(col,\n",
    "        '\\nMean :', np.mean(num[col]),  \n",
    "        '\\nVariance :', np.var(num[col]),\n",
    "        '\\nStandard Deviation :', np.var(num[col]**0.5), \n",
    "        '\\nSkewness :', stats.skew(num[col]), \n",
    "        '\\nKurtosis :', stats.kurtosis(num[col]))"
   ]
  },
  {
   "cell_type": "markdown",
   "metadata": {
    "id": "5b541e90",
    "papermill": {
     "duration": 0.017856,
     "end_time": "2022-12-03T18:55:09.765236",
     "exception": false,
     "start_time": "2022-12-03T18:55:09.747380",
     "status": "completed"
    },
    "tags": []
   },
   "source": [
    "# Categorical Features Analysis"
   ]
  },
  {
   "cell_type": "markdown",
   "metadata": {},
   "source": [
    "With data cleaning have been dropped two variables: 'Policy_Sales_Channel' and 'Region_Code' because they are not useful in the modelling activity, given that data are allocated in many classes. In the first one variable, more or less 70% of data are covered by 3 channels, in the second variable one more or less 40% of data are allocated in 2 regions and the rest in other many other not relevant region codes.\n",
    "\n",
    "Looking at the other variables, gender variable shows a prevalence of men policyholders: 54% male vs 46% female.\n",
    "\n",
    "Almost all of policyholders have a driving license, and they own young vehicle: 53% of vehicles are in a range of 1-2 years.\n",
    "\n",
    "Most of policyholders did not previously insured with the Company: 54% did not insured with Company vs 46% previusly insured.\n",
    "\n",
    "In the last features vehicles with damage and without damage are equally distribuited in the portfolio."
   ]
  },
  {
   "cell_type": "markdown",
   "metadata": {
    "id": "64b7e68e",
    "papermill": {
     "duration": 0.017917,
     "end_time": "2022-12-03T18:55:09.801327",
     "exception": false,
     "start_time": "2022-12-03T18:55:09.783410",
     "status": "completed"
    },
    "tags": []
   },
   "source": [
    "### Analysis for categorical features (univariate analysis, bivariate analysis)"
   ]
  },
  {
   "cell_type": "code",
   "execution_count": 33,
   "metadata": {
    "colab": {
     "base_uri": "https://localhost:8080/"
    },
    "execution": {
     "iopub.execute_input": "2022-12-03T18:55:09.839856Z",
     "iopub.status.busy": "2022-12-03T18:55:09.838317Z",
     "iopub.status.idle": "2022-12-03T18:55:09.982594Z",
     "shell.execute_reply": "2022-12-03T18:55:09.981285Z"
    },
    "id": "3ef563be",
    "outputId": "90733bf5-1f67-4e95-d33d-b35ecd66121d",
    "papermill": {
     "duration": 0.166112,
     "end_time": "2022-12-03T18:55:09.985316",
     "exception": false,
     "start_time": "2022-12-03T18:55:09.819204",
     "status": "completed"
    },
    "tags": []
   },
   "outputs": [
    {
     "name": "stdout",
     "output_type": "stream",
     "text": [
      "Gender :  2  labels\n",
      "Driving_License :  2  labels\n",
      "Region_Code :  53  labels\n",
      "Previously_Insured :  2  labels\n",
      "Vehicle_Age :  3  labels\n",
      "Vehicle_Damage :  2  labels\n",
      "Policy_Sales_Channel :  155  labels\n"
     ]
    }
   ],
   "source": [
    "# let's have a look at how many labels for categorical features\n",
    "for col in X_full.columns:\n",
    "    if X_full[col].dtype ==\"object\":\n",
    "        print(col, ': ', len(X_full[col].unique()), ' labels')"
   ]
  },
  {
   "cell_type": "code",
   "execution_count": 34,
   "metadata": {
    "execution": {
     "iopub.execute_input": "2022-12-03T18:55:10.025207Z",
     "iopub.status.busy": "2022-12-03T18:55:10.023726Z",
     "iopub.status.idle": "2022-12-03T18:55:10.177435Z",
     "shell.execute_reply": "2022-12-03T18:55:10.176405Z"
    },
    "id": "b97407c5",
    "papermill": {
     "duration": 0.175589,
     "end_time": "2022-12-03T18:55:10.179847",
     "exception": false,
     "start_time": "2022-12-03T18:55:10.004258",
     "status": "completed"
    },
    "tags": []
   },
   "outputs": [],
   "source": [
    "# Select categorical columns with relatively low cardinality (convenient but arbitrary)\n",
    "categorical_cols = [var for var in X_full.columns if\n",
    "                    X_full[var].nunique() <= 15 and \n",
    "                    X_full[var].dtype == \"object\"]"
   ]
  },
  {
   "cell_type": "code",
   "execution_count": 35,
   "metadata": {
    "colab": {
     "base_uri": "https://localhost:8080/"
    },
    "execution": {
     "iopub.execute_input": "2022-12-03T18:55:10.218573Z",
     "iopub.status.busy": "2022-12-03T18:55:10.218249Z",
     "iopub.status.idle": "2022-12-03T18:55:10.239499Z",
     "shell.execute_reply": "2022-12-03T18:55:10.238482Z"
    },
    "id": "b6ec24fd",
    "outputId": "0f65b88c-8811-4c45-a0c0-1b70d42c3dd7",
    "papermill": {
     "duration": 0.043073,
     "end_time": "2022-12-03T18:55:10.241787",
     "exception": false,
     "start_time": "2022-12-03T18:55:10.198714",
     "status": "completed"
    },
    "tags": []
   },
   "outputs": [
    {
     "data": {
      "text/plain": [
       "Index(['Gender', 'Driving_License', 'Previously_Insured', 'Vehicle_Age',\n",
       "       'Vehicle_Damage'],\n",
       "      dtype='object')"
      ]
     },
     "execution_count": 35,
     "metadata": {},
     "output_type": "execute_result"
    }
   ],
   "source": [
    "# Subset with categorical features\n",
    "cat = X_full[categorical_cols]\n",
    "cat.columns"
   ]
  },
  {
   "cell_type": "markdown",
   "metadata": {
    "id": "dc6b9eb2",
    "papermill": {
     "duration": 0.017964,
     "end_time": "2022-12-03T18:55:10.278127",
     "exception": false,
     "start_time": "2022-12-03T18:55:10.260163",
     "status": "completed"
    },
    "tags": []
   },
   "source": [
    "### Visualization"
   ]
  },
  {
   "cell_type": "code",
   "execution_count": 36,
   "metadata": {
    "colab": {
     "base_uri": "https://localhost:8080/",
     "height": 492
    },
    "execution": {
     "iopub.execute_input": "2022-12-03T18:55:10.317237Z",
     "iopub.status.busy": "2022-12-03T18:55:10.315695Z",
     "iopub.status.idle": "2022-12-03T18:55:11.336103Z",
     "shell.execute_reply": "2022-12-03T18:55:11.335233Z"
    },
    "id": "7c07d8d3",
    "outputId": "66d82369-d7dc-4121-8d8c-868a4e2a4b30",
    "papermill": {
     "duration": 1.042738,
     "end_time": "2022-12-03T18:55:11.339093",
     "exception": false,
     "start_time": "2022-12-03T18:55:10.296355",
     "status": "completed"
    },
    "tags": []
   },
   "outputs": [
    {
     "data": {
      "image/png": "[encoded data removed]",
      "text/plain": [
       "<Figure size 1080x360 with 2 Axes>"
      ]
     },
     "metadata": {
      "needs_background": "light"
     },
     "output_type": "display_data"
    }
   ],
   "source": [
    "catcharts(df, col1='Gender', col2='id')"
   ]
  },
  {
   "cell_type": "code",
   "execution_count": 37,
   "metadata": {
    "colab": {
     "base_uri": "https://localhost:8080/",
     "height": 492
    },
    "execution": {
     "iopub.execute_input": "2022-12-03T18:55:11.380882Z",
     "iopub.status.busy": "2022-12-03T18:55:11.380584Z",
     "iopub.status.idle": "2022-12-03T18:55:12.374002Z",
     "shell.execute_reply": "2022-12-03T18:55:12.372999Z"
    },
    "id": "7f4b0a83",
    "outputId": "f4b992da-fa39-4cd6-8f1d-cc7e406bb8c5",
    "papermill": {
     "duration": 1.017728,
     "end_time": "2022-12-03T18:55:12.376249",
     "exception": false,
     "start_time": "2022-12-03T18:55:11.358521",
     "status": "completed"
    },
    "tags": []
   },
   "outputs": [
    {
     "data": {
      "image/png": "[encoded data removed]",
      "text/plain": [
       "<Figure size 1080x360 with 2 Axes>"
      ]
     },
     "metadata": {
      "needs_background": "light"
     },
     "output_type": "display_data"
    }
   ],
   "source": [
    "catcharts(df, col1='Driving_License', col2='id')"
   ]
  },
  {
   "cell_type": "code",
   "execution_count": 38,
   "metadata": {
    "colab": {
     "base_uri": "https://localhost:8080/",
     "height": 492
    },
    "execution": {
     "iopub.execute_input": "2022-12-03T18:55:12.418981Z",
     "iopub.status.busy": "2022-12-03T18:55:12.418642Z",
     "iopub.status.idle": "2022-12-03T18:55:13.581766Z",
     "shell.execute_reply": "2022-12-03T18:55:13.580881Z"
    },
    "id": "2c7311b6",
    "outputId": "4fb55a3b-951e-44c3-a548-c12fe81407c6",
    "papermill": {
     "duration": 1.186352,
     "end_time": "2022-12-03T18:55:13.583943",
     "exception": false,
     "start_time": "2022-12-03T18:55:12.397591",
     "status": "completed"
    },
    "tags": []
   },
   "outputs": [
    {
     "data": {
      "image/png": "[encoded data removed]",
      "text/plain": [
       "<Figure size 1080x360 with 2 Axes>"
      ]
     },
     "metadata": {
      "needs_background": "light"
     },
     "output_type": "display_data"
    }
   ],
   "source": [
    "catcharts(df, col1='Previously_Insured', col2='id')"
   ]
  },
  {
   "cell_type": "code",
   "execution_count": 39,
   "metadata": {
    "colab": {
     "base_uri": "https://localhost:8080/",
     "height": 492
    },
    "execution": {
     "iopub.execute_input": "2022-12-03T18:55:13.624836Z",
     "iopub.status.busy": "2022-12-03T18:55:13.624123Z",
     "iopub.status.idle": "2022-12-03T18:55:14.310901Z",
     "shell.execute_reply": "2022-12-03T18:55:14.309864Z"
    },
    "id": "0ce09a30",
    "outputId": "f690f38f-cdc2-4a23-df12-4864cfa62d9c",
    "papermill": {
     "duration": 0.709776,
     "end_time": "2022-12-03T18:55:14.313272",
     "exception": false,
     "start_time": "2022-12-03T18:55:13.603496",
     "status": "completed"
    },
    "tags": []
   },
   "outputs": [
    {
     "data": {
      "image/png": "[encoded data removed]",
      "text/plain": [
       "<Figure size 1080x360 with 2 Axes>"
      ]
     },
     "metadata": {
      "needs_background": "light"
     },
     "output_type": "display_data"
    }
   ],
   "source": [
    "catcharts(df, col1='Vehicle_Age', col2='id')"
   ]
  },
  {
   "cell_type": "code",
   "execution_count": 40,
   "metadata": {
    "colab": {
     "base_uri": "https://localhost:8080/",
     "height": 492
    },
    "execution": {
     "iopub.execute_input": "2022-12-03T18:55:14.355895Z",
     "iopub.status.busy": "2022-12-03T18:55:14.354244Z",
     "iopub.status.idle": "2022-12-03T18:55:15.079035Z",
     "shell.execute_reply": "2022-12-03T18:55:15.077946Z"
    },
    "id": "2544604f",
    "outputId": "83111dfa-9b7e-44ce-a891-e3fc02a2f0b7",
    "papermill": {
     "duration": 0.748148,
     "end_time": "2022-12-03T18:55:15.081629",
     "exception": false,
     "start_time": "2022-12-03T18:55:14.333481",
     "status": "completed"
    },
    "tags": []
   },
   "outputs": [
    {
     "data": {
      "image/png": "[encoded data removed]",
      "text/plain": [
       "<Figure size 1080x360 with 2 Axes>"
      ]
     },
     "metadata": {
      "needs_background": "light"
     },
     "output_type": "display_data"
    }
   ],
   "source": [
    "catcharts(df, col1='Vehicle_Damage', col2='id')"
   ]
  },
  {
   "cell_type": "code",
   "execution_count": 41,
   "metadata": {
    "colab": {
     "base_uri": "https://localhost:8080/",
     "height": 836
    },
    "execution": {
     "iopub.execute_input": "2022-12-03T18:55:15.129128Z",
     "iopub.status.busy": "2022-12-03T18:55:15.128771Z",
     "iopub.status.idle": "2022-12-03T18:55:20.236900Z",
     "shell.execute_reply": "2022-12-03T18:55:20.235851Z"
    },
    "id": "912919bb",
    "outputId": "e1d3223e-82e5-4181-9477-22cb33c3a3fe",
    "papermill": {
     "duration": 5.134344,
     "end_time": "2022-12-03T18:55:20.239072",
     "exception": false,
     "start_time": "2022-12-03T18:55:15.104728",
     "status": "completed"
    },
    "tags": []
   },
   "outputs": [
    {
     "data": {
      "image/png": "[encoded data removed]",
      "text/plain": [
       "<Figure size 1440x360 with 3 Axes>"
      ]
     },
     "metadata": {
      "needs_background": "light"
     },
     "output_type": "display_data"
    },
    {
     "data": {
      "image/png": "[encoded data removed]",
      "text/plain": [
       "<Figure size 1440x360 with 2 Axes>"
      ]
     },
     "metadata": {
      "needs_background": "light"
     },
     "output_type": "display_data"
    }
   ],
   "source": [
    "# new subset for a bivariate analysis\n",
    "cat2 = pd.concat([y,cat], axis=1)\n",
    "plt.rcParams['figure.figsize']=(20,5)\n",
    "\n",
    "plt.subplot(1,3,1)\n",
    "sns.countplot(x=cat2['Gender'], hue=y, data=cat2, palette=\"Set1\")\n",
    "plt.title('{} - Response Barplot'.format('Gender'))\n",
    "plt.xticks(rotation=45)\n",
    "        \n",
    "plt.subplot(1,3,2)\n",
    "sns.countplot(x=cat2['Driving_License'], hue=y, data=cat2, palette=\"Set1\")\n",
    "plt.title('{} - Response Barplot'.format('Driving_License'))\n",
    "plt.xticks(rotation=45)\n",
    "        \n",
    "plt.subplot(1,3,3)\n",
    "sns.countplot(x=cat2['Previously_Insured'], hue=y, data=cat2, palette=\"Set1\")\n",
    "plt.title('{} - Response Barplot'.format('Previously_Insured'))\n",
    "plt.xticks(rotation=45)\n",
    "\n",
    "plt.show()\n",
    "\n",
    "plt.rcParams['figure.figsize']=(20,5)\n",
    "plt.subplot(1,2,1)\n",
    "sns.countplot(x=cat2['Vehicle_Age'], hue=y, data=cat2, palette=\"Set1\")\n",
    "plt.title('{} - Response Barplot'.format('Vehicle_Age'))\n",
    "plt.xticks(rotation=45)\n",
    "\n",
    "plt.subplot(1,2,2)\n",
    "sns.countplot(x=cat2['Vehicle_Damage'], hue=y, data=cat2, palette=\"Set1\")\n",
    "plt.title('{} - Response Barplot'.format('Vehicle_Damage'))\n",
    "plt.xticks(rotation=45)\n",
    "    \n",
    "plt.show()"
   ]
  },
  {
   "cell_type": "markdown",
   "metadata": {
    "id": "1ac01361",
    "papermill": {
     "duration": 0.02086,
     "end_time": "2022-12-03T18:55:20.281264",
     "exception": false,
     "start_time": "2022-12-03T18:55:20.260404",
     "status": "completed"
    },
    "tags": []
   },
   "source": [
    "### Statistical Analysis"
   ]
  },
  {
   "cell_type": "code",
   "execution_count": 42,
   "metadata": {
    "colab": {
     "base_uri": "https://localhost:8080/"
    },
    "execution": {
     "iopub.execute_input": "2022-12-03T18:55:20.324973Z",
     "iopub.status.busy": "2022-12-03T18:55:20.323440Z",
     "iopub.status.idle": "2022-12-03T18:55:21.524172Z",
     "shell.execute_reply": "2022-12-03T18:55:21.522988Z"
    },
    "id": "1129189d",
    "outputId": "bb55adb5-efc6-4b15-e5c9-6e3a4c87547a",
    "papermill": {
     "duration": 1.227609,
     "end_time": "2022-12-03T18:55:21.529277",
     "exception": false,
     "start_time": "2022-12-03T18:55:20.301668",
     "status": "completed"
    },
    "tags": []
   },
   "outputs": [
    {
     "name": "stdout",
     "output_type": "stream",
     "text": [
      "\n",
      " col_0    count  frequency\n",
      "Gender                   \n",
      "Female  175020   0.459239\n",
      "Male    206089   0.540761\n",
      "\n",
      " col_0             count  frequency\n",
      "Driving_License                   \n",
      "0                   812   0.002131\n",
      "1                380297   0.997869\n",
      "\n",
      " col_0                count  frequency\n",
      "Previously_Insured                   \n",
      "0                   206481    0.54179\n",
      "1                   174628    0.45821\n",
      "\n",
      " col_0         count  frequency\n",
      "Vehicle_Age                   \n",
      "1-2 Year     200316   0.525613\n",
      "< 1 Year     164786   0.432385\n",
      "> 2 Years     16007   0.042001\n",
      "\n",
      " col_0            count  frequency\n",
      "Vehicle_Damage                   \n",
      "No              188696   0.495123\n",
      "Yes             192413   0.504877\n"
     ]
    }
   ],
   "source": [
    "# Univariate analysis looking at frequency\n",
    "for col in cat:\n",
    "    count = pd.crosstab(index = cat[col], columns=\"count\")\n",
    "    percentage = pd.crosstab(index = cat[col], columns=\"frequency\")/pd.crosstab(index = cat[col], columns=\"frequency\").sum()\n",
    "    tab = pd.concat([count, percentage], axis=1)\n",
    "    print('\\n',tab)"
   ]
  },
  {
   "cell_type": "markdown",
   "metadata": {
    "id": "4a37d2f1",
    "papermill": {
     "duration": 0.039779,
     "end_time": "2022-12-03T18:55:21.618491",
     "exception": false,
     "start_time": "2022-12-03T18:55:21.578712",
     "status": "completed"
    },
    "tags": []
   },
   "source": [
    "# Pre-Processing"
   ]
  },
  {
   "cell_type": "markdown",
   "metadata": {},
   "source": [
    "In the Pre-Processing activity is applied the same pipeline for all models.\n",
    "Outliers from numerical features have been capped to avoid biased results and have been applied target encoding on categorical features instead of the classical one-hot encoding to improve the performance of models. \n",
    "Then have been removed predictors with zero variance because they don't produce any information for the models and have been removed correlated predictors to mitigate multicollinearity and improving stability of models, though ensembles trees are less sensitive on correlated predictors. \n",
    "At the end has been applied feature scaling to normalize the range of different input variables to a similar scale and so to optimize the process for models sensitive to feature magnitude."
   ]
  },
  {
   "cell_type": "markdown",
   "metadata": {
    "id": "ff618622",
    "papermill": {
     "duration": 0.033346,
     "end_time": "2022-12-03T18:55:21.686858",
     "exception": false,
     "start_time": "2022-12-03T18:55:21.653512",
     "status": "completed"
    },
    "tags": []
   },
   "source": [
    "### Numerical Features Pre-Processing"
   ]
  },
  {
   "cell_type": "code",
   "execution_count": 43,
   "metadata": {
    "execution": {
     "iopub.execute_input": "2022-12-03T18:55:21.753929Z",
     "iopub.status.busy": "2022-12-03T18:55:21.753483Z",
     "iopub.status.idle": "2022-12-03T18:55:21.760560Z",
     "shell.execute_reply": "2022-12-03T18:55:21.759618Z"
    },
    "id": "efa4c7a0",
    "papermill": {
     "duration": 0.042839,
     "end_time": "2022-12-03T18:55:21.762606",
     "exception": false,
     "start_time": "2022-12-03T18:55:21.719767",
     "status": "completed"
    },
    "tags": []
   },
   "outputs": [],
   "source": [
    "num_o = num.copy()"
   ]
  },
  {
   "cell_type": "code",
   "execution_count": 44,
   "metadata": {
    "execution": {
     "iopub.execute_input": "2022-12-03T18:55:21.826159Z",
     "iopub.status.busy": "2022-12-03T18:55:21.825799Z",
     "iopub.status.idle": "2022-12-03T18:55:21.875365Z",
     "shell.execute_reply": "2022-12-03T18:55:21.874392Z"
    },
    "id": "6804673d",
    "papermill": {
     "duration": 0.083942,
     "end_time": "2022-12-03T18:55:21.877742",
     "exception": false,
     "start_time": "2022-12-03T18:55:21.793800",
     "status": "completed"
    },
    "tags": []
   },
   "outputs": [],
   "source": [
    "# outliers correction\n",
    "for col in num_o.columns:\n",
    "    q75, q25 = np.percentile(num_o[col].dropna(), [75 ,25])\n",
    "    iqr = q75 - q25 \n",
    "    min = q25 - (iqr*1.5)\n",
    "    max = q75 + (iqr*1.5) \n",
    "    num_o[col].mask(num_o[col]<min, min, inplace=True)\n",
    "    num_o[col].mask(num_o[col]>max, max, inplace=True)"
   ]
  },
  {
   "cell_type": "code",
   "execution_count": 45,
   "metadata": {
    "colab": {
     "base_uri": "https://localhost:8080/",
     "height": 1000
    },
    "execution": {
     "iopub.execute_input": "2022-12-03T18:55:21.940804Z",
     "iopub.status.busy": "2022-12-03T18:55:21.940434Z",
     "iopub.status.idle": "2022-12-03T18:55:22.497112Z",
     "shell.execute_reply": "2022-12-03T18:55:22.495877Z"
    },
    "id": "cac80d0d",
    "outputId": "88881b3d-ee93-4161-bf6d-573084b67f82",
    "papermill": {
     "duration": 0.59121,
     "end_time": "2022-12-03T18:55:22.499523",
     "exception": false,
     "start_time": "2022-12-03T18:55:21.908313",
     "status": "completed"
    },
    "tags": []
   },
   "outputs": [
    {
     "data": {
      "image/png": "[encoded data removed]",
      "text/plain": [
       "<Figure size 360x360 with 1 Axes>"
      ]
     },
     "metadata": {
      "needs_background": "light"
     },
     "output_type": "display_data"
    },
    {
     "data": {
      "image/png": "[encoded data removed]",
      "text/plain": [
       "<Figure size 360x360 with 1 Axes>"
      ]
     },
     "metadata": {
      "needs_background": "light"
     },
     "output_type": "display_data"
    },
    {
     "data": {
      "image/png": "[encoded data removed]",
      "text/plain": [
       "<Figure size 360x360 with 1 Axes>"
      ]
     },
     "metadata": {
      "needs_background": "light"
     },
     "output_type": "display_data"
    }
   ],
   "source": [
    "# check corrections\n",
    "for col in num_o:\n",
    "    plt.rcParams['figure.figsize']=(5,5)\n",
    "    x=num_o[col]\n",
    "    sns.boxplot(x,linewidth=1)\n",
    "    plt.xticks(rotation=45)\n",
    "    plt.show()"
   ]
  },
  {
   "cell_type": "markdown",
   "metadata": {
    "id": "4be14350",
    "papermill": {
     "duration": 0.022304,
     "end_time": "2022-12-03T18:55:22.544332",
     "exception": false,
     "start_time": "2022-12-03T18:55:22.522028",
     "status": "completed"
    },
    "tags": []
   },
   "source": [
    "### Categorical Features Pre-Processing"
   ]
  },
  {
   "cell_type": "code",
   "execution_count": 46,
   "metadata": {
    "execution": {
     "iopub.execute_input": "2022-12-03T18:55:22.590097Z",
     "iopub.status.busy": "2022-12-03T18:55:22.589276Z",
     "iopub.status.idle": "2022-12-03T18:55:22.661152Z",
     "shell.execute_reply": "2022-12-03T18:55:22.660209Z"
    },
    "id": "446c6150",
    "papermill": {
     "duration": 0.096613,
     "end_time": "2022-12-03T18:55:22.663500",
     "exception": false,
     "start_time": "2022-12-03T18:55:22.566887",
     "status": "completed"
    },
    "tags": []
   },
   "outputs": [],
   "source": [
    "# Transform in integer binary variables\n",
    "y = y.astype('int')\n",
    "cat2['Response'] = cat2['Response'].astype('int')\n",
    "cat2['Driving_License'] = cat2['Driving_License'].astype('int')\n",
    "cat2['Previously_Insured'] = cat2['Previously_Insured'].astype('int')"
   ]
  },
  {
   "cell_type": "code",
   "execution_count": 47,
   "metadata": {
    "execution": {
     "iopub.execute_input": "2022-12-03T18:55:22.708353Z",
     "iopub.status.busy": "2022-12-03T18:55:22.708048Z",
     "iopub.status.idle": "2022-12-03T18:55:22.767018Z",
     "shell.execute_reply": "2022-12-03T18:55:22.766145Z"
    },
    "id": "70ba49ca",
    "papermill": {
     "duration": 0.083487,
     "end_time": "2022-12-03T18:55:22.769235",
     "exception": false,
     "start_time": "2022-12-03T18:55:22.685748",
     "status": "completed"
    },
    "tags": []
   },
   "outputs": [],
   "source": [
    "cat2['Gender']=cat2['Gender'].map({'Female':0,'Male':1})\n",
    "cat2['Vehicle_Damage']=cat2['Vehicle_Damage'].map({'No':0,'Yes':1})"
   ]
  },
  {
   "cell_type": "code",
   "execution_count": 48,
   "metadata": {
    "execution": {
     "iopub.execute_input": "2022-12-03T18:55:22.813206Z",
     "iopub.status.busy": "2022-12-03T18:55:22.812870Z",
     "iopub.status.idle": "2022-12-03T18:55:22.898029Z",
     "shell.execute_reply": "2022-12-03T18:55:22.897112Z"
    },
    "id": "4b10a49f",
    "papermill": {
     "duration": 0.109576,
     "end_time": "2022-12-03T18:55:22.900223",
     "exception": false,
     "start_time": "2022-12-03T18:55:22.790647",
     "status": "completed"
    },
    "tags": []
   },
   "outputs": [],
   "source": [
    "# calculate the mean target value per category for each feature and capture the result in a dictionary \n",
    "Vehicle_Age_LABELS = cat2.groupby(['Vehicle_Age'])['Response'].mean().to_dict()\n",
    "# replace for each feature the labels with the mean target values\n",
    "cat2['Vehicle_Age'] = cat2['Vehicle_Age'].map(Vehicle_Age_LABELS)\n"
   ]
  },
  {
   "cell_type": "code",
   "execution_count": 49,
   "metadata": {
    "colab": {
     "base_uri": "https://localhost:8080/"
    },
    "execution": {
     "iopub.execute_input": "2022-12-03T18:55:22.944584Z",
     "iopub.status.busy": "2022-12-03T18:55:22.944278Z",
     "iopub.status.idle": "2022-12-03T18:55:22.959726Z",
     "shell.execute_reply": "2022-12-03T18:55:22.958875Z"
    },
    "id": "734d5c77",
    "outputId": "f8b9bf0d-27ad-4c27-84e1-902e247421db",
    "papermill": {
     "duration": 0.039946,
     "end_time": "2022-12-03T18:55:22.961812",
     "exception": false,
     "start_time": "2022-12-03T18:55:22.921866",
     "status": "completed"
    },
    "tags": []
   },
   "outputs": [
    {
     "data": {
      "text/plain": [
       "(381109, 5)"
      ]
     },
     "execution_count": 49,
     "metadata": {},
     "output_type": "execute_result"
    }
   ],
   "source": [
    "# Look at the new subset\n",
    "target_cat = cat2.drop(['Response'], axis=1)\n",
    "target_cat.shape"
   ]
  },
  {
   "cell_type": "code",
   "execution_count": 50,
   "metadata": {
    "colab": {
     "base_uri": "https://localhost:8080/",
     "height": 206
    },
    "execution": {
     "iopub.execute_input": "2022-12-03T18:55:23.006515Z",
     "iopub.status.busy": "2022-12-03T18:55:23.006228Z",
     "iopub.status.idle": "2022-12-03T18:55:23.016770Z",
     "shell.execute_reply": "2022-12-03T18:55:23.015805Z"
    },
    "id": "5c1267b5",
    "outputId": "19db2c80-9b09-4970-a486-398c5175b7a4",
    "papermill": {
     "duration": 0.035352,
     "end_time": "2022-12-03T18:55:23.019053",
     "exception": false,
     "start_time": "2022-12-03T18:55:22.983701",
     "status": "completed"
    },
    "tags": []
   },
   "outputs": [
    {
     "data": {
      "text/html": [
       "<div>\n",
       "<style scoped>\n",
       "    .dataframe tbody tr th:only-of-type {\n",
       "        vertical-align: middle;\n",
       "    }\n",
       "\n",
       "    .dataframe tbody tr th {\n",
       "        vertical-align: top;\n",
       "    }\n",
       "\n",
       "    .dataframe thead th {\n",
       "        text-align: right;\n",
       "    }\n",
       "</style>\n",
       "<table border=\"1\" class=\"dataframe\">\n",
       "  <thead>\n",
       "    <tr style=\"text-align: right;\">\n",
       "      <th></th>\n",
       "      <th>Gender</th>\n",
       "      <th>Driving_License</th>\n",
       "      <th>Previously_Insured</th>\n",
       "      <th>Vehicle_Age</th>\n",
       "      <th>Vehicle_Damage</th>\n",
       "    </tr>\n",
       "  </thead>\n",
       "  <tbody>\n",
       "    <tr>\n",
       "      <th>0</th>\n",
       "      <td>1</td>\n",
       "      <td>1</td>\n",
       "      <td>0</td>\n",
       "      <td>0.293746</td>\n",
       "      <td>1</td>\n",
       "    </tr>\n",
       "    <tr>\n",
       "      <th>1</th>\n",
       "      <td>1</td>\n",
       "      <td>1</td>\n",
       "      <td>0</td>\n",
       "      <td>0.173755</td>\n",
       "      <td>0</td>\n",
       "    </tr>\n",
       "    <tr>\n",
       "      <th>2</th>\n",
       "      <td>1</td>\n",
       "      <td>1</td>\n",
       "      <td>0</td>\n",
       "      <td>0.293746</td>\n",
       "      <td>1</td>\n",
       "    </tr>\n",
       "    <tr>\n",
       "      <th>3</th>\n",
       "      <td>1</td>\n",
       "      <td>1</td>\n",
       "      <td>1</td>\n",
       "      <td>0.043705</td>\n",
       "      <td>0</td>\n",
       "    </tr>\n",
       "    <tr>\n",
       "      <th>4</th>\n",
       "      <td>0</td>\n",
       "      <td>1</td>\n",
       "      <td>1</td>\n",
       "      <td>0.043705</td>\n",
       "      <td>0</td>\n",
       "    </tr>\n",
       "  </tbody>\n",
       "</table>\n",
       "</div>"
      ],
      "text/plain": [
       "   Gender  Driving_License  Previously_Insured  Vehicle_Age  Vehicle_Damage\n",
       "0       1                1                   0     0.293746               1\n",
       "1       1                1                   0     0.173755               0\n",
       "2       1                1                   0     0.293746               1\n",
       "3       1                1                   1     0.043705               0\n",
       "4       0                1                   1     0.043705               0"
      ]
     },
     "execution_count": 50,
     "metadata": {},
     "output_type": "execute_result"
    }
   ],
   "source": [
    "target_cat.head()"
   ]
  },
  {
   "cell_type": "code",
   "execution_count": 51,
   "metadata": {
    "execution": {
     "iopub.execute_input": "2022-12-03T18:55:23.064195Z",
     "iopub.status.busy": "2022-12-03T18:55:23.063865Z",
     "iopub.status.idle": "2022-12-03T18:55:23.074563Z",
     "shell.execute_reply": "2022-12-03T18:55:23.073742Z"
    },
    "id": "4ec7c07c",
    "papermill": {
     "duration": 0.035585,
     "end_time": "2022-12-03T18:55:23.076521",
     "exception": false,
     "start_time": "2022-12-03T18:55:23.040936",
     "status": "completed"
    },
    "tags": []
   },
   "outputs": [],
   "source": [
    "# Grasp all\n",
    "X_all = pd.concat([num_o,target_cat], axis=1)"
   ]
  },
  {
   "cell_type": "markdown",
   "metadata": {
    "id": "9a8d6728",
    "papermill": {
     "duration": 0.021924,
     "end_time": "2022-12-03T18:55:23.120175",
     "exception": false,
     "start_time": "2022-12-03T18:55:23.098251",
     "status": "completed"
    },
    "tags": []
   },
   "source": [
    "### Zero Variance Predictors"
   ]
  },
  {
   "cell_type": "code",
   "execution_count": 52,
   "metadata": {
    "colab": {
     "base_uri": "https://localhost:8080/"
    },
    "execution": {
     "iopub.execute_input": "2022-12-03T18:55:23.164233Z",
     "iopub.status.busy": "2022-12-03T18:55:23.163964Z",
     "iopub.status.idle": "2022-12-03T18:55:23.184681Z",
     "shell.execute_reply": "2022-12-03T18:55:23.183490Z"
    },
    "id": "3751b42d",
    "outputId": "4f98dbbd-774d-4a7d-e101-a894ef228929",
    "papermill": {
     "duration": 0.045197,
     "end_time": "2022-12-03T18:55:23.186734",
     "exception": false,
     "start_time": "2022-12-03T18:55:23.141537",
     "status": "completed"
    },
    "tags": []
   },
   "outputs": [
    {
     "data": {
      "text/plain": [
       "[]"
      ]
     },
     "execution_count": 52,
     "metadata": {},
     "output_type": "execute_result"
    }
   ],
   "source": [
    "# Find features with variance equal zero \n",
    "to_drop = [col for col in X_all.columns if np.var(X_all[col]) == 0]\n",
    "to_drop"
   ]
  },
  {
   "cell_type": "code",
   "execution_count": 53,
   "metadata": {
    "execution": {
     "iopub.execute_input": "2022-12-03T18:55:23.231481Z",
     "iopub.status.busy": "2022-12-03T18:55:23.231193Z",
     "iopub.status.idle": "2022-12-03T18:55:23.250498Z",
     "shell.execute_reply": "2022-12-03T18:55:23.249577Z"
    },
    "id": "2d0d473b",
    "papermill": {
     "duration": 0.04447,
     "end_time": "2022-12-03T18:55:23.252827",
     "exception": false,
     "start_time": "2022-12-03T18:55:23.208357",
     "status": "completed"
    },
    "tags": []
   },
   "outputs": [],
   "source": [
    "# Drop features \n",
    "X_all_v = X_all.drop(X_all[to_drop], axis=1)"
   ]
  },
  {
   "cell_type": "markdown",
   "metadata": {
    "id": "375d1f20",
    "papermill": {
     "duration": 0.021943,
     "end_time": "2022-12-03T18:55:23.296843",
     "exception": false,
     "start_time": "2022-12-03T18:55:23.274900",
     "status": "completed"
    },
    "tags": []
   },
   "source": [
    "### Correlated Predictors"
   ]
  },
  {
   "cell_type": "code",
   "execution_count": 54,
   "metadata": {
    "colab": {
     "base_uri": "https://localhost:8080/",
     "height": 593
    },
    "execution": {
     "iopub.execute_input": "2022-12-03T18:55:23.341685Z",
     "iopub.status.busy": "2022-12-03T18:55:23.341385Z",
     "iopub.status.idle": "2022-12-03T18:55:24.147277Z",
     "shell.execute_reply": "2022-12-03T18:55:24.146319Z"
    },
    "id": "ed33a430",
    "outputId": "494e9332-da5b-4e30-aa7a-2e26e9404ed5",
    "papermill": {
     "duration": 0.83104,
     "end_time": "2022-12-03T18:55:24.149628",
     "exception": false,
     "start_time": "2022-12-03T18:55:23.318588",
     "status": "completed"
    },
    "tags": []
   },
   "outputs": [
    {
     "data": {
      "image/png": "[encoded data removed]",
      "text/plain": [
       "<Figure size 360x360 with 2 Axes>"
      ]
     },
     "metadata": {
      "needs_background": "light"
     },
     "output_type": "display_data"
    }
   ],
   "source": [
    "# Correlation \n",
    "corr_matrix = X_all_v.corr(method ='spearman')\n",
    "sns.heatmap(corr_matrix, square = True, annot=True, fmt='.2f')\n",
    "plt.title('Correlation Heatmap on data set',size=15)\n",
    "plt.yticks(fontsize=\"15\")\n",
    "plt.xticks(fontsize=\"15\")\n",
    "plt.show()"
   ]
  },
  {
   "cell_type": "code",
   "execution_count": 55,
   "metadata": {
    "colab": {
     "base_uri": "https://localhost:8080/"
    },
    "execution": {
     "iopub.execute_input": "2022-12-03T18:55:24.198343Z",
     "iopub.status.busy": "2022-12-03T18:55:24.198026Z",
     "iopub.status.idle": "2022-12-03T18:55:24.208277Z",
     "shell.execute_reply": "2022-12-03T18:55:24.207353Z"
    },
    "id": "0dea80c4",
    "outputId": "850713a7-fc63-4be4-fadc-684546f9f846",
    "papermill": {
     "duration": 0.037533,
     "end_time": "2022-12-03T18:55:24.210277",
     "exception": false,
     "start_time": "2022-12-03T18:55:24.172744",
     "status": "completed"
    },
    "tags": []
   },
   "outputs": [
    {
     "data": {
      "text/plain": [
       "['Vehicle_Age', 'Vehicle_Damage']"
      ]
     },
     "execution_count": 55,
     "metadata": {},
     "output_type": "execute_result"
    }
   ],
   "source": [
    "# Select correlated features and removed it\n",
    "# Select upper triangle of correlation matrix\n",
    "upper = corr_matrix.where(np.triu(np.ones(corr_matrix.shape), k=1).astype(bool))\n",
    "# Find index of feature columns with correlation greater than 0.80\n",
    "to_drop = [column for column in upper.columns if any(upper[column].abs() > 0.80)]\n",
    "to_drop"
   ]
  },
  {
   "cell_type": "code",
   "execution_count": 56,
   "metadata": {
    "execution": {
     "iopub.execute_input": "2022-12-03T18:55:24.259597Z",
     "iopub.status.busy": "2022-12-03T18:55:24.258734Z",
     "iopub.status.idle": "2022-12-03T18:55:24.269311Z",
     "shell.execute_reply": "2022-12-03T18:55:24.268471Z"
    },
    "id": "d9e5253d",
    "papermill": {
     "duration": 0.037666,
     "end_time": "2022-12-03T18:55:24.271278",
     "exception": false,
     "start_time": "2022-12-03T18:55:24.233612",
     "status": "completed"
    },
    "tags": []
   },
   "outputs": [],
   "source": [
    "# Drop features \n",
    "X_all_c = X_all_v.drop(X_all_v[to_drop], axis=1)"
   ]
  },
  {
   "cell_type": "code",
   "execution_count": 57,
   "metadata": {
    "colab": {
     "base_uri": "https://localhost:8080/",
     "height": 206
    },
    "execution": {
     "iopub.execute_input": "2022-12-03T18:55:24.319380Z",
     "iopub.status.busy": "2022-12-03T18:55:24.318603Z",
     "iopub.status.idle": "2022-12-03T18:55:24.329662Z",
     "shell.execute_reply": "2022-12-03T18:55:24.328682Z"
    },
    "id": "7a44e79e",
    "outputId": "cb1b48af-98f4-4db9-8373-ad0c924954dc",
    "papermill": {
     "duration": 0.036862,
     "end_time": "2022-12-03T18:55:24.331810",
     "exception": false,
     "start_time": "2022-12-03T18:55:24.294948",
     "status": "completed"
    },
    "tags": []
   },
   "outputs": [
    {
     "data": {
      "text/html": [
       "<div>\n",
       "<style scoped>\n",
       "    .dataframe tbody tr th:only-of-type {\n",
       "        vertical-align: middle;\n",
       "    }\n",
       "\n",
       "    .dataframe tbody tr th {\n",
       "        vertical-align: top;\n",
       "    }\n",
       "\n",
       "    .dataframe thead th {\n",
       "        text-align: right;\n",
       "    }\n",
       "</style>\n",
       "<table border=\"1\" class=\"dataframe\">\n",
       "  <thead>\n",
       "    <tr style=\"text-align: right;\">\n",
       "      <th></th>\n",
       "      <th>Age</th>\n",
       "      <th>Annual_Premium</th>\n",
       "      <th>Vintage</th>\n",
       "      <th>Gender</th>\n",
       "      <th>Driving_License</th>\n",
       "      <th>Previously_Insured</th>\n",
       "    </tr>\n",
       "  </thead>\n",
       "  <tbody>\n",
       "    <tr>\n",
       "      <th>0</th>\n",
       "      <td>44</td>\n",
       "      <td>40454.0</td>\n",
       "      <td>217</td>\n",
       "      <td>1</td>\n",
       "      <td>1</td>\n",
       "      <td>0</td>\n",
       "    </tr>\n",
       "    <tr>\n",
       "      <th>1</th>\n",
       "      <td>76</td>\n",
       "      <td>33536.0</td>\n",
       "      <td>183</td>\n",
       "      <td>1</td>\n",
       "      <td>1</td>\n",
       "      <td>0</td>\n",
       "    </tr>\n",
       "    <tr>\n",
       "      <th>2</th>\n",
       "      <td>47</td>\n",
       "      <td>38294.0</td>\n",
       "      <td>27</td>\n",
       "      <td>1</td>\n",
       "      <td>1</td>\n",
       "      <td>0</td>\n",
       "    </tr>\n",
       "    <tr>\n",
       "      <th>3</th>\n",
       "      <td>21</td>\n",
       "      <td>28619.0</td>\n",
       "      <td>203</td>\n",
       "      <td>1</td>\n",
       "      <td>1</td>\n",
       "      <td>1</td>\n",
       "    </tr>\n",
       "    <tr>\n",
       "      <th>4</th>\n",
       "      <td>29</td>\n",
       "      <td>27496.0</td>\n",
       "      <td>39</td>\n",
       "      <td>0</td>\n",
       "      <td>1</td>\n",
       "      <td>1</td>\n",
       "    </tr>\n",
       "  </tbody>\n",
       "</table>\n",
       "</div>"
      ],
      "text/plain": [
       "   Age  Annual_Premium  Vintage  Gender  Driving_License  Previously_Insured\n",
       "0   44         40454.0      217       1                1                   0\n",
       "1   76         33536.0      183       1                1                   0\n",
       "2   47         38294.0       27       1                1                   0\n",
       "3   21         28619.0      203       1                1                   1\n",
       "4   29         27496.0       39       0                1                   1"
      ]
     },
     "execution_count": 57,
     "metadata": {},
     "output_type": "execute_result"
    }
   ],
   "source": [
    "X_all_c.head()"
   ]
  },
  {
   "cell_type": "code",
   "execution_count": 58,
   "metadata": {
    "execution": {
     "iopub.execute_input": "2022-12-03T18:55:24.380887Z",
     "iopub.status.busy": "2022-12-03T18:55:24.380243Z",
     "iopub.status.idle": "2022-12-03T18:55:24.408839Z",
     "shell.execute_reply": "2022-12-03T18:55:24.407881Z"
    },
    "id": "dfaeb182",
    "papermill": {
     "duration": 0.055361,
     "end_time": "2022-12-03T18:55:24.411236",
     "exception": false,
     "start_time": "2022-12-03T18:55:24.355875",
     "status": "completed"
    },
    "tags": []
   },
   "outputs": [],
   "source": [
    "# Normalization \n",
    "scaling = MinMaxScaler()\n",
    "# Normalization of numerical features\n",
    "num_sc = pd.DataFrame(scaling.fit_transform(X_all_c[['Age','Annual_Premium','Vintage']]), columns= ['Age','Annual_Premium','Vintage'])\n",
    "# Grasp all\n",
    "X_all_sc = pd.concat([num_sc, X_all_c[['Gender','Driving_License','Previously_Insured']]], axis=1)"
   ]
  },
  {
   "cell_type": "code",
   "execution_count": 59,
   "metadata": {
    "execution": {
     "iopub.execute_input": "2022-12-03T18:55:24.460837Z",
     "iopub.status.busy": "2022-12-03T18:55:24.460149Z",
     "iopub.status.idle": "2022-12-03T18:55:24.591015Z",
     "shell.execute_reply": "2022-12-03T18:55:24.589838Z"
    },
    "id": "cef98b90",
    "papermill": {
     "duration": 0.158598,
     "end_time": "2022-12-03T18:55:24.594048",
     "exception": false,
     "start_time": "2022-12-03T18:55:24.435450",
     "status": "completed"
    },
    "tags": []
   },
   "outputs": [],
   "source": [
    "# Split data set\n",
    "# Break off train and test set from data\n",
    "X_train, X_test, y_train, y_test = train_test_split(X_all_sc, y, train_size=0.8, test_size=0.2,\n",
    "                                                    stratify=y,random_state=0)"
   ]
  },
  {
   "cell_type": "code",
   "execution_count": 60,
   "metadata": {},
   "outputs": [],
   "source": [
    "X_train.to_csv('X_train.csv', index=False)"
   ]
  },
  {
   "cell_type": "code",
   "execution_count": 61,
   "metadata": {},
   "outputs": [],
   "source": [
    "X_test.to_csv('X_test.csv', index=False)"
   ]
  },
  {
   "cell_type": "code",
   "execution_count": 62,
   "metadata": {},
   "outputs": [],
   "source": [
    "y_train.to_csv('y_train.csv', index=False)"
   ]
  },
  {
   "cell_type": "code",
   "execution_count": 63,
   "metadata": {},
   "outputs": [],
   "source": [
    "y_test.to_csv('y_test.csv', index=False)"
   ]
  },
  {
   "cell_type": "markdown",
   "metadata": {
    "id": "880fde51",
    "papermill": {
     "duration": 0.022928,
     "end_time": "2022-12-03T18:55:24.641467",
     "exception": false,
     "start_time": "2022-12-03T18:55:24.618539",
     "status": "completed"
    },
    "tags": []
   },
   "source": [
    "# Spot check Models"
   ]
  },
  {
   "cell_type": "markdown",
   "metadata": {},
   "source": [
    "Logistic Regression (LR) is used as a benchmark model, because it is usually used as reference in Insurance, \n",
    "and also because in terms of calibration for the evaluation it is a calibrated model.\n",
    "\n",
    "For this job Logistic Regression (LR) has been compared with Gaussian Naive Bayes model (GNB), and Histogram-Based Gradient Boosting Machine (HGBM).\n",
    "\n",
    "Each model is evaluated if it is properly calibrated, and eventually, is applied the Platt Scaling to perform a well-calibrated classifier. "
   ]
  },
  {
   "cell_type": "code",
   "execution_count": 64,
   "metadata": {},
   "outputs": [],
   "source": [
    "# check calibration\n",
    "# Generate probability predictions from your model\n",
    "def calibration(model, xdata, ydata, model_name):\n",
    "    plt.rcParams['figure.figsize']=(15,5)\n",
    "    probabilities = model.predict_proba(X_test)\n",
    "    predicted_probabilities = probabilities[:, 1]\n",
    "\n",
    "# Get true outcome value for each test observation\n",
    "    test_outcomes = y_test\n",
    "\n",
    "# Generate the calibration curve data\n",
    "    calibration_curve_data = calibration_curve(test_outcomes, predicted_probabilities, n_bins=10)\n",
    "    \n",
    "\n",
    "# Plot the calibration curve\n",
    "    plt.plot(calibration_curve_data[1], calibration_curve_data[0], marker='.')\n",
    "    plt.plot([0, 1], [0, 1], linestyle='--')\n",
    "    plt.xlabel('Predicted probability')\n",
    "    plt.ylabel('Observed frequency')\n",
    "    plt.title('{} Calibration Curve'.format(model_name))\n",
    "    \n",
    "    plt.show()\n",
    "    "
   ]
  },
  {
   "cell_type": "markdown",
   "metadata": {},
   "source": [
    "#### Logistic Regression Model"
   ]
  },
  {
   "cell_type": "code",
   "execution_count": 65,
   "metadata": {},
   "outputs": [
    {
     "name": "stdout",
     "output_type": "stream",
     "text": [
      "Training time: 4.20258641242981s\n"
     ]
    }
   ],
   "source": [
    "# LR model\n",
    "start = time.time()\n",
    "skf = StratifiedKFold(n_splits=5,random_state=0, shuffle=True)\n",
    "LR = LogisticRegression(random_state=0)\n",
    "\n",
    "param_grid = {}\n",
    "LR_model = GridSearchCV(LR,param_grid,cv=skf)\n",
    "LR_classifier = LR_model.fit(X_train, y_train)\n",
    "# save the model to disk\n",
    "with open('LR_classifier.pkl', 'wb') as pickle_out:\n",
    "    serialized_classifier = pickle.dumps(LR_classifier)\n",
    "    pickle_out.write(serialized_classifier)\n",
    "\n",
    "# loading in the model to predict on the data\n",
    "with open('LR_classifier.pkl', 'rb') as pickle_in:\n",
    "    LR_classifier = pickle.load(pickle_in)\n",
    "    \n",
    "predictions_tr = LR_classifier.predict_proba(X_train)[:, 1]\n",
    "predictions_t = LR_classifier.predict_proba(X_test)[:, 1]\n",
    "LR_auc_train = roc_auc_score(y_train, predictions_tr)  \n",
    "LR_auc_test = roc_auc_score(y_test, predictions_t) \n",
    "score= {'model':['LR'], 'auc_train':[LR_auc_train],'auc_test':[LR_auc_test]}\n",
    "LR_score= pd.DataFrame(score)\n",
    "stop = time.time()\n",
    "print(f\"Training time: {stop - start}s\")"
   ]
  },
  {
   "cell_type": "code",
   "execution_count": 66,
   "metadata": {},
   "outputs": [
    {
     "data": {
      "image/png": "[encoded data removed]",
      "text/plain": [
       "<Figure size 1080x360 with 1 Axes>"
      ]
     },
     "metadata": {
      "needs_background": "light"
     },
     "output_type": "display_data"
    }
   ],
   "source": [
    "calibration(LR_classifier, X_test, y_test, \"LR\")"
   ]
  },
  {
   "cell_type": "code",
   "execution_count": 67,
   "metadata": {},
   "outputs": [
    {
     "data": {
      "text/html": [
       "<div>\n",
       "<style scoped>\n",
       "    .dataframe tbody tr th:only-of-type {\n",
       "        vertical-align: middle;\n",
       "    }\n",
       "\n",
       "    .dataframe tbody tr th {\n",
       "        vertical-align: top;\n",
       "    }\n",
       "\n",
       "    .dataframe thead th {\n",
       "        text-align: right;\n",
       "    }\n",
       "</style>\n",
       "<table border=\"1\" class=\"dataframe\">\n",
       "  <thead>\n",
       "    <tr style=\"text-align: right;\">\n",
       "      <th></th>\n",
       "      <th>model</th>\n",
       "      <th>auc_train</th>\n",
       "      <th>auc_test</th>\n",
       "    </tr>\n",
       "  </thead>\n",
       "  <tbody>\n",
       "    <tr>\n",
       "      <th>0</th>\n",
       "      <td>LR</td>\n",
       "      <td>0.779368</td>\n",
       "      <td>0.778922</td>\n",
       "    </tr>\n",
       "  </tbody>\n",
       "</table>\n",
       "</div>"
      ],
      "text/plain": [
       "  model  auc_train  auc_test\n",
       "0    LR   0.779368  0.778922"
      ]
     },
     "execution_count": 67,
     "metadata": {},
     "output_type": "execute_result"
    }
   ],
   "source": [
    "LR_score"
   ]
  },
  {
   "cell_type": "markdown",
   "metadata": {},
   "source": [
    "#### Gaussian Naive Bayes Model"
   ]
  },
  {
   "cell_type": "markdown",
   "metadata": {},
   "source": [
    "The Naive Bayes is not calibrated, so it is applied a Platt Scaling method to perform a well-calibrated model.\n",
    "The method consists in fitting the predicted probabilities given by the uncalibrated model for the positive class to the sigmoid function."
   ]
  },
  {
   "cell_type": "code",
   "execution_count": 68,
   "metadata": {},
   "outputs": [
    {
     "name": "stdout",
     "output_type": "stream",
     "text": [
      "Training time: 0.9224696159362793s\n"
     ]
    }
   ],
   "source": [
    "# GNB model\n",
    "start = time.time()\n",
    "skf = StratifiedKFold(n_splits=5,random_state=0, shuffle=True)\n",
    "GNB= GaussianNB()\n",
    "param_grid = {}\n",
    "GNB_model = GridSearchCV(GNB,param_grid,cv=skf)\n",
    "GNB_classifier = GNB_model.fit(X_train, y_train)\n",
    "# save the model to disk\n",
    "with open('GNB_classifier.pkl', 'wb') as pickle_out:\n",
    "    serialized_classifier = pickle.dumps(GNB_classifier)\n",
    "    pickle_out.write(serialized_classifier)\n",
    "\n",
    "# loading in the model to predict on the data\n",
    "with open('GNB_classifier.pkl', 'rb') as pickle_in:\n",
    "    GNB_classifier = pickle.load(pickle_in)\n",
    "    \n",
    "predictions_tr = GNB_classifier.predict_proba(X_train)[:, 1]\n",
    "predictions_t = GNB_classifier.predict_proba(X_test)[:, 1]\n",
    "GNB_auc_train = roc_auc_score(y_train, predictions_tr)  \n",
    "GNB_auc_test = roc_auc_score(y_test, predictions_t) \n",
    "score= {'model':['GNB'], 'auc_train':[GNB_auc_train],'auc_test':[GNB_auc_test]}\n",
    "GNB_score= pd.DataFrame(score)\n",
    "stop = time.time()\n",
    "print(f\"Training time: {stop - start}s\")\n"
   ]
  },
  {
   "cell_type": "code",
   "execution_count": 69,
   "metadata": {},
   "outputs": [
    {
     "data": {
      "image/png": "[encoded data removed]",
      "text/plain": [
       "<Figure size 1080x360 with 1 Axes>"
      ]
     },
     "metadata": {
      "needs_background": "light"
     },
     "output_type": "display_data"
    }
   ],
   "source": [
    "calibration(GNB_classifier, X_test, y_test, \"GNB\")"
   ]
  },
  {
   "cell_type": "code",
   "execution_count": 70,
   "metadata": {},
   "outputs": [
    {
     "data": {
      "text/html": [
       "<div>\n",
       "<style scoped>\n",
       "    .dataframe tbody tr th:only-of-type {\n",
       "        vertical-align: middle;\n",
       "    }\n",
       "\n",
       "    .dataframe tbody tr th {\n",
       "        vertical-align: top;\n",
       "    }\n",
       "\n",
       "    .dataframe thead th {\n",
       "        text-align: right;\n",
       "    }\n",
       "</style>\n",
       "<table border=\"1\" class=\"dataframe\">\n",
       "  <thead>\n",
       "    <tr style=\"text-align: right;\">\n",
       "      <th></th>\n",
       "      <th>model</th>\n",
       "      <th>auc_train</th>\n",
       "      <th>auc_test</th>\n",
       "    </tr>\n",
       "  </thead>\n",
       "  <tbody>\n",
       "    <tr>\n",
       "      <th>0</th>\n",
       "      <td>GNB</td>\n",
       "      <td>0.805027</td>\n",
       "      <td>0.803807</td>\n",
       "    </tr>\n",
       "  </tbody>\n",
       "</table>\n",
       "</div>"
      ],
      "text/plain": [
       "  model  auc_train  auc_test\n",
       "0   GNB   0.805027  0.803807"
      ]
     },
     "execution_count": 70,
     "metadata": {},
     "output_type": "execute_result"
    }
   ],
   "source": [
    "GNB_score"
   ]
  },
  {
   "cell_type": "code",
   "execution_count": 71,
   "metadata": {
    "colab": {
     "base_uri": "https://localhost:8080/"
    },
    "id": "HD2ovtimgShg",
    "outputId": "3942d6f5-d6fe-49e1-9697-5b90102297e1"
   },
   "outputs": [
    {
     "name": "stdout",
     "output_type": "stream",
     "text": [
      "Training time: 1.4051926136016846s\n"
     ]
    }
   ],
   "source": [
    "# GNB model with calibration\n",
    "start = time.time()\n",
    "skf = StratifiedKFold(n_splits=5,random_state=0, shuffle=True)\n",
    "GNB_C= CalibratedClassifierCV(base_estimator=GaussianNB(), method='sigmoid')\n",
    "param_grid = {}\n",
    "GNB_C_model = GridSearchCV(GNB_C,param_grid,cv=skf)\n",
    "GNB_C_classifier = GNB_C.fit(X_train, y_train)\n",
    "# save the model to disk\n",
    "with open('GNB_classifier_.pkl', 'wb') as pickle_out:\n",
    "    serialized_classifier = pickle.dumps(GNB_C_classifier)\n",
    "    pickle_out.write(serialized_classifier)\n",
    "\n",
    "# loading in the model to predict on the data\n",
    "with open('GNB_classifier_.pkl', 'rb') as pickle_in:\n",
    "    GNB_C_classifier = pickle.load(pickle_in)\n",
    "    \n",
    "predictions_tr = GNB_C_classifier.predict_proba(X_train)[:, 1]\n",
    "predictions_t = GNB_C_classifier.predict_proba(X_test)[:, 1]\n",
    "GNB_auc_train = roc_auc_score(y_train, predictions_tr)  \n",
    "GNB_auc_test = roc_auc_score(y_test, predictions_t) \n",
    "score= {'model':['GNB'], 'auc_train':[GNB_auc_train],'auc_test':[GNB_auc_test]}\n",
    "GNB_score= pd.DataFrame(score)\n",
    "stop = time.time()\n",
    "print(f\"Training time: {stop - start}s\")\n"
   ]
  },
  {
   "cell_type": "code",
   "execution_count": 72,
   "metadata": {},
   "outputs": [
    {
     "data": {
      "image/png": "[encoded data removed]",
      "text/plain": [
       "<Figure size 1080x360 with 1 Axes>"
      ]
     },
     "metadata": {
      "needs_background": "light"
     },
     "output_type": "display_data"
    }
   ],
   "source": [
    "calibration(GNB_C_classifier, X_test, y_test, \"GNB\")"
   ]
  },
  {
   "cell_type": "code",
   "execution_count": 73,
   "metadata": {},
   "outputs": [
    {
     "data": {
      "text/html": [
       "<div>\n",
       "<style scoped>\n",
       "    .dataframe tbody tr th:only-of-type {\n",
       "        vertical-align: middle;\n",
       "    }\n",
       "\n",
       "    .dataframe tbody tr th {\n",
       "        vertical-align: top;\n",
       "    }\n",
       "\n",
       "    .dataframe thead th {\n",
       "        text-align: right;\n",
       "    }\n",
       "</style>\n",
       "<table border=\"1\" class=\"dataframe\">\n",
       "  <thead>\n",
       "    <tr style=\"text-align: right;\">\n",
       "      <th></th>\n",
       "      <th>model</th>\n",
       "      <th>auc_train</th>\n",
       "      <th>auc_test</th>\n",
       "    </tr>\n",
       "  </thead>\n",
       "  <tbody>\n",
       "    <tr>\n",
       "      <th>0</th>\n",
       "      <td>GNB</td>\n",
       "      <td>0.805083</td>\n",
       "      <td>0.803694</td>\n",
       "    </tr>\n",
       "  </tbody>\n",
       "</table>\n",
       "</div>"
      ],
      "text/plain": [
       "  model  auc_train  auc_test\n",
       "0   GNB   0.805083  0.803694"
      ]
     },
     "execution_count": 73,
     "metadata": {},
     "output_type": "execute_result"
    }
   ],
   "source": [
    "GNB_score"
   ]
  },
  {
   "cell_type": "markdown",
   "metadata": {},
   "source": [
    "#### Histogram-Based Gradient Boosting Machine Model"
   ]
  },
  {
   "cell_type": "code",
   "execution_count": 74,
   "metadata": {},
   "outputs": [
    {
     "name": "stdout",
     "output_type": "stream",
     "text": [
      "Training time: 14.550823211669922s\n"
     ]
    }
   ],
   "source": [
    "# HGBM model\n",
    "start = time.time()\n",
    "skf = StratifiedKFold(n_splits=5,random_state=0, shuffle=True)\n",
    "HGBM= HistGradientBoostingClassifier(random_state=0)\n",
    "param_grid = {}\n",
    "HGBM_model = GridSearchCV(HGBM,param_grid,cv=skf)\n",
    "HGBM_classifier = HGBM_model.fit(X_train, y_train)\n",
    "# save the model to disk\n",
    "with open('HGBM_classifier.pkl', 'wb') as pickle_out:\n",
    "    serialized_classifier = pickle.dumps(HGBM_classifier)\n",
    "    pickle_out.write(serialized_classifier)\n",
    "\n",
    "# loading in the model to predict on the data\n",
    "with open('HGBM_classifier.pkl', 'rb') as pickle_in:\n",
    "    HGBM_classifier = pickle.load(pickle_in)\n",
    "    \n",
    "predictions_tr = HGBM_classifier.predict_proba(X_train)[:, 1]\n",
    "predictions_t = HGBM_classifier.predict_proba(X_test)[:, 1]\n",
    "HGBM_auc_train = roc_auc_score(y_train, predictions_tr)  \n",
    "HGBM_auc_test = roc_auc_score(y_test, predictions_t) \n",
    "score= {'model':['HGBM'], 'auc_train':[HGBM_auc_train],'auc_test':[HGBM_auc_test]}\n",
    "HGBM_score= pd.DataFrame(score)\n",
    "stop = time.time()\n",
    "print(f\"Training time: {stop - start}s\")"
   ]
  },
  {
   "cell_type": "code",
   "execution_count": 75,
   "metadata": {},
   "outputs": [
    {
     "data": {
      "image/png": "[encoded data removed]",
      "text/plain": [
       "<Figure size 1080x360 with 1 Axes>"
      ]
     },
     "metadata": {
      "needs_background": "light"
     },
     "output_type": "display_data"
    }
   ],
   "source": [
    "calibration(HGBM_classifier, X_test, y_test, \"HGBM\")"
   ]
  },
  {
   "cell_type": "code",
   "execution_count": 76,
   "metadata": {},
   "outputs": [
    {
     "data": {
      "text/html": [
       "<div>\n",
       "<style scoped>\n",
       "    .dataframe tbody tr th:only-of-type {\n",
       "        vertical-align: middle;\n",
       "    }\n",
       "\n",
       "    .dataframe tbody tr th {\n",
       "        vertical-align: top;\n",
       "    }\n",
       "\n",
       "    .dataframe thead th {\n",
       "        text-align: right;\n",
       "    }\n",
       "</style>\n",
       "<table border=\"1\" class=\"dataframe\">\n",
       "  <thead>\n",
       "    <tr style=\"text-align: right;\">\n",
       "      <th></th>\n",
       "      <th>model</th>\n",
       "      <th>auc_train</th>\n",
       "      <th>auc_test</th>\n",
       "    </tr>\n",
       "  </thead>\n",
       "  <tbody>\n",
       "    <tr>\n",
       "      <th>0</th>\n",
       "      <td>HGBM</td>\n",
       "      <td>0.832758</td>\n",
       "      <td>0.82607</td>\n",
       "    </tr>\n",
       "  </tbody>\n",
       "</table>\n",
       "</div>"
      ],
      "text/plain": [
       "  model  auc_train  auc_test\n",
       "0  HGBM   0.832758   0.82607"
      ]
     },
     "execution_count": 76,
     "metadata": {},
     "output_type": "execute_result"
    }
   ],
   "source": [
    "HGBM_score"
   ]
  },
  {
   "cell_type": "code",
   "execution_count": 77,
   "metadata": {
    "colab": {
     "base_uri": "https://localhost:8080/",
     "height": 175
    },
    "id": "MOsHZMnJpKDU",
    "outputId": "4edb4a46-d417-4ce7-f64c-8dd29abfad51"
   },
   "outputs": [
    {
     "data": {
      "text/html": [
       "<div>\n",
       "<style scoped>\n",
       "    .dataframe tbody tr th:only-of-type {\n",
       "        vertical-align: middle;\n",
       "    }\n",
       "\n",
       "    .dataframe tbody tr th {\n",
       "        vertical-align: top;\n",
       "    }\n",
       "\n",
       "    .dataframe thead th {\n",
       "        text-align: right;\n",
       "    }\n",
       "</style>\n",
       "<table border=\"1\" class=\"dataframe\">\n",
       "  <thead>\n",
       "    <tr style=\"text-align: right;\">\n",
       "      <th></th>\n",
       "      <th>model</th>\n",
       "      <th>auc_train</th>\n",
       "      <th>auc_test</th>\n",
       "    </tr>\n",
       "  </thead>\n",
       "  <tbody>\n",
       "    <tr>\n",
       "      <th>0</th>\n",
       "      <td>LR</td>\n",
       "      <td>0.779368</td>\n",
       "      <td>0.778922</td>\n",
       "    </tr>\n",
       "    <tr>\n",
       "      <th>0</th>\n",
       "      <td>GNB</td>\n",
       "      <td>0.805083</td>\n",
       "      <td>0.803694</td>\n",
       "    </tr>\n",
       "    <tr>\n",
       "      <th>0</th>\n",
       "      <td>HGBM</td>\n",
       "      <td>0.832758</td>\n",
       "      <td>0.826070</td>\n",
       "    </tr>\n",
       "  </tbody>\n",
       "</table>\n",
       "</div>"
      ],
      "text/plain": [
       "  model  auc_train  auc_test\n",
       "0    LR   0.779368  0.778922\n",
       "0   GNB   0.805083  0.803694\n",
       "0  HGBM   0.832758  0.826070"
      ]
     },
     "execution_count": 77,
     "metadata": {},
     "output_type": "execute_result"
    }
   ],
   "source": [
    "score_cal = LR_score.append(GNB_score)\n",
    "score_cal = score_cal.append(HGBM_score)\n",
    "score_cal"
   ]
  },
  {
   "cell_type": "code",
   "execution_count": 78,
   "metadata": {
    "colab": {
     "base_uri": "https://localhost:8080/",
     "height": 547
    },
    "id": "fUC8j27wHSkJ",
    "outputId": "b2893447-5ef1-485f-b066-36c2d7ba7a2f"
   },
   "outputs": [
    {
     "name": "stdout",
     "output_type": "stream",
     "text": [
      "Spot Check Models\n"
     ]
    },
    {
     "data": {
      "image/png": "[encoded data removed]",
      "text/plain": [
       "<Figure size 1080x360 with 2 Axes>"
      ]
     },
     "metadata": {
      "needs_background": "light"
     },
     "output_type": "display_data"
    }
   ],
   "source": [
    "# Plot results for a graphical comparison\n",
    "print(\"Spot Check Models\")\n",
    "plt.rcParams['figure.figsize']=(15,5)\n",
    "plt.figure()\n",
    "plt.subplot(1,2,1)  \n",
    "sns.stripplot(x=\"model\", y=\"auc_train\",data=score_cal,size=15)\n",
    "plt.xticks(rotation=45)\n",
    "plt.title('Train results')\n",
    "axes = plt.gca()\n",
    "axes.set_ylim([0,1.1])\n",
    "plt.subplot(1,2,2)\n",
    "sns.stripplot(x=\"model\", y=\"auc_test\",data=score_cal,size=15)\n",
    "plt.xticks(rotation=45)\n",
    "plt.title('Test results')\n",
    "axes = plt.gca()\n",
    "axes.set_ylim([0,1.1])\n",
    "plt.show()"
   ]
  },
  {
   "cell_type": "markdown",
   "metadata": {},
   "source": [
    "Hist Gradient Boosting Machine shows the best performance, then it's been fine tuned both in the hyperparameters and threshold optimization."
   ]
  },
  {
   "cell_type": "markdown",
   "metadata": {
    "id": "1af3a312",
    "papermill": {
     "duration": 0.023983,
     "end_time": "2022-12-03T18:56:35.557978",
     "exception": false,
     "start_time": "2022-12-03T18:56:35.533995",
     "status": "completed"
    },
    "tags": []
   },
   "source": [
    "# Tuning"
   ]
  },
  {
   "cell_type": "code",
   "execution_count": 79,
   "metadata": {
    "colab": {
     "base_uri": "https://localhost:8080/"
    },
    "execution": {
     "iopub.execute_input": "2022-12-03T18:56:35.614127Z",
     "iopub.status.busy": "2022-12-03T18:56:35.613374Z",
     "iopub.status.idle": "2022-12-03T18:57:50.126011Z",
     "shell.execute_reply": "2022-12-03T18:57:50.124714Z"
    },
    "id": "a6fb7bc7",
    "outputId": "b51ea513-b79b-419f-b50c-05a6629d99f3",
    "papermill": {
     "duration": 74.567525,
     "end_time": "2022-12-03T18:57:50.152399",
     "exception": false,
     "start_time": "2022-12-03T18:56:35.584874",
     "status": "completed"
    },
    "tags": []
   },
   "outputs": [
    {
     "name": "stdout",
     "output_type": "stream",
     "text": [
      "Training time: 40.6683464050293s\n"
     ]
    }
   ],
   "source": [
    "start = time.time()\n",
    "# cross validation\n",
    "skf = StratifiedKFold(n_splits=5, random_state=0, shuffle=True)\n",
    "# define models and hyperparameters\n",
    "HGBM = HistGradientBoostingClassifier(random_state=0)\n",
    "# define grid search\n",
    "hyp_space = {\"max_depth\": [10,21],\n",
    "             \"learning_rate\": [0.02,0.5],\n",
    "             \"max_bins\": [80, 195]}\n",
    "# Tuning and fit the model \n",
    "HGBM_model_ = GridSearchCV(HGBM, hyp_space, n_jobs=-1, cv=skf, scoring='roc_auc', error_score=0).fit(X_train, y_train)\n",
    "stop = time.time()\n",
    "print(f\"Training time: {stop-start}s\")"
   ]
  },
  {
   "cell_type": "code",
   "execution_count": 80,
   "metadata": {
    "execution": {
     "iopub.execute_input": "2022-12-03T18:57:50.202904Z",
     "iopub.status.busy": "2022-12-03T18:57:50.202567Z",
     "iopub.status.idle": "2022-12-03T18:57:50.208864Z",
     "shell.execute_reply": "2022-12-03T18:57:50.207892Z"
    },
    "id": "ef41f700",
    "papermill": {
     "duration": 0.0337,
     "end_time": "2022-12-03T18:57:50.210911",
     "exception": false,
     "start_time": "2022-12-03T18:57:50.177211",
     "status": "completed"
    },
    "tags": []
   },
   "outputs": [
    {
     "name": "stdout",
     "output_type": "stream",
     "text": [
      "Best parameters are: {'learning_rate': 0.02, 'max_bins': 80, 'max_depth': 10}\n",
      "\n",
      "\n",
      "0.827 + or -0.001 for the {'learning_rate': 0.02, 'max_bins': 80, 'max_depth': 10}\n",
      "0.827 + or -0.001 for the {'learning_rate': 0.02, 'max_bins': 80, 'max_depth': 21}\n",
      "0.827 + or -0.001 for the {'learning_rate': 0.02, 'max_bins': 195, 'max_depth': 10}\n",
      "0.827 + or -0.001 for the {'learning_rate': 0.02, 'max_bins': 195, 'max_depth': 21}\n",
      "0.821 + or -0.006 for the {'learning_rate': 0.5, 'max_bins': 80, 'max_depth': 10}\n",
      "0.825 + or -0.002 for the {'learning_rate': 0.5, 'max_bins': 80, 'max_depth': 21}\n",
      "0.825 + or -0.001 for the {'learning_rate': 0.5, 'max_bins': 195, 'max_depth': 10}\n",
      "0.825 + or -0.001 for the {'learning_rate': 0.5, 'max_bins': 195, 'max_depth': 21}\n"
     ]
    }
   ],
   "source": [
    "def display(results):\n",
    "    print(f'Best parameters are: {results.best_params_}')\n",
    "    print(\"\\n\")\n",
    "    mean_score = results.cv_results_['mean_test_score'] \n",
    "    std_score = results.cv_results_['std_test_score'] \n",
    "    params = results.cv_results_['params']\n",
    "    for mean,std,params in zip(mean_score,std_score,params):\n",
    "        print(f'{round(mean,3)} + or -{round(std,3)} for the {params}')\n",
    "        \n",
    "display(HGBM_model_)"
   ]
  },
  {
   "cell_type": "markdown",
   "metadata": {
    "id": "e6dc6bfc",
    "papermill": {
     "duration": 0.023482,
     "end_time": "2022-12-03T18:57:50.316280",
     "exception": false,
     "start_time": "2022-12-03T18:57:50.292798",
     "status": "completed"
    },
    "tags": []
   },
   "source": [
    "# Modelling"
   ]
  },
  {
   "cell_type": "code",
   "execution_count": 81,
   "metadata": {
    "execution": {
     "iopub.execute_input": "2022-12-03T18:57:50.366190Z",
     "iopub.status.busy": "2022-12-03T18:57:50.365876Z",
     "iopub.status.idle": "2022-12-03T18:57:54.727854Z",
     "shell.execute_reply": "2022-12-03T18:57:54.726860Z"
    },
    "id": "fff7bdc4",
    "papermill": {
     "duration": 4.390144,
     "end_time": "2022-12-03T18:57:54.730334",
     "exception": false,
     "start_time": "2022-12-03T18:57:50.340190",
     "status": "completed"
    },
    "tags": []
   },
   "outputs": [],
   "source": [
    "# HGBM Model\n",
    "HGBM_ = HistGradientBoostingClassifier(random_state=0,learning_rate=0.02, max_bins=80, max_depth= 10)\n",
    "                               \n",
    "# fit the model\n",
    "HGBM_tclassifier = HGBM_.fit(X_train, y_train)"
   ]
  },
  {
   "cell_type": "code",
   "execution_count": 82,
   "metadata": {},
   "outputs": [],
   "source": [
    "# save the model to disk\n",
    "with open('HGBM_tclassifier.pkl', 'wb') as pickle_out:\n",
    "    serialized_classifier = pickle.dumps(HGBM_tclassifier)\n",
    "    pickle_out.write(serialized_classifier)\n",
    "\n",
    "# loading in the model to predict on the data\n",
    "with open('HGBM_tclassifier.pkl', 'rb') as pickle_in:\n",
    "    HGBM_tclassifier = pickle.load(pickle_in)"
   ]
  },
  {
   "cell_type": "code",
   "execution_count": 83,
   "metadata": {
    "colab": {
     "base_uri": "https://localhost:8080/"
    },
    "execution": {
     "iopub.execute_input": "2022-12-03T18:57:54.781083Z",
     "iopub.status.busy": "2022-12-03T18:57:54.780043Z",
     "iopub.status.idle": "2022-12-03T18:57:57.621107Z",
     "shell.execute_reply": "2022-12-03T18:57:57.619836Z"
    },
    "id": "dd5c8a73",
    "outputId": "f5dbf7c3-b24d-4faa-e674-b0a9558e106f",
    "papermill": {
     "duration": 2.869486,
     "end_time": "2022-12-03T18:57:57.623902",
     "exception": false,
     "start_time": "2022-12-03T18:57:54.754416",
     "status": "completed"
    },
    "tags": []
   },
   "outputs": [
    {
     "name": "stdout",
     "output_type": "stream",
     "text": [
      "Training time: 0.5147049427032471s\n"
     ]
    }
   ],
   "source": [
    "start = time.time()\n",
    "# prediction\n",
    "predictions_tr = HGBM_classifier.predict_proba(X_train)[:, 1]\n",
    "predictions_tr_ = pd.DataFrame(predictions_tr, columns=['y_train_pred'])\n",
    "predictions_te = HGBM_tclassifier.predict_proba(X_test)[:, 1]\n",
    "predictions_te_ = pd.DataFrame(predictions_te, columns=['y_test_pred'])\n",
    "stop = time.time()\n",
    "print(f\"Training time: {stop-start}s\")"
   ]
  },
  {
   "cell_type": "markdown",
   "metadata": {
    "id": "fd7528b5",
    "papermill": {
     "duration": 0.023477,
     "end_time": "2022-12-03T18:57:57.672830",
     "exception": false,
     "start_time": "2022-12-03T18:57:57.649353",
     "status": "completed"
    },
    "tags": []
   },
   "source": [
    "# Evaluation"
   ]
  },
  {
   "cell_type": "code",
   "execution_count": 84,
   "metadata": {
    "execution": {
     "iopub.execute_input": "2022-12-03T18:57:57.721491Z",
     "iopub.status.busy": "2022-12-03T18:57:57.720863Z",
     "iopub.status.idle": "2022-12-03T18:58:00.418217Z",
     "shell.execute_reply": "2022-12-03T18:58:00.417207Z"
    },
    "id": "4a760bb7",
    "papermill": {
     "duration": 2.72444,
     "end_time": "2022-12-03T18:58:00.420910",
     "exception": false,
     "start_time": "2022-12-03T18:57:57.696470",
     "status": "completed"
    },
    "tags": []
   },
   "outputs": [],
   "source": [
    "auc_train = roc_auc_score(y_train, HGBM_tclassifier.predict_proba(X_train)[:, 1])  \n",
    "auc_test = roc_auc_score(y_test, HGBM_tclassifier.predict_proba(X_test)[:, 1]) "
   ]
  },
  {
   "cell_type": "code",
   "execution_count": 85,
   "metadata": {
    "colab": {
     "base_uri": "https://localhost:8080/",
     "height": 98
    },
    "execution": {
     "iopub.execute_input": "2022-12-03T18:58:00.469977Z",
     "iopub.status.busy": "2022-12-03T18:58:00.469648Z",
     "iopub.status.idle": "2022-12-03T18:58:00.485199Z",
     "shell.execute_reply": "2022-12-03T18:58:00.483585Z"
    },
    "id": "71b368ef",
    "outputId": "57baa101-5d3f-46d6-91bb-ab9edde4791c",
    "papermill": {
     "duration": 0.04392,
     "end_time": "2022-12-03T18:58:00.489087",
     "exception": false,
     "start_time": "2022-12-03T18:58:00.445167",
     "status": "completed"
    },
    "tags": []
   },
   "outputs": [
    {
     "name": "stdout",
     "output_type": "stream",
     "text": [
      "HGBM evaluation on cross-sell prediction\n"
     ]
    },
    {
     "data": {
      "text/html": [
       "<div>\n",
       "<style scoped>\n",
       "    .dataframe tbody tr th:only-of-type {\n",
       "        vertical-align: middle;\n",
       "    }\n",
       "\n",
       "    .dataframe tbody tr th {\n",
       "        vertical-align: top;\n",
       "    }\n",
       "\n",
       "    .dataframe thead th {\n",
       "        text-align: right;\n",
       "    }\n",
       "</style>\n",
       "<table border=\"1\" class=\"dataframe\">\n",
       "  <thead>\n",
       "    <tr style=\"text-align: right;\">\n",
       "      <th></th>\n",
       "      <th>model</th>\n",
       "      <th>evaluation</th>\n",
       "      <th>train</th>\n",
       "      <th>test</th>\n",
       "    </tr>\n",
       "  </thead>\n",
       "  <tbody>\n",
       "    <tr>\n",
       "      <th>0</th>\n",
       "      <td>HGBM</td>\n",
       "      <td>AUC</td>\n",
       "      <td>0.829531</td>\n",
       "      <td>0.826265</td>\n",
       "    </tr>\n",
       "  </tbody>\n",
       "</table>\n",
       "</div>"
      ],
      "text/plain": [
       "  model evaluation     train      test\n",
       "0  HGBM        AUC  0.829531  0.826265"
      ]
     },
     "execution_count": 85,
     "metadata": {},
     "output_type": "execute_result"
    }
   ],
   "source": [
    "# metrics table\n",
    "d1 = {'evaluation': ['AUC'],\n",
    "     'model': ['HGBM'],\n",
    "    'train': [auc_train],\n",
    "    'test': [auc_test]\n",
    "        }\n",
    "df1 = pd.DataFrame(data=d1, columns=['model','evaluation','train','test'])\n",
    "print('HGBM evaluation on cross-sell prediction')\n",
    "df1"
   ]
  },
  {
   "cell_type": "markdown",
   "metadata": {},
   "source": [
    "### Threshold optimization"
   ]
  },
  {
   "cell_type": "code",
   "execution_count": 86,
   "metadata": {},
   "outputs": [
    {
     "name": "stdout",
     "output_type": "stream",
     "text": [
      "Best threshold: 0.21\n"
     ]
    }
   ],
   "source": [
    "# Use f1_score to maximize\n",
    "metric = f1_score\n",
    "\n",
    "# Generate a range of classification thresholds to evaluate\n",
    "thresholds = np.arange(0.0, 1.01, 0.01)\n",
    "\n",
    "# Compute the metric for each threshold\n",
    "metric_values = [metric(y_test, np.where(predictions_te >= threshold, 1, 0)) for threshold in thresholds]\n",
    "\n",
    "# Find the best threshold that maximizes the metric\n",
    "best_threshold = thresholds[np.argmax(metric_values)]\n",
    "\n",
    "print(\"Best threshold:\", best_threshold)\n"
   ]
  },
  {
   "cell_type": "code",
   "execution_count": 87,
   "metadata": {},
   "outputs": [
    {
     "name": "stdout",
     "output_type": "stream",
     "text": [
      "ROC on test\n"
     ]
    },
    {
     "data": {
      "image/png": "[encoded data removed]",
      "text/plain": [
       "<Figure size 720x360 with 1 Axes>"
      ]
     },
     "metadata": {
      "needs_background": "light"
     },
     "output_type": "display_data"
    }
   ],
   "source": [
    "# compute the tpr and fpr from the prediction\n",
    "fpr, tpr, thresholds = roc_curve(y_test, predictions_te)\n",
    "\n",
    "# Plot the ROC curve\n",
    "plt.rcParams['figure.figsize']=(10,5)\n",
    "plt.plot(fpr, tpr, label='ROC Curve (AUC = %0.2f)' % auc(fpr, tpr))\n",
    "plt.plot([0, 1], [0, 1], 'k--')\n",
    "plt.xlim([0.0, 1.0])\n",
    "plt.ylim([0.0, 1.05])\n",
    "plt.xlabel('False Positive Rate')\n",
    "plt.ylabel('True Positive Rate')\n",
    "plt.title('Receiver Operating Characteristic (ROC) Curve')\n",
    "plt.legend(loc=\"lower right\")\n",
    "\n",
    "# Adjust the threshold and compute the true positive rate (TPR) and false positive rate (FPR)\n",
    "threshold = 0.21\n",
    "y_pred = np.where(predictions_te >= threshold, 1, 0)\n",
    "fpr_new, tpr_new, _ = roc_curve(y_test, y_pred)\n",
    "\n",
    "# Plot the new point on the ROC curve\n",
    "plt.scatter(fpr_new, tpr_new, c='r', label='New Threshold = %0.2f' % threshold)\n",
    "plt.legend(loc=\"lower right\")\n",
    "print('ROC on test')\n",
    "plt.show()\n"
   ]
  },
  {
   "cell_type": "code",
   "execution_count": 88,
   "metadata": {},
   "outputs": [
    {
     "data": {
      "image/png": "[encoded data removed]",
      "text/plain": [
       "<Figure size 720x360 with 1 Axes>"
      ]
     },
     "metadata": {
      "needs_background": "light"
     },
     "output_type": "display_data"
    }
   ],
   "source": [
    "# create a barplot for a comparison between test values and predicted values\n",
    "y_test_= np.array(y_test)\n",
    "y_test_ = y_test_.flatten()\n",
    "y_pred = y_pred.flatten()\n",
    "df_2 = pd.DataFrame({'Actual': y_test_, 'Predicted': y_pred})\n",
    "sns.countplot(x='value', hue='variable', data=pd.melt(df_2))\n",
    "plt.title('True vs Predicted Labels')\n",
    "plt.show()"
   ]
  },
  {
   "cell_type": "markdown",
   "metadata": {
    "id": "76864174",
    "papermill": {
     "duration": 0.024867,
     "end_time": "2022-12-03T18:58:03.730023",
     "exception": false,
     "start_time": "2022-12-03T18:58:03.705156",
     "status": "completed"
    },
    "tags": []
   },
   "source": [
    "# Feature Importance"
   ]
  },
  {
   "cell_type": "markdown",
   "metadata": {},
   "source": [
    "The most relevant feature with impact on the target variable is \"Previously_Insured\"."
   ]
  },
  {
   "cell_type": "code",
   "execution_count": 89,
   "metadata": {
    "execution": {
     "iopub.execute_input": "2022-12-03T18:58:03.781777Z",
     "iopub.status.busy": "2022-12-03T18:58:03.780877Z",
     "iopub.status.idle": "2022-12-03T18:58:32.147181Z",
     "shell.execute_reply": "2022-12-03T18:58:32.146144Z"
    },
    "id": "e5152934",
    "papermill": {
     "duration": 28.395552,
     "end_time": "2022-12-03T18:58:32.149969",
     "exception": false,
     "start_time": "2022-12-03T18:58:03.754417",
     "status": "completed"
    },
    "tags": []
   },
   "outputs": [],
   "source": [
    "HGBM_explainer = shap.TreeExplainer(HistGradientBoostingClassifier(random_state=0,learning_rate=0.02, max_bins=80, max_depth= 10).fit(X_train, y_train))"
   ]
  },
  {
   "cell_type": "code",
   "execution_count": 90,
   "metadata": {},
   "outputs": [],
   "source": [
    "# save the model to disk\n",
    "with open('HGBM_explainer.pkl', 'wb') as pickle_out:\n",
    "    serialized_explainer = pickle.dumps(HGBM_explainer)\n",
    "    pickle_out.write(serialized_explainer)\n",
    "\n",
    "# loading in the model to predict on the data\n",
    "with open('HGBM_explainer.pkl', 'rb') as pickle_in:\n",
    "    HGBM_explainer = pickle.load(pickle_in)\n"
   ]
  },
  {
   "cell_type": "code",
   "execution_count": 91,
   "metadata": {},
   "outputs": [],
   "source": [
    "shap_values = HGBM_explainer.shap_values(X_test)"
   ]
  },
  {
   "cell_type": "code",
   "execution_count": 92,
   "metadata": {},
   "outputs": [],
   "source": [
    "# Save the SHAP values on the disk\n",
    "np.save('shap_values.npy', shap_values)\n",
    "\n",
    "# load shap_values:\n",
    "shap_values = np.load('shap_values.npy')"
   ]
  },
  {
   "cell_type": "code",
   "execution_count": 93,
   "metadata": {
    "colab": {
     "base_uri": "https://localhost:8080/",
     "height": 414
    },
    "execution": {
     "iopub.execute_input": "2022-12-03T18:58:32.201448Z",
     "iopub.status.busy": "2022-12-03T18:58:32.201131Z",
     "iopub.status.idle": "2022-12-03T18:58:32.459232Z",
     "shell.execute_reply": "2022-12-03T18:58:32.458287Z"
    },
    "id": "6a8abb21",
    "outputId": "4b215476-6b69-401a-e449-30810dad4e40",
    "papermill": {
     "duration": 0.28595,
     "end_time": "2022-12-03T18:58:32.461352",
     "exception": false,
     "start_time": "2022-12-03T18:58:32.175402",
     "status": "completed"
    },
    "tags": []
   },
   "outputs": [
    {
     "name": "stdout",
     "output_type": "stream",
     "text": [
      "HGBM SHAP BARPLOT on test Values\n"
     ]
    },
    {
     "data": {
      "image/png": "[encoded data removed]",
      "text/plain": [
       "<Figure size 576x280.8 with 1 Axes>"
      ]
     },
     "metadata": {
      "needs_background": "light"
     },
     "output_type": "display_data"
    }
   ],
   "source": [
    "# Global SHAP on test\n",
    "print(\"HGBM SHAP BARPLOT on test Values\")\n",
    "shap.summary_plot(shap_values, features=X_test, feature_names=X_test.columns,plot_type='bar')"
   ]
  },
  {
   "cell_type": "markdown",
   "metadata": {
    "id": "USPvX8coMbqX"
   },
   "source": [
    "# Profiling Interested Customers"
   ]
  },
  {
   "cell_type": "markdown",
   "metadata": {},
   "source": [
    "The second step followed is about the segmentation of the interested customers. \n",
    "For this purpose has been applied the K-Means clustering to the portion of data set with \"Response\" variable equal to \"1\" class.\n",
    "Then is performed a distribution analysis of the first cluster between numerical features as \"Annual Premium\" and \"Age\" vs \n",
    "categorical features."
   ]
  },
  {
   "cell_type": "code",
   "execution_count": 94,
   "metadata": {
    "id": "jc0To-8BMgAR"
   },
   "outputs": [],
   "source": [
    "df_2 = df.copy()"
   ]
  },
  {
   "cell_type": "code",
   "execution_count": 95,
   "metadata": {
    "id": "a5TRUwoSMpod"
   },
   "outputs": [],
   "source": [
    "df_2 = df_2[df_2['Response']==1]"
   ]
  },
  {
   "cell_type": "markdown",
   "metadata": {
    "id": "gCx4gLNWM_dc"
   },
   "source": [
    "### Clustering Numerical Features"
   ]
  },
  {
   "cell_type": "code",
   "execution_count": 96,
   "metadata": {
    "id": "2ecqvobfPm5d"
   },
   "outputs": [],
   "source": [
    "# Select numerical columns\n",
    "num_1 = df_2[numerical_cols]"
   ]
  },
  {
   "cell_type": "code",
   "execution_count": 97,
   "metadata": {},
   "outputs": [
    {
     "data": {
      "text/html": [
       "<div>\n",
       "<style scoped>\n",
       "    .dataframe tbody tr th:only-of-type {\n",
       "        vertical-align: middle;\n",
       "    }\n",
       "\n",
       "    .dataframe tbody tr th {\n",
       "        vertical-align: top;\n",
       "    }\n",
       "\n",
       "    .dataframe thead th {\n",
       "        text-align: right;\n",
       "    }\n",
       "</style>\n",
       "<table border=\"1\" class=\"dataframe\">\n",
       "  <thead>\n",
       "    <tr style=\"text-align: right;\">\n",
       "      <th></th>\n",
       "      <th>Age</th>\n",
       "      <th>Annual_Premium</th>\n",
       "      <th>Vintage</th>\n",
       "    </tr>\n",
       "  </thead>\n",
       "  <tbody>\n",
       "    <tr>\n",
       "      <th>0</th>\n",
       "      <td>44</td>\n",
       "      <td>40454.0</td>\n",
       "      <td>217</td>\n",
       "    </tr>\n",
       "    <tr>\n",
       "      <th>2</th>\n",
       "      <td>47</td>\n",
       "      <td>38294.0</td>\n",
       "      <td>27</td>\n",
       "    </tr>\n",
       "    <tr>\n",
       "      <th>7</th>\n",
       "      <td>56</td>\n",
       "      <td>32031.0</td>\n",
       "      <td>72</td>\n",
       "    </tr>\n",
       "    <tr>\n",
       "      <th>10</th>\n",
       "      <td>47</td>\n",
       "      <td>47576.0</td>\n",
       "      <td>46</td>\n",
       "    </tr>\n",
       "    <tr>\n",
       "      <th>15</th>\n",
       "      <td>37</td>\n",
       "      <td>2630.0</td>\n",
       "      <td>147</td>\n",
       "    </tr>\n",
       "  </tbody>\n",
       "</table>\n",
       "</div>"
      ],
      "text/plain": [
       "    Age  Annual_Premium  Vintage\n",
       "0    44         40454.0      217\n",
       "2    47         38294.0       27\n",
       "7    56         32031.0       72\n",
       "10   47         47576.0       46\n",
       "15   37          2630.0      147"
      ]
     },
     "execution_count": 97,
     "metadata": {},
     "output_type": "execute_result"
    }
   ],
   "source": [
    "num_1.head()"
   ]
  },
  {
   "cell_type": "code",
   "execution_count": 98,
   "metadata": {
    "id": "5QgvNXR7ONYn"
   },
   "outputs": [],
   "source": [
    "# Standardization of data\n",
    "sc = StandardScaler()\n",
    "num_sc = sc.fit_transform(num_1)"
   ]
  },
  {
   "cell_type": "code",
   "execution_count": 99,
   "metadata": {
    "colab": {
     "base_uri": "https://localhost:8080/"
    },
    "id": "RdbMILnjOk2w",
    "outputId": "396b5fae-8a03-47f6-af0b-78cafcf97c3f"
   },
   "outputs": [
    {
     "name": "stdout",
     "output_type": "stream",
     "text": [
      "Silhouette Score for 2 Clusters: 0.2636\n",
      "Silhouette Score for 3 Clusters: 0.2538\n",
      "Silhouette Score for 4 Clusters: 0.2826\n",
      "Silhouette Score for 5 Clusters: 0.2472\n",
      "Silhouette Score for 6 Clusters: 0.2638\n",
      "Silhouette Score for 7 Clusters: 0.2766\n",
      "Silhouette Score for 8 Clusters: 0.2739\n",
      "Silhouette Score for 9 Clusters: 0.2746\n"
     ]
    }
   ],
   "source": [
    "np.random.seed(0)\n",
    "for n_cluster in range(2,10):\n",
    "    clustering = KMeans(n_clusters=n_cluster, random_state=0).fit(num_sc)\n",
    "    preds = clustering.predict(num_sc)\n",
    "    silhouette_avg = silhouette_score(num_sc, preds)\n",
    "    \n",
    "    print('Silhouette Score for %i Clusters: %0.4f' % (n_cluster, silhouette_avg))\n"
   ]
  },
  {
   "cell_type": "code",
   "execution_count": 100,
   "metadata": {},
   "outputs": [],
   "source": [
    "kmeans = KMeans(n_clusters=4, random_state=0).fit(num_sc)"
   ]
  },
  {
   "cell_type": "code",
   "execution_count": 101,
   "metadata": {},
   "outputs": [],
   "source": [
    "# save the model to disk\n",
    "with open('kmeans.pkl', 'wb') as pickle_out:\n",
    "    serialized_kmeans = pickle.dumps(kmeans)\n",
    "    pickle_out.write(serialized_kmeans)\n",
    "\n",
    "# loading in the model to predict on the data\n",
    "with open('kmeans.pkl', 'rb') as pickle_in:\n",
    "    kmeans = pickle.load(pickle_in)\n"
   ]
  },
  {
   "cell_type": "code",
   "execution_count": 102,
   "metadata": {
    "id": "wLSCQs8pOqhW"
   },
   "outputs": [],
   "source": [
    "labels = kmeans.predict(num_sc)"
   ]
  },
  {
   "cell_type": "code",
   "execution_count": 103,
   "metadata": {
    "colab": {
     "base_uri": "https://localhost:8080/"
    },
    "id": "SwjI7OFZOqkF",
    "outputId": "61597c2b-05d0-45e8-a198-72a2a4508b61"
   },
   "outputs": [
    {
     "data": {
      "text/plain": [
       "4"
      ]
     },
     "execution_count": 103,
     "metadata": {},
     "output_type": "execute_result"
    }
   ],
   "source": [
    "cluster_num = num_1.copy()\n",
    "cluster_num['kmeans_cluster'] = labels\n",
    "len(np.unique(kmeans.labels_))"
   ]
  },
  {
   "cell_type": "code",
   "execution_count": 104,
   "metadata": {
    "colab": {
     "base_uri": "https://localhost:8080/"
    },
    "id": "PpOmzWILOqnH",
    "outputId": "b14a314f-6647-4d01-cb89-ca9b8c319158"
   },
   "outputs": [
    {
     "data": {
      "text/plain": [
       "2    14395\n",
       "3    14170\n",
       "1     9570\n",
       "0     8575\n",
       "Name: kmeans_cluster, dtype: int64"
      ]
     },
     "execution_count": 104,
     "metadata": {},
     "output_type": "execute_result"
    }
   ],
   "source": [
    "cluster_num['kmeans_cluster'].value_counts()"
   ]
  },
  {
   "cell_type": "code",
   "execution_count": 105,
   "metadata": {
    "id": "72ZguJ6UItHn"
   },
   "outputs": [],
   "source": [
    "df_cluster = pd.concat([df_2, cluster_num['kmeans_cluster']], axis=1)"
   ]
  },
  {
   "cell_type": "code",
   "execution_count": 106,
   "metadata": {
    "colab": {
     "base_uri": "https://localhost:8080/",
     "height": 175
    },
    "id": "CE7u6Am-JPrV",
    "outputId": "e2e570e7-a4c0-4e3b-b9f0-c089ff1bfe46"
   },
   "outputs": [
    {
     "data": {
      "text/html": [
       "<style  type=\"text/css\" >\n",
       "#T_dd38ca02_e7f8_11ed_8360_c47d4615e75frow0_col0{\n",
       "            background-color:  #00aaaa;\n",
       "            color:  #000000;\n",
       "        }#T_dd38ca02_e7f8_11ed_8360_c47d4615e75frow0_col1,#T_dd38ca02_e7f8_11ed_8360_c47d4615e75frow0_col2,#T_dd38ca02_e7f8_11ed_8360_c47d4615e75frow1_col0,#T_dd38ca02_e7f8_11ed_8360_c47d4615e75frow1_col1,#T_dd38ca02_e7f8_11ed_8360_c47d4615e75frow1_col2{\n",
       "            background-color:  #00ff80;\n",
       "            color:  #000000;\n",
       "        }#T_dd38ca02_e7f8_11ed_8360_c47d4615e75frow2_col0{\n",
       "            background-color:  #0055d4;\n",
       "            color:  #f1f1f1;\n",
       "        }#T_dd38ca02_e7f8_11ed_8360_c47d4615e75frow2_col1,#T_dd38ca02_e7f8_11ed_8360_c47d4615e75frow2_col2{\n",
       "            background-color:  #00c69c;\n",
       "            color:  #000000;\n",
       "        }#T_dd38ca02_e7f8_11ed_8360_c47d4615e75frow3_col0,#T_dd38ca02_e7f8_11ed_8360_c47d4615e75frow3_col1,#T_dd38ca02_e7f8_11ed_8360_c47d4615e75frow3_col2{\n",
       "            background-color:  #0000ff;\n",
       "            color:  #f1f1f1;\n",
       "        }</style><table id=\"T_dd38ca02_e7f8_11ed_8360_c47d4615e75f\" ><thead>    <tr>        <th class=\"blank level0\" ></th>        <th class=\"col_heading level0 col0\" >kmeans_cluster</th>        <th class=\"col_heading level0 col1\" >Annual_Premium</th>        <th class=\"col_heading level0 col2\" >PERCENTAGE</th>    </tr></thead><tbody>\n",
       "                <tr>\n",
       "                        <th id=\"T_dd38ca02_e7f8_11ed_8360_c47d4615e75flevel0_row0\" class=\"row_heading level0 row0\" >0</th>\n",
       "                        <td id=\"T_dd38ca02_e7f8_11ed_8360_c47d4615e75frow0_col0\" class=\"data row0 col0\" >2</td>\n",
       "                        <td id=\"T_dd38ca02_e7f8_11ed_8360_c47d4615e75frow0_col1\" class=\"data row0 col1\" >520,325,095.00</td>\n",
       "                        <td id=\"T_dd38ca02_e7f8_11ed_8360_c47d4615e75frow0_col2\" class=\"data row0 col2\" >35.25</td>\n",
       "            </tr>\n",
       "            <tr>\n",
       "                        <th id=\"T_dd38ca02_e7f8_11ed_8360_c47d4615e75flevel0_row1\" class=\"row_heading level0 row1\" >1</th>\n",
       "                        <td id=\"T_dd38ca02_e7f8_11ed_8360_c47d4615e75frow1_col0\" class=\"data row1 col0\" >3</td>\n",
       "                        <td id=\"T_dd38ca02_e7f8_11ed_8360_c47d4615e75frow1_col1\" class=\"data row1 col1\" >518,999,956.00</td>\n",
       "                        <td id=\"T_dd38ca02_e7f8_11ed_8360_c47d4615e75frow1_col2\" class=\"data row1 col2\" >35.16</td>\n",
       "            </tr>\n",
       "            <tr>\n",
       "                        <th id=\"T_dd38ca02_e7f8_11ed_8360_c47d4615e75flevel0_row2\" class=\"row_heading level0 row2\" >2</th>\n",
       "                        <td id=\"T_dd38ca02_e7f8_11ed_8360_c47d4615e75frow2_col0\" class=\"data row2 col0\" >1</td>\n",
       "                        <td id=\"T_dd38ca02_e7f8_11ed_8360_c47d4615e75frow2_col1\" class=\"data row2 col1\" >409,911,674.00</td>\n",
       "                        <td id=\"T_dd38ca02_e7f8_11ed_8360_c47d4615e75frow2_col2\" class=\"data row2 col2\" >27.77</td>\n",
       "            </tr>\n",
       "            <tr>\n",
       "                        <th id=\"T_dd38ca02_e7f8_11ed_8360_c47d4615e75flevel0_row3\" class=\"row_heading level0 row3\" >3</th>\n",
       "                        <td id=\"T_dd38ca02_e7f8_11ed_8360_c47d4615e75frow3_col0\" class=\"data row3 col0\" >0</td>\n",
       "                        <td id=\"T_dd38ca02_e7f8_11ed_8360_c47d4615e75frow3_col1\" class=\"data row3 col1\" >26,990,447.00</td>\n",
       "                        <td id=\"T_dd38ca02_e7f8_11ed_8360_c47d4615e75frow3_col2\" class=\"data row3 col2\" >1.83</td>\n",
       "            </tr>\n",
       "    </tbody></table>"
      ],
      "text/plain": [
       "<pandas.io.formats.style.Styler at 0x18849ef78e0>"
      ]
     },
     "execution_count": 106,
     "metadata": {},
     "output_type": "execute_result"
    }
   ],
   "source": [
    "# Group clusters by Annual Premium\n",
    "df = df_cluster.groupby(df_cluster['kmeans_cluster'], as_index=False)['Annual_Premium'].sum()\n",
    "df['PERCENTAGE'] = df['Annual_Premium']/df['Annual_Premium'].sum()*100\n",
    "# dropping not matching rows\n",
    "df = df.dropna()\n",
    "# ranking \n",
    "df = df.sort_values(by = 'Annual_Premium', ascending = False).reset_index(drop=True)\n",
    "df_AP = df.style.background_gradient(cmap='winter').format({'PERCENTAGE': \"{:.2f}\"}).format({'Annual_Premium':\"{:,.2f}\"})\n",
    "df_AP\n"
   ]
  },
  {
   "cell_type": "code",
   "execution_count": 107,
   "metadata": {
    "colab": {
     "base_uri": "https://localhost:8080/",
     "height": 175
    },
    "id": "lutccDYNJl0W",
    "outputId": "22a8426e-e161-4b5d-befc-5dad37b18bd8"
   },
   "outputs": [
    {
     "data": {
      "text/html": [
       "<style  type=\"text/css\" >\n",
       "#T_dd3e1a54_e7f8_11ed_acb8_c47d4615e75frow0_col0{\n",
       "            background-color:  #0055d4;\n",
       "            color:  #f1f1f1;\n",
       "        }#T_dd3e1a54_e7f8_11ed_acb8_c47d4615e75frow0_col1,#T_dd3e1a54_e7f8_11ed_acb8_c47d4615e75frow0_col2,#T_dd3e1a54_e7f8_11ed_acb8_c47d4615e75frow2_col0{\n",
       "            background-color:  #00ff80;\n",
       "            color:  #000000;\n",
       "        }#T_dd3e1a54_e7f8_11ed_acb8_c47d4615e75frow1_col0,#T_dd3e1a54_e7f8_11ed_acb8_c47d4615e75frow3_col1,#T_dd3e1a54_e7f8_11ed_acb8_c47d4615e75frow3_col2{\n",
       "            background-color:  #0000ff;\n",
       "            color:  #f1f1f1;\n",
       "        }#T_dd3e1a54_e7f8_11ed_acb8_c47d4615e75frow1_col1,#T_dd3e1a54_e7f8_11ed_acb8_c47d4615e75frow1_col2{\n",
       "            background-color:  #002ce9;\n",
       "            color:  #f1f1f1;\n",
       "        }#T_dd3e1a54_e7f8_11ed_acb8_c47d4615e75frow2_col1,#T_dd3e1a54_e7f8_11ed_acb8_c47d4615e75frow2_col2{\n",
       "            background-color:  #0007fc;\n",
       "            color:  #f1f1f1;\n",
       "        }#T_dd3e1a54_e7f8_11ed_acb8_c47d4615e75frow3_col0{\n",
       "            background-color:  #00aaaa;\n",
       "            color:  #000000;\n",
       "        }</style><table id=\"T_dd3e1a54_e7f8_11ed_acb8_c47d4615e75f\" ><thead>    <tr>        <th class=\"blank level0\" ></th>        <th class=\"col_heading level0 col0\" >kmeans_cluster</th>        <th class=\"col_heading level0 col1\" >Age</th>        <th class=\"col_heading level0 col2\" >PERCENTAGE</th>    </tr></thead><tbody>\n",
       "                <tr>\n",
       "                        <th id=\"T_dd3e1a54_e7f8_11ed_acb8_c47d4615e75flevel0_row0\" class=\"row_heading level0 row0\" >0</th>\n",
       "                        <td id=\"T_dd3e1a54_e7f8_11ed_acb8_c47d4615e75frow0_col0\" class=\"data row0 col0\" >1</td>\n",
       "                        <td id=\"T_dd3e1a54_e7f8_11ed_acb8_c47d4615e75frow0_col1\" class=\"data row0 col1\" >59.30</td>\n",
       "                        <td id=\"T_dd3e1a54_e7f8_11ed_acb8_c47d4615e75frow0_col2\" class=\"data row0 col2\" >33.24</td>\n",
       "            </tr>\n",
       "            <tr>\n",
       "                        <th id=\"T_dd3e1a54_e7f8_11ed_acb8_c47d4615e75flevel0_row1\" class=\"row_heading level0 row1\" >1</th>\n",
       "                        <td id=\"T_dd3e1a54_e7f8_11ed_acb8_c47d4615e75frow1_col0\" class=\"data row1 col0\" >0</td>\n",
       "                        <td id=\"T_dd3e1a54_e7f8_11ed_acb8_c47d4615e75frow1_col1\" class=\"data row1 col1\" >41.92</td>\n",
       "                        <td id=\"T_dd3e1a54_e7f8_11ed_acb8_c47d4615e75frow1_col2\" class=\"data row1 col2\" >23.50</td>\n",
       "            </tr>\n",
       "            <tr>\n",
       "                        <th id=\"T_dd3e1a54_e7f8_11ed_acb8_c47d4615e75flevel0_row2\" class=\"row_heading level0 row2\" >2</th>\n",
       "                        <td id=\"T_dd3e1a54_e7f8_11ed_acb8_c47d4615e75frow2_col0\" class=\"data row2 col0\" >3</td>\n",
       "                        <td id=\"T_dd3e1a54_e7f8_11ed_acb8_c47d4615e75frow2_col1\" class=\"data row2 col1\" >38.87</td>\n",
       "                        <td id=\"T_dd3e1a54_e7f8_11ed_acb8_c47d4615e75frow2_col2\" class=\"data row2 col2\" >21.79</td>\n",
       "            </tr>\n",
       "            <tr>\n",
       "                        <th id=\"T_dd3e1a54_e7f8_11ed_acb8_c47d4615e75flevel0_row3\" class=\"row_heading level0 row3\" >3</th>\n",
       "                        <td id=\"T_dd3e1a54_e7f8_11ed_acb8_c47d4615e75frow3_col0\" class=\"data row3 col0\" >2</td>\n",
       "                        <td id=\"T_dd3e1a54_e7f8_11ed_acb8_c47d4615e75frow3_col1\" class=\"data row3 col1\" >38.29</td>\n",
       "                        <td id=\"T_dd3e1a54_e7f8_11ed_acb8_c47d4615e75frow3_col2\" class=\"data row3 col2\" >21.47</td>\n",
       "            </tr>\n",
       "    </tbody></table>"
      ],
      "text/plain": [
       "<pandas.io.formats.style.Styler at 0x18849ec4df0>"
      ]
     },
     "execution_count": 107,
     "metadata": {},
     "output_type": "execute_result"
    }
   ],
   "source": [
    "# Group clusters by Age\n",
    "df = df_cluster.groupby(df_cluster['kmeans_cluster'], as_index=False)['Age'].mean()\n",
    "df['PERCENTAGE'] = df['Age']/df['Age'].sum()*100\n",
    "# dropping not matching rows\n",
    "df = df.dropna()\n",
    "# ranking \n",
    "df = df.sort_values(by = 'Age', ascending = False).reset_index(drop=True)\n",
    "df_AGE = df.style.background_gradient(cmap='winter').format({'PERCENTAGE': \"{:.2f}\"}).format({'Age':\"{:,.2f}\"})\n",
    "df_AGE"
   ]
  },
  {
   "cell_type": "code",
   "execution_count": 108,
   "metadata": {
    "id": "G0_WhiypKFlt"
   },
   "outputs": [],
   "source": [
    "# Select top cluster per Annual Premium and Age\n",
    "df_cluster_AP = df_cluster[df_cluster['kmeans_cluster']==2].reset_index(drop=True)\n",
    "df_cluster_AGE = df_cluster[df_cluster['kmeans_cluster']==1].reset_index(drop=True)\n"
   ]
  },
  {
   "cell_type": "markdown",
   "metadata": {},
   "source": [
    "#### Distribution analysis of the top cluster"
   ]
  },
  {
   "cell_type": "code",
   "execution_count": 109,
   "metadata": {
    "colab": {
     "base_uri": "https://localhost:8080/",
     "height": 510
    },
    "id": "Jwiktw3k4Ait",
    "outputId": "c5a3cc76-9a03-423e-8ec7-55aa56c143be"
   },
   "outputs": [
    {
     "data": {
      "image/png": "[encoded data removed]",
      "text/plain": [
       "<Figure size 1080x864 with 4 Axes>"
      ]
     },
     "metadata": {
      "needs_background": "light"
     },
     "output_type": "display_data"
    }
   ],
   "source": [
    "# Plot Annual Premium vs Gender, Vehicle_Damage, Vehicle_Age, Previously_Insured\n",
    "plt.rcParams['figure.figsize']=(15,12)\n",
    "plt.subplot(2,2,1)\n",
    "sns.kdeplot(x=df_cluster_AP['Annual_Premium'],hue=df_cluster_AP['Gender'],palette=\"crest\", multiple='stack')\n",
    "plt.title('Annual_Premium vs Gender')\n",
    "plt.subplot(2,2,2)\n",
    "sns.kdeplot(x=df_cluster_AP['Annual_Premium'],hue=df_cluster_AP['Vehicle_Damage'],palette=\"crest\", multiple='stack')\n",
    "plt.title('Annual_Premium vs Vehicle_Damage')\n",
    "plt.subplot(2,2,3)\n",
    "sns.kdeplot(x=df_cluster_AP['Annual_Premium'],hue=df_cluster_AP['Vehicle_Age'],palette=\"crest\", multiple='stack')\n",
    "plt.title('Annual_Premium vs Vehicle_Age')\n",
    "plt.subplot(2,2,4)\n",
    "sns.kdeplot(x=df_cluster_AP['Annual_Premium'],hue=df_cluster_AP['Previously_Insured'],palette=\"crest\", multiple='stack')\n",
    "plt.title('Annual_Premium vs Previously_Insured')\n",
    "\n",
    "plt.show()"
   ]
  },
  {
   "cell_type": "code",
   "execution_count": 110,
   "metadata": {
    "colab": {
     "base_uri": "https://localhost:8080/",
     "height": 521
    },
    "id": "wEpx0YXN4AqV",
    "outputId": "2bff50e3-ccbe-4500-c05a-6b4caee93cfc"
   },
   "outputs": [
    {
     "data": {
      "image/png": "[encoded data removed]",
      "text/plain": [
       "<Figure size 1080x864 with 4 Axes>"
      ]
     },
     "metadata": {
      "needs_background": "light"
     },
     "output_type": "display_data"
    }
   ],
   "source": [
    "# Plot Age vs Gender, Vehicle_Damage, Vehicle_Age, Previously_Insured\n",
    "plt.rcParams['figure.figsize']=(15,12)\n",
    "plt.subplot(2,2,1)\n",
    "sns.kdeplot(x=df_cluster_AGE['Age'],hue=df_cluster_AGE['Gender'],palette=\"crest\", multiple='stack')\n",
    "plt.title('Age vs Gender on Top Cluster')\n",
    "plt.subplot(2,2,2)\n",
    "sns.kdeplot(x=df_cluster_AGE['Age'],hue=df_cluster_AGE['Vehicle_Damage'],palette=\"crest\", multiple='stack')\n",
    "plt.title('Age vs Vehicle_Damage on Top Cluster')\n",
    "plt.subplot(2,2,3)\n",
    "sns.kdeplot(x=df_cluster_AGE['Age'],hue=df_cluster_AGE['Vehicle_Age'],palette=\"crest\", multiple='stack')\n",
    "plt.title('Age vs Vehicle_Age on Top Cluster')\n",
    "plt.subplot(2,2,4)\n",
    "sns.kdeplot(x=df_cluster_AP['Age'],hue=df_cluster_AP['Previously_Insured'],palette=\"crest\", multiple='stack')\n",
    "plt.title('Age vs Previously_Insured')\n",
    "\n",
    "\n",
    "plt.show()"
   ]
  },
  {
   "cell_type": "code",
   "execution_count": null,
   "metadata": {},
   "outputs": [],
   "source": []
  }
 ],
 "metadata": {
  "accelerator": "GPU",
  "colab": {
   "provenance": []
  },
  "gpuClass": "standard",
  "kernelspec": {
   "display_name": "Python 3",
   "language": "python",
   "name": "python3"
  },
  "language_info": {
   "codemirror_mode": {
    "name": "ipython",
    "version": 3
   },
   "file_extension": ".py",
   "mimetype": "text/x-python",
   "name": "python",
   "nbconvert_exporter": "python",
   "pygments_lexer": "ipython3",
   "version": "3.8.5"
  },
  "papermill": {
   "default_parameters": {},
   "duration": 232.795721,
   "end_time": "2022-12-03T18:58:35.105941",
   "environment_variables": {},
   "exception": null,
   "input_path": "__notebook__.ipynb",
   "output_path": "__notebook__.ipynb",
   "parameters": {},
   "start_time": "2022-12-03T18:54:42.310220",
   "version": "2.3.4"
  }
 },
 "nbformat": 4,
 "nbformat_minor": 5
}
