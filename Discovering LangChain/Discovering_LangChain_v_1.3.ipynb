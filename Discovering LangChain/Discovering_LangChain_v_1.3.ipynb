{
  "cells": [
    {
      "cell_type": "markdown",
      "metadata": {
        "id": "view-in-github",
        "colab_type": "text"
      },
      "source": [
        "<a href=\"https://colab.research.google.com/github/claudio1975/Medium-blog/blob/master/Discovering%20LangChain/Discovering_LangChain_v_1_3.ipynb\" target=\"_parent\"><img src=\"https://colab.research.google.com/assets/colab-badge.svg\" alt=\"Open In Colab\"/></a>"
      ]
    },
    {
      "cell_type": "markdown",
      "metadata": {
        "id": "JR1gfEyKYRaj"
      },
      "source": [
        "# What is LangChain?"
      ]
    },
    {
      "cell_type": "markdown",
      "source": [
        "LangChain broadly speaking is a wrapper, more specifically it is a framework for developing applications around Large Language Models.\n",
        "\n",
        "The idea behind the framework is to \"chain\" together different components in order to build more advanced use cases exploiting LLMs."
      ],
      "metadata": {
        "id": "EpGF_0xqrPlv"
      }
    },
    {
      "cell_type": "markdown",
      "metadata": {
        "id": "vkn7JDx3YbKY"
      },
      "source": [
        "# LangChain Components"
      ]
    },
    {
      "cell_type": "markdown",
      "source": [
        "LangChain is built under seven components:\n",
        "\n",
        "-Schema\n",
        "\n",
        "-Models\n",
        "\n",
        "-Prompts\n",
        "\n",
        "-Indexes\n",
        "\n",
        "-Memory\n",
        "\n",
        "-Chains\n",
        "\n",
        "-Agents"
      ],
      "metadata": {
        "id": "BhmF6v-FranJ"
      }
    },
    {
      "cell_type": "markdown",
      "metadata": {
        "id": "6JBlbRXCYfsd"
      },
      "source": [
        "# LangChain use cases"
      ]
    },
    {
      "cell_type": "code",
      "execution_count": null,
      "metadata": {
        "id": "2pWTGKBmbrye"
      },
      "outputs": [],
      "source": [
        "! pip install langchain==0.0.327"
      ]
    },
    {
      "cell_type": "code",
      "execution_count": null,
      "metadata": {
        "id": "Q-L_ehD7qqhC"
      },
      "outputs": [],
      "source": [
        "!pip install openai==0.28.1"
      ]
    },
    {
      "cell_type": "code",
      "execution_count": null,
      "metadata": {
        "id": "AeMzfUGksI73"
      },
      "outputs": [],
      "source": [
        "!pip install tiktoken"
      ]
    },
    {
      "cell_type": "code",
      "execution_count": null,
      "metadata": {
        "id": "uVDN6FrDr4jL"
      },
      "outputs": [],
      "source": [
        "!pip install chromadb"
      ]
    },
    {
      "cell_type": "code",
      "execution_count": null,
      "metadata": {
        "id": "MGYKi5ndbwn0"
      },
      "outputs": [],
      "source": [
        "! pip install pypdf"
      ]
    },
    {
      "cell_type": "code",
      "source": [
        "!pip install wikipedia"
      ],
      "metadata": {
        "id": "Z1WIig7Br72W"
      },
      "execution_count": null,
      "outputs": []
    },
    {
      "cell_type": "code",
      "source": [
        "!pip install -U langchain langchain_experimental openai"
      ],
      "metadata": {
        "id": "SewIxPn0Ng1H"
      },
      "execution_count": null,
      "outputs": []
    },
    {
      "cell_type": "code",
      "execution_count": 8,
      "metadata": {
        "id": "iC_lc29FbKPh"
      },
      "outputs": [],
      "source": [
        "# upload OpenAI API keys\n",
        "import os\n",
        "os.environ[\"OPENAI_API_KEY\"] = \"\""
      ]
    },
    {
      "cell_type": "markdown",
      "metadata": {
        "id": "dp8gfYERYnzF"
      },
      "source": [
        "# Chat with your documents"
      ]
    },
    {
      "cell_type": "markdown",
      "source": [
        "### Load data"
      ],
      "metadata": {
        "id": "zUxkniYcy1Db"
      }
    },
    {
      "cell_type": "code",
      "execution_count": 9,
      "metadata": {
        "id": "WxIRohHOZBzV"
      },
      "outputs": [],
      "source": [
        "# import libraries\n",
        "from langchain.document_loaders import PyPDFLoader\n",
        "from langchain.text_splitter import RecursiveCharacterTextSplitter\n",
        "from langchain.vectorstores import Chroma\n",
        "from langchain.embeddings.openai import OpenAIEmbeddings\n",
        "from langchain.chains.question_answering import load_qa_chain\n",
        "from langchain.chat_models import ChatOpenAI\n"
      ]
    },
    {
      "cell_type": "code",
      "execution_count": 10,
      "metadata": {
        "id": "ll93A_RxbTlc",
        "colab": {
          "base_uri": "https://localhost:8080/",
          "height": 73
        },
        "outputId": "0563225b-8afc-47c6-ddd1-65dd6bd7282e"
      },
      "outputs": [
        {
          "output_type": "display_data",
          "data": {
            "text/plain": [
              "<IPython.core.display.HTML object>"
            ],
            "text/html": [
              "\n",
              "     <input type=\"file\" id=\"files-5303b1fb-abc5-43db-bd7a-8794175d68f1\" name=\"files[]\" multiple disabled\n",
              "        style=\"border:none\" />\n",
              "     <output id=\"result-5303b1fb-abc5-43db-bd7a-8794175d68f1\">\n",
              "      Upload widget is only available when the cell has been executed in the\n",
              "      current browser session. Please rerun this cell to enable.\n",
              "      </output>\n",
              "      <script>// Copyright 2017 Google LLC\n",
              "//\n",
              "// Licensed under the Apache License, Version 2.0 (the \"License\");\n",
              "// you may not use this file except in compliance with the License.\n",
              "// You may obtain a copy of the License at\n",
              "//\n",
              "//      http://www.apache.org/licenses/LICENSE-2.0\n",
              "//\n",
              "// Unless required by applicable law or agreed to in writing, software\n",
              "// distributed under the License is distributed on an \"AS IS\" BASIS,\n",
              "// WITHOUT WARRANTIES OR CONDITIONS OF ANY KIND, either express or implied.\n",
              "// See the License for the specific language governing permissions and\n",
              "// limitations under the License.\n",
              "\n",
              "/**\n",
              " * @fileoverview Helpers for google.colab Python module.\n",
              " */\n",
              "(function(scope) {\n",
              "function span(text, styleAttributes = {}) {\n",
              "  const element = document.createElement('span');\n",
              "  element.textContent = text;\n",
              "  for (const key of Object.keys(styleAttributes)) {\n",
              "    element.style[key] = styleAttributes[key];\n",
              "  }\n",
              "  return element;\n",
              "}\n",
              "\n",
              "// Max number of bytes which will be uploaded at a time.\n",
              "const MAX_PAYLOAD_SIZE = 100 * 1024;\n",
              "\n",
              "function _uploadFiles(inputId, outputId) {\n",
              "  const steps = uploadFilesStep(inputId, outputId);\n",
              "  const outputElement = document.getElementById(outputId);\n",
              "  // Cache steps on the outputElement to make it available for the next call\n",
              "  // to uploadFilesContinue from Python.\n",
              "  outputElement.steps = steps;\n",
              "\n",
              "  return _uploadFilesContinue(outputId);\n",
              "}\n",
              "\n",
              "// This is roughly an async generator (not supported in the browser yet),\n",
              "// where there are multiple asynchronous steps and the Python side is going\n",
              "// to poll for completion of each step.\n",
              "// This uses a Promise to block the python side on completion of each step,\n",
              "// then passes the result of the previous step as the input to the next step.\n",
              "function _uploadFilesContinue(outputId) {\n",
              "  const outputElement = document.getElementById(outputId);\n",
              "  const steps = outputElement.steps;\n",
              "\n",
              "  const next = steps.next(outputElement.lastPromiseValue);\n",
              "  return Promise.resolve(next.value.promise).then((value) => {\n",
              "    // Cache the last promise value to make it available to the next\n",
              "    // step of the generator.\n",
              "    outputElement.lastPromiseValue = value;\n",
              "    return next.value.response;\n",
              "  });\n",
              "}\n",
              "\n",
              "/**\n",
              " * Generator function which is called between each async step of the upload\n",
              " * process.\n",
              " * @param {string} inputId Element ID of the input file picker element.\n",
              " * @param {string} outputId Element ID of the output display.\n",
              " * @return {!Iterable<!Object>} Iterable of next steps.\n",
              " */\n",
              "function* uploadFilesStep(inputId, outputId) {\n",
              "  const inputElement = document.getElementById(inputId);\n",
              "  inputElement.disabled = false;\n",
              "\n",
              "  const outputElement = document.getElementById(outputId);\n",
              "  outputElement.innerHTML = '';\n",
              "\n",
              "  const pickedPromise = new Promise((resolve) => {\n",
              "    inputElement.addEventListener('change', (e) => {\n",
              "      resolve(e.target.files);\n",
              "    });\n",
              "  });\n",
              "\n",
              "  const cancel = document.createElement('button');\n",
              "  inputElement.parentElement.appendChild(cancel);\n",
              "  cancel.textContent = 'Cancel upload';\n",
              "  const cancelPromise = new Promise((resolve) => {\n",
              "    cancel.onclick = () => {\n",
              "      resolve(null);\n",
              "    };\n",
              "  });\n",
              "\n",
              "  // Wait for the user to pick the files.\n",
              "  const files = yield {\n",
              "    promise: Promise.race([pickedPromise, cancelPromise]),\n",
              "    response: {\n",
              "      action: 'starting',\n",
              "    }\n",
              "  };\n",
              "\n",
              "  cancel.remove();\n",
              "\n",
              "  // Disable the input element since further picks are not allowed.\n",
              "  inputElement.disabled = true;\n",
              "\n",
              "  if (!files) {\n",
              "    return {\n",
              "      response: {\n",
              "        action: 'complete',\n",
              "      }\n",
              "    };\n",
              "  }\n",
              "\n",
              "  for (const file of files) {\n",
              "    const li = document.createElement('li');\n",
              "    li.append(span(file.name, {fontWeight: 'bold'}));\n",
              "    li.append(span(\n",
              "        `(${file.type || 'n/a'}) - ${file.size} bytes, ` +\n",
              "        `last modified: ${\n",
              "            file.lastModifiedDate ? file.lastModifiedDate.toLocaleDateString() :\n",
              "                                    'n/a'} - `));\n",
              "    const percent = span('0% done');\n",
              "    li.appendChild(percent);\n",
              "\n",
              "    outputElement.appendChild(li);\n",
              "\n",
              "    const fileDataPromise = new Promise((resolve) => {\n",
              "      const reader = new FileReader();\n",
              "      reader.onload = (e) => {\n",
              "        resolve(e.target.result);\n",
              "      };\n",
              "      reader.readAsArrayBuffer(file);\n",
              "    });\n",
              "    // Wait for the data to be ready.\n",
              "    let fileData = yield {\n",
              "      promise: fileDataPromise,\n",
              "      response: {\n",
              "        action: 'continue',\n",
              "      }\n",
              "    };\n",
              "\n",
              "    // Use a chunked sending to avoid message size limits. See b/62115660.\n",
              "    let position = 0;\n",
              "    do {\n",
              "      const length = Math.min(fileData.byteLength - position, MAX_PAYLOAD_SIZE);\n",
              "      const chunk = new Uint8Array(fileData, position, length);\n",
              "      position += length;\n",
              "\n",
              "      const base64 = btoa(String.fromCharCode.apply(null, chunk));\n",
              "      yield {\n",
              "        response: {\n",
              "          action: 'append',\n",
              "          file: file.name,\n",
              "          data: base64,\n",
              "        },\n",
              "      };\n",
              "\n",
              "      let percentDone = fileData.byteLength === 0 ?\n",
              "          100 :\n",
              "          Math.round((position / fileData.byteLength) * 100);\n",
              "      percent.textContent = `${percentDone}% done`;\n",
              "\n",
              "    } while (position < fileData.byteLength);\n",
              "  }\n",
              "\n",
              "  // All done.\n",
              "  yield {\n",
              "    response: {\n",
              "      action: 'complete',\n",
              "    }\n",
              "  };\n",
              "}\n",
              "\n",
              "scope.google = scope.google || {};\n",
              "scope.google.colab = scope.google.colab || {};\n",
              "scope.google.colab._files = {\n",
              "  _uploadFiles,\n",
              "  _uploadFilesContinue,\n",
              "};\n",
              "})(self);\n",
              "</script> "
            ]
          },
          "metadata": {}
        },
        {
          "output_type": "stream",
          "name": "stdout",
          "text": [
            "Saving s13278-021-00776-6.pdf to s13278-021-00776-6.pdf\n"
          ]
        }
      ],
      "source": [
        "from google.colab import files\n",
        "uploaded = files.upload()"
      ]
    },
    {
      "cell_type": "code",
      "execution_count": 11,
      "metadata": {
        "id": "-oDWP_Z8oaCR"
      },
      "outputs": [],
      "source": [
        "loader = PyPDFLoader(\"s13278-021-00776-6.pdf\")"
      ]
    },
    {
      "cell_type": "code",
      "execution_count": 12,
      "metadata": {
        "id": "Jx0ymMrxooD4"
      },
      "outputs": [],
      "source": [
        "data = loader.load()"
      ]
    },
    {
      "cell_type": "code",
      "execution_count": 13,
      "metadata": {
        "id": "x0kJHBcLoseA",
        "colab": {
          "base_uri": "https://localhost:8080/"
        },
        "outputId": "d6b1467b-f34c-4e45-c7e7-2b6ed7556900"
      },
      "outputs": [
        {
          "output_type": "stream",
          "name": "stdout",
          "text": [
            "You have 19 document(s) in your data\n",
            "There are 4266 characters in your document\n"
          ]
        }
      ],
      "source": [
        "# Document shape\n",
        "print (f'You have {len(data)} document(s) in your data')\n",
        "print (f'There are {len(data[0].page_content)} characters in your document')"
      ]
    },
    {
      "cell_type": "markdown",
      "source": [
        "### Split data up into smaller documents"
      ],
      "metadata": {
        "id": "-DTL8_LbzKip"
      }
    },
    {
      "cell_type": "code",
      "execution_count": 14,
      "metadata": {
        "id": "qXUBM9udrSoS"
      },
      "outputs": [],
      "source": [
        "# Split document\n",
        "text_splitter = RecursiveCharacterTextSplitter(chunk_size=500, chunk_overlap=0)\n",
        "texts = text_splitter.split_documents(data)"
      ]
    },
    {
      "cell_type": "code",
      "execution_count": 15,
      "metadata": {
        "id": "c-aFRUBarW2q",
        "colab": {
          "base_uri": "https://localhost:8080/"
        },
        "outputId": "d41b0b69-eaca-4ed9-bfca-8c0e4e0fe4d6"
      },
      "outputs": [
        {
          "output_type": "stream",
          "name": "stdout",
          "text": [
            "Now you have 190 documents\n"
          ]
        }
      ],
      "source": [
        "print (f'Now you have {len(texts)} documents')"
      ]
    },
    {
      "cell_type": "markdown",
      "source": [
        "### Create embeddings from documents to get ready for semantic search"
      ],
      "metadata": {
        "id": "8oOtgneXzdbA"
      }
    },
    {
      "cell_type": "code",
      "execution_count": 16,
      "metadata": {
        "id": "YIYO1LZhriWk"
      },
      "outputs": [],
      "source": [
        "embeddings = OpenAIEmbeddings()"
      ]
    },
    {
      "cell_type": "markdown",
      "source": [
        "### Store embeddings into vectore store"
      ],
      "metadata": {
        "id": "__pjPFbbzin8"
      }
    },
    {
      "cell_type": "code",
      "execution_count": 17,
      "metadata": {
        "id": "1igINNqXrm_q"
      },
      "outputs": [],
      "source": [
        "# load it into Chroma\n",
        "docsearch = Chroma.from_documents(texts, embeddings)"
      ]
    },
    {
      "cell_type": "markdown",
      "source": [
        "### Retrieve documents"
      ],
      "metadata": {
        "id": "M_yhnN361HhY"
      }
    },
    {
      "cell_type": "code",
      "execution_count": 18,
      "metadata": {
        "id": "pqhH_2dCsRVo"
      },
      "outputs": [],
      "source": [
        "query = \"What are examples of sentiment analysis?\"\n",
        "docs = docsearch.similarity_search(query)\n"
      ]
    },
    {
      "cell_type": "code",
      "execution_count": 19,
      "metadata": {
        "id": "00K7h02dsRTC",
        "colab": {
          "base_uri": "https://localhost:8080/"
        },
        "outputId": "48e2e4ac-c094-4de8-84ee-668531043085"
      },
      "outputs": [
        {
          "output_type": "stream",
          "name": "stdout",
          "text": [
            "Sentiment and emotion analysis has a wide range of \n",
            "applications and can be done using various methodologies. \n",
            "There are three types of sentiment and emotion analysis \n",
            "techniques: lexicon based, machine learning based, and deep \n",
            "learning based. Each has its own set of benefits and draw -\n",
            "backs. Despite different sentiment and emotion recognition techniques, researchers face significant challenges, including \n",
            "dealing with context, ridicule, statements conveying several\n"
          ]
        }
      ],
      "source": [
        "# Here's an example of the document that was returned\n",
        "print(docs[1].page_content[:500])"
      ]
    },
    {
      "cell_type": "code",
      "execution_count": 20,
      "metadata": {
        "id": "1kHS--iRsRQc",
        "colab": {
          "base_uri": "https://localhost:8080/"
        },
        "outputId": "5158b1c1-68ec-4d3f-8838-f7de758280d9"
      },
      "outputs": [
        {
          "output_type": "stream",
          "name": "stdout",
          "text": [
            "processed as rapidly as generated to comprehend human psychology, and it can be accomplished using sentiment analysis, \n",
            "which recognizes polarity in texts. It assesses whether the author has a negative, positive, or neutral attitude toward an item, \n",
            "administration, individual, or location. In some applications, sentiment analysis is insufficient and hence requires emotion\n"
          ]
        }
      ],
      "source": [
        "# Here's an example of another document that was returned\n",
        "print(docs[2].page_content[:500])"
      ]
    },
    {
      "cell_type": "markdown",
      "source": [
        "### Query documents to get your answer back"
      ],
      "metadata": {
        "id": "VUAU3frR1LS5"
      }
    },
    {
      "cell_type": "code",
      "execution_count": 21,
      "metadata": {
        "id": "0kwAVsz5oBxG"
      },
      "outputs": [],
      "source": [
        "llm = ChatOpenAI(temperature=0, model_name='gpt-3.5-turbo')\n",
        "chain = load_qa_chain(llm, chain_type=\"map_reduce\")\n"
      ]
    },
    {
      "cell_type": "code",
      "execution_count": 22,
      "metadata": {
        "id": "qZlTwasdsRHn"
      },
      "outputs": [],
      "source": [
        "query1 = \"Could you explain the challenges in sentiment analysis and emotion analysis showed in the document?\"\n",
        "docs = docsearch.similarity_search(query1)"
      ]
    },
    {
      "cell_type": "code",
      "execution_count": 23,
      "metadata": {
        "id": "_moEuiult5yo",
        "colab": {
          "base_uri": "https://localhost:8080/",
          "height": 192
        },
        "outputId": "2c406e7a-1d76-4132-f4d2-296047820351"
      },
      "outputs": [
        {
          "output_type": "execute_result",
          "data": {
            "text/plain": [
              "'According to the provided information, the challenges in sentiment analysis and emotion analysis mentioned in the document include:\\n\\n1. Lack of resources: The document mentions that one of the challenges is the lack of resources, specifically the difficulty in gathering a large annotated dataset for statistical algorithms. Manual labeling of a large dataset is time-consuming and less reliable.\\n\\n2. Use of emotions: The document suggests that the use of emotions in sentiment analysis and emotion analysis poses a challenge. It does not provide further details on how this challenge manifests.\\n\\n3. Spreading Web slang: The document mentions that spreading web slang is a challenge in sentiment and emotion analysis. It does not provide further details on how this challenge affects the analysis.\\n\\n4. Lexical and syntactical ambiguity: The document states that lexical and syntactical ambiguity is a challenge in sentiment and emotion analysis. It does not provide further details on how this challenge impacts the analysis.\\n\\n5. Lack of standard rules for communicating feelings: The document highlights the lack of standard rules for communicating feelings across multiple platforms as a challenge. It mentions that individuals express their emotions differently, making it difficult for researchers to develop a technique that can work efficiently in all domains.\\n\\nPlease note that the information provided is based on the given extracted parts of the document, and there may be additional challenges mentioned in the full document that are not included here.'"
            ],
            "application/vnd.google.colaboratory.intrinsic+json": {
              "type": "string"
            }
          },
          "metadata": {},
          "execution_count": 23
        }
      ],
      "source": [
        "chain.run(input_documents=docs, question=query1)\n"
      ]
    },
    {
      "cell_type": "code",
      "execution_count": 24,
      "metadata": {
        "id": "AdefwETLt5qo"
      },
      "outputs": [],
      "source": [
        "query2 = \"Could you describe the feature extraction used in the document?\"\n",
        "docs = docsearch.similarity_search(query2)"
      ]
    },
    {
      "cell_type": "code",
      "execution_count": 25,
      "metadata": {
        "id": "b2btHOkXt5dM",
        "colab": {
          "base_uri": "https://localhost:8080/",
          "height": 122
        },
        "outputId": "8ba86acc-8e33-4f68-e643-12e5f335f939"
      },
      "outputs": [
        {
          "output_type": "execute_result",
          "data": {
            "text/plain": [
              "\"The feature extraction used in the document is a combination of n-grams with n = 2 and TF-IDF. This involves creating a fixed-length vector where each entry corresponds to a word or combination of two words in a pre-defined dictionary of words. The values in the vector represent the importance or relevance of each word or combination of words in the sentence or document. The document also mentions the use of the 'Bag of Words' (BOW) method, which involves counting the occurrences of each word in the document. Additionally, the document mentions the use of word vectorization or word embedding, where a document is broken down into sentences and further broken down into words, and a feature map or matrix is built based on these words. However, the document does not provide specific details about the feature extraction method used with the proposed lexicon.\""
            ],
            "application/vnd.google.colaboratory.intrinsic+json": {
              "type": "string"
            }
          },
          "metadata": {},
          "execution_count": 25
        }
      ],
      "source": [
        "chain.run(input_documents=docs, question=query2)"
      ]
    },
    {
      "cell_type": "code",
      "execution_count": 26,
      "metadata": {
        "id": "y1nINuAaoBdQ"
      },
      "outputs": [],
      "source": [
        "query3 = \"Could you explain the pre‑processing of text showed in the document?\"\n",
        "docs = docsearch.similarity_search(query3)"
      ]
    },
    {
      "cell_type": "code",
      "execution_count": 27,
      "metadata": {
        "id": "R312-dkXvaKb",
        "colab": {
          "base_uri": "https://localhost:8080/",
          "height": 105
        },
        "outputId": "f6cab146-b8ce-40cb-e07d-ccfb465ef307"
      },
      "outputs": [
        {
          "output_type": "execute_result",
          "data": {
            "text/plain": [
              "'The document mentions that the pre-processing of text involves several steps. These steps include tokenization, stop word removal, and POS tagging. Tokenization refers to breaking down a document, paragraph, or sentence into smaller units called tokens. Stop word removal involves removing common words that do not carry much meaning, such as \"the,\" \"and,\" or \"is.\" POS tagging stands for Part-of-Speech tagging, which involves labeling each word in a sentence with its corresponding part of speech, such as noun, verb, adjective, etc. These pre-processing techniques are important for organizing the dataset, but they can also result in the loss of crucial information for sentiment and emotion analysis, which needs to be addressed. However, the specific details of these techniques are not mentioned in the given portion of the document.'"
            ],
            "application/vnd.google.colaboratory.intrinsic+json": {
              "type": "string"
            }
          },
          "metadata": {},
          "execution_count": 27
        }
      ],
      "source": [
        "chain.run(input_documents=docs, question=query3)"
      ]
    },
    {
      "cell_type": "markdown",
      "metadata": {
        "id": "EF5rWU4-Zkq_"
      },
      "source": [
        "# Chatbot Translator"
      ]
    },
    {
      "cell_type": "markdown",
      "source": [
        "### Load libraries"
      ],
      "metadata": {
        "id": "3kNEYIIe1j7E"
      }
    },
    {
      "cell_type": "code",
      "source": [
        "from langchain.schema import (\n",
        "    AIMessage,\n",
        "    HumanMessage,\n",
        "    SystemMessage\n",
        ")\n",
        "from langchain.chat_models import ChatOpenAI"
      ],
      "metadata": {
        "id": "nb8k0Ug7j41b"
      },
      "execution_count": 28,
      "outputs": []
    },
    {
      "cell_type": "markdown",
      "source": [
        "### Ask translation to the chatbot"
      ],
      "metadata": {
        "id": "QE6z7J9W1s1G"
      }
    },
    {
      "cell_type": "code",
      "execution_count": 29,
      "metadata": {
        "id": "gmw1aRb4z8u_"
      },
      "outputs": [],
      "source": [
        "chat = ChatOpenAI(temperature=0, model_name='gpt-3.5-turbo')"
      ]
    },
    {
      "cell_type": "code",
      "execution_count": 30,
      "metadata": {
        "id": "Lxexpjam0LII",
        "colab": {
          "base_uri": "https://localhost:8080/"
        },
        "outputId": "e56ffaf6-9535-4f30-dc62-76dfe8163321"
      },
      "outputs": [
        {
          "output_type": "execute_result",
          "data": {
            "text/plain": [
              "AIMessage(content='Ich interessiere mich für die Entwicklung eines Start-up-Unternehmens.')"
            ]
          },
          "metadata": {},
          "execution_count": 30
        }
      ],
      "source": [
        "chat([HumanMessage(content=\"Translate this sentence from English to German: I'm interested in developing a start-up business\")])"
      ]
    },
    {
      "cell_type": "code",
      "execution_count": 31,
      "metadata": {
        "id": "yEmzFmEN13hJ",
        "colab": {
          "base_uri": "https://localhost:8080/"
        },
        "outputId": "d085f74d-ab92-40b0-c78e-92d1c41bfc71"
      },
      "outputs": [
        {
          "output_type": "execute_result",
          "data": {
            "text/plain": [
              "AIMessage(content='Мне нравится использовать LangChain при разработке проектов.')"
            ]
          },
          "metadata": {},
          "execution_count": 31
        }
      ],
      "source": [
        "chat([HumanMessage(content=\"Translate this sentence from English to Russian: I like to use LangChain in developing projects\")])"
      ]
    },
    {
      "cell_type": "code",
      "execution_count": 32,
      "metadata": {
        "id": "ZgsWSt5u18RA",
        "colab": {
          "base_uri": "https://localhost:8080/"
        },
        "outputId": "891cc95d-5095-4bab-9c12-74e6be906772"
      },
      "outputs": [
        {
          "output_type": "execute_result",
          "data": {
            "text/plain": [
              "AIMessage(content='私は週に一度寿司を食べるのが大好きです。 (Watashi wa shū ni ichido sushi o taberu no ga daisuki desu.)')"
            ]
          },
          "metadata": {},
          "execution_count": 32
        }
      ],
      "source": [
        "chat([HumanMessage(content=\"Translate this sentence from English to Japanese: I love to eat sushi one day a week\")])"
      ]
    },
    {
      "cell_type": "markdown",
      "metadata": {
        "id": "SyQbaa2LZpLC"
      },
      "source": [
        "# Chat with Wikipedia"
      ]
    },
    {
      "cell_type": "markdown",
      "source": [
        "### Load libraries"
      ],
      "metadata": {
        "id": "HDWkOhjR194A"
      }
    },
    {
      "cell_type": "code",
      "source": [
        "from langchain.retrievers import WikipediaRetriever\n",
        "from langchain.chains import ConversationalRetrievalChain\n",
        "import pprint\n",
        "\n"
      ],
      "metadata": {
        "id": "j00ibfTlIs8l"
      },
      "execution_count": 33,
      "outputs": []
    },
    {
      "cell_type": "markdown",
      "source": [
        "### Retrieve Wikipedia documents from your topic"
      ],
      "metadata": {
        "id": "b-Ktl6Id2AxD"
      }
    },
    {
      "cell_type": "code",
      "source": [
        "retriever = WikipediaRetriever()"
      ],
      "metadata": {
        "id": "qznj6cCwR_Ee"
      },
      "execution_count": 34,
      "outputs": []
    },
    {
      "cell_type": "code",
      "source": [
        "docs = retriever.get_relevant_documents(query=\"storm\")\n"
      ],
      "metadata": {
        "id": "3HHa6ksMR--V"
      },
      "execution_count": null,
      "outputs": []
    },
    {
      "cell_type": "code",
      "source": [
        "docs[0].metadata  # meta-information of the Document"
      ],
      "metadata": {
        "colab": {
          "base_uri": "https://localhost:8080/"
        },
        "id": "9DJ-6vtYSIv8",
        "outputId": "ab76d7de-11b5-4107-faef-5b5754bf7ecc"
      },
      "execution_count": 36,
      "outputs": [
        {
          "output_type": "execute_result",
          "data": {
            "text/plain": [
              "{'title': 'Storm',\n",
              " 'summary': 'A storm is any disturbed state of the natural environment or the atmosphere of an astronomical body. It may be marked by significant disruptions to normal conditions such as strong wind, tornadoes, hail, thunder and lightning (a thunderstorm), heavy precipitation (snowstorm, rainstorm), heavy freezing rain (ice storm), strong winds (tropical cyclone, windstorm), wind transporting some substance through the atmosphere such as in a dust storm, among other forms of severe weather.\\nStorms have the potential to harm lives and property via storm surge, heavy rain or snow causing flooding or road impassibility, lightning, wildfires, and vertical and horizontal wind shear. Systems with significant rainfall and duration help alleviate drought in places they move through. Heavy snowfall can allow special recreational activities to take place which would not be possible otherwise, such as skiing and snowmobiling.\\nThe English word comes from Proto-Germanic *sturmaz meaning \"noise, tumult\".Storms are created when a center of low pressure develops with the system of high pressure surrounding it. This combination of opposing forces can create winds and result in the formation of storm clouds such as cumulonimbus. Small localized areas of low pressure can form from hot air rising off hot ground, resulting in smaller disturbances such as dust devils and whirlwinds.',\n",
              " 'source': 'https://en.wikipedia.org/wiki/Storm'}"
            ]
          },
          "metadata": {},
          "execution_count": 36
        }
      ]
    },
    {
      "cell_type": "code",
      "source": [
        "docs[0].page_content[:1000]  # a content of the Document"
      ],
      "metadata": {
        "colab": {
          "base_uri": "https://localhost:8080/",
          "height": 123
        },
        "id": "-haULDbjSKyv",
        "outputId": "59d396b9-31d4-4c91-98e3-8c53032e61ff"
      },
      "execution_count": 37,
      "outputs": [
        {
          "output_type": "execute_result",
          "data": {
            "text/plain": [
              "'A storm is any disturbed state of the natural environment or the atmosphere of an astronomical body. It may be marked by significant disruptions to normal conditions such as strong wind, tornadoes, hail, thunder and lightning (a thunderstorm), heavy precipitation (snowstorm, rainstorm), heavy freezing rain (ice storm), strong winds (tropical cyclone, windstorm), wind transporting some substance through the atmosphere such as in a dust storm, among other forms of severe weather.\\nStorms have the potential to harm lives and property via storm surge, heavy rain or snow causing flooding or road impassibility, lightning, wildfires, and vertical and horizontal wind shear. Systems with significant rainfall and duration help alleviate drought in places they move through. Heavy snowfall can allow special recreational activities to take place which would not be possible otherwise, such as skiing and snowmobiling.\\nThe English word comes from Proto-Germanic *sturmaz meaning \"noise, tumult\".Storms a'"
            ],
            "application/vnd.google.colaboratory.intrinsic+json": {
              "type": "string"
            }
          },
          "metadata": {},
          "execution_count": 37
        }
      ]
    },
    {
      "cell_type": "markdown",
      "source": [
        "### Ask Wikipedia your interest topics"
      ],
      "metadata": {
        "id": "lLBVVfBA2LoL"
      }
    },
    {
      "cell_type": "code",
      "source": [
        "model = ChatOpenAI(temperature=0, model_name='gpt-3.5-turbo')"
      ],
      "metadata": {
        "id": "tp_HNzJMJH0p"
      },
      "execution_count": 38,
      "outputs": []
    },
    {
      "cell_type": "code",
      "source": [
        "qa = ConversationalRetrievalChain.from_llm(model, retriever=retriever)"
      ],
      "metadata": {
        "id": "O9i6Ag28SqJW"
      },
      "execution_count": 39,
      "outputs": []
    },
    {
      "cell_type": "code",
      "source": [
        "questions = [\n",
        "    \"What is storm?\",\n",
        "    \"What is Sustainability?\",\n",
        "    \"What is climate change?\",\n",
        "]\n",
        "chat_history = []\n",
        "\n",
        "for question in questions:\n",
        "    result = qa({\"question\": question, \"chat_history\": chat_history})\n",
        "    chat_history.append((question, result[\"answer\"]))\n",
        "    print(f\"-> **Question**: {question} \\n\")\n",
        "    print(f\"**Answer**: {result['answer']} \\n\")"
      ],
      "metadata": {
        "colab": {
          "base_uri": "https://localhost:8080/"
        },
        "id": "jFd0L7C1SsxO",
        "outputId": "ee920da1-da17-41c6-ca99-b80b21b02dce"
      },
      "execution_count": 40,
      "outputs": [
        {
          "output_type": "stream",
          "name": "stdout",
          "text": [
            "-> **Question**: What is storm? \n",
            "\n",
            "**Answer**: A storm is a weather event characterized by strong winds, precipitation (such as rain, snow, or hail), and often thunder and lightning. Storms can vary in intensity and duration, and can occur in various forms, such as thunderstorms, hurricanes, blizzards, or tornadoes. Storms can cause significant damage to property and pose risks to human safety. \n",
            "\n",
            "-> **Question**: What is Sustainability? \n",
            "\n",
            "**Answer**: Sustainability is a concept that refers to the ability to maintain or support something over the long term. In the context of the environment, sustainability often focuses on countering major environmental problems, such as climate change, loss of biodiversity, and pollution. It involves finding a balance between economic development, environmental protection, and social well-being. Sustainability can guide decisions at the global, national, and individual levels, and it aims to meet the needs of the present generation without compromising the ability of future generations to meet their own needs. \n",
            "\n",
            "-> **Question**: What is climate change? \n",
            "\n",
            "**Answer**: Climate change refers to the long-term alteration of Earth's climate patterns, including changes in temperature, precipitation, wind patterns, and other aspects of the climate system. It is primarily caused by human activities, particularly the burning of fossil fuels, which release greenhouse gases into the atmosphere. These greenhouse gases, such as carbon dioxide and methane, trap heat and contribute to the warming of the planet. Climate change has a wide range of impacts on the environment, ecosystems, and human societies, including rising sea levels, more frequent and intense extreme weather events, loss of biodiversity, and threats to human health and well-being. It is considered one of the greatest challenges facing humanity and requires global efforts to mitigate its effects and adapt to the changes. \n",
            "\n"
          ]
        }
      ]
    },
    {
      "cell_type": "markdown",
      "source": [
        "# Synthetic Data Generator"
      ],
      "metadata": {
        "id": "jn8A1k-JNpG-"
      }
    },
    {
      "cell_type": "markdown",
      "source": [
        "### Load Libraries"
      ],
      "metadata": {
        "id": "sLuh-RQEVhTv"
      }
    },
    {
      "cell_type": "code",
      "source": [
        "import pandas as pd\n",
        "from langchain.prompts import FewShotPromptTemplate, PromptTemplate\n",
        "from langchain.chat_models import ChatOpenAI\n",
        "from langchain.pydantic_v1 import BaseModel\n",
        "from langchain_experimental.tabular_synthetic_data.base import SyntheticDataGenerator\n",
        "from langchain_experimental.tabular_synthetic_data.openai import (\n",
        "    create_openai_data_generator,\n",
        "    OPENAI_TEMPLATE,\n",
        ")\n",
        "from langchain_experimental.tabular_synthetic_data.prompts import (\n",
        "    SYNTHETIC_FEW_SHOT_SUFFIX,\n",
        "    SYNTHETIC_FEW_SHOT_PREFIX,\n",
        ")\n",
        "from pydantic import IntEnumError"
      ],
      "metadata": {
        "id": "M8APtDX-NsoK"
      },
      "execution_count": 41,
      "outputs": []
    },
    {
      "cell_type": "markdown",
      "source": [
        "### Structure of your dataset"
      ],
      "metadata": {
        "id": "AIiK8wqCWQKJ"
      }
    },
    {
      "cell_type": "code",
      "source": [
        "class MedicalCharges(BaseModel):\n",
        "    ID: int\n",
        "    Age: int\n",
        "    BMI: float\n",
        "    Height: int\n",
        "    Children: int\n",
        "    Charges: float"
      ],
      "metadata": {
        "id": "bePfLA4rN2QU"
      },
      "execution_count": 42,
      "outputs": []
    },
    {
      "cell_type": "markdown",
      "source": [
        "### Examples of your data"
      ],
      "metadata": {
        "id": "GYC5wNKhWWAK"
      }
    },
    {
      "cell_type": "code",
      "source": [
        "examples = [\n",
        "    {\n",
        "        \"example\": \"\"\"ID: 123456, Age: 34, BMI: 27.9,\n",
        "        Children: 0, Height: 170, Charges: 1884.90\"\"\"\n",
        "    },\n",
        "    {\n",
        "        \"example\": \"\"\"ID: 253459, Age: 45, BMI: 22.7,\n",
        "        Children: 2, Height: 167, Charges: 1725.34\"\"\"\n",
        "    },\n",
        "    {\n",
        "        \"example\": \"\"\"ID: 323758, Age: 23, BMI: 18.9,\n",
        "        Children: 0, Height: 178, Charges: 3866.60\"\"\"\n",
        "    }\n",
        "]"
      ],
      "metadata": {
        "id": "LfWpHeoFN7-U"
      },
      "execution_count": 49,
      "outputs": []
    },
    {
      "cell_type": "markdown",
      "source": [
        "### Provide a template"
      ],
      "metadata": {
        "id": "oPT92wu3Wcyt"
      }
    },
    {
      "cell_type": "code",
      "source": [
        "OPENAI_TEMPLATE = PromptTemplate(input_variables=[\"example\"], template=\"{example}\")\n",
        "\n",
        "prompt_template = FewShotPromptTemplate(\n",
        "    prefix=SYNTHETIC_FEW_SHOT_PREFIX,\n",
        "    examples=examples,\n",
        "    suffix=SYNTHETIC_FEW_SHOT_SUFFIX,\n",
        "    input_variables=[\"subject\", \"extra\"],\n",
        "    example_prompt=OPENAI_TEMPLATE,\n",
        ")"
      ],
      "metadata": {
        "id": "L9LJaPiQN7rU"
      },
      "execution_count": 50,
      "outputs": []
    },
    {
      "cell_type": "markdown",
      "source": [
        "### Generate synthetic data"
      ],
      "metadata": {
        "id": "oo3SNRBNWfhd"
      }
    },
    {
      "cell_type": "code",
      "source": [
        "synthetic_data_generator = create_openai_data_generator(\n",
        "    output_schema=MedicalCharges,\n",
        "    llm=ChatOpenAI(temperature=1, model_name='gpt-3.5-turbo'),\n",
        "    prompt=prompt_template,\n",
        ")"
      ],
      "metadata": {
        "id": "VlYKz_6nN7gq"
      },
      "execution_count": 51,
      "outputs": []
    },
    {
      "cell_type": "code",
      "source": [
        "# eventually run 2 times\n",
        "synthetic_results = synthetic_data_generator.generate(\n",
        "    subject=\"Medical_Charges\",\n",
        "    extra=\"chosen at random\",\n",
        "    runs=10)"
      ],
      "metadata": {
        "id": "-LcfFAhUOCMk"
      },
      "execution_count": 52,
      "outputs": []
    },
    {
      "cell_type": "code",
      "source": [
        "synthetic_results"
      ],
      "metadata": {
        "colab": {
          "base_uri": "https://localhost:8080/"
        },
        "id": "cwT-20HFOGRz",
        "outputId": "46a9078c-6d0f-4661-c75c-709934c35ff7"
      },
      "execution_count": 53,
      "outputs": [
        {
          "output_type": "execute_result",
          "data": {
            "text/plain": [
              "[MedicalCharges(ID=987654, Age=37, BMI=25.3, Height=175, Children=1, Charges=2500.8),\n",
              " MedicalCharges(ID=876543, Age=30, BMI=28.5, Height=162, Children=3, Charges=4598.75),\n",
              " MedicalCharges(ID=123456, Age=45, BMI=27.8, Height=170, Children=2, Charges=5875.12),\n",
              " MedicalCharges(ID=897654, Age=42, BMI=23.7, Height=164, Children=4, Charges=3200.45),\n",
              " MedicalCharges(ID=876543, Age=30, BMI=28.5, Height=162, Children=3, Charges=4598.75),\n",
              " MedicalCharges(ID=987654, Age=37, BMI=25.3, Height=175, Children=1, Charges=3850.67),\n",
              " MedicalCharges(ID=165432, Age=28, BMI=21.2, Height=170, Children=2, Charges=2750.89),\n",
              " MedicalCharges(ID=765432, Age=45, BMI=32.1, Height=169, Children=2, Charges=5830.94),\n",
              " MedicalCharges(ID=987654, Age=37, BMI=25.3, Height=175, Children=1, Charges=3850.67),\n",
              " MedicalCharges(ID=582916, Age=32, BMI=23.7, Height=168, Children=3, Charges=4200.35)]"
            ]
          },
          "metadata": {},
          "execution_count": 53
        }
      ]
    },
    {
      "cell_type": "code",
      "source": [
        "df = pd.DataFrame([x.__dict__ for x in synthetic_results], columns=['ID', 'Age', 'BMI', 'Children', 'Height', 'Charges'])\n"
      ],
      "metadata": {
        "id": "g7XsiqLXTnC5"
      },
      "execution_count": 56,
      "outputs": []
    },
    {
      "cell_type": "code",
      "source": [
        "df"
      ],
      "metadata": {
        "colab": {
          "base_uri": "https://localhost:8080/",
          "height": 363
        },
        "id": "Ea6X2AafUHXM",
        "outputId": "82540cfd-3480-4b7e-cadf-826cb62eb416"
      },
      "execution_count": 57,
      "outputs": [
        {
          "output_type": "execute_result",
          "data": {
            "text/plain": [
              "       ID  Age   BMI  Children  Height  Charges\n",
              "0  987654   37  25.3         1     175  2500.80\n",
              "1  876543   30  28.5         3     162  4598.75\n",
              "2  123456   45  27.8         2     170  5875.12\n",
              "3  897654   42  23.7         4     164  3200.45\n",
              "4  876543   30  28.5         3     162  4598.75\n",
              "5  987654   37  25.3         1     175  3850.67\n",
              "6  165432   28  21.2         2     170  2750.89\n",
              "7  765432   45  32.1         2     169  5830.94\n",
              "8  987654   37  25.3         1     175  3850.67\n",
              "9  582916   32  23.7         3     168  4200.35"
            ],
            "text/html": [
              "\n",
              "  <div id=\"df-cc2c1792-dd01-4ab6-b572-3fc0818e489f\" class=\"colab-df-container\">\n",
              "    <div>\n",
              "<style scoped>\n",
              "    .dataframe tbody tr th:only-of-type {\n",
              "        vertical-align: middle;\n",
              "    }\n",
              "\n",
              "    .dataframe tbody tr th {\n",
              "        vertical-align: top;\n",
              "    }\n",
              "\n",
              "    .dataframe thead th {\n",
              "        text-align: right;\n",
              "    }\n",
              "</style>\n",
              "<table border=\"1\" class=\"dataframe\">\n",
              "  <thead>\n",
              "    <tr style=\"text-align: right;\">\n",
              "      <th></th>\n",
              "      <th>ID</th>\n",
              "      <th>Age</th>\n",
              "      <th>BMI</th>\n",
              "      <th>Children</th>\n",
              "      <th>Height</th>\n",
              "      <th>Charges</th>\n",
              "    </tr>\n",
              "  </thead>\n",
              "  <tbody>\n",
              "    <tr>\n",
              "      <th>0</th>\n",
              "      <td>987654</td>\n",
              "      <td>37</td>\n",
              "      <td>25.3</td>\n",
              "      <td>1</td>\n",
              "      <td>175</td>\n",
              "      <td>2500.80</td>\n",
              "    </tr>\n",
              "    <tr>\n",
              "      <th>1</th>\n",
              "      <td>876543</td>\n",
              "      <td>30</td>\n",
              "      <td>28.5</td>\n",
              "      <td>3</td>\n",
              "      <td>162</td>\n",
              "      <td>4598.75</td>\n",
              "    </tr>\n",
              "    <tr>\n",
              "      <th>2</th>\n",
              "      <td>123456</td>\n",
              "      <td>45</td>\n",
              "      <td>27.8</td>\n",
              "      <td>2</td>\n",
              "      <td>170</td>\n",
              "      <td>5875.12</td>\n",
              "    </tr>\n",
              "    <tr>\n",
              "      <th>3</th>\n",
              "      <td>897654</td>\n",
              "      <td>42</td>\n",
              "      <td>23.7</td>\n",
              "      <td>4</td>\n",
              "      <td>164</td>\n",
              "      <td>3200.45</td>\n",
              "    </tr>\n",
              "    <tr>\n",
              "      <th>4</th>\n",
              "      <td>876543</td>\n",
              "      <td>30</td>\n",
              "      <td>28.5</td>\n",
              "      <td>3</td>\n",
              "      <td>162</td>\n",
              "      <td>4598.75</td>\n",
              "    </tr>\n",
              "    <tr>\n",
              "      <th>5</th>\n",
              "      <td>987654</td>\n",
              "      <td>37</td>\n",
              "      <td>25.3</td>\n",
              "      <td>1</td>\n",
              "      <td>175</td>\n",
              "      <td>3850.67</td>\n",
              "    </tr>\n",
              "    <tr>\n",
              "      <th>6</th>\n",
              "      <td>165432</td>\n",
              "      <td>28</td>\n",
              "      <td>21.2</td>\n",
              "      <td>2</td>\n",
              "      <td>170</td>\n",
              "      <td>2750.89</td>\n",
              "    </tr>\n",
              "    <tr>\n",
              "      <th>7</th>\n",
              "      <td>765432</td>\n",
              "      <td>45</td>\n",
              "      <td>32.1</td>\n",
              "      <td>2</td>\n",
              "      <td>169</td>\n",
              "      <td>5830.94</td>\n",
              "    </tr>\n",
              "    <tr>\n",
              "      <th>8</th>\n",
              "      <td>987654</td>\n",
              "      <td>37</td>\n",
              "      <td>25.3</td>\n",
              "      <td>1</td>\n",
              "      <td>175</td>\n",
              "      <td>3850.67</td>\n",
              "    </tr>\n",
              "    <tr>\n",
              "      <th>9</th>\n",
              "      <td>582916</td>\n",
              "      <td>32</td>\n",
              "      <td>23.7</td>\n",
              "      <td>3</td>\n",
              "      <td>168</td>\n",
              "      <td>4200.35</td>\n",
              "    </tr>\n",
              "  </tbody>\n",
              "</table>\n",
              "</div>\n",
              "    <div class=\"colab-df-buttons\">\n",
              "\n",
              "  <div class=\"colab-df-container\">\n",
              "    <button class=\"colab-df-convert\" onclick=\"convertToInteractive('df-cc2c1792-dd01-4ab6-b572-3fc0818e489f')\"\n",
              "            title=\"Convert this dataframe to an interactive table.\"\n",
              "            style=\"display:none;\">\n",
              "\n",
              "  <svg xmlns=\"http://www.w3.org/2000/svg\" height=\"24px\" viewBox=\"0 -960 960 960\">\n",
              "    <path d=\"M120-120v-720h720v720H120Zm60-500h600v-160H180v160Zm220 220h160v-160H400v160Zm0 220h160v-160H400v160ZM180-400h160v-160H180v160Zm440 0h160v-160H620v160ZM180-180h160v-160H180v160Zm440 0h160v-160H620v160Z\"/>\n",
              "  </svg>\n",
              "    </button>\n",
              "\n",
              "  <style>\n",
              "    .colab-df-container {\n",
              "      display:flex;\n",
              "      gap: 12px;\n",
              "    }\n",
              "\n",
              "    .colab-df-convert {\n",
              "      background-color: #E8F0FE;\n",
              "      border: none;\n",
              "      border-radius: 50%;\n",
              "      cursor: pointer;\n",
              "      display: none;\n",
              "      fill: #1967D2;\n",
              "      height: 32px;\n",
              "      padding: 0 0 0 0;\n",
              "      width: 32px;\n",
              "    }\n",
              "\n",
              "    .colab-df-convert:hover {\n",
              "      background-color: #E2EBFA;\n",
              "      box-shadow: 0px 1px 2px rgba(60, 64, 67, 0.3), 0px 1px 3px 1px rgba(60, 64, 67, 0.15);\n",
              "      fill: #174EA6;\n",
              "    }\n",
              "\n",
              "    .colab-df-buttons div {\n",
              "      margin-bottom: 4px;\n",
              "    }\n",
              "\n",
              "    [theme=dark] .colab-df-convert {\n",
              "      background-color: #3B4455;\n",
              "      fill: #D2E3FC;\n",
              "    }\n",
              "\n",
              "    [theme=dark] .colab-df-convert:hover {\n",
              "      background-color: #434B5C;\n",
              "      box-shadow: 0px 1px 3px 1px rgba(0, 0, 0, 0.15);\n",
              "      filter: drop-shadow(0px 1px 2px rgba(0, 0, 0, 0.3));\n",
              "      fill: #FFFFFF;\n",
              "    }\n",
              "  </style>\n",
              "\n",
              "    <script>\n",
              "      const buttonEl =\n",
              "        document.querySelector('#df-cc2c1792-dd01-4ab6-b572-3fc0818e489f button.colab-df-convert');\n",
              "      buttonEl.style.display =\n",
              "        google.colab.kernel.accessAllowed ? 'block' : 'none';\n",
              "\n",
              "      async function convertToInteractive(key) {\n",
              "        const element = document.querySelector('#df-cc2c1792-dd01-4ab6-b572-3fc0818e489f');\n",
              "        const dataTable =\n",
              "          await google.colab.kernel.invokeFunction('convertToInteractive',\n",
              "                                                    [key], {});\n",
              "        if (!dataTable) return;\n",
              "\n",
              "        const docLinkHtml = 'Like what you see? Visit the ' +\n",
              "          '<a target=\"_blank\" href=https://colab.research.google.com/notebooks/data_table.ipynb>data table notebook</a>'\n",
              "          + ' to learn more about interactive tables.';\n",
              "        element.innerHTML = '';\n",
              "        dataTable['output_type'] = 'display_data';\n",
              "        await google.colab.output.renderOutput(dataTable, element);\n",
              "        const docLink = document.createElement('div');\n",
              "        docLink.innerHTML = docLinkHtml;\n",
              "        element.appendChild(docLink);\n",
              "      }\n",
              "    </script>\n",
              "  </div>\n",
              "\n",
              "\n",
              "<div id=\"df-d51953c9-2771-4efb-ae8e-feb5cda55092\">\n",
              "  <button class=\"colab-df-quickchart\" onclick=\"quickchart('df-d51953c9-2771-4efb-ae8e-feb5cda55092')\"\n",
              "            title=\"Suggest charts.\"\n",
              "            style=\"display:none;\">\n",
              "\n",
              "<svg xmlns=\"http://www.w3.org/2000/svg\" height=\"24px\"viewBox=\"0 0 24 24\"\n",
              "     width=\"24px\">\n",
              "    <g>\n",
              "        <path d=\"M19 3H5c-1.1 0-2 .9-2 2v14c0 1.1.9 2 2 2h14c1.1 0 2-.9 2-2V5c0-1.1-.9-2-2-2zM9 17H7v-7h2v7zm4 0h-2V7h2v10zm4 0h-2v-4h2v4z\"/>\n",
              "    </g>\n",
              "</svg>\n",
              "  </button>\n",
              "\n",
              "<style>\n",
              "  .colab-df-quickchart {\n",
              "      --bg-color: #E8F0FE;\n",
              "      --fill-color: #1967D2;\n",
              "      --hover-bg-color: #E2EBFA;\n",
              "      --hover-fill-color: #174EA6;\n",
              "      --disabled-fill-color: #AAA;\n",
              "      --disabled-bg-color: #DDD;\n",
              "  }\n",
              "\n",
              "  [theme=dark] .colab-df-quickchart {\n",
              "      --bg-color: #3B4455;\n",
              "      --fill-color: #D2E3FC;\n",
              "      --hover-bg-color: #434B5C;\n",
              "      --hover-fill-color: #FFFFFF;\n",
              "      --disabled-bg-color: #3B4455;\n",
              "      --disabled-fill-color: #666;\n",
              "  }\n",
              "\n",
              "  .colab-df-quickchart {\n",
              "    background-color: var(--bg-color);\n",
              "    border: none;\n",
              "    border-radius: 50%;\n",
              "    cursor: pointer;\n",
              "    display: none;\n",
              "    fill: var(--fill-color);\n",
              "    height: 32px;\n",
              "    padding: 0;\n",
              "    width: 32px;\n",
              "  }\n",
              "\n",
              "  .colab-df-quickchart:hover {\n",
              "    background-color: var(--hover-bg-color);\n",
              "    box-shadow: 0 1px 2px rgba(60, 64, 67, 0.3), 0 1px 3px 1px rgba(60, 64, 67, 0.15);\n",
              "    fill: var(--button-hover-fill-color);\n",
              "  }\n",
              "\n",
              "  .colab-df-quickchart-complete:disabled,\n",
              "  .colab-df-quickchart-complete:disabled:hover {\n",
              "    background-color: var(--disabled-bg-color);\n",
              "    fill: var(--disabled-fill-color);\n",
              "    box-shadow: none;\n",
              "  }\n",
              "\n",
              "  .colab-df-spinner {\n",
              "    border: 2px solid var(--fill-color);\n",
              "    border-color: transparent;\n",
              "    border-bottom-color: var(--fill-color);\n",
              "    animation:\n",
              "      spin 1s steps(1) infinite;\n",
              "  }\n",
              "\n",
              "  @keyframes spin {\n",
              "    0% {\n",
              "      border-color: transparent;\n",
              "      border-bottom-color: var(--fill-color);\n",
              "      border-left-color: var(--fill-color);\n",
              "    }\n",
              "    20% {\n",
              "      border-color: transparent;\n",
              "      border-left-color: var(--fill-color);\n",
              "      border-top-color: var(--fill-color);\n",
              "    }\n",
              "    30% {\n",
              "      border-color: transparent;\n",
              "      border-left-color: var(--fill-color);\n",
              "      border-top-color: var(--fill-color);\n",
              "      border-right-color: var(--fill-color);\n",
              "    }\n",
              "    40% {\n",
              "      border-color: transparent;\n",
              "      border-right-color: var(--fill-color);\n",
              "      border-top-color: var(--fill-color);\n",
              "    }\n",
              "    60% {\n",
              "      border-color: transparent;\n",
              "      border-right-color: var(--fill-color);\n",
              "    }\n",
              "    80% {\n",
              "      border-color: transparent;\n",
              "      border-right-color: var(--fill-color);\n",
              "      border-bottom-color: var(--fill-color);\n",
              "    }\n",
              "    90% {\n",
              "      border-color: transparent;\n",
              "      border-bottom-color: var(--fill-color);\n",
              "    }\n",
              "  }\n",
              "</style>\n",
              "\n",
              "  <script>\n",
              "    async function quickchart(key) {\n",
              "      const quickchartButtonEl =\n",
              "        document.querySelector('#' + key + ' button');\n",
              "      quickchartButtonEl.disabled = true;  // To prevent multiple clicks.\n",
              "      quickchartButtonEl.classList.add('colab-df-spinner');\n",
              "      try {\n",
              "        const charts = await google.colab.kernel.invokeFunction(\n",
              "            'suggestCharts', [key], {});\n",
              "      } catch (error) {\n",
              "        console.error('Error during call to suggestCharts:', error);\n",
              "      }\n",
              "      quickchartButtonEl.classList.remove('colab-df-spinner');\n",
              "      quickchartButtonEl.classList.add('colab-df-quickchart-complete');\n",
              "    }\n",
              "    (() => {\n",
              "      let quickchartButtonEl =\n",
              "        document.querySelector('#df-d51953c9-2771-4efb-ae8e-feb5cda55092 button');\n",
              "      quickchartButtonEl.style.display =\n",
              "        google.colab.kernel.accessAllowed ? 'block' : 'none';\n",
              "    })();\n",
              "  </script>\n",
              "</div>\n",
              "    </div>\n",
              "  </div>\n"
            ]
          },
          "metadata": {},
          "execution_count": 57
        }
      ]
    }
  ],
  "metadata": {
    "accelerator": "GPU",
    "colab": {
      "provenance": [],
      "gpuType": "T4",
      "authorship_tag": "ABX9TyP5QT8W2FKDazKVpCVHwJQk",
      "include_colab_link": true
    },
    "kernelspec": {
      "display_name": "Python 3",
      "name": "python3"
    },
    "language_info": {
      "name": "python"
    }
  },
  "nbformat": 4,
  "nbformat_minor": 0
}
