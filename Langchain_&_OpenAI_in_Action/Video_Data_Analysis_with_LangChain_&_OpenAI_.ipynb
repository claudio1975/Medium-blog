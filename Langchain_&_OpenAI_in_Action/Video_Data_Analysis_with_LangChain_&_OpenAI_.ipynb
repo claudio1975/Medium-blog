{
  "nbformat": 4,
  "nbformat_minor": 0,
  "metadata": {
    "colab": {
      "provenance": [],
      "gpuType": "T4",
      "authorship_tag": "ABX9TyNI0ugqftAbktTPRTkcWUri",
      "include_colab_link": true
    },
    "kernelspec": {
      "name": "python3",
      "display_name": "Python 3"
    },
    "language_info": {
      "name": "python"
    },
    "accelerator": "GPU"
  },
  "cells": [
    {
      "cell_type": "markdown",
      "metadata": {
        "id": "view-in-github",
        "colab_type": "text"
      },
      "source": [
        "<a href=\"https://colab.research.google.com/github/claudio1975/Medium-blog/blob/master/Langchain_%26_OpenAI_in_Action/Video_Data_Analysis_with_LangChain_%26_OpenAI_.ipynb\" target=\"_parent\"><img src=\"https://colab.research.google.com/assets/colab-badge.svg\" alt=\"Open In Colab\"/></a>"
      ]
    },
    {
      "cell_type": "markdown",
      "source": [
        "### Import Libraries and prepare Workspace"
      ],
      "metadata": {
        "id": "fZteujxr08PM"
      }
    },
    {
      "cell_type": "markdown",
      "source": [
        "datasource: https://www.youtube.com/watch?v=mnoCy0j7DNs"
      ],
      "metadata": {
        "id": "fZGyh17n1Vmv"
      }
    },
    {
      "cell_type": "markdown",
      "source": [
        "Future Food | The Menu of 2030 it's a video retrieved from YouTube\n",
        "\n",
        "The video introduces the topic of future food and the challenges of feeding a growing population by 2050.\n",
        "\n",
        "It explores possible food sources that could be on our menu in 2030: insects, lab meat, algae, farmed fish, and GMOs.\n",
        "\n",
        "\n"
      ],
      "metadata": {
        "id": "guIfl0BY1XtY"
      }
    },
    {
      "cell_type": "code",
      "source": [
        "# Install the langchain package\n",
        "!pip install langchain &> /dev/null"
      ],
      "metadata": {
        "id": "sl09X6bzVRGs"
      },
      "execution_count": null,
      "outputs": []
    },
    {
      "cell_type": "code",
      "execution_count": null,
      "metadata": {
        "id": "skSv_xS5FSn0"
      },
      "outputs": [],
      "source": [
        "# Install the langchain package with openai\n",
        "!pip install -U langchain-openai &> /dev/null"
      ]
    },
    {
      "cell_type": "code",
      "source": [
        "# Install the chromadb\n",
        "!pip install chromadb &> /dev/null"
      ],
      "metadata": {
        "id": "_zlj7eoQHzun"
      },
      "execution_count": null,
      "outputs": []
    },
    {
      "cell_type": "code",
      "source": [
        "# Install the tiktoken\n",
        "!pip install tiktoken &> /dev/null"
      ],
      "metadata": {
        "id": "3zX-cB6XH7KN"
      },
      "execution_count": null,
      "outputs": []
    },
    {
      "cell_type": "code",
      "source": [
        "# Install youtube-transcript-api\n",
        "!pip install youtube-transcript-api &> /dev/null\n"
      ],
      "metadata": {
        "id": "ohXuATGUM2mv"
      },
      "execution_count": null,
      "outputs": []
    },
    {
      "cell_type": "code",
      "source": [
        "# Install pytube\n",
        "!pip install pytube &> /dev/null"
      ],
      "metadata": {
        "id": "jltiFP-lM6Cd"
      },
      "execution_count": null,
      "outputs": []
    },
    {
      "cell_type": "code",
      "source": [
        "# Import the os package\n",
        "import os\n",
        "# Import the openai package\n",
        "import openai\n",
        "# Set openai.api_key to the OPENAI_API_KEY environment variable\n",
        "os.environ[\"OPENAI_API_KEY\"] = \"\""
      ],
      "metadata": {
        "id": "od5qwtzOR5Jq"
      },
      "execution_count": null,
      "outputs": []
    },
    {
      "cell_type": "code",
      "source": [
        "# Import the langchain package and modules\n",
        "import langchain as lc\n",
        "from langchain_openai import ChatOpenAI\n",
        "from langchain_community.document_loaders import YoutubeLoader\n",
        "from langchain_community.document_loaders import GoogleApiYoutubeLoader\n",
        "from langchain.chains import RetrievalQA\n",
        "from langchain.chains import create_tagging_chain\n",
        "from langchain.chains import create_extraction_chain\n",
        "from langchain_community.document_loaders import TextLoader\n",
        "from langchain_openai import OpenAIEmbeddings\n",
        "from langchain.text_splitter import RecursiveCharacterTextSplitter\n",
        "from langchain.vectorstores import Chroma\n",
        "\n",
        "# From the langchain.schema module, import AIMessage, HumanMessage, SystemMessage\n",
        "from langchain.schema import AIMessage, HumanMessage, SystemMessage"
      ],
      "metadata": {
        "id": "nbaMZNr_TRCh"
      },
      "execution_count": null,
      "outputs": []
    },
    {
      "cell_type": "code",
      "source": [
        "# From the IPython.display package, import display and Markdown\n",
        "from IPython.display import display, Markdown"
      ],
      "metadata": {
        "id": "32uNUFNkTiK5"
      },
      "execution_count": null,
      "outputs": []
    },
    {
      "cell_type": "code",
      "source": [
        "# Create a ChatOpenAI object. Assign to chat.\n",
        "chat = ChatOpenAI(temperature=0, model_name='gpt-3.5-turbo')"
      ],
      "metadata": {
        "id": "N8xF01zcVx9t"
      },
      "execution_count": null,
      "outputs": []
    },
    {
      "cell_type": "code",
      "source": [
        "lc.__version__"
      ],
      "metadata": {
        "colab": {
          "base_uri": "https://localhost:8080/",
          "height": 36
        },
        "id": "Axzp-OGO3Don",
        "outputId": "62490c71-4e25-4ed4-f05a-ff68c76ab1ae"
      },
      "execution_count": null,
      "outputs": [
        {
          "output_type": "execute_result",
          "data": {
            "text/plain": [
              "'0.1.6'"
            ],
            "application/vnd.google.colaboratory.intrinsic+json": {
              "type": "string"
            }
          },
          "metadata": {},
          "execution_count": 11
        }
      ]
    },
    {
      "cell_type": "code",
      "source": [
        "openai.__version__"
      ],
      "metadata": {
        "colab": {
          "base_uri": "https://localhost:8080/",
          "height": 36
        },
        "id": "ZqzALIY53Fav",
        "outputId": "61f7ddc7-58fc-4a31-d6e0-15e04d94f7ec"
      },
      "execution_count": null,
      "outputs": [
        {
          "output_type": "execute_result",
          "data": {
            "text/plain": [
              "'1.12.0'"
            ],
            "application/vnd.google.colaboratory.intrinsic+json": {
              "type": "string"
            }
          },
          "metadata": {},
          "execution_count": 12
        }
      ]
    },
    {
      "cell_type": "markdown",
      "source": [
        "### Have a look of the video metadata"
      ],
      "metadata": {
        "id": "tAWtoTfl3QtZ"
      }
    },
    {
      "cell_type": "code",
      "source": [
        "loader = YoutubeLoader.from_youtube_url(\n",
        "    \"https://www.youtube.com/watch?v=mnoCy0j7DNs\",\n",
        "    add_video_info=True,\n",
        "    language=[\"en\", \"id\"],\n",
        "    translation=\"en\",\n",
        ")\n",
        "video=loader.load()"
      ],
      "metadata": {
        "id": "7Z71y2gsOA56"
      },
      "execution_count": null,
      "outputs": []
    },
    {
      "cell_type": "code",
      "source": [
        "video"
      ],
      "metadata": {
        "colab": {
          "base_uri": "https://localhost:8080/"
        },
        "id": "n3gZJmleOg2B",
        "outputId": "f71b3a34-ac34-4e7b-8e34-30a64bfd51cb"
      },
      "execution_count": null,
      "outputs": [
        {
          "output_type": "execute_result",
          "data": {
            "text/plain": [
              "[Document(page_content=\"future food the menu of 2030 the world's  population has been increasing faster  than food production even with modern  agricultural technology there will be  nine billion people to feed by 2050  researchers have been looking at new  food sources tweaking existing ones and  even creating entirely new foods we  examine what could be on our dinner  table 20 to 30 years from now  critters a 2013 UN Food and Agricultural  Organization report reminds us that  there are 1,900 arable insect species  out there that some 2 billion Earthlings  already regularly consume beetles  butterflies moths bees and locusts  insects are abundantly available and  rich in low-fat protein fiber and  minerals lab meat scientists came up  with synthetic meat grown in the lab as  early as 2013 scientists have already  cultured ground beef from cows stem  cells although that lab patty cost three  hundred and thirty thousand dollars to  make and tasted quite bland  experts predict it will only take a  decade or two for an affordable product  that looks cooks smells and tastes like  ground beef algae while it is already  used as a biofuel algae is seen as a  solution for the problem of food  shortages as it can feed humans and  animals alike algae is the fastest  growing plant on earth and has long been  cultivated in Asia food experts predicts  algae farming could become the world's  biggest crop industry as it can be grown  in both the oceans and in freshwater it  is a good source of vitamins and  minerals  farmed fish 3.5 billion humans today  depend on the oceans for their primary  food source that figure will double in  20 years  fortunately humans are aware of this and  have implemented sustainable commercial  fishing practices and turned to  cultivating fish aquaculture is going  big with 35 countries producing more  farmed fish than fish caught in the wild  a milestone was reached in 2011 when for  the first time more fish were farmed  than beef a trend that has continued GMO  Chow genetically modified food is  nothing new we first re-engineered the  DNA of plants in the 80s to make them  disease resistant by the nineties GM  foods were commercially available  several food items we consume fruits  crops livestock's even fish have  undergone some sort of genetic  modification these are generally safe  and went through strict standards 3d  printed dishes straight from the printer  and onto the plate you will be able to  fully customize food shapes textures  tastes and forms you can order online  your favorite chocolate bar or snack and  3d princes with a machine at home the  food you're craving will just be a print  away  [Music]\", metadata={'source': 'mnoCy0j7DNs', 'title': 'Future Food | The Menu of 2030', 'description': 'Unknown', 'view_count': 248555, 'thumbnail_url': 'https://i.ytimg.com/vi/mnoCy0j7DNs/hqdefault.jpg?sqp=-oaymwEXCJADEOABSFryq4qpAwkIARUAAIhCGAE=&rs=AOn4CLDUO2C2WZtZjOHt1YsTpicWAO8CSQ', 'publish_date': '2017-10-13 00:00:00', 'length': 213, 'author': 'Astrolabe'})]"
            ]
          },
          "metadata": {},
          "execution_count": 14
        }
      ]
    },
    {
      "cell_type": "markdown",
      "source": [
        "### Chunking Text"
      ],
      "metadata": {
        "id": "BcO-p0Pk4-rY"
      }
    },
    {
      "cell_type": "code",
      "source": [
        "text_splitter = RecursiveCharacterTextSplitter(\n",
        "    chunk_size=500, chunk_overlap=20, add_start_index=True\n",
        ")\n",
        "text = text_splitter.split_documents(video)"
      ],
      "metadata": {
        "id": "FRA5IMqWQaLD"
      },
      "execution_count": null,
      "outputs": []
    },
    {
      "cell_type": "markdown",
      "source": [
        "### Embedding and Upload the data into a VectorStore"
      ],
      "metadata": {
        "id": "lqyTju-g5pMn"
      }
    },
    {
      "cell_type": "code",
      "source": [
        "embeddings = OpenAIEmbeddings()\n",
        "vectorstore = Chroma.from_documents(text, embeddings)"
      ],
      "metadata": {
        "id": "qVbLHL_UREmB"
      },
      "execution_count": null,
      "outputs": []
    },
    {
      "cell_type": "markdown",
      "source": [
        "### Natural Language Retrieval"
      ],
      "metadata": {
        "id": "oSoNKK9951kq"
      }
    },
    {
      "cell_type": "code",
      "source": [
        "qa_chain = RetrievalQA.from_chain_type(\n",
        "    chat,\n",
        "    retriever=vectorstore.as_retriever(),\n",
        "    chain_type='stuff'\n",
        ")"
      ],
      "metadata": {
        "id": "cnhrFYjXSEVY"
      },
      "execution_count": null,
      "outputs": []
    },
    {
      "cell_type": "markdown",
      "source": [
        "#### Q&A Analysis"
      ],
      "metadata": {
        "id": "gW9hcoIG6dul"
      }
    },
    {
      "cell_type": "code",
      "source": [
        "# Possible Food sources\n",
        "question = \"Could you tell me the possible food sources on our menu in 2030 ?\"\n",
        "result = qa_chain.invoke({\"query\": question})\n",
        "display(result['result'].split('\\n'))"
      ],
      "metadata": {
        "colab": {
          "base_uri": "https://localhost:8080/",
          "height": 254
        },
        "id": "TcQG7W_jTuTR",
        "outputId": "f90ad997-b170-4db3-92da-2a38a1349828"
      },
      "execution_count": null,
      "outputs": [
        {
          "output_type": "display_data",
          "data": {
            "text/plain": [
              "['Possible food sources on our menu in 2030 could include:',\n",
              " '',\n",
              " '1. Insects: With over 1,900 arable insect species, insects are seen as a potential solution for food shortages. Beetles, butterflies, moths, bees, and locusts are already consumed by 2 billion people and are rich in low-fat protein, fiber, and minerals.',\n",
              " '',\n",
              " \"2. Algae: Algae, which is already used as a biofuel, is being explored as a food source. It can be grown in both oceans and freshwater and is considered the fastest-growing plant on Earth. Algae farming has the potential to become the world's biggest crop industry.\",\n",
              " '',\n",
              " '3. Lab-grown meat: Scientists have been working on growing synthetic meat in the lab. While it was initially expensive and lacked flavor, experts predict that it will become more affordable and tastier in the future.',\n",
              " '',\n",
              " '4. Customized food: Advancements in technology, such as 3D printing, may allow for the customization of food shapes, textures, tastes, and forms. This could enable individuals to order their favorite snacks or meals online and print them at home.']"
            ]
          },
          "metadata": {}
        }
      ]
    },
    {
      "cell_type": "markdown",
      "source": [
        "#### Length Analysis"
      ],
      "metadata": {
        "id": "euegoXuF6g3i"
      }
    },
    {
      "cell_type": "code",
      "source": [
        "# Length of text\n",
        "question = \"Could you tell me how many words are in the 'text'?\"\n",
        "result = qa_chain.invoke({\"query\": question})\n",
        "display(result['result'].split('\\n'))"
      ],
      "metadata": {
        "id": "I66teAVbqNwT",
        "colab": {
          "base_uri": "https://localhost:8080/",
          "height": 35
        },
        "outputId": "e5b82e80-1cb1-404d-9cec-dd892852fdcf"
      },
      "execution_count": null,
      "outputs": [
        {
          "output_type": "display_data",
          "data": {
            "text/plain": [
              "['The number of words in the given text is 165.']"
            ]
          },
          "metadata": {}
        }
      ]
    },
    {
      "cell_type": "markdown",
      "source": [
        "#### Key word Analysis"
      ],
      "metadata": {
        "id": "zUkVrkao6zbK"
      }
    },
    {
      "cell_type": "code",
      "source": [
        "# Key word details\n",
        "question = \"Could you provide the key words in the 'Future Food | The Menu of 2030' video?\"\n",
        "result = qa_chain.invoke({\"query\": question})\n",
        "display(result['result'].split('\\n'))"
      ],
      "metadata": {
        "id": "aiTt8VTkqN18",
        "colab": {
          "base_uri": "https://localhost:8080/",
          "height": 1000
        },
        "outputId": "012ccae6-70c7-435a-87f1-6d1f14b90518"
      },
      "execution_count": null,
      "outputs": [
        {
          "output_type": "display_data",
          "data": {
            "text/plain": [
              "[\"The key words in the 'Future Food | The Menu of 2030' video are:\",\n",
              " '',\n",
              " '- future food',\n",
              " '- menu of 2030',\n",
              " \"- world's population\",\n",
              " '- increasing faster',\n",
              " '- food production',\n",
              " '- modern agricultural technology',\n",
              " '- nine billion people',\n",
              " '- feed by 2050',\n",
              " '- new food sources',\n",
              " '- tweaking existing ones',\n",
              " '- creating entirely new foods',\n",
              " '- dinner table',\n",
              " '- critters',\n",
              " '- UN Food and Agricultural Organization',\n",
              " '- arable insect species',\n",
              " '- customize food',\n",
              " '- shapes',\n",
              " '- textures',\n",
              " '- tastes',\n",
              " '- forms',\n",
              " '- order online',\n",
              " '- chocolate bar',\n",
              " '- snack',\n",
              " '- 3D printing',\n",
              " '- affordable product',\n",
              " '- ground beef algae',\n",
              " '- biofuel',\n",
              " '- solution for food shortages',\n",
              " '- feed humans and animals',\n",
              " '- algae farming',\n",
              " '- biggest crop industry',\n",
              " '- oceans',\n",
              " '- freshwater',\n",
              " '- insect species',\n",
              " '- Earthlings',\n",
              " '- consume',\n",
              " '- beetles',\n",
              " '- butterflies',\n",
              " '- moths',\n",
              " '- bees',\n",
              " '- locusts',\n",
              " '- low-fat protein',\n",
              " '- fiber',\n",
              " '- minerals',\n",
              " '- lab meat',\n",
              " '- synthetic meat',\n",
              " '- grown in the lab',\n",
              " '- cultured ground beef',\n",
              " '- stem cells',\n",
              " '- lab patty',\n",
              " '- three hundred and thirty thousand dollars',\n",
              " '- tasted quite bland',\n",
              " '- experts predict']"
            ]
          },
          "metadata": {}
        }
      ]
    },
    {
      "cell_type": "markdown",
      "source": [
        "#### Key Sentence Analysis"
      ],
      "metadata": {
        "id": "TXiMZxQY63dR"
      }
    },
    {
      "cell_type": "code",
      "source": [
        "# Key sentences details\n",
        "question = \"Could you provide the key sentences in the 'Future Food | The Menu of 2030' video?\"\n",
        "result = qa_chain.invoke({\"query\": question})\n",
        "display(result['result'].split('\\n'))"
      ],
      "metadata": {
        "colab": {
          "base_uri": "https://localhost:8080/",
          "height": 199
        },
        "id": "j4BeQ-bjldlh",
        "outputId": "94653c18-59ef-44c0-a298-f26e06a7a9ce"
      },
      "execution_count": null,
      "outputs": [
        {
          "output_type": "display_data",
          "data": {
            "text/plain": [
              "['1. \"The world\\'s population has been increasing faster than food production.\"',\n",
              " '2. \"Even with modern agricultural technology, there will be nine billion people to feed by 2050.\"',\n",
              " '3. \"Researchers have been looking at new food sources, tweaking existing ones, and even creating entirely new foods.\"',\n",
              " '4. \"We examine what could be on our dinner table 20 to 30 years from now.\"',\n",
              " '5. \"There are 1,900 arable insect species.\"',\n",
              " '6. \"You will be able to fully customize food shapes, textures, tastes, and forms.\"',\n",
              " '7. \"Algae is seen as a solution for the problem of food shortages.\"',\n",
              " '8. \"Algae farming could become the world\\'s biggest crop industry.\"',\n",
              " '9. \"Insects are abundantly available and rich in low-fat protein, fiber, and minerals.\"',\n",
              " '10. \"Scientists have already cultured ground beef from cow stem cells.\"']"
            ]
          },
          "metadata": {}
        }
      ]
    },
    {
      "cell_type": "markdown",
      "source": [
        "#### Tagging Data Analysis"
      ],
      "metadata": {
        "id": "udasf-WR68SJ"
      }
    },
    {
      "cell_type": "code",
      "source": [
        "# Schema\n",
        "schema = {\n",
        "    \"properties\": {\n",
        "        \"sentiment\": {\"type\": \"string\"},\n",
        "        \"aggressiveness\": {\"type\": \"integer\"},\n",
        "        \"language\": {\"type\": \"string\"},\n",
        "    }\n",
        "}\n",
        "\n",
        "# LLM\n",
        "tagging = create_tagging_chain(schema, chat)"
      ],
      "metadata": {
        "id": "P7XRgiA3cjZv"
      },
      "execution_count": null,
      "outputs": []
    },
    {
      "cell_type": "code",
      "source": [
        "# Tagging of a sentence\n",
        "video_sentence = \"fortunately humans are aware of this and have implemented sustainable commercial fishing practices and turned to cultivating fish aquaculture is going big with 35 countries producing more farmed fish than fish caught in the wild\"\n",
        "display(tagging.invoke(video_sentence))"
      ],
      "metadata": {
        "colab": {
          "base_uri": "https://localhost:8080/",
          "height": 72
        },
        "id": "IuNNlXCRdBqF",
        "outputId": "ccee9221-b955-437e-f2bd-17be34639ea3"
      },
      "execution_count": null,
      "outputs": [
        {
          "output_type": "display_data",
          "data": {
            "text/plain": [
              "{'input': 'fortunately humans are aware of this and have implemented sustainable commercial fishing practices and turned to cultivating fish aquaculture is going big with 35 countries producing more farmed fish than fish caught in the wild',\n",
              " 'text': {'sentiment': 'positive', 'language': 'English'}}"
            ]
          },
          "metadata": {}
        }
      ]
    },
    {
      "cell_type": "code",
      "source": [
        "# Tagging of a sentence\n",
        "video_sentence=\"biofuel algae is seen as a solution for the problem of food shortages as it can feed humans and animals alike algae is the fastest growing plant on earth and has long been cultivated in Asia food experts predicts algae farming could become the world's biggest crop industry\"\n",
        "display(tagging.invoke(video_sentence))"
      ],
      "metadata": {
        "colab": {
          "base_uri": "https://localhost:8080/",
          "height": 72
        },
        "id": "JJ7f3gDgg0_Z",
        "outputId": "f9449af0-0145-401a-c2f2-1a323fbc4d6b"
      },
      "execution_count": null,
      "outputs": [
        {
          "output_type": "display_data",
          "data": {
            "text/plain": [
              "{'input': \"biofuel algae is seen as a solution for the problem of food shortages as it can feed humans and animals alike algae is the fastest growing plant on earth and has long been cultivated in Asia food experts predicts algae farming could become the world's biggest crop industry\",\n",
              " 'text': {'sentiment': 'positive', 'language': 'English'}}"
            ]
          },
          "metadata": {}
        }
      ]
    },
    {
      "cell_type": "code",
      "source": [
        "# Tagging of a sentence\n",
        "video_sentence=\"UN Food and Agricultural Organization report reminds us that there are 1,900 arable insect species out there that some 2 billion Earthlings already regularly consume beetles butterflies moths bees and locusts insects are abundantly available and rich in low-fat protein fiber and minerals\"\n",
        "display(tagging.invoke(video_sentence))"
      ],
      "metadata": {
        "colab": {
          "base_uri": "https://localhost:8080/",
          "height": 72
        },
        "id": "6UEFjd2Gh7E9",
        "outputId": "6388a1ac-b3bf-4839-976e-9feec3746f36"
      },
      "execution_count": null,
      "outputs": [
        {
          "output_type": "display_data",
          "data": {
            "text/plain": [
              "{'input': 'UN Food and Agricultural Organization report reminds us that there are 1,900 arable insect species out there that some 2 billion Earthlings already regularly consume beetles butterflies moths bees and locusts insects are abundantly available and rich in low-fat protein fiber and minerals',\n",
              " 'text': {'sentiment': 'positive', 'language': 'English'}}"
            ]
          },
          "metadata": {}
        }
      ]
    },
    {
      "cell_type": "markdown",
      "source": [
        "#### NER extraction"
      ],
      "metadata": {
        "id": "riAsj02O7STZ"
      }
    },
    {
      "cell_type": "code",
      "source": [
        "# Schema\n",
        "schema = {\n",
        "    \"properties\": {\n",
        "        \"name\": {\"type\": \"string\"},\n",
        "        \"adjective\": {\"type\": \"string\"},\n",
        "        \"adverb\": {\"type\": \"string\"}\n",
        "        },\n",
        "    \"required\": [\"name\",\"adjective\",\"adverb\"],\n",
        "}\n",
        "\n",
        "extraction = create_extraction_chain(schema, chat)\n"
      ],
      "metadata": {
        "id": "Cn76_7x3liOV"
      },
      "execution_count": null,
      "outputs": []
    },
    {
      "cell_type": "code",
      "source": [
        "# Named Entity of Recognition from a sentence\n",
        "video_sentence=\"UN Food and Agricultural Organization report reminds us that there are 1,900 arable insect species out there that some 2 billion Earthlings already regularly consume beetles butterflies moths bees and locusts insects are abundantly available and rich in low-fat protein fiber and minerals\"\n",
        "display(extraction.invoke(video_sentence))"
      ],
      "metadata": {
        "colab": {
          "base_uri": "https://localhost:8080/",
          "height": 309
        },
        "id": "3OIMZVNnmHw3",
        "outputId": "c490ff44-0108-4994-fa06-432d2f245f7c"
      },
      "execution_count": null,
      "outputs": [
        {
          "output_type": "display_data",
          "data": {
            "text/plain": [
              "{'input': 'UN Food and Agricultural Organization report reminds us that there are 1,900 arable insect species out there that some 2 billion Earthlings already regularly consume beetles butterflies moths bees and locusts insects are abundantly available and rich in low-fat protein fiber and minerals',\n",
              " 'text': [{'name': 'insect',\n",
              "   'adjective': 'abundantly available',\n",
              "   'adverb': 'regularly'},\n",
              "  {'name': 'beetle',\n",
              "   'adjective': 'abundantly available',\n",
              "   'adverb': 'regularly'},\n",
              "  {'name': 'butterfly',\n",
              "   'adjective': 'abundantly available',\n",
              "   'adverb': 'regularly'},\n",
              "  {'name': 'moth', 'adjective': 'abundantly available', 'adverb': 'regularly'},\n",
              "  {'name': 'bee', 'adjective': 'abundantly available', 'adverb': 'regularly'},\n",
              "  {'name': 'locust',\n",
              "   'adjective': 'abundantly available',\n",
              "   'adverb': 'regularly'}]}"
            ]
          },
          "metadata": {}
        }
      ]
    },
    {
      "cell_type": "code",
      "source": [
        "# Named Entity of Recognition from a sentence\n",
        "video_sentence=\"biofuel algae is seen as a solution for the problem of food shortages as it can feed humans and animals alike algae is the fastest growing plant on earth and has long been cultivated in Asia food experts predicts algae farming could become the world's biggest crop industry\"\n",
        "display(extraction.invoke(video_sentence))"
      ],
      "metadata": {
        "colab": {
          "base_uri": "https://localhost:8080/",
          "height": 236
        },
        "id": "l85KyvsNmi5L",
        "outputId": "a8d8982b-0c1e-4bf9-8014-864353c64379"
      },
      "execution_count": null,
      "outputs": [
        {
          "output_type": "display_data",
          "data": {
            "text/plain": [
              "{'input': \"biofuel algae is seen as a solution for the problem of food shortages as it can feed humans and animals alike algae is the fastest growing plant on earth and has long been cultivated in Asia food experts predicts algae farming could become the world's biggest crop industry\",\n",
              " 'text': [{'name': 'biofuel algae', 'adjective': 'solution', 'adverb': ''},\n",
              "  {'name': 'food shortages', 'adjective': 'problem', 'adverb': ''},\n",
              "  {'name': 'humans', 'adjective': '', 'adverb': 'feed'},\n",
              "  {'name': 'animals', 'adjective': '', 'adverb': 'feed'},\n",
              "  {'name': 'algae', 'adjective': 'fastest growing', 'adverb': ''},\n",
              "  {'name': 'Asia', 'adjective': 'cultivated', 'adverb': ''},\n",
              "  {'name': 'algae farming', 'adjective': '', 'adverb': 'predicts'},\n",
              "  {'name': \"world's biggest crop industry\",\n",
              "   'adjective': '',\n",
              "   'adverb': 'become'}]}"
            ]
          },
          "metadata": {}
        }
      ]
    },
    {
      "cell_type": "code",
      "source": [
        "# Named Entity of Recognition from a sentence\n",
        "video_sentence = \"fortunately humans are aware of this and have implemented sustainable commercial fishing practices and turned to cultivating fish aquaculture is going big with 35 countries producing more farmed fish than fish caught in the wild\"\n",
        "display(extraction.invoke(video_sentence))"
      ],
      "metadata": {
        "colab": {
          "base_uri": "https://localhost:8080/",
          "height": 126
        },
        "id": "XLH2RU-Hn-pu",
        "outputId": "aa06d15c-acc7-4766-a1a6-9fdce01c428d"
      },
      "execution_count": null,
      "outputs": [
        {
          "output_type": "display_data",
          "data": {
            "text/plain": [
              "{'input': 'fortunately humans are aware of this and have implemented sustainable commercial fishing practices and turned to cultivating fish aquaculture is going big with 35 countries producing more farmed fish than fish caught in the wild',\n",
              " 'text': [{'name': 'humans',\n",
              "   'adjective': 'sustainable',\n",
              "   'adverb': 'fortunately'},\n",
              "  {'name': 'aquaculture', 'adjective': 'cultivating', 'adverb': ''}]}"
            ]
          },
          "metadata": {}
        }
      ]
    }
  ]
}