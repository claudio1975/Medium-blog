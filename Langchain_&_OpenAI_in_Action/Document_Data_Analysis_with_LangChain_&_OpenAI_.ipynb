{
  "nbformat": 4,
  "nbformat_minor": 0,
  "metadata": {
    "colab": {
      "provenance": [],
      "gpuType": "T4",
      "authorship_tag": "ABX9TyMkZijo4agdbBQB+3D/DGRs",
      "include_colab_link": true
    },
    "kernelspec": {
      "name": "python3",
      "display_name": "Python 3"
    },
    "language_info": {
      "name": "python"
    },
    "accelerator": "GPU",
    "widgets": {
      "application/vnd.jupyter.widget-state+json": {
        "1c7a38f265504812a8fc419cfc92f0a7": {
          "model_module": "@jupyter-widgets/controls",
          "model_name": "HBoxModel",
          "model_module_version": "1.5.0",
          "state": {
            "_dom_classes": [],
            "_model_module": "@jupyter-widgets/controls",
            "_model_module_version": "1.5.0",
            "_model_name": "HBoxModel",
            "_view_count": null,
            "_view_module": "@jupyter-widgets/controls",
            "_view_module_version": "1.5.0",
            "_view_name": "HBoxView",
            "box_style": "",
            "children": [
              "IPY_MODEL_38d2d1965b57465dade81715f12064b3",
              "IPY_MODEL_d6b0cb9330fd40239004901751e1ec93",
              "IPY_MODEL_9acae41de11a44edb76882705543530d"
            ],
            "layout": "IPY_MODEL_36a739c1b00f4db985d1216d18682997"
          }
        },
        "38d2d1965b57465dade81715f12064b3": {
          "model_module": "@jupyter-widgets/controls",
          "model_name": "HTMLModel",
          "model_module_version": "1.5.0",
          "state": {
            "_dom_classes": [],
            "_model_module": "@jupyter-widgets/controls",
            "_model_module_version": "1.5.0",
            "_model_name": "HTMLModel",
            "_view_count": null,
            "_view_module": "@jupyter-widgets/controls",
            "_view_module_version": "1.5.0",
            "_view_name": "HTMLView",
            "description": "",
            "description_tooltip": null,
            "layout": "IPY_MODEL_9ae5061843364e87a36b2fcdf7c794a5",
            "placeholder": "​",
            "style": "IPY_MODEL_0166fc4d8b7f4976aa6c4409860ca224",
            "value": "vocab.json: 100%"
          }
        },
        "d6b0cb9330fd40239004901751e1ec93": {
          "model_module": "@jupyter-widgets/controls",
          "model_name": "FloatProgressModel",
          "model_module_version": "1.5.0",
          "state": {
            "_dom_classes": [],
            "_model_module": "@jupyter-widgets/controls",
            "_model_module_version": "1.5.0",
            "_model_name": "FloatProgressModel",
            "_view_count": null,
            "_view_module": "@jupyter-widgets/controls",
            "_view_module_version": "1.5.0",
            "_view_name": "ProgressView",
            "bar_style": "success",
            "description": "",
            "description_tooltip": null,
            "layout": "IPY_MODEL_60055524fd17483888600013632db527",
            "max": 1042301,
            "min": 0,
            "orientation": "horizontal",
            "style": "IPY_MODEL_1686dd0d59af42d5b77dff2c8a53bbc2",
            "value": 1042301
          }
        },
        "9acae41de11a44edb76882705543530d": {
          "model_module": "@jupyter-widgets/controls",
          "model_name": "HTMLModel",
          "model_module_version": "1.5.0",
          "state": {
            "_dom_classes": [],
            "_model_module": "@jupyter-widgets/controls",
            "_model_module_version": "1.5.0",
            "_model_name": "HTMLModel",
            "_view_count": null,
            "_view_module": "@jupyter-widgets/controls",
            "_view_module_version": "1.5.0",
            "_view_name": "HTMLView",
            "description": "",
            "description_tooltip": null,
            "layout": "IPY_MODEL_b793839e9118483e98d48be8ccb8c97b",
            "placeholder": "​",
            "style": "IPY_MODEL_4dacd31d024f4db5b234469e727af41a",
            "value": " 1.04M/1.04M [00:00&lt;00:00, 13.9MB/s]"
          }
        },
        "36a739c1b00f4db985d1216d18682997": {
          "model_module": "@jupyter-widgets/base",
          "model_name": "LayoutModel",
          "model_module_version": "1.2.0",
          "state": {
            "_model_module": "@jupyter-widgets/base",
            "_model_module_version": "1.2.0",
            "_model_name": "LayoutModel",
            "_view_count": null,
            "_view_module": "@jupyter-widgets/base",
            "_view_module_version": "1.2.0",
            "_view_name": "LayoutView",
            "align_content": null,
            "align_items": null,
            "align_self": null,
            "border": null,
            "bottom": null,
            "display": null,
            "flex": null,
            "flex_flow": null,
            "grid_area": null,
            "grid_auto_columns": null,
            "grid_auto_flow": null,
            "grid_auto_rows": null,
            "grid_column": null,
            "grid_gap": null,
            "grid_row": null,
            "grid_template_areas": null,
            "grid_template_columns": null,
            "grid_template_rows": null,
            "height": null,
            "justify_content": null,
            "justify_items": null,
            "left": null,
            "margin": null,
            "max_height": null,
            "max_width": null,
            "min_height": null,
            "min_width": null,
            "object_fit": null,
            "object_position": null,
            "order": null,
            "overflow": null,
            "overflow_x": null,
            "overflow_y": null,
            "padding": null,
            "right": null,
            "top": null,
            "visibility": null,
            "width": null
          }
        },
        "9ae5061843364e87a36b2fcdf7c794a5": {
          "model_module": "@jupyter-widgets/base",
          "model_name": "LayoutModel",
          "model_module_version": "1.2.0",
          "state": {
            "_model_module": "@jupyter-widgets/base",
            "_model_module_version": "1.2.0",
            "_model_name": "LayoutModel",
            "_view_count": null,
            "_view_module": "@jupyter-widgets/base",
            "_view_module_version": "1.2.0",
            "_view_name": "LayoutView",
            "align_content": null,
            "align_items": null,
            "align_self": null,
            "border": null,
            "bottom": null,
            "display": null,
            "flex": null,
            "flex_flow": null,
            "grid_area": null,
            "grid_auto_columns": null,
            "grid_auto_flow": null,
            "grid_auto_rows": null,
            "grid_column": null,
            "grid_gap": null,
            "grid_row": null,
            "grid_template_areas": null,
            "grid_template_columns": null,
            "grid_template_rows": null,
            "height": null,
            "justify_content": null,
            "justify_items": null,
            "left": null,
            "margin": null,
            "max_height": null,
            "max_width": null,
            "min_height": null,
            "min_width": null,
            "object_fit": null,
            "object_position": null,
            "order": null,
            "overflow": null,
            "overflow_x": null,
            "overflow_y": null,
            "padding": null,
            "right": null,
            "top": null,
            "visibility": null,
            "width": null
          }
        },
        "0166fc4d8b7f4976aa6c4409860ca224": {
          "model_module": "@jupyter-widgets/controls",
          "model_name": "DescriptionStyleModel",
          "model_module_version": "1.5.0",
          "state": {
            "_model_module": "@jupyter-widgets/controls",
            "_model_module_version": "1.5.0",
            "_model_name": "DescriptionStyleModel",
            "_view_count": null,
            "_view_module": "@jupyter-widgets/base",
            "_view_module_version": "1.2.0",
            "_view_name": "StyleView",
            "description_width": ""
          }
        },
        "60055524fd17483888600013632db527": {
          "model_module": "@jupyter-widgets/base",
          "model_name": "LayoutModel",
          "model_module_version": "1.2.0",
          "state": {
            "_model_module": "@jupyter-widgets/base",
            "_model_module_version": "1.2.0",
            "_model_name": "LayoutModel",
            "_view_count": null,
            "_view_module": "@jupyter-widgets/base",
            "_view_module_version": "1.2.0",
            "_view_name": "LayoutView",
            "align_content": null,
            "align_items": null,
            "align_self": null,
            "border": null,
            "bottom": null,
            "display": null,
            "flex": null,
            "flex_flow": null,
            "grid_area": null,
            "grid_auto_columns": null,
            "grid_auto_flow": null,
            "grid_auto_rows": null,
            "grid_column": null,
            "grid_gap": null,
            "grid_row": null,
            "grid_template_areas": null,
            "grid_template_columns": null,
            "grid_template_rows": null,
            "height": null,
            "justify_content": null,
            "justify_items": null,
            "left": null,
            "margin": null,
            "max_height": null,
            "max_width": null,
            "min_height": null,
            "min_width": null,
            "object_fit": null,
            "object_position": null,
            "order": null,
            "overflow": null,
            "overflow_x": null,
            "overflow_y": null,
            "padding": null,
            "right": null,
            "top": null,
            "visibility": null,
            "width": null
          }
        },
        "1686dd0d59af42d5b77dff2c8a53bbc2": {
          "model_module": "@jupyter-widgets/controls",
          "model_name": "ProgressStyleModel",
          "model_module_version": "1.5.0",
          "state": {
            "_model_module": "@jupyter-widgets/controls",
            "_model_module_version": "1.5.0",
            "_model_name": "ProgressStyleModel",
            "_view_count": null,
            "_view_module": "@jupyter-widgets/base",
            "_view_module_version": "1.2.0",
            "_view_name": "StyleView",
            "bar_color": null,
            "description_width": ""
          }
        },
        "b793839e9118483e98d48be8ccb8c97b": {
          "model_module": "@jupyter-widgets/base",
          "model_name": "LayoutModel",
          "model_module_version": "1.2.0",
          "state": {
            "_model_module": "@jupyter-widgets/base",
            "_model_module_version": "1.2.0",
            "_model_name": "LayoutModel",
            "_view_count": null,
            "_view_module": "@jupyter-widgets/base",
            "_view_module_version": "1.2.0",
            "_view_name": "LayoutView",
            "align_content": null,
            "align_items": null,
            "align_self": null,
            "border": null,
            "bottom": null,
            "display": null,
            "flex": null,
            "flex_flow": null,
            "grid_area": null,
            "grid_auto_columns": null,
            "grid_auto_flow": null,
            "grid_auto_rows": null,
            "grid_column": null,
            "grid_gap": null,
            "grid_row": null,
            "grid_template_areas": null,
            "grid_template_columns": null,
            "grid_template_rows": null,
            "height": null,
            "justify_content": null,
            "justify_items": null,
            "left": null,
            "margin": null,
            "max_height": null,
            "max_width": null,
            "min_height": null,
            "min_width": null,
            "object_fit": null,
            "object_position": null,
            "order": null,
            "overflow": null,
            "overflow_x": null,
            "overflow_y": null,
            "padding": null,
            "right": null,
            "top": null,
            "visibility": null,
            "width": null
          }
        },
        "4dacd31d024f4db5b234469e727af41a": {
          "model_module": "@jupyter-widgets/controls",
          "model_name": "DescriptionStyleModel",
          "model_module_version": "1.5.0",
          "state": {
            "_model_module": "@jupyter-widgets/controls",
            "_model_module_version": "1.5.0",
            "_model_name": "DescriptionStyleModel",
            "_view_count": null,
            "_view_module": "@jupyter-widgets/base",
            "_view_module_version": "1.2.0",
            "_view_name": "StyleView",
            "description_width": ""
          }
        },
        "d54abd6f1bb045aebd0d0c8e2836dc18": {
          "model_module": "@jupyter-widgets/controls",
          "model_name": "HBoxModel",
          "model_module_version": "1.5.0",
          "state": {
            "_dom_classes": [],
            "_model_module": "@jupyter-widgets/controls",
            "_model_module_version": "1.5.0",
            "_model_name": "HBoxModel",
            "_view_count": null,
            "_view_module": "@jupyter-widgets/controls",
            "_view_module_version": "1.5.0",
            "_view_name": "HBoxView",
            "box_style": "",
            "children": [
              "IPY_MODEL_23d32954c50540bb9b273a3c234f3e85",
              "IPY_MODEL_eb5fa1e19a444a5bba59d714f62fb636",
              "IPY_MODEL_b7b2a6b01b9345e3a6a06393dbd17ae8"
            ],
            "layout": "IPY_MODEL_9ddbcfa81992437da54d73ed1b4f4382"
          }
        },
        "23d32954c50540bb9b273a3c234f3e85": {
          "model_module": "@jupyter-widgets/controls",
          "model_name": "HTMLModel",
          "model_module_version": "1.5.0",
          "state": {
            "_dom_classes": [],
            "_model_module": "@jupyter-widgets/controls",
            "_model_module_version": "1.5.0",
            "_model_name": "HTMLModel",
            "_view_count": null,
            "_view_module": "@jupyter-widgets/controls",
            "_view_module_version": "1.5.0",
            "_view_name": "HTMLView",
            "description": "",
            "description_tooltip": null,
            "layout": "IPY_MODEL_c831c627fe0247cb9b72d372b0109c12",
            "placeholder": "​",
            "style": "IPY_MODEL_8909f67c58a5488eb76419c6a093b11f",
            "value": "merges.txt: 100%"
          }
        },
        "eb5fa1e19a444a5bba59d714f62fb636": {
          "model_module": "@jupyter-widgets/controls",
          "model_name": "FloatProgressModel",
          "model_module_version": "1.5.0",
          "state": {
            "_dom_classes": [],
            "_model_module": "@jupyter-widgets/controls",
            "_model_module_version": "1.5.0",
            "_model_name": "FloatProgressModel",
            "_view_count": null,
            "_view_module": "@jupyter-widgets/controls",
            "_view_module_version": "1.5.0",
            "_view_name": "ProgressView",
            "bar_style": "success",
            "description": "",
            "description_tooltip": null,
            "layout": "IPY_MODEL_84209043c50a44768fb171f2d0e07ac2",
            "max": 456318,
            "min": 0,
            "orientation": "horizontal",
            "style": "IPY_MODEL_9c35cb8eb17349b7b1213517156dbd26",
            "value": 456318
          }
        },
        "b7b2a6b01b9345e3a6a06393dbd17ae8": {
          "model_module": "@jupyter-widgets/controls",
          "model_name": "HTMLModel",
          "model_module_version": "1.5.0",
          "state": {
            "_dom_classes": [],
            "_model_module": "@jupyter-widgets/controls",
            "_model_module_version": "1.5.0",
            "_model_name": "HTMLModel",
            "_view_count": null,
            "_view_module": "@jupyter-widgets/controls",
            "_view_module_version": "1.5.0",
            "_view_name": "HTMLView",
            "description": "",
            "description_tooltip": null,
            "layout": "IPY_MODEL_6a16a74cdae14e4e9df62e421dbf04cd",
            "placeholder": "​",
            "style": "IPY_MODEL_69011f0f89484d97add57faa30490619",
            "value": " 456k/456k [00:00&lt;00:00, 21.9MB/s]"
          }
        },
        "9ddbcfa81992437da54d73ed1b4f4382": {
          "model_module": "@jupyter-widgets/base",
          "model_name": "LayoutModel",
          "model_module_version": "1.2.0",
          "state": {
            "_model_module": "@jupyter-widgets/base",
            "_model_module_version": "1.2.0",
            "_model_name": "LayoutModel",
            "_view_count": null,
            "_view_module": "@jupyter-widgets/base",
            "_view_module_version": "1.2.0",
            "_view_name": "LayoutView",
            "align_content": null,
            "align_items": null,
            "align_self": null,
            "border": null,
            "bottom": null,
            "display": null,
            "flex": null,
            "flex_flow": null,
            "grid_area": null,
            "grid_auto_columns": null,
            "grid_auto_flow": null,
            "grid_auto_rows": null,
            "grid_column": null,
            "grid_gap": null,
            "grid_row": null,
            "grid_template_areas": null,
            "grid_template_columns": null,
            "grid_template_rows": null,
            "height": null,
            "justify_content": null,
            "justify_items": null,
            "left": null,
            "margin": null,
            "max_height": null,
            "max_width": null,
            "min_height": null,
            "min_width": null,
            "object_fit": null,
            "object_position": null,
            "order": null,
            "overflow": null,
            "overflow_x": null,
            "overflow_y": null,
            "padding": null,
            "right": null,
            "top": null,
            "visibility": null,
            "width": null
          }
        },
        "c831c627fe0247cb9b72d372b0109c12": {
          "model_module": "@jupyter-widgets/base",
          "model_name": "LayoutModel",
          "model_module_version": "1.2.0",
          "state": {
            "_model_module": "@jupyter-widgets/base",
            "_model_module_version": "1.2.0",
            "_model_name": "LayoutModel",
            "_view_count": null,
            "_view_module": "@jupyter-widgets/base",
            "_view_module_version": "1.2.0",
            "_view_name": "LayoutView",
            "align_content": null,
            "align_items": null,
            "align_self": null,
            "border": null,
            "bottom": null,
            "display": null,
            "flex": null,
            "flex_flow": null,
            "grid_area": null,
            "grid_auto_columns": null,
            "grid_auto_flow": null,
            "grid_auto_rows": null,
            "grid_column": null,
            "grid_gap": null,
            "grid_row": null,
            "grid_template_areas": null,
            "grid_template_columns": null,
            "grid_template_rows": null,
            "height": null,
            "justify_content": null,
            "justify_items": null,
            "left": null,
            "margin": null,
            "max_height": null,
            "max_width": null,
            "min_height": null,
            "min_width": null,
            "object_fit": null,
            "object_position": null,
            "order": null,
            "overflow": null,
            "overflow_x": null,
            "overflow_y": null,
            "padding": null,
            "right": null,
            "top": null,
            "visibility": null,
            "width": null
          }
        },
        "8909f67c58a5488eb76419c6a093b11f": {
          "model_module": "@jupyter-widgets/controls",
          "model_name": "DescriptionStyleModel",
          "model_module_version": "1.5.0",
          "state": {
            "_model_module": "@jupyter-widgets/controls",
            "_model_module_version": "1.5.0",
            "_model_name": "DescriptionStyleModel",
            "_view_count": null,
            "_view_module": "@jupyter-widgets/base",
            "_view_module_version": "1.2.0",
            "_view_name": "StyleView",
            "description_width": ""
          }
        },
        "84209043c50a44768fb171f2d0e07ac2": {
          "model_module": "@jupyter-widgets/base",
          "model_name": "LayoutModel",
          "model_module_version": "1.2.0",
          "state": {
            "_model_module": "@jupyter-widgets/base",
            "_model_module_version": "1.2.0",
            "_model_name": "LayoutModel",
            "_view_count": null,
            "_view_module": "@jupyter-widgets/base",
            "_view_module_version": "1.2.0",
            "_view_name": "LayoutView",
            "align_content": null,
            "align_items": null,
            "align_self": null,
            "border": null,
            "bottom": null,
            "display": null,
            "flex": null,
            "flex_flow": null,
            "grid_area": null,
            "grid_auto_columns": null,
            "grid_auto_flow": null,
            "grid_auto_rows": null,
            "grid_column": null,
            "grid_gap": null,
            "grid_row": null,
            "grid_template_areas": null,
            "grid_template_columns": null,
            "grid_template_rows": null,
            "height": null,
            "justify_content": null,
            "justify_items": null,
            "left": null,
            "margin": null,
            "max_height": null,
            "max_width": null,
            "min_height": null,
            "min_width": null,
            "object_fit": null,
            "object_position": null,
            "order": null,
            "overflow": null,
            "overflow_x": null,
            "overflow_y": null,
            "padding": null,
            "right": null,
            "top": null,
            "visibility": null,
            "width": null
          }
        },
        "9c35cb8eb17349b7b1213517156dbd26": {
          "model_module": "@jupyter-widgets/controls",
          "model_name": "ProgressStyleModel",
          "model_module_version": "1.5.0",
          "state": {
            "_model_module": "@jupyter-widgets/controls",
            "_model_module_version": "1.5.0",
            "_model_name": "ProgressStyleModel",
            "_view_count": null,
            "_view_module": "@jupyter-widgets/base",
            "_view_module_version": "1.2.0",
            "_view_name": "StyleView",
            "bar_color": null,
            "description_width": ""
          }
        },
        "6a16a74cdae14e4e9df62e421dbf04cd": {
          "model_module": "@jupyter-widgets/base",
          "model_name": "LayoutModel",
          "model_module_version": "1.2.0",
          "state": {
            "_model_module": "@jupyter-widgets/base",
            "_model_module_version": "1.2.0",
            "_model_name": "LayoutModel",
            "_view_count": null,
            "_view_module": "@jupyter-widgets/base",
            "_view_module_version": "1.2.0",
            "_view_name": "LayoutView",
            "align_content": null,
            "align_items": null,
            "align_self": null,
            "border": null,
            "bottom": null,
            "display": null,
            "flex": null,
            "flex_flow": null,
            "grid_area": null,
            "grid_auto_columns": null,
            "grid_auto_flow": null,
            "grid_auto_rows": null,
            "grid_column": null,
            "grid_gap": null,
            "grid_row": null,
            "grid_template_areas": null,
            "grid_template_columns": null,
            "grid_template_rows": null,
            "height": null,
            "justify_content": null,
            "justify_items": null,
            "left": null,
            "margin": null,
            "max_height": null,
            "max_width": null,
            "min_height": null,
            "min_width": null,
            "object_fit": null,
            "object_position": null,
            "order": null,
            "overflow": null,
            "overflow_x": null,
            "overflow_y": null,
            "padding": null,
            "right": null,
            "top": null,
            "visibility": null,
            "width": null
          }
        },
        "69011f0f89484d97add57faa30490619": {
          "model_module": "@jupyter-widgets/controls",
          "model_name": "DescriptionStyleModel",
          "model_module_version": "1.5.0",
          "state": {
            "_model_module": "@jupyter-widgets/controls",
            "_model_module_version": "1.5.0",
            "_model_name": "DescriptionStyleModel",
            "_view_count": null,
            "_view_module": "@jupyter-widgets/base",
            "_view_module_version": "1.2.0",
            "_view_name": "StyleView",
            "description_width": ""
          }
        },
        "46a717222ad54bfe8c3cd1cc34da48b3": {
          "model_module": "@jupyter-widgets/controls",
          "model_name": "HBoxModel",
          "model_module_version": "1.5.0",
          "state": {
            "_dom_classes": [],
            "_model_module": "@jupyter-widgets/controls",
            "_model_module_version": "1.5.0",
            "_model_name": "HBoxModel",
            "_view_count": null,
            "_view_module": "@jupyter-widgets/controls",
            "_view_module_version": "1.5.0",
            "_view_name": "HBoxView",
            "box_style": "",
            "children": [
              "IPY_MODEL_0e37e2dc82ee4e4ab826a4cf460ae7f2",
              "IPY_MODEL_3e3f47a3f5a1416ab67fccea03470a5c",
              "IPY_MODEL_eca414dd84d648d79c3c05b5359181aa"
            ],
            "layout": "IPY_MODEL_45823fa861bc493e91cfcf216b0af139"
          }
        },
        "0e37e2dc82ee4e4ab826a4cf460ae7f2": {
          "model_module": "@jupyter-widgets/controls",
          "model_name": "HTMLModel",
          "model_module_version": "1.5.0",
          "state": {
            "_dom_classes": [],
            "_model_module": "@jupyter-widgets/controls",
            "_model_module_version": "1.5.0",
            "_model_name": "HTMLModel",
            "_view_count": null,
            "_view_module": "@jupyter-widgets/controls",
            "_view_module_version": "1.5.0",
            "_view_name": "HTMLView",
            "description": "",
            "description_tooltip": null,
            "layout": "IPY_MODEL_3d3bd993f38f4f85b313672aa16763de",
            "placeholder": "​",
            "style": "IPY_MODEL_04a5d3f83320482e857b7503a1a167e5",
            "value": "tokenizer.json: 100%"
          }
        },
        "3e3f47a3f5a1416ab67fccea03470a5c": {
          "model_module": "@jupyter-widgets/controls",
          "model_name": "FloatProgressModel",
          "model_module_version": "1.5.0",
          "state": {
            "_dom_classes": [],
            "_model_module": "@jupyter-widgets/controls",
            "_model_module_version": "1.5.0",
            "_model_name": "FloatProgressModel",
            "_view_count": null,
            "_view_module": "@jupyter-widgets/controls",
            "_view_module_version": "1.5.0",
            "_view_name": "ProgressView",
            "bar_style": "success",
            "description": "",
            "description_tooltip": null,
            "layout": "IPY_MODEL_53945d5d0a7d440dae2165fee6b4e8c6",
            "max": 1355256,
            "min": 0,
            "orientation": "horizontal",
            "style": "IPY_MODEL_2008fd8b8bc34bd480eb09451f8f920d",
            "value": 1355256
          }
        },
        "eca414dd84d648d79c3c05b5359181aa": {
          "model_module": "@jupyter-widgets/controls",
          "model_name": "HTMLModel",
          "model_module_version": "1.5.0",
          "state": {
            "_dom_classes": [],
            "_model_module": "@jupyter-widgets/controls",
            "_model_module_version": "1.5.0",
            "_model_name": "HTMLModel",
            "_view_count": null,
            "_view_module": "@jupyter-widgets/controls",
            "_view_module_version": "1.5.0",
            "_view_name": "HTMLView",
            "description": "",
            "description_tooltip": null,
            "layout": "IPY_MODEL_7327cb26353444e5943f28cbe6c55116",
            "placeholder": "​",
            "style": "IPY_MODEL_bf3f6fc7c44b4690a3127b1007278f61",
            "value": " 1.36M/1.36M [00:00&lt;00:00, 32.3MB/s]"
          }
        },
        "45823fa861bc493e91cfcf216b0af139": {
          "model_module": "@jupyter-widgets/base",
          "model_name": "LayoutModel",
          "model_module_version": "1.2.0",
          "state": {
            "_model_module": "@jupyter-widgets/base",
            "_model_module_version": "1.2.0",
            "_model_name": "LayoutModel",
            "_view_count": null,
            "_view_module": "@jupyter-widgets/base",
            "_view_module_version": "1.2.0",
            "_view_name": "LayoutView",
            "align_content": null,
            "align_items": null,
            "align_self": null,
            "border": null,
            "bottom": null,
            "display": null,
            "flex": null,
            "flex_flow": null,
            "grid_area": null,
            "grid_auto_columns": null,
            "grid_auto_flow": null,
            "grid_auto_rows": null,
            "grid_column": null,
            "grid_gap": null,
            "grid_row": null,
            "grid_template_areas": null,
            "grid_template_columns": null,
            "grid_template_rows": null,
            "height": null,
            "justify_content": null,
            "justify_items": null,
            "left": null,
            "margin": null,
            "max_height": null,
            "max_width": null,
            "min_height": null,
            "min_width": null,
            "object_fit": null,
            "object_position": null,
            "order": null,
            "overflow": null,
            "overflow_x": null,
            "overflow_y": null,
            "padding": null,
            "right": null,
            "top": null,
            "visibility": null,
            "width": null
          }
        },
        "3d3bd993f38f4f85b313672aa16763de": {
          "model_module": "@jupyter-widgets/base",
          "model_name": "LayoutModel",
          "model_module_version": "1.2.0",
          "state": {
            "_model_module": "@jupyter-widgets/base",
            "_model_module_version": "1.2.0",
            "_model_name": "LayoutModel",
            "_view_count": null,
            "_view_module": "@jupyter-widgets/base",
            "_view_module_version": "1.2.0",
            "_view_name": "LayoutView",
            "align_content": null,
            "align_items": null,
            "align_self": null,
            "border": null,
            "bottom": null,
            "display": null,
            "flex": null,
            "flex_flow": null,
            "grid_area": null,
            "grid_auto_columns": null,
            "grid_auto_flow": null,
            "grid_auto_rows": null,
            "grid_column": null,
            "grid_gap": null,
            "grid_row": null,
            "grid_template_areas": null,
            "grid_template_columns": null,
            "grid_template_rows": null,
            "height": null,
            "justify_content": null,
            "justify_items": null,
            "left": null,
            "margin": null,
            "max_height": null,
            "max_width": null,
            "min_height": null,
            "min_width": null,
            "object_fit": null,
            "object_position": null,
            "order": null,
            "overflow": null,
            "overflow_x": null,
            "overflow_y": null,
            "padding": null,
            "right": null,
            "top": null,
            "visibility": null,
            "width": null
          }
        },
        "04a5d3f83320482e857b7503a1a167e5": {
          "model_module": "@jupyter-widgets/controls",
          "model_name": "DescriptionStyleModel",
          "model_module_version": "1.5.0",
          "state": {
            "_model_module": "@jupyter-widgets/controls",
            "_model_module_version": "1.5.0",
            "_model_name": "DescriptionStyleModel",
            "_view_count": null,
            "_view_module": "@jupyter-widgets/base",
            "_view_module_version": "1.2.0",
            "_view_name": "StyleView",
            "description_width": ""
          }
        },
        "53945d5d0a7d440dae2165fee6b4e8c6": {
          "model_module": "@jupyter-widgets/base",
          "model_name": "LayoutModel",
          "model_module_version": "1.2.0",
          "state": {
            "_model_module": "@jupyter-widgets/base",
            "_model_module_version": "1.2.0",
            "_model_name": "LayoutModel",
            "_view_count": null,
            "_view_module": "@jupyter-widgets/base",
            "_view_module_version": "1.2.0",
            "_view_name": "LayoutView",
            "align_content": null,
            "align_items": null,
            "align_self": null,
            "border": null,
            "bottom": null,
            "display": null,
            "flex": null,
            "flex_flow": null,
            "grid_area": null,
            "grid_auto_columns": null,
            "grid_auto_flow": null,
            "grid_auto_rows": null,
            "grid_column": null,
            "grid_gap": null,
            "grid_row": null,
            "grid_template_areas": null,
            "grid_template_columns": null,
            "grid_template_rows": null,
            "height": null,
            "justify_content": null,
            "justify_items": null,
            "left": null,
            "margin": null,
            "max_height": null,
            "max_width": null,
            "min_height": null,
            "min_width": null,
            "object_fit": null,
            "object_position": null,
            "order": null,
            "overflow": null,
            "overflow_x": null,
            "overflow_y": null,
            "padding": null,
            "right": null,
            "top": null,
            "visibility": null,
            "width": null
          }
        },
        "2008fd8b8bc34bd480eb09451f8f920d": {
          "model_module": "@jupyter-widgets/controls",
          "model_name": "ProgressStyleModel",
          "model_module_version": "1.5.0",
          "state": {
            "_model_module": "@jupyter-widgets/controls",
            "_model_module_version": "1.5.0",
            "_model_name": "ProgressStyleModel",
            "_view_count": null,
            "_view_module": "@jupyter-widgets/base",
            "_view_module_version": "1.2.0",
            "_view_name": "StyleView",
            "bar_color": null,
            "description_width": ""
          }
        },
        "7327cb26353444e5943f28cbe6c55116": {
          "model_module": "@jupyter-widgets/base",
          "model_name": "LayoutModel",
          "model_module_version": "1.2.0",
          "state": {
            "_model_module": "@jupyter-widgets/base",
            "_model_module_version": "1.2.0",
            "_model_name": "LayoutModel",
            "_view_count": null,
            "_view_module": "@jupyter-widgets/base",
            "_view_module_version": "1.2.0",
            "_view_name": "LayoutView",
            "align_content": null,
            "align_items": null,
            "align_self": null,
            "border": null,
            "bottom": null,
            "display": null,
            "flex": null,
            "flex_flow": null,
            "grid_area": null,
            "grid_auto_columns": null,
            "grid_auto_flow": null,
            "grid_auto_rows": null,
            "grid_column": null,
            "grid_gap": null,
            "grid_row": null,
            "grid_template_areas": null,
            "grid_template_columns": null,
            "grid_template_rows": null,
            "height": null,
            "justify_content": null,
            "justify_items": null,
            "left": null,
            "margin": null,
            "max_height": null,
            "max_width": null,
            "min_height": null,
            "min_width": null,
            "object_fit": null,
            "object_position": null,
            "order": null,
            "overflow": null,
            "overflow_x": null,
            "overflow_y": null,
            "padding": null,
            "right": null,
            "top": null,
            "visibility": null,
            "width": null
          }
        },
        "bf3f6fc7c44b4690a3127b1007278f61": {
          "model_module": "@jupyter-widgets/controls",
          "model_name": "DescriptionStyleModel",
          "model_module_version": "1.5.0",
          "state": {
            "_model_module": "@jupyter-widgets/controls",
            "_model_module_version": "1.5.0",
            "_model_name": "DescriptionStyleModel",
            "_view_count": null,
            "_view_module": "@jupyter-widgets/base",
            "_view_module_version": "1.2.0",
            "_view_name": "StyleView",
            "description_width": ""
          }
        },
        "dc39e63be499493188b9a13edf800187": {
          "model_module": "@jupyter-widgets/controls",
          "model_name": "HBoxModel",
          "model_module_version": "1.5.0",
          "state": {
            "_dom_classes": [],
            "_model_module": "@jupyter-widgets/controls",
            "_model_module_version": "1.5.0",
            "_model_name": "HBoxModel",
            "_view_count": null,
            "_view_module": "@jupyter-widgets/controls",
            "_view_module_version": "1.5.0",
            "_view_name": "HBoxView",
            "box_style": "",
            "children": [
              "IPY_MODEL_f1dff7c8883c48ab941829403b685fc7",
              "IPY_MODEL_1db3e599e7dd452584d01f592cbec730",
              "IPY_MODEL_4e6841f3e3764e5782a0b5aefb9017e1"
            ],
            "layout": "IPY_MODEL_a0763b54dccb49458c9def478b4c16c9"
          }
        },
        "f1dff7c8883c48ab941829403b685fc7": {
          "model_module": "@jupyter-widgets/controls",
          "model_name": "HTMLModel",
          "model_module_version": "1.5.0",
          "state": {
            "_dom_classes": [],
            "_model_module": "@jupyter-widgets/controls",
            "_model_module_version": "1.5.0",
            "_model_name": "HTMLModel",
            "_view_count": null,
            "_view_module": "@jupyter-widgets/controls",
            "_view_module_version": "1.5.0",
            "_view_name": "HTMLView",
            "description": "",
            "description_tooltip": null,
            "layout": "IPY_MODEL_27e2811a3e3b4cd7acd650f868bf1957",
            "placeholder": "​",
            "style": "IPY_MODEL_15e53d22dcd34679bdbbf9933b8b609c",
            "value": "config.json: 100%"
          }
        },
        "1db3e599e7dd452584d01f592cbec730": {
          "model_module": "@jupyter-widgets/controls",
          "model_name": "FloatProgressModel",
          "model_module_version": "1.5.0",
          "state": {
            "_dom_classes": [],
            "_model_module": "@jupyter-widgets/controls",
            "_model_module_version": "1.5.0",
            "_model_name": "FloatProgressModel",
            "_view_count": null,
            "_view_module": "@jupyter-widgets/controls",
            "_view_module_version": "1.5.0",
            "_view_name": "ProgressView",
            "bar_style": "success",
            "description": "",
            "description_tooltip": null,
            "layout": "IPY_MODEL_231d925f13964718864b23472d8605e9",
            "max": 665,
            "min": 0,
            "orientation": "horizontal",
            "style": "IPY_MODEL_9e5beed2dc444f77abeeefbee077f199",
            "value": 665
          }
        },
        "4e6841f3e3764e5782a0b5aefb9017e1": {
          "model_module": "@jupyter-widgets/controls",
          "model_name": "HTMLModel",
          "model_module_version": "1.5.0",
          "state": {
            "_dom_classes": [],
            "_model_module": "@jupyter-widgets/controls",
            "_model_module_version": "1.5.0",
            "_model_name": "HTMLModel",
            "_view_count": null,
            "_view_module": "@jupyter-widgets/controls",
            "_view_module_version": "1.5.0",
            "_view_name": "HTMLView",
            "description": "",
            "description_tooltip": null,
            "layout": "IPY_MODEL_3d0decd5d6f14c979f5d0096cdcd2cd8",
            "placeholder": "​",
            "style": "IPY_MODEL_d5717478c5d347ac8ce4825c1a7d8667",
            "value": " 665/665 [00:00&lt;00:00, 32.2kB/s]"
          }
        },
        "a0763b54dccb49458c9def478b4c16c9": {
          "model_module": "@jupyter-widgets/base",
          "model_name": "LayoutModel",
          "model_module_version": "1.2.0",
          "state": {
            "_model_module": "@jupyter-widgets/base",
            "_model_module_version": "1.2.0",
            "_model_name": "LayoutModel",
            "_view_count": null,
            "_view_module": "@jupyter-widgets/base",
            "_view_module_version": "1.2.0",
            "_view_name": "LayoutView",
            "align_content": null,
            "align_items": null,
            "align_self": null,
            "border": null,
            "bottom": null,
            "display": null,
            "flex": null,
            "flex_flow": null,
            "grid_area": null,
            "grid_auto_columns": null,
            "grid_auto_flow": null,
            "grid_auto_rows": null,
            "grid_column": null,
            "grid_gap": null,
            "grid_row": null,
            "grid_template_areas": null,
            "grid_template_columns": null,
            "grid_template_rows": null,
            "height": null,
            "justify_content": null,
            "justify_items": null,
            "left": null,
            "margin": null,
            "max_height": null,
            "max_width": null,
            "min_height": null,
            "min_width": null,
            "object_fit": null,
            "object_position": null,
            "order": null,
            "overflow": null,
            "overflow_x": null,
            "overflow_y": null,
            "padding": null,
            "right": null,
            "top": null,
            "visibility": null,
            "width": null
          }
        },
        "27e2811a3e3b4cd7acd650f868bf1957": {
          "model_module": "@jupyter-widgets/base",
          "model_name": "LayoutModel",
          "model_module_version": "1.2.0",
          "state": {
            "_model_module": "@jupyter-widgets/base",
            "_model_module_version": "1.2.0",
            "_model_name": "LayoutModel",
            "_view_count": null,
            "_view_module": "@jupyter-widgets/base",
            "_view_module_version": "1.2.0",
            "_view_name": "LayoutView",
            "align_content": null,
            "align_items": null,
            "align_self": null,
            "border": null,
            "bottom": null,
            "display": null,
            "flex": null,
            "flex_flow": null,
            "grid_area": null,
            "grid_auto_columns": null,
            "grid_auto_flow": null,
            "grid_auto_rows": null,
            "grid_column": null,
            "grid_gap": null,
            "grid_row": null,
            "grid_template_areas": null,
            "grid_template_columns": null,
            "grid_template_rows": null,
            "height": null,
            "justify_content": null,
            "justify_items": null,
            "left": null,
            "margin": null,
            "max_height": null,
            "max_width": null,
            "min_height": null,
            "min_width": null,
            "object_fit": null,
            "object_position": null,
            "order": null,
            "overflow": null,
            "overflow_x": null,
            "overflow_y": null,
            "padding": null,
            "right": null,
            "top": null,
            "visibility": null,
            "width": null
          }
        },
        "15e53d22dcd34679bdbbf9933b8b609c": {
          "model_module": "@jupyter-widgets/controls",
          "model_name": "DescriptionStyleModel",
          "model_module_version": "1.5.0",
          "state": {
            "_model_module": "@jupyter-widgets/controls",
            "_model_module_version": "1.5.0",
            "_model_name": "DescriptionStyleModel",
            "_view_count": null,
            "_view_module": "@jupyter-widgets/base",
            "_view_module_version": "1.2.0",
            "_view_name": "StyleView",
            "description_width": ""
          }
        },
        "231d925f13964718864b23472d8605e9": {
          "model_module": "@jupyter-widgets/base",
          "model_name": "LayoutModel",
          "model_module_version": "1.2.0",
          "state": {
            "_model_module": "@jupyter-widgets/base",
            "_model_module_version": "1.2.0",
            "_model_name": "LayoutModel",
            "_view_count": null,
            "_view_module": "@jupyter-widgets/base",
            "_view_module_version": "1.2.0",
            "_view_name": "LayoutView",
            "align_content": null,
            "align_items": null,
            "align_self": null,
            "border": null,
            "bottom": null,
            "display": null,
            "flex": null,
            "flex_flow": null,
            "grid_area": null,
            "grid_auto_columns": null,
            "grid_auto_flow": null,
            "grid_auto_rows": null,
            "grid_column": null,
            "grid_gap": null,
            "grid_row": null,
            "grid_template_areas": null,
            "grid_template_columns": null,
            "grid_template_rows": null,
            "height": null,
            "justify_content": null,
            "justify_items": null,
            "left": null,
            "margin": null,
            "max_height": null,
            "max_width": null,
            "min_height": null,
            "min_width": null,
            "object_fit": null,
            "object_position": null,
            "order": null,
            "overflow": null,
            "overflow_x": null,
            "overflow_y": null,
            "padding": null,
            "right": null,
            "top": null,
            "visibility": null,
            "width": null
          }
        },
        "9e5beed2dc444f77abeeefbee077f199": {
          "model_module": "@jupyter-widgets/controls",
          "model_name": "ProgressStyleModel",
          "model_module_version": "1.5.0",
          "state": {
            "_model_module": "@jupyter-widgets/controls",
            "_model_module_version": "1.5.0",
            "_model_name": "ProgressStyleModel",
            "_view_count": null,
            "_view_module": "@jupyter-widgets/base",
            "_view_module_version": "1.2.0",
            "_view_name": "StyleView",
            "bar_color": null,
            "description_width": ""
          }
        },
        "3d0decd5d6f14c979f5d0096cdcd2cd8": {
          "model_module": "@jupyter-widgets/base",
          "model_name": "LayoutModel",
          "model_module_version": "1.2.0",
          "state": {
            "_model_module": "@jupyter-widgets/base",
            "_model_module_version": "1.2.0",
            "_model_name": "LayoutModel",
            "_view_count": null,
            "_view_module": "@jupyter-widgets/base",
            "_view_module_version": "1.2.0",
            "_view_name": "LayoutView",
            "align_content": null,
            "align_items": null,
            "align_self": null,
            "border": null,
            "bottom": null,
            "display": null,
            "flex": null,
            "flex_flow": null,
            "grid_area": null,
            "grid_auto_columns": null,
            "grid_auto_flow": null,
            "grid_auto_rows": null,
            "grid_column": null,
            "grid_gap": null,
            "grid_row": null,
            "grid_template_areas": null,
            "grid_template_columns": null,
            "grid_template_rows": null,
            "height": null,
            "justify_content": null,
            "justify_items": null,
            "left": null,
            "margin": null,
            "max_height": null,
            "max_width": null,
            "min_height": null,
            "min_width": null,
            "object_fit": null,
            "object_position": null,
            "order": null,
            "overflow": null,
            "overflow_x": null,
            "overflow_y": null,
            "padding": null,
            "right": null,
            "top": null,
            "visibility": null,
            "width": null
          }
        },
        "d5717478c5d347ac8ce4825c1a7d8667": {
          "model_module": "@jupyter-widgets/controls",
          "model_name": "DescriptionStyleModel",
          "model_module_version": "1.5.0",
          "state": {
            "_model_module": "@jupyter-widgets/controls",
            "_model_module_version": "1.5.0",
            "_model_name": "DescriptionStyleModel",
            "_view_count": null,
            "_view_module": "@jupyter-widgets/base",
            "_view_module_version": "1.2.0",
            "_view_name": "StyleView",
            "description_width": ""
          }
        }
      }
    }
  },
  "cells": [
    {
      "cell_type": "markdown",
      "metadata": {
        "id": "view-in-github",
        "colab_type": "text"
      },
      "source": [
        "<a href=\"https://colab.research.google.com/github/claudio1975/Medium-blog/blob/master/Langchain_%26_OpenAI_in_Action/Document_Data_Analysis_with_LangChain_%26_OpenAI_.ipynb\" target=\"_parent\"><img src=\"https://colab.research.google.com/assets/colab-badge.svg\" alt=\"Open In Colab\"/></a>"
      ]
    },
    {
      "cell_type": "markdown",
      "source": [
        "### Import Libraries and prepare Workspace"
      ],
      "metadata": {
        "id": "fZteujxr08PM"
      }
    },
    {
      "cell_type": "markdown",
      "source": [
        "datasource: https://arxiv.org/abs/2205.10785"
      ],
      "metadata": {
        "id": "fZGyh17n1Vmv"
      }
    },
    {
      "cell_type": "markdown",
      "source": [
        "The paper \"Responsible Artificial Intelligence -- from Principles to Practice\" by Virginia Dignum introduces the topic of ethical AI.\n",
        "\n",
        "Responsible AI implementation depends not only on technological advancements but also on how AI systems are introduced and used in society.\n",
        "\n",
        "Understanding AI involves knowing its capabilities, addressing risks, and ensuring all stakeholders have a clear understanding of AI applications.\n",
        "\n",
        "\n",
        "\n",
        "\n",
        "\n"
      ],
      "metadata": {
        "id": "guIfl0BY1XtY"
      }
    },
    {
      "cell_type": "code",
      "source": [
        "# Install the langchain package\n",
        "!pip install langchain &> /dev/null"
      ],
      "metadata": {
        "id": "sl09X6bzVRGs"
      },
      "execution_count": null,
      "outputs": []
    },
    {
      "cell_type": "code",
      "execution_count": null,
      "metadata": {
        "id": "skSv_xS5FSn0"
      },
      "outputs": [],
      "source": [
        "# Install the langchain package with openai\n",
        "!pip install -U langchain-openai &> /dev/null"
      ]
    },
    {
      "cell_type": "code",
      "source": [
        "# Install the faiss\n",
        "!pip install faiss-cpu &> /dev/null"
      ],
      "metadata": {
        "id": "_zlj7eoQHzun"
      },
      "execution_count": null,
      "outputs": []
    },
    {
      "cell_type": "code",
      "source": [
        "# Install the tiktoken\n",
        "!pip install tiktoken &> /dev/null"
      ],
      "metadata": {
        "id": "3zX-cB6XH7KN"
      },
      "execution_count": null,
      "outputs": []
    },
    {
      "cell_type": "code",
      "source": [
        "# Install the pypdf package\n",
        "!pip install pypdf &> /dev/null"
      ],
      "metadata": {
        "id": "kpHenJEO3Zua"
      },
      "execution_count": null,
      "outputs": []
    },
    {
      "cell_type": "code",
      "source": [
        "# Import the os package\n",
        "import os\n",
        "# Import the openai package\n",
        "import openai\n",
        "# Set openai.api_key to the OPENAI_API_KEY environment variable\n",
        "os.environ[\"OPENAI_API_KEY\"] = \"\""
      ],
      "metadata": {
        "id": "od5qwtzOR5Jq"
      },
      "execution_count": null,
      "outputs": []
    },
    {
      "cell_type": "code",
      "source": [
        "import pandas as pd\n",
        "import matplotlib.pyplot as plt\n",
        "# Import the langchain package and modules\n",
        "import langchain as lc\n",
        "from langchain_openai import ChatOpenAI\n",
        "from langchain.chains import RetrievalQA\n",
        "from langchain.document_loaders import PyPDFLoader\n",
        "from transformers import GPT2TokenizerFast\n",
        "from langchain_openai import OpenAIEmbeddings\n",
        "from langchain.text_splitter import RecursiveCharacterTextSplitter\n",
        "from langchain.vectorstores import FAISS\n",
        "from langchain.schema import Document\n",
        "# From the langchain.schema module, import AIMessage, HumanMessage, SystemMessage\n",
        "from langchain.schema import AIMessage, HumanMessage, SystemMessage"
      ],
      "metadata": {
        "id": "nbaMZNr_TRCh"
      },
      "execution_count": null,
      "outputs": []
    },
    {
      "cell_type": "code",
      "source": [
        "# From the IPython.display package, import display and Markdown\n",
        "from IPython.display import display, Markdown"
      ],
      "metadata": {
        "id": "32uNUFNkTiK5"
      },
      "execution_count": null,
      "outputs": []
    },
    {
      "cell_type": "code",
      "source": [
        "# Create a ChatOpenAI object. Assign to chat.\n",
        "chat = ChatOpenAI(temperature=0, model_name='gpt-3.5-turbo')"
      ],
      "metadata": {
        "id": "N8xF01zcVx9t"
      },
      "execution_count": null,
      "outputs": []
    },
    {
      "cell_type": "code",
      "source": [
        "lc.__version__"
      ],
      "metadata": {
        "colab": {
          "base_uri": "https://localhost:8080/",
          "height": 36
        },
        "id": "Axzp-OGO3Don",
        "outputId": "f8288bb3-cc45-49e3-ddf5-758bf6c740a5"
      },
      "execution_count": null,
      "outputs": [
        {
          "output_type": "execute_result",
          "data": {
            "text/plain": [
              "'0.1.7'"
            ],
            "application/vnd.google.colaboratory.intrinsic+json": {
              "type": "string"
            }
          },
          "metadata": {},
          "execution_count": 10
        }
      ]
    },
    {
      "cell_type": "code",
      "source": [
        "openai.__version__"
      ],
      "metadata": {
        "colab": {
          "base_uri": "https://localhost:8080/",
          "height": 36
        },
        "id": "ZqzALIY53Fav",
        "outputId": "ea3ecedf-cdbf-4f06-cc3f-f3f75d737e56"
      },
      "execution_count": null,
      "outputs": [
        {
          "output_type": "execute_result",
          "data": {
            "text/plain": [
              "'1.12.0'"
            ],
            "application/vnd.google.colaboratory.intrinsic+json": {
              "type": "string"
            }
          },
          "metadata": {},
          "execution_count": 11
        }
      ]
    },
    {
      "cell_type": "markdown",
      "source": [
        "### Have a look of the paper"
      ],
      "metadata": {
        "id": "tAWtoTfl3QtZ"
      }
    },
    {
      "cell_type": "code",
      "source": [
        "# Load content from local PDFs\n",
        "loader = PyPDFLoader(\"./responsible_AI.pdf\")\n",
        "pdf_data = loader.load()"
      ],
      "metadata": {
        "id": "7Z71y2gsOA56"
      },
      "execution_count": null,
      "outputs": []
    },
    {
      "cell_type": "code",
      "source": [
        "# Define the document:\n",
        "Document(page_content=\"Let's imagine this is a huge document with a lot of words and important stuff.\",\n",
        "         metadata={\n",
        "             'document_id' : 0000,\n",
        "             'document_source' : \"arxiv\",\n",
        "             'document_create_time' : \"22/05/2022\"\n",
        "         })\n"
      ],
      "metadata": {
        "colab": {
          "base_uri": "https://localhost:8080/"
        },
        "id": "pYxKt1LRLODt",
        "outputId": "e1225a69-296f-4154-a161-a6965bac9e54"
      },
      "execution_count": null,
      "outputs": [
        {
          "output_type": "execute_result",
          "data": {
            "text/plain": [
              "Document(page_content=\"Let's imagine this is a huge document with a lot of words and important stuff.\", metadata={'document_id': 0, 'document_source': 'arxiv', 'document_create_time': '22/05/2022'})"
            ]
          },
          "metadata": {},
          "execution_count": 13
        }
      ]
    },
    {
      "cell_type": "code",
      "source": [
        "print(\"\\nPage Content: \", pdf_data[0].page_content)\n",
        "print(\"\\nMeta Data: \", pdf_data[0].metadata)"
      ],
      "metadata": {
        "colab": {
          "base_uri": "https://localhost:8080/"
        },
        "id": "MeHckLSJLzar",
        "outputId": "06a9c1d3-8867-4f8b-f9f1-bfcf6e26f85e"
      },
      "execution_count": null,
      "outputs": [
        {
          "output_type": "stream",
          "name": "stdout",
          "text": [
            "\n",
            "Page Content:  arXiv:2205.10785v1  [cs.CY]  22 May 2022PAPER\n",
            "Responsible Artiﬁcial Intelligence – from\n",
            "Principles to Practice\n",
            "Virginia Dignum\n",
            "Ume˚ a University\n",
            "Sweden\n",
            "virginia@cs.umu.se\n",
            "Abstract\n",
            "The impact of Artiﬁcial Intelligence does not depend only on fundamental research and\n",
            "technological developments, but for a large part on how thes e systems are introduced into\n",
            "society and used in everyday situations. AI is changing the w ay we work, live and solve\n",
            "challenges but concerns about fairness, transparency or pr ivacy are also growing. Ensuring\n",
            "responsible,ethical AIismorethandesigningsystemswhos eresultcanbetrusted. Itisabout\n",
            "thewaywedesignthem, whywedesignthem, andwhoisinvolved indesigningthem. Inorder\n",
            "to develop and use AI responsibly, we need to work towards tec hnical, societal, institutional\n",
            "and legal methods and tools which provide concrete support t o AI practitioners, as well as\n",
            "awareness and training to enable participation of all, to en sure the alignment of AI systems\n",
            "with our societies’ principles and values.\n",
            "This paper is a curated version of my keynote at the Web Confer ence 2022.\n",
            "1 Introduction\n",
            "Ensuring the responsible development and use of AI is becoming a main direction in AI research\n",
            "and practice. Governments, corporations and international org anisations alike are coming forward\n",
            "with proposals and declarations of their commitment to an accounta ble, responsible, transparent\n",
            "approach to AI, where human values and ethical principles are leadin g.\n",
            "Currently, there are over 600 AI-related policy recommendations , guidelines or strategy re-\n",
            "ports, which have been released by prominent intergovernmental organisations, professional bod-\n",
            "ies, national-level committees and other public organisations, non- governmental, and private for-\n",
            "proﬁt companies. A recent study of the global landscape of AI eth ics guidelines shows that there\n",
            "is a global convergence around ﬁve ethical principles: Transparen cy, Justice and Fairness, Non-\n",
            "Maleﬁcence, Responsibility, and Privacy [ Jobin et al. ,2019]. These are much-needed eﬀorts, but\n",
            "still much work is needed to ensure that all AI is developed and used in responsible ways that\n",
            "contribute to trust and well-being. Nevertheless, even though or ganisations agree on the need to\n",
            "consider ethical, legal and societal principles, how these are interp reted and applied in practice,\n",
            "varies signiﬁcantly across the diﬀerent recommendation document s.\n",
            "At the same time, the growing hype around ‘AI’ is blurring its deﬁnition and shoving into\n",
            "the same heap concepts and applications of many diﬀerent sorts. A hard needed ﬁrst step in the\n",
            "ACM SIGIR Forum 1 Vol. 56 No. 1 June 2022\n",
            "\n",
            "Meta Data:  {'source': './responsible_AI.pdf', 'page': 0}\n"
          ]
        }
      ]
    },
    {
      "cell_type": "markdown",
      "source": [
        "### Splitting Text"
      ],
      "metadata": {
        "id": "BcO-p0Pk4-rY"
      }
    },
    {
      "cell_type": "code",
      "source": [
        "# Advanced method - Split by chunks\n",
        "# Create function to count tokens\n",
        "tokenizer = GPT2TokenizerFast.from_pretrained(\"gpt2\")\n",
        "\n",
        "def count_tokens(text: str) -> int:\n",
        "    return len(tokenizer.encode(text))\n",
        "\n",
        "# Define the splitter\n",
        "text_splitter = RecursiveCharacterTextSplitter(\n",
        "    chunk_size      = 1500,\n",
        "    chunk_overlap   = 200,\n",
        "    length_function = count_tokens # It uses len() by default.\n",
        ")\n",
        "\n",
        "# Apply the .split_document command\n",
        "pdf_chunks = text_splitter.split_documents(pdf_data)\n",
        "print(\"PDF Splited by Chunks - You have {0} number of chunks.\".format(len(pdf_data)))\n"
      ],
      "metadata": {
        "id": "FRA5IMqWQaLD",
        "colab": {
          "base_uri": "https://localhost:8080/",
          "height": 293,
          "referenced_widgets": [
            "1c7a38f265504812a8fc419cfc92f0a7",
            "38d2d1965b57465dade81715f12064b3",
            "d6b0cb9330fd40239004901751e1ec93",
            "9acae41de11a44edb76882705543530d",
            "36a739c1b00f4db985d1216d18682997",
            "9ae5061843364e87a36b2fcdf7c794a5",
            "0166fc4d8b7f4976aa6c4409860ca224",
            "60055524fd17483888600013632db527",
            "1686dd0d59af42d5b77dff2c8a53bbc2",
            "b793839e9118483e98d48be8ccb8c97b",
            "4dacd31d024f4db5b234469e727af41a",
            "d54abd6f1bb045aebd0d0c8e2836dc18",
            "23d32954c50540bb9b273a3c234f3e85",
            "eb5fa1e19a444a5bba59d714f62fb636",
            "b7b2a6b01b9345e3a6a06393dbd17ae8",
            "9ddbcfa81992437da54d73ed1b4f4382",
            "c831c627fe0247cb9b72d372b0109c12",
            "8909f67c58a5488eb76419c6a093b11f",
            "84209043c50a44768fb171f2d0e07ac2",
            "9c35cb8eb17349b7b1213517156dbd26",
            "6a16a74cdae14e4e9df62e421dbf04cd",
            "69011f0f89484d97add57faa30490619",
            "46a717222ad54bfe8c3cd1cc34da48b3",
            "0e37e2dc82ee4e4ab826a4cf460ae7f2",
            "3e3f47a3f5a1416ab67fccea03470a5c",
            "eca414dd84d648d79c3c05b5359181aa",
            "45823fa861bc493e91cfcf216b0af139",
            "3d3bd993f38f4f85b313672aa16763de",
            "04a5d3f83320482e857b7503a1a167e5",
            "53945d5d0a7d440dae2165fee6b4e8c6",
            "2008fd8b8bc34bd480eb09451f8f920d",
            "7327cb26353444e5943f28cbe6c55116",
            "bf3f6fc7c44b4690a3127b1007278f61",
            "dc39e63be499493188b9a13edf800187",
            "f1dff7c8883c48ab941829403b685fc7",
            "1db3e599e7dd452584d01f592cbec730",
            "4e6841f3e3764e5782a0b5aefb9017e1",
            "a0763b54dccb49458c9def478b4c16c9",
            "27e2811a3e3b4cd7acd650f868bf1957",
            "15e53d22dcd34679bdbbf9933b8b609c",
            "231d925f13964718864b23472d8605e9",
            "9e5beed2dc444f77abeeefbee077f199",
            "3d0decd5d6f14c979f5d0096cdcd2cd8",
            "d5717478c5d347ac8ce4825c1a7d8667"
          ]
        },
        "outputId": "e3d71d45-33f3-4631-a544-1fc03a599d19"
      },
      "execution_count": null,
      "outputs": [
        {
          "output_type": "stream",
          "name": "stderr",
          "text": [
            "/usr/local/lib/python3.10/dist-packages/huggingface_hub/utils/_token.py:88: UserWarning: \n",
            "The secret `HF_TOKEN` does not exist in your Colab secrets.\n",
            "To authenticate with the Hugging Face Hub, create a token in your settings tab (https://huggingface.co/settings/tokens), set it as secret in your Google Colab and restart your session.\n",
            "You will be able to reuse this secret in all of your notebooks.\n",
            "Please note that authentication is recommended but still optional to access public models or datasets.\n",
            "  warnings.warn(\n"
          ]
        },
        {
          "output_type": "display_data",
          "data": {
            "text/plain": [
              "vocab.json:   0%|          | 0.00/1.04M [00:00<?, ?B/s]"
            ],
            "application/vnd.jupyter.widget-view+json": {
              "version_major": 2,
              "version_minor": 0,
              "model_id": "1c7a38f265504812a8fc419cfc92f0a7"
            }
          },
          "metadata": {}
        },
        {
          "output_type": "display_data",
          "data": {
            "text/plain": [
              "merges.txt:   0%|          | 0.00/456k [00:00<?, ?B/s]"
            ],
            "application/vnd.jupyter.widget-view+json": {
              "version_major": 2,
              "version_minor": 0,
              "model_id": "d54abd6f1bb045aebd0d0c8e2836dc18"
            }
          },
          "metadata": {}
        },
        {
          "output_type": "display_data",
          "data": {
            "text/plain": [
              "tokenizer.json:   0%|          | 0.00/1.36M [00:00<?, ?B/s]"
            ],
            "application/vnd.jupyter.widget-view+json": {
              "version_major": 2,
              "version_minor": 0,
              "model_id": "46a717222ad54bfe8c3cd1cc34da48b3"
            }
          },
          "metadata": {}
        },
        {
          "output_type": "display_data",
          "data": {
            "text/plain": [
              "config.json:   0%|          | 0.00/665 [00:00<?, ?B/s]"
            ],
            "application/vnd.jupyter.widget-view+json": {
              "version_major": 2,
              "version_minor": 0,
              "model_id": "dc39e63be499493188b9a13edf800187"
            }
          },
          "metadata": {}
        },
        {
          "output_type": "stream",
          "name": "stdout",
          "text": [
            "PDF Splited by Chunks - You have 6 number of chunks.\n"
          ]
        }
      ]
    },
    {
      "cell_type": "code",
      "source": [
        "# Data visualization about chunking\n",
        "\n",
        "# Create a list of token counts\n",
        "token_counts = [count_tokens(chunk.page_content) for chunk in pdf_chunks]\n",
        "\n",
        "# Create a DataFrame from the token counts\n",
        "df = pd.DataFrame({'Token Count': token_counts})\n",
        "\n",
        "# Create a histogram of the token count distribution\n",
        "df.hist(bins=40, )\n",
        "\n",
        "# Show the plot\n",
        "plt.show()"
      ],
      "metadata": {
        "colab": {
          "base_uri": "https://localhost:8080/",
          "height": 452
        },
        "id": "T8EM5Lef6sqz",
        "outputId": "1e2a2cbc-2343-49bb-f5d6-1dbe1b897642"
      },
      "execution_count": null,
      "outputs": [
        {
          "output_type": "display_data",
          "data": {
            "text/plain": [
              "<Figure size 640x480 with 1 Axes>"
            ],
            "image/png": "[encoded data removed]"
          },
          "metadata": {}
        }
      ]
    },
    {
      "cell_type": "code",
      "source": [
        "# Simple method - Split by pages\n",
        "pdf_pages_chunks = loader.load_and_split()\n",
        "pdf_pages_chunks\n",
        "print(\"PDF Splited by Pages - You have {0} number of pages.\".format(len(pdf_pages_chunks)))"
      ],
      "metadata": {
        "colab": {
          "base_uri": "https://localhost:8080/"
        },
        "id": "WcjuWvZ07H_C",
        "outputId": "a43c87d6-5f93-43f1-c64a-54a41379a07b"
      },
      "execution_count": null,
      "outputs": [
        {
          "output_type": "stream",
          "name": "stdout",
          "text": [
            "PDF Splited by Pages - You have 6 number of pages.\n"
          ]
        }
      ]
    },
    {
      "cell_type": "markdown",
      "source": [
        "### Embedding and Upload the data into a VectorStore"
      ],
      "metadata": {
        "id": "lqyTju-g5pMn"
      }
    },
    {
      "cell_type": "code",
      "source": [
        "embeddings = OpenAIEmbeddings()\n",
        "# Create vector database\n",
        "db_FAISS = FAISS.from_documents(pdf_chunks, embeddings)"
      ],
      "metadata": {
        "id": "qVbLHL_UREmB"
      },
      "execution_count": null,
      "outputs": []
    },
    {
      "cell_type": "markdown",
      "source": [
        "### Q&A Analysis"
      ],
      "metadata": {
        "id": "oSoNKK9951kq"
      }
    },
    {
      "cell_type": "code",
      "source": [
        "# Function Q&A\n",
        "def asking_your_model(query):\n",
        "  retriever = db_FAISS.as_retriever(search_type=\"similarity_score_threshold\", search_kwargs={\"score_threshold\": 0.6})\n",
        "  # Create a chain to answer questions\n",
        "  qa = RetrievalQA.from_chain_type(\n",
        "    llm=chat, chain_type=\"stuff\", retriever=retriever, return_source_documents=True)\n",
        "  result = qa.invoke({'query': query})\n",
        "  response=result['result'].split('\\n')\n",
        "  return response\n"
      ],
      "metadata": {
        "id": "_QqRoPfdArl0"
      },
      "execution_count": null,
      "outputs": []
    },
    {
      "cell_type": "code",
      "source": [
        "def sources(query):\n",
        "     # Define the retriever\n",
        "     retriever = db_FAISS.as_retriever(search_type=\"similarity_score_threshold\", search_kwargs={\"score_threshold\": 0.6})\n",
        "     matches= retriever.get_relevant_documents(query)\n",
        "     print(\"We found {0} number of similarities.\".format(len(matches)))\n",
        "     return matches"
      ],
      "metadata": {
        "id": "ZwIOg7hJNyZP"
      },
      "execution_count": null,
      "outputs": []
    },
    {
      "cell_type": "code",
      "source": [
        "query = \"Could you summarize the paper in bullet points?\"\n",
        "display(asking_your_model(query))"
      ],
      "metadata": {
        "id": "1T8CiTp9bvRW",
        "colab": {
          "base_uri": "https://localhost:8080/",
          "height": 163
        },
        "outputId": "1ba38d04-9c83-4a6d-8c54-e9ad89370849"
      },
      "execution_count": null,
      "outputs": [
        {
          "output_type": "display_data",
          "data": {
            "text/plain": [
              "['- The paper discusses the importance of responsible development and use of Artificial Intelligence (AI).',\n",
              " '- There are over 600 AI-related policy recommendations and guidelines, but more work is needed to ensure responsible AI development.',\n",
              " '- The paper emphasizes the need to consider ethical, legal, and societal principles in AI development and use.',\n",
              " '- AI should be understood as a socio-technical ecosystem, considering the interaction between people and technology.',\n",
              " '- The paper highlights the importance of addressing biased data, power structures, and societal and environmental costs in AI systems.',\n",
              " '- Understanding what AI is and what it can and cannot do is crucial for responsible AI governance.',\n",
              " '- AI is not just about data and algorithms, but also about the choices made by developers and the impact on society.',\n",
              " '- The paper calls for a proper AI narrative that demystifies AI and enables inclusive participation in discussions about its role in society.']"
            ]
          },
          "metadata": {}
        }
      ]
    },
    {
      "cell_type": "code",
      "source": [
        "display(sources(query))"
      ],
      "metadata": {
        "colab": {
          "base_uri": "https://localhost:8080/",
          "height": 1000
        },
        "id": "TPvkxHeMOL5c",
        "outputId": "f5b6282b-b259-41c5-a3bf-57c7c666ec27"
      },
      "execution_count": null,
      "outputs": [
        {
          "output_type": "stream",
          "name": "stdout",
          "text": [
            "We found 4 number of similarities.\n"
          ]
        },
        {
          "output_type": "display_data",
          "data": {
            "text/plain": [
              "[Document(page_content='arXiv:2205.10785v1  [cs.CY]  22 May 2022PAPER\\nResponsible Artiﬁcial Intelligence – from\\nPrinciples to Practice\\nVirginia Dignum\\nUme˚ a University\\nSweden\\nvirginia@cs.umu.se\\nAbstract\\nThe impact of Artiﬁcial Intelligence does not depend only on fundamental research and\\ntechnological developments, but for a large part on how thes e systems are introduced into\\nsociety and used in everyday situations. AI is changing the w ay we work, live and solve\\nchallenges but concerns about fairness, transparency or pr ivacy are also growing. Ensuring\\nresponsible,ethical AIismorethandesigningsystemswhos eresultcanbetrusted. Itisabout\\nthewaywedesignthem, whywedesignthem, andwhoisinvolved indesigningthem. Inorder\\nto develop and use AI responsibly, we need to work towards tec hnical, societal, institutional\\nand legal methods and tools which provide concrete support t o AI practitioners, as well as\\nawareness and training to enable participation of all, to en sure the alignment of AI systems\\nwith our societies’ principles and values.\\nThis paper is a curated version of my keynote at the Web Confer ence 2022.\\n1 Introduction\\nEnsuring the responsible development and use of AI is becoming a main direction in AI research\\nand practice. Governments, corporations and international org anisations alike are coming forward\\nwith proposals and declarations of their commitment to an accounta ble, responsible, transparent\\napproach to AI, where human values and ethical principles are leadin g.\\nCurrently, there are over 600 AI-related policy recommendations , guidelines or strategy re-\\nports, which have been released by prominent intergovernmental organisations, professional bod-\\nies, national-level committees and other public organisations, non- governmental, and private for-\\nproﬁt companies. A recent study of the global landscape of AI eth ics guidelines shows that there\\nis a global convergence around ﬁve ethical principles: Transparen cy, Justice and Fairness, Non-\\nMaleﬁcence, Responsibility, and Privacy [ Jobin et al. ,2019]. These are much-needed eﬀorts, but\\nstill much work is needed to ensure that all AI is developed and used in responsible ways that\\ncontribute to trust and well-being. Nevertheless, even though or ganisations agree on the need to\\nconsider ethical, legal and societal principles, how these are interp reted and applied in practice,\\nvaries signiﬁcantly across the diﬀerent recommendation document s.\\nAt the same time, the growing hype around ‘AI’ is blurring its deﬁnition and shoving into\\nthe same heap concepts and applications of many diﬀerent sorts. A hard needed ﬁrst step in the\\nACM SIGIR Forum 1 Vol. 56 No. 1 June 2022', metadata={'source': './responsible_AI.pdf', 'page': 0}),\n",
              " Document(page_content='amount of data and computational power. The eﬀort/accuracy r atio is huge. However, human\\nintelligence is not based on correlation, and includes causality and abs traction. Responsibility in\\nAI is not just about ethics, bias, and trolley problems. It is also abou t responsible innovation:\\nensuring the best tools for the job, minimize side eﬀects. Responsib le innovation in AI requires\\n“a shift from a perspective in which learning is more or less the only ﬁrs t-class citizen to one in\\nwhich learning is a central member of a broader coalition that is more w elcoming to variables,\\nprior knowledge, reasoning, and rich cognitive models.”[ Marcus,2020].\\nAcknowledgements\\nThis work was partially supported by the Wallenberg AI, Autonomous Systems and Software\\nProgram (WASP), funded by the Knut and Alice Wallenberg Foundatio n and by the European\\nCommission’s Horizon2020 project HumaneAI-Net (grant 952026) .\\nReferences\\nAndrea Aler Tubella and Virginia Dignum. The glass box approach: Verif ying contextual adher-\\nence to values. In AISafety 2019, Macao, China, August 11-12, 2019 . CEUR-WS, 2019.\\nKate Crawford. The Atlas of AI . Yale University Press, 2021.\\nVirginia Dignum. Responsible Artiﬁcial Intelligence: How to Develop and Use AI in a Responsible\\nWay. Springer, 2019.\\nVirginia Dignum. Relational Artiﬁcial Intelligence, 2022. URL\\nhttps://arxiv.org/abs/2202.07446 .\\nBatya Friedman, Peter Kahn, and Alan Borning. Value sensitive desig n and information systems.\\nAdvances in Management Information Systems , 6:348 – 372, 2006.\\nAnnaJobin, Marcello Ienca, andEﬀyVayena. Thegloballandscape o fAIethics guidelines. Nature\\nMachine Intelligence , 1(9):389–399, 2019.\\nGary Marcus. The next decade in ai: Four steps towards robust ar tiﬁcial intelligence, 2020. URL\\nhttps://arxiv.org/abs/2002.06177 .\\nMariarosaria Taddeo and Luciano Floridi. How AI can be a force for go od.Science, 361(6404):\\n751–752, 2018.\\nJeroen van den Hoven. Design for values and values for design. Information Age +, Journal of\\nthe Australian Computer Society , 7(2):4–7, 2005.\\nACM SIGIR Forum 6 Vol. 56 No. 1 June 2022', metadata={'source': './responsible_AI.pdf', 'page': 5}),\n",
              " Document(page_content='to make our pie, in AI we also must consider our choices on which models , data to use, who to\\ninclude in the design and considerations about impact, and how these choices respect and ensure\\nfairness, privacy, transparency and all other values we hold dear .\\n2.1 AI is a socio-technical ecosystem: datiﬁcation, power a nd costs\\nIfAIisnotintelligent, normagic, norbusiness asusual, noranalgorit hm, howbestcanwedescribe\\nAI in order to take into account not only its capabilities but also its soc ietal implications? AI\\nis ﬁrst and foremost technology that can automatise (simple, lesse r) tasks and decision making\\nprocesses. At the present, AI systems are largely incapable of un derstanding meaning and the\\ncontext of their operation and results. At the same time, consider ing its societal impact and\\nneed for human contribution, AI is much more than an automation te chnique. When considering\\neﬀects and the governance thereof, the technology, or the art efact that embeds that technology,\\ncannot be separated from the ecosystem of which it is a component . In this sense, AI can best\\nbe understood as a socio-technical ecosystem, recognising the in teraction between people and\\ntechnology, and how complex infrastructures aﬀect and are aﬀec ted by society and by human\\nbehaviour [ Dignum,2019]. AI is not just about the automation of decisions and actions, the\\nadaptability to learn from the changes aﬀected in the environment, and the interactivity required\\nto be sensitive to the actions and aims of other agents in that enviro nment, and decide when to\\ncooperate or to compete. It is mostly about the structures of po wer, participation and access\\nto technology that determine who can inﬂuence which decisions or ac tions are being automated,\\nwhich data, knowledge and resources are used to learn from, and h ow interactions between those\\nthat decide and those that are impacted are deﬁned and maintained .\\nMuch has been said about the dangers of biased data, and discrimina ting applications. Min-\\nimising or eliminating discriminatory bias or unfair outcomes is more than excluding the use of\\nlow-quality data. The design of any artefact, such as an AI system , is in itself an accumulation of\\nchoices and choices are biased by nature as they involve selecting an option over another. Most\\nimportantly, it starts with the current reliance on data as a measur e of what can be done. In-\\ncreasingly, we are seeing that the availability of that (or the possibilit y to access data) is taken\\nas a guiding criteria to solving societal issues. If there is data, it is a p roblem we can address,\\nbut if there is no data, there is no problem. This is intrinsically related t o power and to power\\nstructures. Those that can decide on which problems are worth ad dress, are shaping not only how\\nAI is being developed and used, which technologies to use and what va lues to prioritise. Those in\\npower are shaping the way we live with AI and how our future societies will look like.\\nNevertheless, attention for the societal, environmental and clima te costs of AI systems is\\nincreasing. All these must be included in any eﬀort to ensure the res ponsible development and\\nuse of AI. A responsible, ethical, approach to AI will ensure transp arency about how adaptation\\nis done, responsibility for the level of automation on which the syste m is able to reason, and\\naccountability for the results and the principles that guide its intera ctions with others, most\\nimportantly with people. In addition, and above all, a responsible appr oach to AI makes clear\\nthat AI systems are artefacts manufactured by people for some purpose, and that those which\\nmake these have the power to decide on the use of AI. It is time to dis cuss how power structures\\ndetermine AIandhow AI establishes andmaintains power structure s, and onthebalance between,\\nthose who beneﬁt from, and those who are harmed by the use of AI [Crawford ,2021].\\nACM SIGIR Forum 3 Vol. 56 No. 1 June 2022', metadata={'source': './responsible_AI.pdf', 'page': 2}),\n",
              " Document(page_content='responsible development and use of AI is to ensure a proper AI narr ative, one that demystiﬁes its\\ncapabilities, minimises both overselling and underselling of AI-driven so lutions, and that enables\\nwide and inclusive participation in the discussion on the role of AI in socie ty. Understanding\\nthe capabilities and addressing the risks of AI, requires that all of u s, from developers to policy-\\nmakers, from provides to end-users and bystanders, have a clea r understanding of what AI is, how\\nit is applied and what are the opportunities and risks involved.\\n2 What AI is not: data, algorithms, magic\\nWithout a proper understanding of what AI is and what it can, and ca nnot, do, all the eﬀorts\\ntowards governance, regulation and the responsible development and use of AI have the risk to\\nbecome void. Current AI narratives bring forward beneﬁts and ris ks and describe AI in many\\ndiﬀerent ways, from the obvious next step in digitisation to some kind of magic. If the ‘business\\nas usual’ narrative is detrimental of innovation and contributes to the maintenance current power\\nstructures, the ‘magic’ narrative, well fed by science ﬁction and t he popular press, often supports\\na feeling that nothing can be done against such an all-knowing entity t hat rules over us in possibly\\nunexpected ways, either solving all our problems, or destroying th e world in the process. In both\\ncases, the danger is that the message is that little can be done again st the risks and challenges of\\nAI.\\nCurrently, AI is mostly associated with data-driven techniques tha t use statistical methods\\nto enable computers to perceive some characteristics of their env ironment. Such techniques are\\nparticularly eﬃcient in perceiving images, written or spoken text, as well as the many applications\\nof structured data. These techniques are extremely successfu l at pattern matching: By analysing\\nmany thousands of examples (typically a few million), the system is able to identify commonalities\\nin these examples, which then enable it to interpret data that it has n ever seen before, which is\\noften referred to as prediction. These results, however impress ive and useful, are still far from any\\nthing that we would consider as ‘intelligent’. Moreover, data-driven a pproaches to AI have been\\nproven to be problematic in terms of bias, explanation, inclusion and t ransparency. Algorithms\\nare too complex for human inspection, and a over-reliance on data, condemns the future to repeat\\nthe past. Indeed, data is always about the past, and decisions on w hich, how, when, why collect\\nand maintain data fundamentally inﬂuence the availability and quality of data. Those that have\\nthe power to decide on data, have the power to determine how AI sy stem will be design, deployed\\nand used.\\nAI is based on algorithms, but then so is any computer program and m ost of the technologies\\naround us. Nevertheless, the concept of ‘algorithm’ is achieving ma gical proportions, used right\\nand left to signify many things, de factoseen as a synonym to AI. The easiest way to understand\\nan algorithm is as a recipe, a set of precise rules to achieve a certain r esult. Every time you\\nmultiply two numbers, you are using an algorithm, as well as you are wh en you are baking an\\napple pie. However, by itself, the recipe has never turned into an ap ple pie; and, the end result\\nof your pie has as much to do with your baking skills and your choice of in gredients, as with the\\nchoice for a speciﬁc recipe. The same applies to AI algorithms: for a la rge part the behaviour and\\nresults of the system depends on its input data, and on the choices made by those that developed,\\ntrained and selected the algorithm. In the same way as we have the c hoice to use organic apples\\nACM SIGIR Forum 2 Vol. 56 No. 1 June 2022', metadata={'source': './responsible_AI.pdf', 'page': 1})]"
            ]
          },
          "metadata": {}
        }
      ]
    },
    {
      "cell_type": "code",
      "source": [
        "query = \"How can responsible AI development be defined and what are the key components involved in ensuring ethical AI practices?\"\n",
        "display(asking_your_model(query))"
      ],
      "metadata": {
        "colab": {
          "base_uri": "https://localhost:8080/",
          "height": 619
        },
        "id": "TMWqnj65hIKo",
        "outputId": "32a2dcbe-c76b-4459-d21d-3780a53f7207"
      },
      "execution_count": null,
      "outputs": [
        {
          "output_type": "display_data",
          "data": {
            "text/plain": [
              "['Responsible AI development refers to the process of designing, developing, and using AI systems in a way that aligns with ethical principles and societal values. It involves taking into account the potential impact of AI on individuals and society as a whole, and ensuring that AI systems are transparent, fair, accountable, and respectful of privacy.',\n",
              " '',\n",
              " 'Key components involved in ensuring ethical AI practices include:',\n",
              " '',\n",
              " '1. Responsibility and Accountability: Developers and organizations involved in AI development should take responsibility for the decisions and actions of AI applications. They should be accountable for the potential harms caused by AI systems and should have mechanisms in place to address any negative consequences.',\n",
              " '',\n",
              " '2. Transparency: AI systems should be transparent, meaning that their decision-making processes and underlying algorithms should be explainable and understandable to users and stakeholders. Transparency helps build trust and allows for the identification and mitigation of biases or unfairness in AI systems.',\n",
              " '',\n",
              " '3. Fairness and Non-Discrimination: AI systems should be designed and trained to be fair and unbiased, avoiding discrimination based on factors such as race, gender, or socioeconomic status. Efforts should be made to identify and mitigate any biases in data or algorithms that could lead to unfair outcomes.',\n",
              " '',\n",
              " '4. Privacy and Data Protection: AI systems should respect user privacy and comply with relevant data protection regulations. Personal data should be handled securely and used only for the intended purposes. Users should have control over their data and be informed about how it is being used.',\n",
              " '',\n",
              " '5. Impact Assessment: Before deploying AI systems, it is important to conduct impact assessments to evaluate the potential effects on privacy, transparency, bias, and liability. These assessments help identify and address any ethical or societal concerns associated with the use of AI.',\n",
              " '',\n",
              " '6. Inclusion and Diversity: AI development should involve a diverse group of people with different backgrounds and perspectives. This diversity helps ensure that AI systems are designed to meet the needs of a wide range of users and avoid biases or discrimination.',\n",
              " '',\n",
              " '7. Ethical Frameworks and Guidelines: Developers and organizations should adhere to established ethical frameworks and guidelines for AI development. These frameworks provide principles and guidelines for responsible AI practices and help ensure that AI systems are aligned with societal values.',\n",
              " '',\n",
              " 'It is important to note that responsible AI development is an ongoing process that requires continuous monitoring, evaluation, and improvement. It involves collaboration between various stakeholders, including developers, policymakers, researchers, and users, to ensure that AI systems are developed and used in a way that benefits society as a whole.']"
            ]
          },
          "metadata": {}
        }
      ]
    },
    {
      "cell_type": "code",
      "source": [
        "display(sources(query))"
      ],
      "metadata": {
        "colab": {
          "base_uri": "https://localhost:8080/",
          "height": 1000
        },
        "id": "KJnlqX9EQsFz",
        "outputId": "75a86536-0238-40ee-bbb6-7ff06a04b3d7"
      },
      "execution_count": null,
      "outputs": [
        {
          "output_type": "stream",
          "name": "stdout",
          "text": [
            "We found 4 number of similarities.\n"
          ]
        },
        {
          "output_type": "display_data",
          "data": {
            "text/plain": [
              "[Document(page_content='3 Responsible AI - The question zero\\nResponsible AI (or Ethical AI, or Trustworthy AI) is not, as some m ay claim, a way to give\\nmachines some kind of ‘responsibility’ for their actions and decisions, and in the process discharge\\npeople and organisations of their responsibility. On the contrary, r esponsible development and\\nuse of AI requires more responsibility and more accountability from t he people and organisations\\ninvolved: for the decisions and actions of the AI applications, and fo r their own decision of using\\nAI in a given application context [ Dignum,2022]. When considering eﬀects and the governance\\nthereof, the technology, or the artefact that embeds that tec hnology, cannot be separated from\\nthe socio-technical ecosystem of which it is a component. Guidelines , principles and strategies\\nto ensure trust and responsibility in AI, must be directed towards t he socio-technical ecosystem\\nin which AI is developed and used. It is not the AI artefact or applicat ion that needs to be\\nethical, trustworthy, or responsible. Rather, it is the social comp onent of this ecosystem that\\ncan and should take responsibility and act in consideration of an ethic al framework such that the\\noverall system can be trusted by the society. Having said this, gov ernance can be achieved by\\nseveral means, softer or harder. Currently several directions are being explored, the main ones are\\nhighlighted in the remainder of this section. Future research and ex perience will identify which\\napproaches are the most suitable, but given the complexity of the p roblem, it is very likely that\\na combination of approaches will be needed.\\nResponsible AI is more than the ticking of some ethical ‘boxes’ or the development of some\\nadd-on features in AI systems. Nevertheless, developers and us ers can beneﬁt from support and\\nconcrete steps to understand the relevant legal and ethical sta ndards and considerations when\\nmaking decisions on the use of AI applications. Impact assessment t ools provide a step-by-step\\nevaluation of the impact of systems, methods or tools on aspects s uch as privacy, transparency,\\nexplanation, bias, or liability [ Taddeo and Floridi ,2018].\\nInclusion and diversity are a broader societal challenge central to AI development. It is there-\\nfore important that as broad a group of people as possible have a ba sic knowledge of AI, what\\ncan (and can’t) be done with AI, and how AI impacts individual decision s and shapes society. In\\nparallel, research and development of AI systems must be informed by diversity, in all the mean-\\nings of diversity, and obviously including gender, cultural backgrou nd, and ethnicity. Moreover,\\nAI is not any longer an engineering discipline and at the same time there is growing evidence that\\ncognitive diversity contributes to better decision making. Therefo re, it is important to diversify\\nthe discipline background and expertise of those working on AI to inc lude AI professionals with\\nknowledge of, amongst others, philosophy, social science, law and economy.\\n4 Design for Responsibility\\nA multidisciplinary stance supporting understanding and critiquing th e intended and unforeseen,\\npositive and negative, and the socio-political consequences of AI f or society, is core to the re-\\nsponsible design of AI systems. This multidisciplinary approach is fund amental to understand\\ngovernance, not only in terms of competences and responsibilities, but also in terms of power,\\ntrust and accountability; to analyse the societal, legal and econom ic functioning of socio-technical\\nsystems, providing value-based design approaches and ethical fr ameworks for inclusion and diver-\\nsity in design, and how such strategies may inform processes and re sults.\\nACM SIGIR Forum 4 Vol. 56 No. 1 June 2022', metadata={'source': './responsible_AI.pdf', 'page': 3}),\n",
              " Document(page_content='arXiv:2205.10785v1  [cs.CY]  22 May 2022PAPER\\nResponsible Artiﬁcial Intelligence – from\\nPrinciples to Practice\\nVirginia Dignum\\nUme˚ a University\\nSweden\\nvirginia@cs.umu.se\\nAbstract\\nThe impact of Artiﬁcial Intelligence does not depend only on fundamental research and\\ntechnological developments, but for a large part on how thes e systems are introduced into\\nsociety and used in everyday situations. AI is changing the w ay we work, live and solve\\nchallenges but concerns about fairness, transparency or pr ivacy are also growing. Ensuring\\nresponsible,ethical AIismorethandesigningsystemswhos eresultcanbetrusted. Itisabout\\nthewaywedesignthem, whywedesignthem, andwhoisinvolved indesigningthem. Inorder\\nto develop and use AI responsibly, we need to work towards tec hnical, societal, institutional\\nand legal methods and tools which provide concrete support t o AI practitioners, as well as\\nawareness and training to enable participation of all, to en sure the alignment of AI systems\\nwith our societies’ principles and values.\\nThis paper is a curated version of my keynote at the Web Confer ence 2022.\\n1 Introduction\\nEnsuring the responsible development and use of AI is becoming a main direction in AI research\\nand practice. Governments, corporations and international org anisations alike are coming forward\\nwith proposals and declarations of their commitment to an accounta ble, responsible, transparent\\napproach to AI, where human values and ethical principles are leadin g.\\nCurrently, there are over 600 AI-related policy recommendations , guidelines or strategy re-\\nports, which have been released by prominent intergovernmental organisations, professional bod-\\nies, national-level committees and other public organisations, non- governmental, and private for-\\nproﬁt companies. A recent study of the global landscape of AI eth ics guidelines shows that there\\nis a global convergence around ﬁve ethical principles: Transparen cy, Justice and Fairness, Non-\\nMaleﬁcence, Responsibility, and Privacy [ Jobin et al. ,2019]. These are much-needed eﬀorts, but\\nstill much work is needed to ensure that all AI is developed and used in responsible ways that\\ncontribute to trust and well-being. Nevertheless, even though or ganisations agree on the need to\\nconsider ethical, legal and societal principles, how these are interp reted and applied in practice,\\nvaries signiﬁcantly across the diﬀerent recommendation document s.\\nAt the same time, the growing hype around ‘AI’ is blurring its deﬁnition and shoving into\\nthe same heap concepts and applications of many diﬀerent sorts. A hard needed ﬁrst step in the\\nACM SIGIR Forum 1 Vol. 56 No. 1 June 2022', metadata={'source': './responsible_AI.pdf', 'page': 0}),\n",
              " Document(page_content='Achieving trustworthy AI systems is a multifaceted complex proces s, which requires both tech-\\nnical and socio-legal initiatives and solutions to ensure that we alway s align an intelligent system’s\\ngoals with human values. Core values, as well as the processes used for value elicitation, must be\\nmade explicit and that all stakeholders are involved in this process. F urthermore, the methods\\nused for the elicitation processes and the decisions of who is involved in the value identiﬁcation\\nprocess must be clearly identiﬁed and documented.\\nWhere it concerns the design process itself, responsibility includes t he need to elicit and rep-\\nresent stakeholders, their values and expectations, as well as en suring transparency about how\\nsuch values are interpreted and prioritised in the concrete functio nalities of the AI system. Design\\nfor Values methodologies [ van den Hoven ,2005;Friedman et al. ,2006] are often used for this end,\\nproviding a structured way for translationfromabstract values in to concrete norms comprehensive\\nenough so that fulﬁlling the norm will be considered as adhering to the value. Following a Design\\nfor Values approach, the shift from abstract to concrete neces sarily involves careful consideration\\nof the context. Design for Values approach means that the proce ss needs to include activities for\\n(i) theidentiﬁcation of societal values, (ii) deciding ona moraldeliber ation approach(e.g. through\\nalgorithms, user control or regulation), and (3) linking values to fo rmal system requirements and\\nconcrete functionalities.\\nMy research group is developing the Glass Box framework [ Aler Tubella and Dignum ,2019]\\nthat is both an approach to software development, a veriﬁcation m ethod and a source of high-level\\ntransparency for intelligent systems. It provides a modular appro ach integrating veriﬁcation with\\nvalue-based design.\\n5 Conclusions\\nIncreasingly, AI systems will be taking decisions that aﬀect our lives , in smaller or larger ways.\\nIn all areas of application, AI must be able to take into account socie tal values, moral and eth-\\nical considerations, weigh the respective priorities of values held by diﬀerent stakeholders and\\nin multicultural contexts, explain its reasoning, and guarantee tra nsparency. As the capabili-\\nties for autonomous decision-making grow, perhaps the most impor tant issue to consider is the\\nneed to rethink responsibility. Being fundamentally tools, AI system s are fully under the control\\nand responsibility of their owners or users. However, their potent ial autonomy and capability\\nto learn, require that design considers accountability, responsibilit y and transparency principles\\nin an explicit and systematic manner. The development of AI algorithm s has so far been led\\nby the goal of improving performance, leading to opaque black boxe s. Putting human values at\\nthe core of AI systems calls for a mind-shift of researchers and de velopers towards the goal of\\nimproving transparency rather than performance, which will lead t o novel and exciting techniques\\nand applications.\\nFinally, it is crucial to understand responsibility, regulation and ethic s as stepping-stone for\\ninnovation, rather than theoften referred hinder to innovation. True innovation is moving technol-\\nogy forward, not use existing technology ‘as is’. Taking responsibility and regulation as beacons\\npointing the direction to move, will not only lead to better technology but also ensure trust and\\npublic acceptance, serve as a drive for transformation and for bu siness diﬀerentiation. Eﬀorts in\\nfundamental research are part of this. Currently, much AI ‘innov ation’ is based on brute force:\\nwhen the main data analytics paradigm is correlation, better accura cy is achieved by increased\\nACM SIGIR Forum 5 Vol. 56 No. 1 June 2022', metadata={'source': './responsible_AI.pdf', 'page': 4}),\n",
              " Document(page_content='amount of data and computational power. The eﬀort/accuracy r atio is huge. However, human\\nintelligence is not based on correlation, and includes causality and abs traction. Responsibility in\\nAI is not just about ethics, bias, and trolley problems. It is also abou t responsible innovation:\\nensuring the best tools for the job, minimize side eﬀects. Responsib le innovation in AI requires\\n“a shift from a perspective in which learning is more or less the only ﬁrs t-class citizen to one in\\nwhich learning is a central member of a broader coalition that is more w elcoming to variables,\\nprior knowledge, reasoning, and rich cognitive models.”[ Marcus,2020].\\nAcknowledgements\\nThis work was partially supported by the Wallenberg AI, Autonomous Systems and Software\\nProgram (WASP), funded by the Knut and Alice Wallenberg Foundatio n and by the European\\nCommission’s Horizon2020 project HumaneAI-Net (grant 952026) .\\nReferences\\nAndrea Aler Tubella and Virginia Dignum. The glass box approach: Verif ying contextual adher-\\nence to values. In AISafety 2019, Macao, China, August 11-12, 2019 . CEUR-WS, 2019.\\nKate Crawford. The Atlas of AI . Yale University Press, 2021.\\nVirginia Dignum. Responsible Artiﬁcial Intelligence: How to Develop and Use AI in a Responsible\\nWay. Springer, 2019.\\nVirginia Dignum. Relational Artiﬁcial Intelligence, 2022. URL\\nhttps://arxiv.org/abs/2202.07446 .\\nBatya Friedman, Peter Kahn, and Alan Borning. Value sensitive desig n and information systems.\\nAdvances in Management Information Systems , 6:348 – 372, 2006.\\nAnnaJobin, Marcello Ienca, andEﬀyVayena. Thegloballandscape o fAIethics guidelines. Nature\\nMachine Intelligence , 1(9):389–399, 2019.\\nGary Marcus. The next decade in ai: Four steps towards robust ar tiﬁcial intelligence, 2020. URL\\nhttps://arxiv.org/abs/2002.06177 .\\nMariarosaria Taddeo and Luciano Floridi. How AI can be a force for go od.Science, 361(6404):\\n751–752, 2018.\\nJeroen van den Hoven. Design for values and values for design. Information Age +, Journal of\\nthe Australian Computer Society , 7(2):4–7, 2005.\\nACM SIGIR Forum 6 Vol. 56 No. 1 June 2022', metadata={'source': './responsible_AI.pdf', 'page': 5})]"
            ]
          },
          "metadata": {}
        }
      ]
    },
    {
      "cell_type": "code",
      "source": [
        "query=\"How can the Glass Box framework contribute to transparency and value-based design in AI development, and what are the potential benefits of this approach for responsible AI implementation?\"\n",
        "display(asking_your_model(query))"
      ],
      "metadata": {
        "colab": {
          "base_uri": "https://localhost:8080/",
          "height": 400
        },
        "id": "jJv-mVrlhqJ5",
        "outputId": "e8a8194d-5340-40fb-8e4a-09b68f2f605f"
      },
      "execution_count": null,
      "outputs": [
        {
          "output_type": "display_data",
          "data": {
            "text/plain": [
              "['The Glass Box framework, developed by Aler Tubella and Dignum, is a comprehensive approach to software development that integrates verification with value-based design. It aims to enhance transparency and ensure that AI systems align with human values.',\n",
              " '',\n",
              " \"The framework contributes to transparency by providing a high-level view of the system's functionality and how it adheres to the identified values. It allows stakeholders to understand how the system interprets and prioritizes values in its decision-making processes. This transparency helps build trust and accountability in AI systems.\",\n",
              " '',\n",
              " \"Value-based design is another key aspect of the Glass Box framework. It involves eliciting and representing stakeholders' values and expectations and linking them to formal system requirements and concrete functionalities. This approach ensures that the design process considers the societal values and moral considerations relevant to the AI system's application context.\",\n",
              " '',\n",
              " 'The potential benefits of the Glass Box framework for responsible AI implementation are significant. By integrating verification with value-based design, the framework promotes a systematic and explicit consideration of ethical and societal principles throughout the development process. This approach helps developers and users understand and address potential biases, privacy concerns, and other ethical implications of AI systems.',\n",
              " '',\n",
              " \"Furthermore, the transparency provided by the Glass Box framework enables stakeholders to assess the system's adherence to their values and expectations. This transparency fosters accountability and allows for meaningful human oversight of AI systems, which is crucial for responsible AI implementation.\",\n",
              " '',\n",
              " 'Overall, the Glass Box framework contributes to transparency and value-based design in AI development, facilitating responsible AI implementation by aligning AI systems with human values and ensuring accountability and trustworthiness.']"
            ]
          },
          "metadata": {}
        }
      ]
    },
    {
      "cell_type": "code",
      "source": [
        "display(sources(query))"
      ],
      "metadata": {
        "colab": {
          "base_uri": "https://localhost:8080/",
          "height": 1000
        },
        "id": "aqGHpeMkxxCW",
        "outputId": "aa911d27-8dc4-43d3-8053-299e3404e81b"
      },
      "execution_count": null,
      "outputs": [
        {
          "output_type": "stream",
          "name": "stdout",
          "text": [
            "We found 4 number of similarities.\n"
          ]
        },
        {
          "output_type": "display_data",
          "data": {
            "text/plain": [
              "[Document(page_content='Achieving trustworthy AI systems is a multifaceted complex proces s, which requires both tech-\\nnical and socio-legal initiatives and solutions to ensure that we alway s align an intelligent system’s\\ngoals with human values. Core values, as well as the processes used for value elicitation, must be\\nmade explicit and that all stakeholders are involved in this process. F urthermore, the methods\\nused for the elicitation processes and the decisions of who is involved in the value identiﬁcation\\nprocess must be clearly identiﬁed and documented.\\nWhere it concerns the design process itself, responsibility includes t he need to elicit and rep-\\nresent stakeholders, their values and expectations, as well as en suring transparency about how\\nsuch values are interpreted and prioritised in the concrete functio nalities of the AI system. Design\\nfor Values methodologies [ van den Hoven ,2005;Friedman et al. ,2006] are often used for this end,\\nproviding a structured way for translationfromabstract values in to concrete norms comprehensive\\nenough so that fulﬁlling the norm will be considered as adhering to the value. Following a Design\\nfor Values approach, the shift from abstract to concrete neces sarily involves careful consideration\\nof the context. Design for Values approach means that the proce ss needs to include activities for\\n(i) theidentiﬁcation of societal values, (ii) deciding ona moraldeliber ation approach(e.g. through\\nalgorithms, user control or regulation), and (3) linking values to fo rmal system requirements and\\nconcrete functionalities.\\nMy research group is developing the Glass Box framework [ Aler Tubella and Dignum ,2019]\\nthat is both an approach to software development, a veriﬁcation m ethod and a source of high-level\\ntransparency for intelligent systems. It provides a modular appro ach integrating veriﬁcation with\\nvalue-based design.\\n5 Conclusions\\nIncreasingly, AI systems will be taking decisions that aﬀect our lives , in smaller or larger ways.\\nIn all areas of application, AI must be able to take into account socie tal values, moral and eth-\\nical considerations, weigh the respective priorities of values held by diﬀerent stakeholders and\\nin multicultural contexts, explain its reasoning, and guarantee tra nsparency. As the capabili-\\nties for autonomous decision-making grow, perhaps the most impor tant issue to consider is the\\nneed to rethink responsibility. Being fundamentally tools, AI system s are fully under the control\\nand responsibility of their owners or users. However, their potent ial autonomy and capability\\nto learn, require that design considers accountability, responsibilit y and transparency principles\\nin an explicit and systematic manner. The development of AI algorithm s has so far been led\\nby the goal of improving performance, leading to opaque black boxe s. Putting human values at\\nthe core of AI systems calls for a mind-shift of researchers and de velopers towards the goal of\\nimproving transparency rather than performance, which will lead t o novel and exciting techniques\\nand applications.\\nFinally, it is crucial to understand responsibility, regulation and ethic s as stepping-stone for\\ninnovation, rather than theoften referred hinder to innovation. True innovation is moving technol-\\nogy forward, not use existing technology ‘as is’. Taking responsibility and regulation as beacons\\npointing the direction to move, will not only lead to better technology but also ensure trust and\\npublic acceptance, serve as a drive for transformation and for bu siness diﬀerentiation. Eﬀorts in\\nfundamental research are part of this. Currently, much AI ‘innov ation’ is based on brute force:\\nwhen the main data analytics paradigm is correlation, better accura cy is achieved by increased\\nACM SIGIR Forum 5 Vol. 56 No. 1 June 2022', metadata={'source': './responsible_AI.pdf', 'page': 4}),\n",
              " Document(page_content='amount of data and computational power. The eﬀort/accuracy r atio is huge. However, human\\nintelligence is not based on correlation, and includes causality and abs traction. Responsibility in\\nAI is not just about ethics, bias, and trolley problems. It is also abou t responsible innovation:\\nensuring the best tools for the job, minimize side eﬀects. Responsib le innovation in AI requires\\n“a shift from a perspective in which learning is more or less the only ﬁrs t-class citizen to one in\\nwhich learning is a central member of a broader coalition that is more w elcoming to variables,\\nprior knowledge, reasoning, and rich cognitive models.”[ Marcus,2020].\\nAcknowledgements\\nThis work was partially supported by the Wallenberg AI, Autonomous Systems and Software\\nProgram (WASP), funded by the Knut and Alice Wallenberg Foundatio n and by the European\\nCommission’s Horizon2020 project HumaneAI-Net (grant 952026) .\\nReferences\\nAndrea Aler Tubella and Virginia Dignum. The glass box approach: Verif ying contextual adher-\\nence to values. In AISafety 2019, Macao, China, August 11-12, 2019 . CEUR-WS, 2019.\\nKate Crawford. The Atlas of AI . Yale University Press, 2021.\\nVirginia Dignum. Responsible Artiﬁcial Intelligence: How to Develop and Use AI in a Responsible\\nWay. Springer, 2019.\\nVirginia Dignum. Relational Artiﬁcial Intelligence, 2022. URL\\nhttps://arxiv.org/abs/2202.07446 .\\nBatya Friedman, Peter Kahn, and Alan Borning. Value sensitive desig n and information systems.\\nAdvances in Management Information Systems , 6:348 – 372, 2006.\\nAnnaJobin, Marcello Ienca, andEﬀyVayena. Thegloballandscape o fAIethics guidelines. Nature\\nMachine Intelligence , 1(9):389–399, 2019.\\nGary Marcus. The next decade in ai: Four steps towards robust ar tiﬁcial intelligence, 2020. URL\\nhttps://arxiv.org/abs/2002.06177 .\\nMariarosaria Taddeo and Luciano Floridi. How AI can be a force for go od.Science, 361(6404):\\n751–752, 2018.\\nJeroen van den Hoven. Design for values and values for design. Information Age +, Journal of\\nthe Australian Computer Society , 7(2):4–7, 2005.\\nACM SIGIR Forum 6 Vol. 56 No. 1 June 2022', metadata={'source': './responsible_AI.pdf', 'page': 5}),\n",
              " Document(page_content='3 Responsible AI - The question zero\\nResponsible AI (or Ethical AI, or Trustworthy AI) is not, as some m ay claim, a way to give\\nmachines some kind of ‘responsibility’ for their actions and decisions, and in the process discharge\\npeople and organisations of their responsibility. On the contrary, r esponsible development and\\nuse of AI requires more responsibility and more accountability from t he people and organisations\\ninvolved: for the decisions and actions of the AI applications, and fo r their own decision of using\\nAI in a given application context [ Dignum,2022]. When considering eﬀects and the governance\\nthereof, the technology, or the artefact that embeds that tec hnology, cannot be separated from\\nthe socio-technical ecosystem of which it is a component. Guidelines , principles and strategies\\nto ensure trust and responsibility in AI, must be directed towards t he socio-technical ecosystem\\nin which AI is developed and used. It is not the AI artefact or applicat ion that needs to be\\nethical, trustworthy, or responsible. Rather, it is the social comp onent of this ecosystem that\\ncan and should take responsibility and act in consideration of an ethic al framework such that the\\noverall system can be trusted by the society. Having said this, gov ernance can be achieved by\\nseveral means, softer or harder. Currently several directions are being explored, the main ones are\\nhighlighted in the remainder of this section. Future research and ex perience will identify which\\napproaches are the most suitable, but given the complexity of the p roblem, it is very likely that\\na combination of approaches will be needed.\\nResponsible AI is more than the ticking of some ethical ‘boxes’ or the development of some\\nadd-on features in AI systems. Nevertheless, developers and us ers can beneﬁt from support and\\nconcrete steps to understand the relevant legal and ethical sta ndards and considerations when\\nmaking decisions on the use of AI applications. Impact assessment t ools provide a step-by-step\\nevaluation of the impact of systems, methods or tools on aspects s uch as privacy, transparency,\\nexplanation, bias, or liability [ Taddeo and Floridi ,2018].\\nInclusion and diversity are a broader societal challenge central to AI development. It is there-\\nfore important that as broad a group of people as possible have a ba sic knowledge of AI, what\\ncan (and can’t) be done with AI, and how AI impacts individual decision s and shapes society. In\\nparallel, research and development of AI systems must be informed by diversity, in all the mean-\\nings of diversity, and obviously including gender, cultural backgrou nd, and ethnicity. Moreover,\\nAI is not any longer an engineering discipline and at the same time there is growing evidence that\\ncognitive diversity contributes to better decision making. Therefo re, it is important to diversify\\nthe discipline background and expertise of those working on AI to inc lude AI professionals with\\nknowledge of, amongst others, philosophy, social science, law and economy.\\n4 Design for Responsibility\\nA multidisciplinary stance supporting understanding and critiquing th e intended and unforeseen,\\npositive and negative, and the socio-political consequences of AI f or society, is core to the re-\\nsponsible design of AI systems. This multidisciplinary approach is fund amental to understand\\ngovernance, not only in terms of competences and responsibilities, but also in terms of power,\\ntrust and accountability; to analyse the societal, legal and econom ic functioning of socio-technical\\nsystems, providing value-based design approaches and ethical fr ameworks for inclusion and diver-\\nsity in design, and how such strategies may inform processes and re sults.\\nACM SIGIR Forum 4 Vol. 56 No. 1 June 2022', metadata={'source': './responsible_AI.pdf', 'page': 3}),\n",
              " Document(page_content='arXiv:2205.10785v1  [cs.CY]  22 May 2022PAPER\\nResponsible Artiﬁcial Intelligence – from\\nPrinciples to Practice\\nVirginia Dignum\\nUme˚ a University\\nSweden\\nvirginia@cs.umu.se\\nAbstract\\nThe impact of Artiﬁcial Intelligence does not depend only on fundamental research and\\ntechnological developments, but for a large part on how thes e systems are introduced into\\nsociety and used in everyday situations. AI is changing the w ay we work, live and solve\\nchallenges but concerns about fairness, transparency or pr ivacy are also growing. Ensuring\\nresponsible,ethical AIismorethandesigningsystemswhos eresultcanbetrusted. Itisabout\\nthewaywedesignthem, whywedesignthem, andwhoisinvolved indesigningthem. Inorder\\nto develop and use AI responsibly, we need to work towards tec hnical, societal, institutional\\nand legal methods and tools which provide concrete support t o AI practitioners, as well as\\nawareness and training to enable participation of all, to en sure the alignment of AI systems\\nwith our societies’ principles and values.\\nThis paper is a curated version of my keynote at the Web Confer ence 2022.\\n1 Introduction\\nEnsuring the responsible development and use of AI is becoming a main direction in AI research\\nand practice. Governments, corporations and international org anisations alike are coming forward\\nwith proposals and declarations of their commitment to an accounta ble, responsible, transparent\\napproach to AI, where human values and ethical principles are leadin g.\\nCurrently, there are over 600 AI-related policy recommendations , guidelines or strategy re-\\nports, which have been released by prominent intergovernmental organisations, professional bod-\\nies, national-level committees and other public organisations, non- governmental, and private for-\\nproﬁt companies. A recent study of the global landscape of AI eth ics guidelines shows that there\\nis a global convergence around ﬁve ethical principles: Transparen cy, Justice and Fairness, Non-\\nMaleﬁcence, Responsibility, and Privacy [ Jobin et al. ,2019]. These are much-needed eﬀorts, but\\nstill much work is needed to ensure that all AI is developed and used in responsible ways that\\ncontribute to trust and well-being. Nevertheless, even though or ganisations agree on the need to\\nconsider ethical, legal and societal principles, how these are interp reted and applied in practice,\\nvaries signiﬁcantly across the diﬀerent recommendation document s.\\nAt the same time, the growing hype around ‘AI’ is blurring its deﬁnition and shoving into\\nthe same heap concepts and applications of many diﬀerent sorts. A hard needed ﬁrst step in the\\nACM SIGIR Forum 1 Vol. 56 No. 1 June 2022', metadata={'source': './responsible_AI.pdf', 'page': 0})]"
            ]
          },
          "metadata": {}
        }
      ]
    },
    {
      "cell_type": "code",
      "source": [
        "query=\"What are the challenges associated with bias, transparency, and accountability in AI systems, and how can these challenges be addressed?\"\n",
        "display(asking_your_model(query))"
      ],
      "metadata": {
        "colab": {
          "base_uri": "https://localhost:8080/",
          "height": 655
        },
        "id": "BsNoPnN5xxKA",
        "outputId": "f19045b0-4884-44cf-ab9c-b13f55e867a7"
      },
      "execution_count": null,
      "outputs": [
        {
          "output_type": "display_data",
          "data": {
            "text/plain": [
              "['The challenges associated with bias, transparency, and accountability in AI systems are significant and require careful consideration. ',\n",
              " '',\n",
              " \"1. Bias: AI systems can inherit biases from the data they are trained on, leading to discriminatory outcomes. Addressing bias requires careful data selection and preprocessing, as well as ongoing monitoring and evaluation of the system's performance. It is important to involve diverse stakeholders in the design and development process to ensure a broader perspective and mitigate bias.\",\n",
              " '',\n",
              " '2. Transparency: Many AI systems, such as deep learning models, are often considered \"black boxes\" because their decision-making processes are not easily interpretable. This lack of transparency raises concerns about how decisions are made and whether they align with human values. Addressing transparency requires the development of explainable AI techniques that provide insights into the system\\'s decision-making process. This can involve techniques such as rule-based explanations, feature importance analysis, or model-agnostic approaches.',\n",
              " '',\n",
              " '3. Accountability: AI systems can make decisions that have significant impacts on individuals and society. Ensuring accountability requires clear identification of the responsible parties, whether it is the system developers, the system owners, or the users. It also involves establishing mechanisms for recourse and redress in case of harm caused by the system. Legal and regulatory frameworks can play a crucial role in holding the responsible parties accountable for the actions of AI systems.',\n",
              " '',\n",
              " 'To address these challenges, a multi-faceted approach is needed. This includes:',\n",
              " '',\n",
              " '1. Ethical and value-based design: Incorporating ethical considerations and human values into the design process from the outset can help mitigate bias and ensure that AI systems align with societal expectations.',\n",
              " '',\n",
              " '2. Data governance: Implementing robust data governance practices, including data collection, preprocessing, and validation, can help reduce bias in AI systems. This involves ensuring diverse and representative datasets and addressing potential biases in the data.',\n",
              " '',\n",
              " \"3. Explainability and interpretability: Developing AI systems that provide explanations for their decisions can enhance transparency and enable users to understand and trust the system's outputs. This can involve using interpretable models, generating explanations, or providing transparency reports.\",\n",
              " '',\n",
              " '4. Auditing and evaluation: Regular auditing and evaluation of AI systems can help identify and address biases, assess system performance, and ensure ongoing compliance with ethical and legal standards.',\n",
              " '',\n",
              " '5. Regulatory frameworks: Establishing clear regulations and guidelines for the development and use of AI systems can provide a framework for addressing bias, transparency, and accountability. This can include requirements for transparency, data protection, and algorithmic auditing.',\n",
              " '',\n",
              " 'Addressing these challenges requires collaboration and engagement from various stakeholders, including researchers, policymakers, industry, and civil society. It is an ongoing process that requires continuous monitoring, evaluation, and adaptation as AI technology evolves.']"
            ]
          },
          "metadata": {}
        }
      ]
    },
    {
      "cell_type": "code",
      "source": [
        "display(sources(query))"
      ],
      "metadata": {
        "colab": {
          "base_uri": "https://localhost:8080/",
          "height": 1000
        },
        "id": "A0wEQKwyxxQz",
        "outputId": "7700e0c2-1099-4fb9-c9a2-a2dbf0083c4d"
      },
      "execution_count": null,
      "outputs": [
        {
          "output_type": "stream",
          "name": "stdout",
          "text": [
            "We found 4 number of similarities.\n"
          ]
        },
        {
          "output_type": "display_data",
          "data": {
            "text/plain": [
              "[Document(page_content='Achieving trustworthy AI systems is a multifaceted complex proces s, which requires both tech-\\nnical and socio-legal initiatives and solutions to ensure that we alway s align an intelligent system’s\\ngoals with human values. Core values, as well as the processes used for value elicitation, must be\\nmade explicit and that all stakeholders are involved in this process. F urthermore, the methods\\nused for the elicitation processes and the decisions of who is involved in the value identiﬁcation\\nprocess must be clearly identiﬁed and documented.\\nWhere it concerns the design process itself, responsibility includes t he need to elicit and rep-\\nresent stakeholders, their values and expectations, as well as en suring transparency about how\\nsuch values are interpreted and prioritised in the concrete functio nalities of the AI system. Design\\nfor Values methodologies [ van den Hoven ,2005;Friedman et al. ,2006] are often used for this end,\\nproviding a structured way for translationfromabstract values in to concrete norms comprehensive\\nenough so that fulﬁlling the norm will be considered as adhering to the value. Following a Design\\nfor Values approach, the shift from abstract to concrete neces sarily involves careful consideration\\nof the context. Design for Values approach means that the proce ss needs to include activities for\\n(i) theidentiﬁcation of societal values, (ii) deciding ona moraldeliber ation approach(e.g. through\\nalgorithms, user control or regulation), and (3) linking values to fo rmal system requirements and\\nconcrete functionalities.\\nMy research group is developing the Glass Box framework [ Aler Tubella and Dignum ,2019]\\nthat is both an approach to software development, a veriﬁcation m ethod and a source of high-level\\ntransparency for intelligent systems. It provides a modular appro ach integrating veriﬁcation with\\nvalue-based design.\\n5 Conclusions\\nIncreasingly, AI systems will be taking decisions that aﬀect our lives , in smaller or larger ways.\\nIn all areas of application, AI must be able to take into account socie tal values, moral and eth-\\nical considerations, weigh the respective priorities of values held by diﬀerent stakeholders and\\nin multicultural contexts, explain its reasoning, and guarantee tra nsparency. As the capabili-\\nties for autonomous decision-making grow, perhaps the most impor tant issue to consider is the\\nneed to rethink responsibility. Being fundamentally tools, AI system s are fully under the control\\nand responsibility of their owners or users. However, their potent ial autonomy and capability\\nto learn, require that design considers accountability, responsibilit y and transparency principles\\nin an explicit and systematic manner. The development of AI algorithm s has so far been led\\nby the goal of improving performance, leading to opaque black boxe s. Putting human values at\\nthe core of AI systems calls for a mind-shift of researchers and de velopers towards the goal of\\nimproving transparency rather than performance, which will lead t o novel and exciting techniques\\nand applications.\\nFinally, it is crucial to understand responsibility, regulation and ethic s as stepping-stone for\\ninnovation, rather than theoften referred hinder to innovation. True innovation is moving technol-\\nogy forward, not use existing technology ‘as is’. Taking responsibility and regulation as beacons\\npointing the direction to move, will not only lead to better technology but also ensure trust and\\npublic acceptance, serve as a drive for transformation and for bu siness diﬀerentiation. Eﬀorts in\\nfundamental research are part of this. Currently, much AI ‘innov ation’ is based on brute force:\\nwhen the main data analytics paradigm is correlation, better accura cy is achieved by increased\\nACM SIGIR Forum 5 Vol. 56 No. 1 June 2022', metadata={'source': './responsible_AI.pdf', 'page': 4}),\n",
              " Document(page_content='to make our pie, in AI we also must consider our choices on which models , data to use, who to\\ninclude in the design and considerations about impact, and how these choices respect and ensure\\nfairness, privacy, transparency and all other values we hold dear .\\n2.1 AI is a socio-technical ecosystem: datiﬁcation, power a nd costs\\nIfAIisnotintelligent, normagic, norbusiness asusual, noranalgorit hm, howbestcanwedescribe\\nAI in order to take into account not only its capabilities but also its soc ietal implications? AI\\nis ﬁrst and foremost technology that can automatise (simple, lesse r) tasks and decision making\\nprocesses. At the present, AI systems are largely incapable of un derstanding meaning and the\\ncontext of their operation and results. At the same time, consider ing its societal impact and\\nneed for human contribution, AI is much more than an automation te chnique. When considering\\neﬀects and the governance thereof, the technology, or the art efact that embeds that technology,\\ncannot be separated from the ecosystem of which it is a component . In this sense, AI can best\\nbe understood as a socio-technical ecosystem, recognising the in teraction between people and\\ntechnology, and how complex infrastructures aﬀect and are aﬀec ted by society and by human\\nbehaviour [ Dignum,2019]. AI is not just about the automation of decisions and actions, the\\nadaptability to learn from the changes aﬀected in the environment, and the interactivity required\\nto be sensitive to the actions and aims of other agents in that enviro nment, and decide when to\\ncooperate or to compete. It is mostly about the structures of po wer, participation and access\\nto technology that determine who can inﬂuence which decisions or ac tions are being automated,\\nwhich data, knowledge and resources are used to learn from, and h ow interactions between those\\nthat decide and those that are impacted are deﬁned and maintained .\\nMuch has been said about the dangers of biased data, and discrimina ting applications. Min-\\nimising or eliminating discriminatory bias or unfair outcomes is more than excluding the use of\\nlow-quality data. The design of any artefact, such as an AI system , is in itself an accumulation of\\nchoices and choices are biased by nature as they involve selecting an option over another. Most\\nimportantly, it starts with the current reliance on data as a measur e of what can be done. In-\\ncreasingly, we are seeing that the availability of that (or the possibilit y to access data) is taken\\nas a guiding criteria to solving societal issues. If there is data, it is a p roblem we can address,\\nbut if there is no data, there is no problem. This is intrinsically related t o power and to power\\nstructures. Those that can decide on which problems are worth ad dress, are shaping not only how\\nAI is being developed and used, which technologies to use and what va lues to prioritise. Those in\\npower are shaping the way we live with AI and how our future societies will look like.\\nNevertheless, attention for the societal, environmental and clima te costs of AI systems is\\nincreasing. All these must be included in any eﬀort to ensure the res ponsible development and\\nuse of AI. A responsible, ethical, approach to AI will ensure transp arency about how adaptation\\nis done, responsibility for the level of automation on which the syste m is able to reason, and\\naccountability for the results and the principles that guide its intera ctions with others, most\\nimportantly with people. In addition, and above all, a responsible appr oach to AI makes clear\\nthat AI systems are artefacts manufactured by people for some purpose, and that those which\\nmake these have the power to decide on the use of AI. It is time to dis cuss how power structures\\ndetermine AIandhow AI establishes andmaintains power structure s, and onthebalance between,\\nthose who beneﬁt from, and those who are harmed by the use of AI [Crawford ,2021].\\nACM SIGIR Forum 3 Vol. 56 No. 1 June 2022', metadata={'source': './responsible_AI.pdf', 'page': 2}),\n",
              " Document(page_content='amount of data and computational power. The eﬀort/accuracy r atio is huge. However, human\\nintelligence is not based on correlation, and includes causality and abs traction. Responsibility in\\nAI is not just about ethics, bias, and trolley problems. It is also abou t responsible innovation:\\nensuring the best tools for the job, minimize side eﬀects. Responsib le innovation in AI requires\\n“a shift from a perspective in which learning is more or less the only ﬁrs t-class citizen to one in\\nwhich learning is a central member of a broader coalition that is more w elcoming to variables,\\nprior knowledge, reasoning, and rich cognitive models.”[ Marcus,2020].\\nAcknowledgements\\nThis work was partially supported by the Wallenberg AI, Autonomous Systems and Software\\nProgram (WASP), funded by the Knut and Alice Wallenberg Foundatio n and by the European\\nCommission’s Horizon2020 project HumaneAI-Net (grant 952026) .\\nReferences\\nAndrea Aler Tubella and Virginia Dignum. The glass box approach: Verif ying contextual adher-\\nence to values. In AISafety 2019, Macao, China, August 11-12, 2019 . CEUR-WS, 2019.\\nKate Crawford. The Atlas of AI . Yale University Press, 2021.\\nVirginia Dignum. Responsible Artiﬁcial Intelligence: How to Develop and Use AI in a Responsible\\nWay. Springer, 2019.\\nVirginia Dignum. Relational Artiﬁcial Intelligence, 2022. URL\\nhttps://arxiv.org/abs/2202.07446 .\\nBatya Friedman, Peter Kahn, and Alan Borning. Value sensitive desig n and information systems.\\nAdvances in Management Information Systems , 6:348 – 372, 2006.\\nAnnaJobin, Marcello Ienca, andEﬀyVayena. Thegloballandscape o fAIethics guidelines. Nature\\nMachine Intelligence , 1(9):389–399, 2019.\\nGary Marcus. The next decade in ai: Four steps towards robust ar tiﬁcial intelligence, 2020. URL\\nhttps://arxiv.org/abs/2002.06177 .\\nMariarosaria Taddeo and Luciano Floridi. How AI can be a force for go od.Science, 361(6404):\\n751–752, 2018.\\nJeroen van den Hoven. Design for values and values for design. Information Age +, Journal of\\nthe Australian Computer Society , 7(2):4–7, 2005.\\nACM SIGIR Forum 6 Vol. 56 No. 1 June 2022', metadata={'source': './responsible_AI.pdf', 'page': 5}),\n",
              " Document(page_content='arXiv:2205.10785v1  [cs.CY]  22 May 2022PAPER\\nResponsible Artiﬁcial Intelligence – from\\nPrinciples to Practice\\nVirginia Dignum\\nUme˚ a University\\nSweden\\nvirginia@cs.umu.se\\nAbstract\\nThe impact of Artiﬁcial Intelligence does not depend only on fundamental research and\\ntechnological developments, but for a large part on how thes e systems are introduced into\\nsociety and used in everyday situations. AI is changing the w ay we work, live and solve\\nchallenges but concerns about fairness, transparency or pr ivacy are also growing. Ensuring\\nresponsible,ethical AIismorethandesigningsystemswhos eresultcanbetrusted. Itisabout\\nthewaywedesignthem, whywedesignthem, andwhoisinvolved indesigningthem. Inorder\\nto develop and use AI responsibly, we need to work towards tec hnical, societal, institutional\\nand legal methods and tools which provide concrete support t o AI practitioners, as well as\\nawareness and training to enable participation of all, to en sure the alignment of AI systems\\nwith our societies’ principles and values.\\nThis paper is a curated version of my keynote at the Web Confer ence 2022.\\n1 Introduction\\nEnsuring the responsible development and use of AI is becoming a main direction in AI research\\nand practice. Governments, corporations and international org anisations alike are coming forward\\nwith proposals and declarations of their commitment to an accounta ble, responsible, transparent\\napproach to AI, where human values and ethical principles are leadin g.\\nCurrently, there are over 600 AI-related policy recommendations , guidelines or strategy re-\\nports, which have been released by prominent intergovernmental organisations, professional bod-\\nies, national-level committees and other public organisations, non- governmental, and private for-\\nproﬁt companies. A recent study of the global landscape of AI eth ics guidelines shows that there\\nis a global convergence around ﬁve ethical principles: Transparen cy, Justice and Fairness, Non-\\nMaleﬁcence, Responsibility, and Privacy [ Jobin et al. ,2019]. These are much-needed eﬀorts, but\\nstill much work is needed to ensure that all AI is developed and used in responsible ways that\\ncontribute to trust and well-being. Nevertheless, even though or ganisations agree on the need to\\nconsider ethical, legal and societal principles, how these are interp reted and applied in practice,\\nvaries signiﬁcantly across the diﬀerent recommendation document s.\\nAt the same time, the growing hype around ‘AI’ is blurring its deﬁnition and shoving into\\nthe same heap concepts and applications of many diﬀerent sorts. A hard needed ﬁrst step in the\\nACM SIGIR Forum 1 Vol. 56 No. 1 June 2022', metadata={'source': './responsible_AI.pdf', 'page': 0})]"
            ]
          },
          "metadata": {}
        }
      ]
    },
    {
      "cell_type": "markdown",
      "source": [
        "### Prepare the contest for GPT"
      ],
      "metadata": {
        "id": "V_MkZsGFyySa"
      }
    },
    {
      "cell_type": "code",
      "source": [
        "pdf1=pd.DataFrame([pdf_data[0].page_content], columns=['content'])\n",
        "pdf2=pd.DataFrame([pdf_data[1].page_content], columns=['content'])\n",
        "pdf3=pd.DataFrame([pdf_data[2].page_content], columns=['content'])\n",
        "pdf4=pd.DataFrame([pdf_data[3].page_content], columns=['content'])\n",
        "pdf5=pd.DataFrame([pdf_data[4].page_content], columns=['content'])\n",
        "pdf6=pd.DataFrame([pdf_data[5].page_content], columns=['content'])\n",
        "df=pd.concat([pdf1,pdf2,pdf3,pdf4,pdf5,pdf6], axis=0)"
      ],
      "metadata": {
        "id": "VXQ4vbPb_LtK"
      },
      "execution_count": null,
      "outputs": []
    },
    {
      "cell_type": "code",
      "source": [
        "# A description of the document\n",
        "\n",
        "document_description = \"\"\"\n",
        "You have a dataframe called 'df' in a pandas dataframe retrieved from the paper respnsible_AI, it contains the six pages in six rows.\n",
        "\"\"\""
      ],
      "metadata": {
        "id": "pgrFNr2zvVvC"
      },
      "execution_count": null,
      "outputs": []
    },
    {
      "cell_type": "code",
      "source": [
        "# Concatenate the document description and the context.\n",
        "msgs_context = [\n",
        "                SystemMessage(content=\"You are an expert data scientist, and you are involved in a NLP Topic Modelling analysis.\"),\n",
        "                HumanMessage(content=f\"{document_description}\")\n",
        "]"
      ],
      "metadata": {
        "id": "cPBSfkx1vV4J"
      },
      "execution_count": null,
      "outputs": []
    },
    {
      "cell_type": "markdown",
      "source": [
        "### Use GPT as code assistant to run a data analysis on the data set"
      ],
      "metadata": {
        "id": "S29kSfCCy6Rn"
      }
    },
    {
      "cell_type": "markdown",
      "source": [
        "#### Topic Modelling"
      ],
      "metadata": {
        "id": "ZU57cbIky7an"
      }
    },
    {
      "cell_type": "code",
      "source": [
        "# Ask GPT to provide code for a topic modelling content\n",
        "msgs_python_topic = msgs_context+[\n",
        "    HumanMessage(content=\n",
        "\"\"\"\n",
        "Write some Python code to make a topic modelling analysis on 'df' dataframe, column 'content'.\\\n",
        "Pleae clean the text, by tokenization, removing the stop words, removing unicode characters, removing punctuaction and numbers, and apply lemmatization.\\\n",
        "Every word have at least five characters.\\\n",
        "Shows max 5 topic with 10 words.\\\n",
        "Use nltk package and gensim packages for pre-processing.\\\n",
        "Use gensim package and LDA for topic modelling.\n",
        "\"\"\")]\n",
        "\n",
        "rsps_python_topic = chat.invoke(msgs_python_topic)\n",
        "\n",
        "display(Markdown(rsps_python_topic.content))"
      ],
      "metadata": {
        "colab": {
          "base_uri": "https://localhost:8080/",
          "height": 996
        },
        "id": "zipj-y6PvV-R",
        "outputId": "90cd61b0-e68b-4147-b43c-49ebf9cba085"
      },
      "execution_count": null,
      "outputs": [
        {
          "output_type": "display_data",
          "data": {
            "text/plain": [
              "<IPython.core.display.Markdown object>"
            ],
            "text/markdown": "Sure! Here's the Python code to perform topic modelling analysis on the 'df' dataframe using the specified preprocessing steps and the gensim package for topic modelling:\n\n```python\nimport pandas as pd\nimport nltk\nfrom nltk.corpus import stopwords\nfrom nltk.tokenize import word_tokenize\nfrom nltk.stem import WordNetLemmatizer\nfrom gensim import corpora\nfrom gensim.models import LdaModel\n\n# Download necessary NLTK resources\nnltk.download('stopwords')\nnltk.download('punkt')\nnltk.download('wordnet')\n\n# Load the dataframe\ndf = pd.read_csv('respnsible_AI.csv')\n\n# Define the preprocessing function\ndef preprocess_text(text):\n    # Tokenization\n    tokens = word_tokenize(text.lower())\n    \n    # Remove stopwords\n    stop_words = set(stopwords.words('english'))\n    tokens = [token for token in tokens if token not in stop_words]\n    \n    # Remove unicode characters\n    tokens = [token.encode('ascii', 'ignore').decode('utf-8') for token in tokens]\n    \n    # Remove punctuation and numbers\n    tokens = [token for token in tokens if token.isalpha() and len(token) >= 5]\n    \n    # Lemmatization\n    lemmatizer = WordNetLemmatizer()\n    tokens = [lemmatizer.lemmatize(token) for token in tokens]\n    \n    return tokens\n\n# Apply preprocessing to the 'content' column\ndf['clean_content'] = df['content'].apply(preprocess_text)\n\n# Create a dictionary representation of the documents\ndictionary = corpora.Dictionary(df['clean_content'])\n\n# Create a corpus (bag of words) representation of the documents\ncorpus = [dictionary.doc2bow(text) for text in df['clean_content']]\n\n# Train the LDA model\nlda_model = LdaModel(corpus=corpus, id2word=dictionary, num_topics=5, passes=10)\n\n# Print the topics and their top 10 words\nfor topic_id, topic_words in lda_model.print_topics(num_topics=5, num_words=10):\n    print(f'Topic {topic_id + 1}: {topic_words}')\n\n```\n\nMake sure to replace `'respnsible_AI.csv'` with the actual file path of your CSV file containing the dataframe."
          },
          "metadata": {}
        }
      ]
    },
    {
      "cell_type": "code",
      "source": [
        "import pandas as pd\n",
        "import nltk\n",
        "from nltk.corpus import stopwords\n",
        "from nltk.tokenize import word_tokenize\n",
        "from nltk.stem import WordNetLemmatizer\n",
        "from gensim import corpora\n",
        "from gensim.models import LdaModel\n",
        "\n",
        "# Download necessary NLTK resources\n",
        "nltk.download('stopwords')\n",
        "nltk.download('punkt')\n",
        "nltk.download('wordnet')\n",
        "\n",
        "# Load the dataframe\n",
        "#df = pd.read_csv('respnsible_AI.csv')\n",
        "\n",
        "# Define the preprocessing function\n",
        "def preprocess_text(text):\n",
        "    # Tokenization\n",
        "    tokens = word_tokenize(text.lower())\n",
        "\n",
        "    # Remove stopwords\n",
        "    stop_words = set(stopwords.words('english'))\n",
        "    tokens = [token for token in tokens if token not in stop_words]\n",
        "\n",
        "    # Remove unicode characters\n",
        "    tokens = [token.encode('ascii', 'ignore').decode('utf-8') for token in tokens]\n",
        "\n",
        "    # Remove punctuation and numbers\n",
        "    tokens = [token for token in tokens if token.isalpha() and len(token) >= 5]\n",
        "\n",
        "    # Lemmatization\n",
        "    lemmatizer = WordNetLemmatizer()\n",
        "    tokens = [lemmatizer.lemmatize(token) for token in tokens]\n",
        "\n",
        "    return tokens\n",
        "\n",
        "# Apply preprocessing to the 'content' column\n",
        "df['clean_content'] = df['content'].apply(preprocess_text)\n",
        "\n",
        "# Create a dictionary representation of the documents\n",
        "dictionary = corpora.Dictionary(df['clean_content'])\n",
        "\n",
        "# Create a corpus (bag of words) representation of the documents\n",
        "corpus = [dictionary.doc2bow(text) for text in df['clean_content']]\n",
        "\n",
        "# Train the LDA model\n",
        "lda_model = LdaModel(corpus=corpus, id2word=dictionary, num_topics=5, passes=10)\n",
        "\n",
        "# Print the topics and their top 10 words\n",
        "for topic_id, topic_words in lda_model.print_topics(num_topics=5, num_words=10):\n",
        "    print(f'Topic {topic_id + 1}: {topic_words}')"
      ],
      "metadata": {
        "colab": {
          "base_uri": "https://localhost:8080/"
        },
        "id": "n372NF2YqbrO",
        "outputId": "1c5771d4-6a94-4551-bf70-1051c6e2849b"
      },
      "execution_count": null,
      "outputs": [
        {
          "output_type": "stream",
          "name": "stderr",
          "text": [
            "[nltk_data] Downloading package stopwords to /root/nltk_data...\n",
            "[nltk_data]   Package stopwords is already up-to-date!\n",
            "[nltk_data] Downloading package punkt to /root/nltk_data...\n",
            "[nltk_data]   Package punkt is already up-to-date!\n",
            "[nltk_data] Downloading package wordnet to /root/nltk_data...\n",
            "[nltk_data]   Package wordnet is already up-to-date!\n"
          ]
        },
        {
          "output_type": "stream",
          "name": "stdout",
          "text": [
            "Topic 1: 0.002*\"value\" + 0.002*\"system\" + 0.002*\"design\" + 0.002*\"power\" + 0.002*\"algorithm\" + 0.002*\"development\" + 0.002*\"decision\" + 0.002*\"responsibility\" + 0.001*\"approach\" + 0.001*\"societal\"\n",
            "Topic 2: 0.019*\"power\" + 0.017*\"technology\" + 0.011*\"system\" + 0.011*\"decide\" + 0.011*\"choice\" + 0.011*\"structure\" + 0.009*\"decision\" + 0.009*\"ensure\" + 0.009*\"people\" + 0.009*\"societal\"\n",
            "Topic 3: 0.022*\"value\" + 0.020*\"system\" + 0.016*\"responsibility\" + 0.012*\"design\" + 0.011*\"responsible\" + 0.011*\"ethical\" + 0.011*\"approach\" + 0.010*\"development\" + 0.010*\"decision\" + 0.009*\"principle\"\n",
            "Topic 4: 0.002*\"algorithm\" + 0.001*\"responsible\" + 0.001*\"system\" + 0.001*\"value\" + 0.001*\"intelligence\" + 0.001*\"design\" + 0.001*\"development\" + 0.001*\"result\" + 0.001*\"decision\" + 0.001*\"innovation\"\n",
            "Topic 5: 0.016*\"algorithm\" + 0.010*\"system\" + 0.010*\"responsible\" + 0.010*\"intelligence\" + 0.008*\"value\" + 0.008*\"power\" + 0.006*\"design\" + 0.006*\"choice\" + 0.006*\"innovation\" + 0.006*\"dignum\"\n"
          ]
        }
      ]
    }
  ]
}