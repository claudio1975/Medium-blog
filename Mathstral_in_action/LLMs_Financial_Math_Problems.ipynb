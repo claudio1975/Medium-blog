{
  "nbformat": 4,
  "nbformat_minor": 0,
  "metadata": {
    "colab": {
      "provenance": [],
      "gpuType": "A100",
      "authorship_tag": "ABX9TyPD5g69IFwzl6EaeW3ebO3p",
      "include_colab_link": true
    },
    "kernelspec": {
      "name": "python3",
      "display_name": "Python 3"
    },
    "language_info": {
      "name": "python"
    },
    "accelerator": "GPU",
    "widgets": {
      "application/vnd.jupyter.widget-state+json": {
        "cbcb1e40721d44aab9ca2d3bd030fd41": {
          "model_module": "@jupyter-widgets/controls",
          "model_name": "HBoxModel",
          "model_module_version": "1.5.0",
          "state": {
            "_dom_classes": [],
            "_model_module": "@jupyter-widgets/controls",
            "_model_module_version": "1.5.0",
            "_model_name": "HBoxModel",
            "_view_count": null,
            "_view_module": "@jupyter-widgets/controls",
            "_view_module_version": "1.5.0",
            "_view_name": "HBoxView",
            "box_style": "",
            "children": [
              "IPY_MODEL_a8a47096de1e43e589ec610348050f15",
              "IPY_MODEL_598e6c5c45de4e449ed580fa4ef001e0",
              "IPY_MODEL_1dd97edb7130436baf6451b0f5264a6d"
            ],
            "layout": "IPY_MODEL_5e68b7d6153f45e38721bdce568e1709"
          }
        },
        "a8a47096de1e43e589ec610348050f15": {
          "model_module": "@jupyter-widgets/controls",
          "model_name": "HTMLModel",
          "model_module_version": "1.5.0",
          "state": {
            "_dom_classes": [],
            "_model_module": "@jupyter-widgets/controls",
            "_model_module_version": "1.5.0",
            "_model_name": "HTMLModel",
            "_view_count": null,
            "_view_module": "@jupyter-widgets/controls",
            "_view_module_version": "1.5.0",
            "_view_name": "HTMLView",
            "description": "",
            "description_tooltip": null,
            "layout": "IPY_MODEL_769b5885297f4f04a39e2e43620e3ad7",
            "placeholder": "​",
            "style": "IPY_MODEL_5073effe73584375b55307c5b5492b4a",
            "value": "Loading checkpoint shards: 100%"
          }
        },
        "598e6c5c45de4e449ed580fa4ef001e0": {
          "model_module": "@jupyter-widgets/controls",
          "model_name": "FloatProgressModel",
          "model_module_version": "1.5.0",
          "state": {
            "_dom_classes": [],
            "_model_module": "@jupyter-widgets/controls",
            "_model_module_version": "1.5.0",
            "_model_name": "FloatProgressModel",
            "_view_count": null,
            "_view_module": "@jupyter-widgets/controls",
            "_view_module_version": "1.5.0",
            "_view_name": "ProgressView",
            "bar_style": "success",
            "description": "",
            "description_tooltip": null,
            "layout": "IPY_MODEL_f7a6faf90eaf4ba2b783a76c49999dd9",
            "max": 6,
            "min": 0,
            "orientation": "horizontal",
            "style": "IPY_MODEL_a7755b513cec47d79d6be877ed0bcea9",
            "value": 6
          }
        },
        "1dd97edb7130436baf6451b0f5264a6d": {
          "model_module": "@jupyter-widgets/controls",
          "model_name": "HTMLModel",
          "model_module_version": "1.5.0",
          "state": {
            "_dom_classes": [],
            "_model_module": "@jupyter-widgets/controls",
            "_model_module_version": "1.5.0",
            "_model_name": "HTMLModel",
            "_view_count": null,
            "_view_module": "@jupyter-widgets/controls",
            "_view_module_version": "1.5.0",
            "_view_name": "HTMLView",
            "description": "",
            "description_tooltip": null,
            "layout": "IPY_MODEL_6032352d7bc9460a9858eee299254a48",
            "placeholder": "​",
            "style": "IPY_MODEL_f00afa5b4a56473d9121b91df141b8b7",
            "value": " 6/6 [01:55&lt;00:00, 18.89s/it]"
          }
        },
        "5e68b7d6153f45e38721bdce568e1709": {
          "model_module": "@jupyter-widgets/base",
          "model_name": "LayoutModel",
          "model_module_version": "1.2.0",
          "state": {
            "_model_module": "@jupyter-widgets/base",
            "_model_module_version": "1.2.0",
            "_model_name": "LayoutModel",
            "_view_count": null,
            "_view_module": "@jupyter-widgets/base",
            "_view_module_version": "1.2.0",
            "_view_name": "LayoutView",
            "align_content": null,
            "align_items": null,
            "align_self": null,
            "border": null,
            "bottom": null,
            "display": null,
            "flex": null,
            "flex_flow": null,
            "grid_area": null,
            "grid_auto_columns": null,
            "grid_auto_flow": null,
            "grid_auto_rows": null,
            "grid_column": null,
            "grid_gap": null,
            "grid_row": null,
            "grid_template_areas": null,
            "grid_template_columns": null,
            "grid_template_rows": null,
            "height": null,
            "justify_content": null,
            "justify_items": null,
            "left": null,
            "margin": null,
            "max_height": null,
            "max_width": null,
            "min_height": null,
            "min_width": null,
            "object_fit": null,
            "object_position": null,
            "order": null,
            "overflow": null,
            "overflow_x": null,
            "overflow_y": null,
            "padding": null,
            "right": null,
            "top": null,
            "visibility": null,
            "width": null
          }
        },
        "769b5885297f4f04a39e2e43620e3ad7": {
          "model_module": "@jupyter-widgets/base",
          "model_name": "LayoutModel",
          "model_module_version": "1.2.0",
          "state": {
            "_model_module": "@jupyter-widgets/base",
            "_model_module_version": "1.2.0",
            "_model_name": "LayoutModel",
            "_view_count": null,
            "_view_module": "@jupyter-widgets/base",
            "_view_module_version": "1.2.0",
            "_view_name": "LayoutView",
            "align_content": null,
            "align_items": null,
            "align_self": null,
            "border": null,
            "bottom": null,
            "display": null,
            "flex": null,
            "flex_flow": null,
            "grid_area": null,
            "grid_auto_columns": null,
            "grid_auto_flow": null,
            "grid_auto_rows": null,
            "grid_column": null,
            "grid_gap": null,
            "grid_row": null,
            "grid_template_areas": null,
            "grid_template_columns": null,
            "grid_template_rows": null,
            "height": null,
            "justify_content": null,
            "justify_items": null,
            "left": null,
            "margin": null,
            "max_height": null,
            "max_width": null,
            "min_height": null,
            "min_width": null,
            "object_fit": null,
            "object_position": null,
            "order": null,
            "overflow": null,
            "overflow_x": null,
            "overflow_y": null,
            "padding": null,
            "right": null,
            "top": null,
            "visibility": null,
            "width": null
          }
        },
        "5073effe73584375b55307c5b5492b4a": {
          "model_module": "@jupyter-widgets/controls",
          "model_name": "DescriptionStyleModel",
          "model_module_version": "1.5.0",
          "state": {
            "_model_module": "@jupyter-widgets/controls",
            "_model_module_version": "1.5.0",
            "_model_name": "DescriptionStyleModel",
            "_view_count": null,
            "_view_module": "@jupyter-widgets/base",
            "_view_module_version": "1.2.0",
            "_view_name": "StyleView",
            "description_width": ""
          }
        },
        "f7a6faf90eaf4ba2b783a76c49999dd9": {
          "model_module": "@jupyter-widgets/base",
          "model_name": "LayoutModel",
          "model_module_version": "1.2.0",
          "state": {
            "_model_module": "@jupyter-widgets/base",
            "_model_module_version": "1.2.0",
            "_model_name": "LayoutModel",
            "_view_count": null,
            "_view_module": "@jupyter-widgets/base",
            "_view_module_version": "1.2.0",
            "_view_name": "LayoutView",
            "align_content": null,
            "align_items": null,
            "align_self": null,
            "border": null,
            "bottom": null,
            "display": null,
            "flex": null,
            "flex_flow": null,
            "grid_area": null,
            "grid_auto_columns": null,
            "grid_auto_flow": null,
            "grid_auto_rows": null,
            "grid_column": null,
            "grid_gap": null,
            "grid_row": null,
            "grid_template_areas": null,
            "grid_template_columns": null,
            "grid_template_rows": null,
            "height": null,
            "justify_content": null,
            "justify_items": null,
            "left": null,
            "margin": null,
            "max_height": null,
            "max_width": null,
            "min_height": null,
            "min_width": null,
            "object_fit": null,
            "object_position": null,
            "order": null,
            "overflow": null,
            "overflow_x": null,
            "overflow_y": null,
            "padding": null,
            "right": null,
            "top": null,
            "visibility": null,
            "width": null
          }
        },
        "a7755b513cec47d79d6be877ed0bcea9": {
          "model_module": "@jupyter-widgets/controls",
          "model_name": "ProgressStyleModel",
          "model_module_version": "1.5.0",
          "state": {
            "_model_module": "@jupyter-widgets/controls",
            "_model_module_version": "1.5.0",
            "_model_name": "ProgressStyleModel",
            "_view_count": null,
            "_view_module": "@jupyter-widgets/base",
            "_view_module_version": "1.2.0",
            "_view_name": "StyleView",
            "bar_color": null,
            "description_width": ""
          }
        },
        "6032352d7bc9460a9858eee299254a48": {
          "model_module": "@jupyter-widgets/base",
          "model_name": "LayoutModel",
          "model_module_version": "1.2.0",
          "state": {
            "_model_module": "@jupyter-widgets/base",
            "_model_module_version": "1.2.0",
            "_model_name": "LayoutModel",
            "_view_count": null,
            "_view_module": "@jupyter-widgets/base",
            "_view_module_version": "1.2.0",
            "_view_name": "LayoutView",
            "align_content": null,
            "align_items": null,
            "align_self": null,
            "border": null,
            "bottom": null,
            "display": null,
            "flex": null,
            "flex_flow": null,
            "grid_area": null,
            "grid_auto_columns": null,
            "grid_auto_flow": null,
            "grid_auto_rows": null,
            "grid_column": null,
            "grid_gap": null,
            "grid_row": null,
            "grid_template_areas": null,
            "grid_template_columns": null,
            "grid_template_rows": null,
            "height": null,
            "justify_content": null,
            "justify_items": null,
            "left": null,
            "margin": null,
            "max_height": null,
            "max_width": null,
            "min_height": null,
            "min_width": null,
            "object_fit": null,
            "object_position": null,
            "order": null,
            "overflow": null,
            "overflow_x": null,
            "overflow_y": null,
            "padding": null,
            "right": null,
            "top": null,
            "visibility": null,
            "width": null
          }
        },
        "f00afa5b4a56473d9121b91df141b8b7": {
          "model_module": "@jupyter-widgets/controls",
          "model_name": "DescriptionStyleModel",
          "model_module_version": "1.5.0",
          "state": {
            "_model_module": "@jupyter-widgets/controls",
            "_model_module_version": "1.5.0",
            "_model_name": "DescriptionStyleModel",
            "_view_count": null,
            "_view_module": "@jupyter-widgets/base",
            "_view_module_version": "1.2.0",
            "_view_name": "StyleView",
            "description_width": ""
          }
        }
      }
    }
  },
  "cells": [
    {
      "cell_type": "markdown",
      "metadata": {
        "id": "view-in-github",
        "colab_type": "text"
      },
      "source": [
        "<a href=\"https://colab.research.google.com/github/claudio1975/Medium-blog/blob/master/Mathstral_in_action/LLMs_Financial_Math_Problems.ipynb\" target=\"_parent\"><img src=\"https://colab.research.google.com/assets/colab-badge.svg\" alt=\"Open In Colab\"/></a>"
      ]
    },
    {
      "cell_type": "code",
      "source": [
        "!pip install huggingface_hub"
      ],
      "metadata": {
        "colab": {
          "base_uri": "https://localhost:8080/"
        },
        "id": "X4YVmCD2adIi",
        "outputId": "5ce9bbf5-1166-42e5-c819-0466fd02360a"
      },
      "execution_count": null,
      "outputs": [
        {
          "output_type": "stream",
          "name": "stdout",
          "text": [
            "Requirement already satisfied: huggingface_hub in /usr/local/lib/python3.10/dist-packages (0.23.5)\n",
            "Requirement already satisfied: filelock in /usr/local/lib/python3.10/dist-packages (from huggingface_hub) (3.15.4)\n",
            "Requirement already satisfied: fsspec>=2023.5.0 in /usr/local/lib/python3.10/dist-packages (from huggingface_hub) (2023.6.0)\n",
            "Requirement already satisfied: packaging>=20.9 in /usr/local/lib/python3.10/dist-packages (from huggingface_hub) (24.1)\n",
            "Requirement already satisfied: pyyaml>=5.1 in /usr/local/lib/python3.10/dist-packages (from huggingface_hub) (6.0.1)\n",
            "Requirement already satisfied: requests in /usr/local/lib/python3.10/dist-packages (from huggingface_hub) (2.31.0)\n",
            "Requirement already satisfied: tqdm>=4.42.1 in /usr/local/lib/python3.10/dist-packages (from huggingface_hub) (4.66.4)\n",
            "Requirement already satisfied: typing-extensions>=3.7.4.3 in /usr/local/lib/python3.10/dist-packages (from huggingface_hub) (4.12.2)\n",
            "Requirement already satisfied: charset-normalizer<4,>=2 in /usr/local/lib/python3.10/dist-packages (from requests->huggingface_hub) (3.3.2)\n",
            "Requirement already satisfied: idna<4,>=2.5 in /usr/local/lib/python3.10/dist-packages (from requests->huggingface_hub) (3.7)\n",
            "Requirement already satisfied: urllib3<3,>=1.21.1 in /usr/local/lib/python3.10/dist-packages (from requests->huggingface_hub) (2.0.7)\n",
            "Requirement already satisfied: certifi>=2017.4.17 in /usr/local/lib/python3.10/dist-packages (from requests->huggingface_hub) (2024.7.4)\n"
          ]
        }
      ]
    },
    {
      "cell_type": "code",
      "source": [
        "!huggingface-cli login"
      ],
      "metadata": {
        "colab": {
          "base_uri": "https://localhost:8080/"
        },
        "id": "3Pd2Hzg5anBp",
        "outputId": "33faaa3f-8feb-45bd-f628-ef6d6018a0b4"
      },
      "execution_count": null,
      "outputs": [
        {
          "output_type": "stream",
          "name": "stdout",
          "text": [
            "\n",
            "    _|    _|  _|    _|    _|_|_|    _|_|_|  _|_|_|  _|      _|    _|_|_|      _|_|_|_|    _|_|      _|_|_|  _|_|_|_|\n",
            "    _|    _|  _|    _|  _|        _|          _|    _|_|    _|  _|            _|        _|    _|  _|        _|\n",
            "    _|_|_|_|  _|    _|  _|  _|_|  _|  _|_|    _|    _|  _|  _|  _|  _|_|      _|_|_|    _|_|_|_|  _|        _|_|_|\n",
            "    _|    _|  _|    _|  _|    _|  _|    _|    _|    _|    _|_|  _|    _|      _|        _|    _|  _|        _|\n",
            "    _|    _|    _|_|      _|_|_|    _|_|_|  _|_|_|  _|      _|    _|_|_|      _|        _|    _|    _|_|_|  _|_|_|_|\n",
            "\n",
            "    A token is already saved on your machine. Run `huggingface-cli whoami` to get more information or `huggingface-cli logout` if you want to log out.\n",
            "    Setting a new token will erase the existing one.\n",
            "    To login, `huggingface_hub` requires a token generated from https://huggingface.co/settings/tokens .\n",
            "Enter your token (input will not be visible): \n",
            "Add token as git credential? (Y/n) n\n",
            "Token is valid (permission: read).\n",
            "Your token has been saved to /root/.cache/huggingface/token\n",
            "Login successful\n"
          ]
        }
      ]
    },
    {
      "cell_type": "code",
      "execution_count": null,
      "metadata": {
        "id": "Yqcwwfl5UlFw"
      },
      "outputs": [],
      "source": [
        "from transformers import pipeline\n",
        "from IPython.display import display, Math"
      ]
    },
    {
      "cell_type": "code",
      "source": [
        "device=0\n",
        "pipeline_1=pipeline(\"text-generation\",model=\"mistralai/mathstral-7B-v0.1\", device=device)"
      ],
      "metadata": {
        "colab": {
          "base_uri": "https://localhost:8080/",
          "height": 49,
          "referenced_widgets": [
            "cbcb1e40721d44aab9ca2d3bd030fd41",
            "a8a47096de1e43e589ec610348050f15",
            "598e6c5c45de4e449ed580fa4ef001e0",
            "1dd97edb7130436baf6451b0f5264a6d",
            "5e68b7d6153f45e38721bdce568e1709",
            "769b5885297f4f04a39e2e43620e3ad7",
            "5073effe73584375b55307c5b5492b4a",
            "f7a6faf90eaf4ba2b783a76c49999dd9",
            "a7755b513cec47d79d6be877ed0bcea9",
            "6032352d7bc9460a9858eee299254a48",
            "f00afa5b4a56473d9121b91df141b8b7"
          ]
        },
        "id": "LsrLVNZVVMPD",
        "outputId": "0e4d3b80-da85-4287-9835-9ddbe9fd3b51"
      },
      "execution_count": null,
      "outputs": [
        {
          "output_type": "display_data",
          "data": {
            "text/plain": [
              "Loading checkpoint shards:   0%|          | 0/6 [00:00<?, ?it/s]"
            ],
            "application/vnd.jupyter.widget-view+json": {
              "version_major": 2,
              "version_minor": 0,
              "model_id": "cbcb1e40721d44aab9ca2d3bd030fd41"
            }
          },
          "metadata": {}
        }
      ]
    },
    {
      "cell_type": "code",
      "source": [
        "prompt=\"you are an expert financial analyst; \\\n",
        "help in solving financial math problems; \\\n",
        "solve this problem explaining step by step every calculation; \\\n",
        "please calculate the monthly interest rate at which a capital C=200,000 euros was employed under simple capitalization, \\\n",
        "if it has generated a future value M=203,500 euros in 7 months. \\\n",
        "Run the python code with explanation and results at each stage\""
      ],
      "metadata": {
        "id": "QG3EqLvcXz2l"
      },
      "execution_count": null,
      "outputs": []
    },
    {
      "cell_type": "code",
      "source": [
        "messages= [{\"role\": \"user\", \"content\": prompt}]"
      ],
      "metadata": {
        "id": "kPWTe6aKWbLa"
      },
      "execution_count": null,
      "outputs": []
    },
    {
      "cell_type": "code",
      "source": [
        "outputs=pipeline_1(messages, max_new_tokens=5000)"
      ],
      "metadata": {
        "colab": {
          "base_uri": "https://localhost:8080/"
        },
        "id": "D97J82RxXEqe",
        "outputId": "174c8e01-fa0f-48f6-b67c-8402dfceb8a7"
      },
      "execution_count": null,
      "outputs": [
        {
          "output_type": "stream",
          "name": "stderr",
          "text": [
            "Setting `pad_token_id` to `eos_token_id`:2 for open-end generation.\n"
          ]
        }
      ]
    },
    {
      "cell_type": "code",
      "source": [
        "response=outputs[0][\"generated_text\"][-1][\"content\"]\n"
      ],
      "metadata": {
        "id": "AWBYt3L7XzHr"
      },
      "execution_count": null,
      "outputs": []
    },
    {
      "cell_type": "code",
      "source": [
        "display(Math(response))"
      ],
      "metadata": {
        "colab": {
          "base_uri": "https://localhost:8080/",
          "height": 850
        },
        "id": "7JKhg44RYO6T",
        "outputId": "0a534861-5beb-4ce7-f971-02b304a8986e"
      },
      "execution_count": null,
      "outputs": [
        {
          "output_type": "display_data",
          "data": {
            "text/plain": [
              "<IPython.core.display.Math object>"
            ],
            "text/latex": "$\\displaystyle  Sure, I'd be happy to help you solve this problem. The formula for simple interest is:\n\nM = C + (C * r * t)\n\nwhere:\n- M is the future value of the investment/loan, including interest\n- C is the principal investment amount (the initial deposit or loan amount)\n- r is the monthly interest rate (decimal)\n- t is the time the money is invested or borrowed for, in months\n\nWe can rearrange this formula to solve for r:\n\nr = (M - C) / (C * t)\n\nLet's plug in the values from your problem:\n\nr = (203500 - 200000) / (200000 * 7)\n\nFirst, calculate the numerator:\n\n203500 - 200000 = 3500\n\nThen, calculate the denominator:\n\n200000 * 7 = 1400000\n\nNow, divide the numerator by the denominator to find the monthly interest rate:\n\n3500 / 1400000 = 0.0025\n\nSo, the monthly interest rate is 0.0025, or 0.25% when expressed as a percentage.\n\nHere's the Python code to solve this problem:\n\n```python\n# Define the variables\nC = 200000  # Initial capital\nM = 203500  # Future value\nt = 7  # Time in months\n\n# Calculate the monthly interest rate\nr = (M - C) / (C * t)\n\n# Print the result\nprint(\"The monthly interest rate is\", r * 100, \"%\")\n```\n\nWhen you run this code, it will print: \"The monthly interest rate is 0.25%\".$"
          },
          "metadata": {}
        }
      ]
    },
    {
      "cell_type": "code",
      "source": [
        "prompt=\"you are an expert financial analyst; \\\n",
        "help in solving financial math problems; \\\n",
        "solve this problem explaining step by step every calculation; \\\n",
        "I want to compare on an annual basis a three-month Treasury Bill (BOT) bought today at a price of Pa=98,00 and a six-month Treasury Bill (BOT) bought today at a price of Pb=96,70 \\\n",
        "both with repayment at the nominal value of C=100,00. Please, calculate the simple effective yield rate without accounting for taxes and expenses. \\\n",
        "Run python code and show results at each stage.\""
      ],
      "metadata": {
        "id": "S18zcG2Sl0NI"
      },
      "execution_count": null,
      "outputs": []
    },
    {
      "cell_type": "code",
      "source": [
        "messages= [{\"role\": \"user\", \"content\": prompt}]"
      ],
      "metadata": {
        "id": "j5Nc42L2mreK"
      },
      "execution_count": null,
      "outputs": []
    },
    {
      "cell_type": "code",
      "source": [
        "outputs=pipeline_1(messages, max_new_tokens=5000)"
      ],
      "metadata": {
        "colab": {
          "base_uri": "https://localhost:8080/"
        },
        "id": "-Esnb2QBmO49",
        "outputId": "f77d90e4-4fe4-4b12-fd3f-fd6310fab029"
      },
      "execution_count": null,
      "outputs": [
        {
          "output_type": "stream",
          "name": "stderr",
          "text": [
            "Setting `pad_token_id` to `eos_token_id`:2 for open-end generation.\n"
          ]
        }
      ]
    },
    {
      "cell_type": "code",
      "source": [
        "response=outputs[0][\"generated_text\"][-1][\"content\"]"
      ],
      "metadata": {
        "id": "RL6DLKU6mPUV"
      },
      "execution_count": null,
      "outputs": []
    },
    {
      "cell_type": "code",
      "source": [
        "display(Math(response))"
      ],
      "metadata": {
        "colab": {
          "base_uri": "https://localhost:8080/",
          "height": 766
        },
        "id": "5UEvnT7YmPbZ",
        "outputId": "cffd41b0-ff71-45e8-bc3e-05a6e972bfe8"
      },
      "execution_count": null,
      "outputs": [
        {
          "output_type": "display_data",
          "data": {
            "text/plain": [
              "<IPython.core.display.Math object>"
            ],
            "text/latex": "$\\displaystyle  Sure, I'd be happy to help you with that. Here's how you can calculate the simple effective yield rate for both the three-month and six-month Treasury Bills using Python.\n\nFirst, let's calculate the yield for the three-month Treasury Bill. The yield is calculated as the difference between the nominal value and the purchase price, divided by the purchase price.\n\n```python\n# Define the nominal value, purchase price, and time period\nC = 100.00\nPa = 98.00\ntime_period_a = 3/12  # Convert months to years\n\n# Calculate the yield\nyield_a = (C - Pa) / Pa\n\nprint(f\"The yield for the three-month Treasury Bill is: {yield_a:.2f}\")\n```\n\nNext, let's calculate the yield for the six-month Treasury Bill. The calculation is similar to the three-month Treasury Bill.\n\n```python\n# Define the nominal value, purchase price, and time period\nC = 100.00\nPb = 96.70\ntime_period_b = 6/12  # Convert months to years\n\n# Calculate the yield\nyield_b = (C - Pb) / Pb\n\nprint(f\"The yield for the six-month Treasury Bill is: {yield_b:.2f}\")\n```\n\nFinally, let's calculate the simple effective yield rate for both Treasury Bills. The simple effective yield rate is calculated as the yield divided by the time period.\n\n```python\n# Calculate the simple effective yield rate\nsimple_effective_yield_rate_a = yield_a / time_period_a\nsimple_effective_yield_rate_b = yield_b / time_period_b\n\nprint(f\"The simple effective yield rate for the three-month Treasury Bill is: {simple_effective_yield_rate_a:.2f}\")\nprint(f\"The simple effective yield rate for the six-month Treasury Bill is: {simple_effective_yield_rate_b:.2f}\")\n```\n\nThis will give you the simple effective yield rate for both the three-month and six-month Treasury Bills.$"
          },
          "metadata": {}
        }
      ]
    },
    {
      "cell_type": "code",
      "source": [
        "# Define the nominal value, purchase price, and time period\n",
        "C = 100.00\n",
        "Pa = 98.00\n",
        "time_period_a = 3/12  # Convert months to years\n",
        "\n",
        "# Calculate the yield\n",
        "yield_a = (C - Pa) / Pa\n",
        "\n",
        "print(f\"The yield for the three-month Treasury Bill is: {yield_a:.5f}\")\n",
        "# Define the nominal value, purchase price, and time period\n",
        "C = 100.00\n",
        "Pb = 96.70\n",
        "time_period_b = 6/12  # Convert months to years\n",
        "\n",
        "# Calculate the yield\n",
        "yield_b = (C - Pb) / Pb\n",
        "\n",
        "print(f\"The yield for the six-month Treasury Bill is: {yield_b:.5f}\")\n",
        "# Calculate the simple effective yield rate\n",
        "simple_effective_yield_rate_a = yield_a / time_period_a\n",
        "simple_effective_yield_rate_b = yield_b / time_period_b\n",
        "\n",
        "print(f\"The simple effective yield rate for the three-month Treasury Bill is: {simple_effective_yield_rate_a:.5f}\")\n",
        "print(f\"The simple effective yield rate for the six-month Treasury Bill is: {simple_effective_yield_rate_b:.5f}\")\n"
      ],
      "metadata": {
        "colab": {
          "base_uri": "https://localhost:8080/"
        },
        "id": "04H_61bM4IHh",
        "outputId": "74593a21-dbc9-4665-9aaf-82472f47f174"
      },
      "execution_count": null,
      "outputs": [
        {
          "output_type": "stream",
          "name": "stdout",
          "text": [
            "The yield for the three-month Treasury Bill is: 0.02041\n",
            "The yield for the six-month Treasury Bill is: 0.03413\n",
            "The simple effective yield rate for the three-month Treasury Bill is: 0.08163\n",
            "The simple effective yield rate for the six-month Treasury Bill is: 0.06825\n"
          ]
        }
      ]
    },
    {
      "cell_type": "code",
      "source": [
        "# Doesn't work\n",
        "#prompt=\"you are an expert financial analyst; \\\n",
        "#help in solving financial math problems; \\\n",
        "#solve this problem explaining step by step every calculation; \\\n",
        "#A loan amount of 3,000.00 euros for five years is remunerated at an annual rate of 15.00% with French amortization in deferred immediate annuity. \\\n",
        "#Please calculate the ordinary annuity amount. \\\n",
        "#Run the python code with explanation and results at each stage\""
      ],
      "metadata": {
        "id": "mdejoVsizmqU"
      },
      "execution_count": null,
      "outputs": []
    },
    {
      "cell_type": "code",
      "source": [
        "prompt=\"sei un esperto analista finanziario; \\\n",
        "contribuisci a fornire un aiuto nella risoluzione di problemi finanziari; \\\n",
        "risolvi questo problema spiegando passo dopo passo i calcoli; \\\n",
        "E' stato fatto un prestito di 3,000.00 euro rimborsabile in 5 anni e remunerato ad un tasso di interesse annuo del 15.00% con ammortamento alla francese ad annualità costanti. \\\n",
        "Per cortesia calcola l'ammontare dell'annualità. \\\n",
        "Esegui il codice python con spiegazioni e risultati ad ogni passaggio\""
      ],
      "metadata": {
        "id": "XlimKeEa2jbp"
      },
      "execution_count": null,
      "outputs": []
    },
    {
      "cell_type": "code",
      "source": [
        "messages= [{\"role\": \"user\", \"content\": prompt}]"
      ],
      "metadata": {
        "id": "5IAXQfrTzmtC"
      },
      "execution_count": null,
      "outputs": []
    },
    {
      "cell_type": "code",
      "source": [
        "outputs=pipeline_1(messages, max_new_tokens=5000)"
      ],
      "metadata": {
        "colab": {
          "base_uri": "https://localhost:8080/"
        },
        "id": "9QF3SIhLzmvo",
        "outputId": "4cb11b74-c6c5-4c9c-d6c9-a8785738aa6b"
      },
      "execution_count": null,
      "outputs": [
        {
          "output_type": "stream",
          "name": "stderr",
          "text": [
            "Setting `pad_token_id` to `eos_token_id`:2 for open-end generation.\n"
          ]
        }
      ]
    },
    {
      "cell_type": "code",
      "source": [
        "response=outputs[0][\"generated_text\"][-1][\"content\"]"
      ],
      "metadata": {
        "id": "hLLHoUPJzmyU"
      },
      "execution_count": null,
      "outputs": []
    },
    {
      "cell_type": "code",
      "source": [
        "display(Math(response))"
      ],
      "metadata": {
        "colab": {
          "base_uri": "https://localhost:8080/",
          "height": 679
        },
        "id": "0CvxhLu0zm04",
        "outputId": "903d0a83-c9a5-4536-97ec-4cb3288e4a86"
      },
      "execution_count": null,
      "outputs": [
        {
          "output_type": "display_data",
          "data": {
            "text/plain": [
              "<IPython.core.display.Math object>"
            ],
            "text/latex": "$\\displaystyle  Sure, I can help you with that. The problem you're describing is a financial calculation known as an annuity. In this case, you've made a loan of €3,000 that needs to be repaid over 5 years at an annual interest rate of 15%. The loan is amortized using the French method, which means the annual payments are constant.\n\nTo calculate the annual payment, we can use the formula for the present value of an annuity, which is:\n\nPV = PMT * [(1 - (1 + r)^-n) / r]\n\nWhere:\n- PV is the present value of the annuity (the loan amount)\n- PMT is the annual payment\n- r is the interest rate per period (in decimal form)\n- n is the number of periods\n\nWe can rearrange this formula to solve for PMT:\n\nPMT = PV / [(1 - (1 + r)^-n) / r]\n\nLet's plug in the values:\n\nPMT = 3000 / [(1 - (1 + 0.15)^-5) / 0.15]\n\nNow, let's calculate this in Python:\n\n```python\nimport math\n\n# Define the loan amount, interest rate, and number of periods\nloan_amount = 3000\ninterest_rate = 0.15\nnumber_of_periods = 5\n\n# Calculate the annual payment\nannual_payment = loan_amount / ((1 - (1 + interest_rate)**(-number_of_periods)) / interest_rate)\n\nprint(f\"The annual payment is: {annual_payment:.2f} euros\")\n```\n\nThis script first calculates the present value of the annuity using the formula we derived. It then divides the loan amount by this present value to find the annual payment. The result is rounded to two decimal places for currency.$"
          },
          "metadata": {}
        }
      ]
    },
    {
      "cell_type": "code",
      "source": [
        "loan_amount = 3000\n",
        "interest_rate = 0.15\n",
        "number_of_periods = 5\n",
        "\n",
        "# Calculate the annual payment\n",
        "annual_payment = loan_amount / ((1 - (1 + interest_rate)**(-number_of_periods)) / interest_rate)\n",
        "\n",
        "print(f\"The annual payment is: {annual_payment:.2f} euros\")"
      ],
      "metadata": {
        "colab": {
          "base_uri": "https://localhost:8080/"
        },
        "id": "QDqgyNT_36pg",
        "outputId": "d1489f8b-ebc0-4e2e-cc0f-c0ab05894f63"
      },
      "execution_count": null,
      "outputs": [
        {
          "output_type": "stream",
          "name": "stdout",
          "text": [
            "The annual payment is: 894.95 euros\n"
          ]
        }
      ]
    }
  ]
}